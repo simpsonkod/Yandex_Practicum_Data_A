{
 "cells": [
  {
   "cell_type": "markdown",
   "id": "a7de3a17",
   "metadata": {},
   "source": [
    "<div style=\"border:solid Purple 2px; padding: 40px\">\n",
    "\n",
    "<b>Привет, Василий!👋\n",
    "\n",
    "Меня зовут Эльвира Нургалиева, я буду ревьюером твоего проекта. Предлагаю общаться на «ты», но если это не удобно - дай мне знать, и мы перейдем на «вы».\n",
    "\n",
    "\n",
    "Ты можешь найти мои комментарии, обозначенные <font color='green'>зеленым</font>, <font color='gold'>желтым</font> и <font color='red'>красным</font> цветами, например:\n",
    "\n",
    "\n",
    "<div class=\"alert alert-success\">\n",
    "<h2> Комментарий ревьюера 😊<a class=\"tocSkip\"> </h2>\n",
    "    \n",
    "Такими комментариями я буду помечать отлично проделаную работу😉\n",
    "</div>\n",
    "    \n",
    "<div class=\"alert alert-warning\">\n",
    "<h2> Комментарий ревьюера 🤓<a class=\"tocSkip\"> </h2>\n",
    "        \n",
    "В таких комментариях я постараюсь подсказать тебе более элегантное или легкое решение, некоторые хитрости и фишки. Части проекта, помеченные такими комментариями, можно не исправлять, но рекомендую обратить на них внимание.</div>\n",
    "\n",
    "<div class=\"alert alert-block alert-danger\">\n",
    "<h2> Комментарий ревьюера 🤔<a class=\"tocSkip\"></h2>\n",
    "    \n",
    "В случае, когда решение на отдельном шаге требует существенной переработки и внесения правок. Если ты видишь такой комментарий, значит здесть есть недочет, который следует исправить.\n",
    "</div>\n",
    "\n",
    "Ты также можешь реагировать на мои комментарии своими, выделяя их цветами и наиболее понравившимся тебе способом оформления, но явно  отличающимся от моих комментариев. Это нужно, чтобы не создавалась путаница🙃\n",
    "    \n",
    "<div class=\"alert alert-info\"> <b>Комментарий студента:</b> Например, вот так.</div>\n",
    "\n",
    "Чтобы сделать подобный блок, кликни здесь дважды и скопируй всю предыдущую строку ;)\n",
    "    \n",
    "Пожалуйста, не удаляй и не перемещай мои комментарии, они будут особенно полезны для нашей работы в случае повторной проверки проекта.</div></b>"
   ]
  },
  {
   "cell_type": "markdown",
   "id": "c7b4ccf2",
   "metadata": {},
   "source": [
    "<div class=\"alert alert-info\"> <b>Комментарий студента:</b><br>\n",
    "Уважаемая Эльвира! Пишу этот текст прям в конце после всех изменений и правок. Очень благодарен Вам за терпение в проверке того, что я делал. Я видел все Ваши правки. Я старался учесть всё, но где не оставил комментарий - просто не успел. Торопился. Сам частично понимал и не понимал что делаю. Но благодаря Вам многое встало на свои места. Конечно не всё))) но многое. От проекта к проекту становится всё яснее что и как делать. К сожалению для меня вопросы программирования, маркетинга и прочего в новинку, хотя по программированию у меня были когда-то зачатки))) Но давно. И из-за этого для решения и обдумывания всех процессов у меня ухожит больше времени. После работы и общения с ребёнком в целом его почти нет. Но очень хочется поменять что-то в жизни и занялся данными курсами. И ещё - если где-то ошибка в орфографии, то сорри) Не всё успеваю проверять))) Спасибо за внимание! И спасибо если Вы дочитали весь этот бред =) Хорошего Вам дня.\n",
    "</div>"
   ]
  },
  {
   "cell_type": "markdown",
   "id": "089a7783",
   "metadata": {},
   "source": [
    "<div style=\"border:solid Purple 2px; padding: 40px\">\n",
    "\n",
    "<h2> Общий комментарий ревьюера 😊 v_4<a class=\"tocSkip\"> </h2>\n",
    "    <br/>\n",
    "Василий, спасибо за проект! Успехов в дальнейшем обучении!)\n",
    "    "
   ]
  },
  {
   "cell_type": "markdown",
   "id": "f25a0ff1",
   "metadata": {},
   "source": [
    "<div style=\"border:solid Purple 2px; padding: 40px\">\n",
    "\n",
    "<h2> Общий комментарий ревьюера 😊 v_2<a class=\"tocSkip\"> </h2>\n",
    "    <br/>\n",
    "    \n",
    "Василий, вижу что ты очень хорошо потрудился, молодец! Рада была помочь тебе разобраться с проектом, осталось совсем немного - добавить гипотезы перед тестами) И будет хорошо добавить названия к графикам в части с аномалиями)  "
   ]
  },
  {
   "cell_type": "markdown",
   "id": "1b7ef19e",
   "metadata": {},
   "source": [
    "### Описание проекта"
   ]
  },
  {
   "cell_type": "markdown",
   "id": "e5cb2aab",
   "metadata": {},
   "source": [
    "В крупном интерне-магазине необходимо увеличить выручку. Совместно с отделом маркетинга подготовлен список гипотиз для увеличения выручки. Гипотезы необходимо протестировать с помощью  A/B-тестирования. После тестирования необходимо проанализировать результаты и сделать выводы. У нас в наличии есть 3 DataFrame - hypothesis.csv (данные о гепотизах), orders.csv (ифнормация о заказах), visitors.csv (информация о пользователях).<br>\n",
    "План работы:<br>\n",
    "Часть 1. Приоритизация гипотез.<br>\n",
    "Задача<br>\n",
    "Примените фреймворк ICE для приоритизации гипотез. Отсортируйте их по убыванию приоритета.<br>\n",
    "Примените фреймворк RICE для приоритизации гипотез. Отсортируйте их по убыванию приоритета.<br>\n",
    "Укажите, как изменилась приоритизация гипотез при применении RICE вместо ICE. Объясните, почему так произошло.<br><br>\n",
    "Часть 2. Анализ A/B-теста<br>\n",
    "Проанализируйте A/B-тест:<br>\n",
    "Постройте график кумулятивной выручки по группам. Сделайте выводы и предположения.<br>\n",
    "Постройте график кумулятивного среднего чека по группам. Сделайте выводы и предположения.<br>\n",
    "Постройте график относительного изменения кумулятивного среднего чека группы B к группе A. Сделайте выводы и предположения.<br>\n",
    "Постройте график кумулятивного среднего количества заказов на посетителя по группам. Сделайте выводы и предположения.<br>\n",
    "Постройте график относительного изменения кумулятивного среднего количества заказов на посетителя группы B к группе A. Сделайте выводы и предположения.<br>\n",
    "Постройте точечный график количества заказов по пользователям. Сделайте выводы и предположения.<br>\n",
    "Посчитайте 95-й и 99-й перцентили количества заказов на пользователя. Выберите границу для определения аномальных пользователей.<br>\n",
    "Постройте точечный график стоимостей заказов. Сделайте выводы и предположения.<br>\n",
    "Посчитайте 95-й и 99-й перцентили стоимости заказов. Выберите границу для определения аномальных заказов.<br>\n",
    "Посчитайте статистическую значимость различий в среднем количестве заказов на посетителя между группами по «сырым» данным. Сделайте выводы и предположения.<br>\n",
    "Посчитайте статистическую значимость различий в среднем чеке заказа между группами по «сырым» данным. Сделайте выводы и предположения.<br>\n",
    "Посчитайте статистическую значимость различий в среднем количестве заказов на посетителя между группами по «очищенным» данным. <br>Сделайте выводы и предположения.<br>\n",
    "Посчитайте статистическую значимость различий в среднем чеке заказа между группами по «очищенным» данным. Сделайте выводы и предположения.<br>"
   ]
  },
  {
   "cell_type": "markdown",
   "id": "8d914989",
   "metadata": {},
   "source": [
    "<div class=\"alert alert-warning\">\n",
    "<h2> Комментарий ревьюера 🤓<a class=\"tocSkip\"> </h2>\n",
    "    \n",
    "Введение можно улучшить, если в описании проекта мы добавим описание данных и краткий план работы, основные этапы, которые мы должны выполнить."
   ]
  },
  {
   "cell_type": "code",
   "execution_count": 1,
   "id": "1051013f",
   "metadata": {},
   "outputs": [],
   "source": [
    "# импортируем модули\n",
    "import pandas as pd\n",
    "import datetime as dt\n",
    "import numpy as np\n",
    "import matplotlib.pyplot as plt\n",
    "from scipy import stats as st"
   ]
  },
  {
   "cell_type": "markdown",
   "id": "de8eb9b9",
   "metadata": {},
   "source": [
    "<div class=\"alert alert-success\">\n",
    "<h2> Комментарий ревьюера 😊<a class=\"tocSkip\"> </h2>\n",
    "\n",
    "Молодец, что загружаешь все библиотеки в начале проекта. Так сложней случайно удалить ячейку с загрузкой нужной библиотеки и сделать код не работающим. А получатель отчета сразу поймет, какие библиотеки ты используешь и какие ему нужно установить для запуска проекта.\n",
    "\n",
    "</div>"
   ]
  },
  {
   "cell_type": "code",
   "execution_count": 2,
   "id": "832b5280",
   "metadata": {},
   "outputs": [],
   "source": [
    "# загрузка датасетов\n",
    "try:\n",
    "    hyp = pd.read_csv('C:\\jubyterbase/hypothesis.csv') \n",
    "    ord = pd.read_csv('C:\\jubyterbase/orders.csv') \n",
    "    vis = pd.read_csv('C:\\jubyterbase/visitors.csv') \n",
    "except:\n",
    "    hyp = pd.read_csv('/datasets/hypothesis.csv')\n",
    "    ord = pd.read_csv('/datasets/orders.csv')\n",
    "    vis = pd.read_csv('/datasets/visitors.csv')"
   ]
  },
  {
   "cell_type": "markdown",
   "id": "94737b57",
   "metadata": {},
   "source": [
    "1. Открываем файл с данными и приступим к изучению информации"
   ]
  },
  {
   "cell_type": "markdown",
   "id": "90f91b90",
   "metadata": {},
   "source": [
    "#### 1.1 Изучим датасет hyp (hypothesis.csv)"
   ]
  },
  {
   "cell_type": "code",
   "execution_count": 3,
   "id": "f8bf8f17",
   "metadata": {},
   "outputs": [
    {
     "data": {
      "text/html": [
       "<div>\n",
       "<style scoped>\n",
       "    .dataframe tbody tr th:only-of-type {\n",
       "        vertical-align: middle;\n",
       "    }\n",
       "\n",
       "    .dataframe tbody tr th {\n",
       "        vertical-align: top;\n",
       "    }\n",
       "\n",
       "    .dataframe thead th {\n",
       "        text-align: right;\n",
       "    }\n",
       "</style>\n",
       "<table border=\"1\" class=\"dataframe\">\n",
       "  <thead>\n",
       "    <tr style=\"text-align: right;\">\n",
       "      <th></th>\n",
       "      <th>Hypothesis</th>\n",
       "      <th>Reach</th>\n",
       "      <th>Impact</th>\n",
       "      <th>Confidence</th>\n",
       "      <th>Efforts</th>\n",
       "    </tr>\n",
       "  </thead>\n",
       "  <tbody>\n",
       "    <tr>\n",
       "      <th>0</th>\n",
       "      <td>Добавить два новых канала привлечения трафика, что позволит привлекать на 30% больше пользователей</td>\n",
       "      <td>3</td>\n",
       "      <td>10</td>\n",
       "      <td>8</td>\n",
       "      <td>6</td>\n",
       "    </tr>\n",
       "    <tr>\n",
       "      <th>1</th>\n",
       "      <td>Запустить собственную службу доставки, что сократит срок доставки заказов</td>\n",
       "      <td>2</td>\n",
       "      <td>5</td>\n",
       "      <td>4</td>\n",
       "      <td>10</td>\n",
       "    </tr>\n",
       "    <tr>\n",
       "      <th>2</th>\n",
       "      <td>Добавить блоки рекомендаций товаров на сайт интернет магазина, чтобы повысить конверсию и средний чек заказа</td>\n",
       "      <td>8</td>\n",
       "      <td>3</td>\n",
       "      <td>7</td>\n",
       "      <td>3</td>\n",
       "    </tr>\n",
       "    <tr>\n",
       "      <th>3</th>\n",
       "      <td>Изменить структура категорий, что увеличит конверсию, т.к. пользователи быстрее найдут нужный товар</td>\n",
       "      <td>8</td>\n",
       "      <td>3</td>\n",
       "      <td>3</td>\n",
       "      <td>8</td>\n",
       "    </tr>\n",
       "    <tr>\n",
       "      <th>4</th>\n",
       "      <td>Изменить цвет фона главной страницы, чтобы увеличить вовлеченность пользователей</td>\n",
       "      <td>3</td>\n",
       "      <td>1</td>\n",
       "      <td>1</td>\n",
       "      <td>1</td>\n",
       "    </tr>\n",
       "    <tr>\n",
       "      <th>5</th>\n",
       "      <td>Добавить страницу отзывов клиентов о магазине, что позволит увеличить количество заказов</td>\n",
       "      <td>3</td>\n",
       "      <td>2</td>\n",
       "      <td>2</td>\n",
       "      <td>3</td>\n",
       "    </tr>\n",
       "    <tr>\n",
       "      <th>6</th>\n",
       "      <td>Показать на главной странице баннеры с актуальными акциями и распродажами, чтобы увеличить конверсию</td>\n",
       "      <td>5</td>\n",
       "      <td>3</td>\n",
       "      <td>8</td>\n",
       "      <td>3</td>\n",
       "    </tr>\n",
       "    <tr>\n",
       "      <th>7</th>\n",
       "      <td>Добавить форму подписки на все основные страницы, чтобы собрать базу клиентов для email-рассылок</td>\n",
       "      <td>10</td>\n",
       "      <td>7</td>\n",
       "      <td>8</td>\n",
       "      <td>5</td>\n",
       "    </tr>\n",
       "    <tr>\n",
       "      <th>8</th>\n",
       "      <td>Запустить акцию, дающую скидку на товар в день рождения</td>\n",
       "      <td>1</td>\n",
       "      <td>9</td>\n",
       "      <td>9</td>\n",
       "      <td>5</td>\n",
       "    </tr>\n",
       "  </tbody>\n",
       "</table>\n",
       "</div>"
      ],
      "text/plain": [
       "                                                                                                     Hypothesis  \\\n",
       "0            Добавить два новых канала привлечения трафика, что позволит привлекать на 30% больше пользователей   \n",
       "1                                     Запустить собственную службу доставки, что сократит срок доставки заказов   \n",
       "2  Добавить блоки рекомендаций товаров на сайт интернет магазина, чтобы повысить конверсию и средний чек заказа   \n",
       "3           Изменить структура категорий, что увеличит конверсию, т.к. пользователи быстрее найдут нужный товар   \n",
       "4                              Изменить цвет фона главной страницы, чтобы увеличить вовлеченность пользователей   \n",
       "5                      Добавить страницу отзывов клиентов о магазине, что позволит увеличить количество заказов   \n",
       "6          Показать на главной странице баннеры с актуальными акциями и распродажами, чтобы увеличить конверсию   \n",
       "7              Добавить форму подписки на все основные страницы, чтобы собрать базу клиентов для email-рассылок   \n",
       "8                                                       Запустить акцию, дающую скидку на товар в день рождения   \n",
       "\n",
       "   Reach  Impact  Confidence  Efforts  \n",
       "0      3      10           8        6  \n",
       "1      2       5           4       10  \n",
       "2      8       3           7        3  \n",
       "3      8       3           3        8  \n",
       "4      3       1           1        1  \n",
       "5      3       2           2        3  \n",
       "6      5       3           8        3  \n",
       "7     10       7           8        5  \n",
       "8      1       9           9        5  "
      ]
     },
     "execution_count": 3,
     "metadata": {},
     "output_type": "execute_result"
    }
   ],
   "source": [
    "# Расширим вывод содержимого ячеек до 130 символов\n",
    "pd.options.display.max_colwidth = 130 \n",
    "# посмотрим что в DataFrame\n",
    "hyp "
   ]
  },
  {
   "cell_type": "markdown",
   "id": "6e2d59e8",
   "metadata": {},
   "source": [
    "<div class=\"alert alert-warning\">\n",
    "<h2> Комментарий ревьюера 🤓<a class=\"tocSkip\"> </h2>\n",
    "        \n",
    "Расширить вывод содержимого ячеек мы можем с помощью следующей настройки, так мы сможем увидеть полный текст гипотез:\n",
    "    \n",
    "```python\n",
    "pd.options.display.max_colwidth = 130\n",
    "```\n",
    "</div>"
   ]
  },
  {
   "cell_type": "markdown",
   "id": "9c9960c4",
   "metadata": {},
   "source": [
    "<div class=\"alert alert-info\"> <b>Комментарий студента:</b> <br>\n",
    "    Понял! Принял! Сделал! =)</div>"
   ]
  },
  {
   "cell_type": "markdown",
   "id": "dde8582a",
   "metadata": {},
   "source": [
    "<div class=\"alert alert-success\">\n",
    "<h2> Комментарий ревьюера 😊 v_2 <a class=\"tocSkip\"> </h2>\n",
    "\n",
    "👍"
   ]
  },
  {
   "cell_type": "markdown",
   "id": "358c9cce",
   "metadata": {},
   "source": [
    "#### Структура hypothesis.csv:<br>\n",
    "Hypothesis — краткое описание гипотезы;<br>\n",
    "Reach — охват пользователей по 10-балльной шкале;<br>\n",
    "Impact — влияние на пользователей по 10-балльной шкале;<br>\n",
    "Confidence — уверенность в гипотезе по 10-балльной шкале;<br>\n",
    "Efforts — затраты ресурсов на проверку гипотезы по 10-балльной шкале. <br><br>\n",
    "Чем больше значение Efforts, тем дороже проверка гипотезы."
   ]
  },
  {
   "cell_type": "code",
   "execution_count": 4,
   "id": "44111e7b",
   "metadata": {},
   "outputs": [
    {
     "name": "stdout",
     "output_type": "stream",
     "text": [
      "<class 'pandas.core.frame.DataFrame'>\n",
      "RangeIndex: 9 entries, 0 to 8\n",
      "Data columns (total 5 columns):\n",
      " #   Column      Non-Null Count  Dtype \n",
      "---  ------      --------------  ----- \n",
      " 0   Hypothesis  9 non-null      object\n",
      " 1   Reach       9 non-null      int64 \n",
      " 2   Impact      9 non-null      int64 \n",
      " 3   Confidence  9 non-null      int64 \n",
      " 4   Efforts     9 non-null      int64 \n",
      "dtypes: int64(4), object(1)\n",
      "memory usage: 488.0+ bytes\n"
     ]
    }
   ],
   "source": [
    "# посмотрим что в датасете\n",
    "hyp.info() "
   ]
  },
  {
   "cell_type": "code",
   "execution_count": 5,
   "id": "4afbc321",
   "metadata": {},
   "outputs": [
    {
     "data": {
      "text/plain": [
       "Hypothesis    0\n",
       "Reach         0\n",
       "Impact        0\n",
       "Confidence    0\n",
       "Efforts       0\n",
       "dtype: int64"
      ]
     },
     "metadata": {},
     "output_type": "display_data"
    }
   ],
   "source": [
    "# проверим заполненность данных. Всё хорошо! все строки заполнены.\n",
    "display(hyp.isna().sum()) "
   ]
  },
  {
   "cell_type": "code",
   "execution_count": 6,
   "id": "80271f87",
   "metadata": {},
   "outputs": [],
   "source": [
    "# преобразуем данные к нижнему регистру\n",
    "hyp.columns = map(str.lower, hyp.columns) "
   ]
  },
  {
   "cell_type": "code",
   "execution_count": 7,
   "id": "eddef84a",
   "metadata": {},
   "outputs": [
    {
     "data": {
      "text/plain": [
       "0"
      ]
     },
     "execution_count": 7,
     "metadata": {},
     "output_type": "execute_result"
    }
   ],
   "source": [
    "# проверка на дубликаты\n",
    "hyp.duplicated().sum() "
   ]
  },
  {
   "cell_type": "markdown",
   "id": "f2a32248",
   "metadata": {},
   "source": [
    "#### 1.2 Изучим датасет ord (orders.csv) "
   ]
  },
  {
   "cell_type": "code",
   "execution_count": 8,
   "id": "32517f99",
   "metadata": {},
   "outputs": [
    {
     "data": {
      "text/html": [
       "<div>\n",
       "<style scoped>\n",
       "    .dataframe tbody tr th:only-of-type {\n",
       "        vertical-align: middle;\n",
       "    }\n",
       "\n",
       "    .dataframe tbody tr th {\n",
       "        vertical-align: top;\n",
       "    }\n",
       "\n",
       "    .dataframe thead th {\n",
       "        text-align: right;\n",
       "    }\n",
       "</style>\n",
       "<table border=\"1\" class=\"dataframe\">\n",
       "  <thead>\n",
       "    <tr style=\"text-align: right;\">\n",
       "      <th></th>\n",
       "      <th>transactionId</th>\n",
       "      <th>visitorId</th>\n",
       "      <th>date</th>\n",
       "      <th>revenue</th>\n",
       "      <th>group</th>\n",
       "    </tr>\n",
       "  </thead>\n",
       "  <tbody>\n",
       "    <tr>\n",
       "      <th>0</th>\n",
       "      <td>3667963787</td>\n",
       "      <td>3312258926</td>\n",
       "      <td>2019-08-15</td>\n",
       "      <td>1650</td>\n",
       "      <td>B</td>\n",
       "    </tr>\n",
       "    <tr>\n",
       "      <th>1</th>\n",
       "      <td>2804400009</td>\n",
       "      <td>3642806036</td>\n",
       "      <td>2019-08-15</td>\n",
       "      <td>730</td>\n",
       "      <td>B</td>\n",
       "    </tr>\n",
       "    <tr>\n",
       "      <th>2</th>\n",
       "      <td>2961555356</td>\n",
       "      <td>4069496402</td>\n",
       "      <td>2019-08-15</td>\n",
       "      <td>400</td>\n",
       "      <td>A</td>\n",
       "    </tr>\n",
       "    <tr>\n",
       "      <th>3</th>\n",
       "      <td>3797467345</td>\n",
       "      <td>1196621759</td>\n",
       "      <td>2019-08-15</td>\n",
       "      <td>9759</td>\n",
       "      <td>B</td>\n",
       "    </tr>\n",
       "    <tr>\n",
       "      <th>4</th>\n",
       "      <td>2282983706</td>\n",
       "      <td>2322279887</td>\n",
       "      <td>2019-08-15</td>\n",
       "      <td>2308</td>\n",
       "      <td>B</td>\n",
       "    </tr>\n",
       "  </tbody>\n",
       "</table>\n",
       "</div>"
      ],
      "text/plain": [
       "   transactionId   visitorId        date  revenue group\n",
       "0     3667963787  3312258926  2019-08-15     1650     B\n",
       "1     2804400009  3642806036  2019-08-15      730     B\n",
       "2     2961555356  4069496402  2019-08-15      400     A\n",
       "3     3797467345  1196621759  2019-08-15     9759     B\n",
       "4     2282983706  2322279887  2019-08-15     2308     B"
      ]
     },
     "execution_count": 8,
     "metadata": {},
     "output_type": "execute_result"
    }
   ],
   "source": [
    "# посмотрим что в датасет\n",
    "ord.head() "
   ]
  },
  {
   "cell_type": "markdown",
   "id": "e8253dc2",
   "metadata": {},
   "source": [
    "#### Структура orders.csv:<br>\n",
    "transactionId — идентификатор заказа;<br>\n",
    "visitorId — идентификатор пользователя, совершившего заказ;<br>\n",
    "date — дата, когда был совершён заказ;<br>\n",
    "revenue — выручка заказа;<br>\n",
    "group — группа A/B-теста, в которую попал заказ.<br>"
   ]
  },
  {
   "cell_type": "code",
   "execution_count": 9,
   "id": "868c2385",
   "metadata": {},
   "outputs": [
    {
     "name": "stdout",
     "output_type": "stream",
     "text": [
      "<class 'pandas.core.frame.DataFrame'>\n",
      "RangeIndex: 1197 entries, 0 to 1196\n",
      "Data columns (total 5 columns):\n",
      " #   Column         Non-Null Count  Dtype \n",
      "---  ------         --------------  ----- \n",
      " 0   transactionId  1197 non-null   int64 \n",
      " 1   visitorId      1197 non-null   int64 \n",
      " 2   date           1197 non-null   object\n",
      " 3   revenue        1197 non-null   int64 \n",
      " 4   group          1197 non-null   object\n",
      "dtypes: int64(3), object(2)\n",
      "memory usage: 46.9+ KB\n"
     ]
    }
   ],
   "source": [
    "# выведим информацию о датасете\n",
    "ord.info() "
   ]
  },
  {
   "cell_type": "code",
   "execution_count": 10,
   "id": "7d74615c",
   "metadata": {},
   "outputs": [],
   "source": [
    "# преобразуем аргумент 'date' из object в дату (datetime64)\n",
    "ord['date'] = pd.to_datetime(ord['date'], format='%Y-%m-%d')"
   ]
  },
  {
   "cell_type": "code",
   "execution_count": 11,
   "id": "689ecd01",
   "metadata": {},
   "outputs": [
    {
     "name": "stdout",
     "output_type": "stream",
     "text": [
      "<class 'pandas.core.frame.DataFrame'>\n",
      "RangeIndex: 1197 entries, 0 to 1196\n",
      "Data columns (total 5 columns):\n",
      " #   Column         Non-Null Count  Dtype         \n",
      "---  ------         --------------  -----         \n",
      " 0   transactionId  1197 non-null   int64         \n",
      " 1   visitorId      1197 non-null   int64         \n",
      " 2   date           1197 non-null   datetime64[ns]\n",
      " 3   revenue        1197 non-null   int64         \n",
      " 4   group          1197 non-null   object        \n",
      "dtypes: datetime64[ns](1), int64(3), object(1)\n",
      "memory usage: 46.9+ KB\n"
     ]
    }
   ],
   "source": [
    "# проверяем преобразовался ли 'date' в дату. Всё ок! =)\n",
    "ord.info()"
   ]
  },
  {
   "cell_type": "code",
   "execution_count": 12,
   "id": "f4aabce0",
   "metadata": {},
   "outputs": [
    {
     "data": {
      "text/html": [
       "<div>\n",
       "<style scoped>\n",
       "    .dataframe tbody tr th:only-of-type {\n",
       "        vertical-align: middle;\n",
       "    }\n",
       "\n",
       "    .dataframe tbody tr th {\n",
       "        vertical-align: top;\n",
       "    }\n",
       "\n",
       "    .dataframe thead th {\n",
       "        text-align: right;\n",
       "    }\n",
       "</style>\n",
       "<table border=\"1\" class=\"dataframe\">\n",
       "  <thead>\n",
       "    <tr style=\"text-align: right;\">\n",
       "      <th></th>\n",
       "      <th>transactionId</th>\n",
       "      <th>visitorId</th>\n",
       "      <th>date</th>\n",
       "      <th>revenue</th>\n",
       "      <th>group</th>\n",
       "    </tr>\n",
       "  </thead>\n",
       "  <tbody>\n",
       "    <tr>\n",
       "      <th>0</th>\n",
       "      <td>3667963787</td>\n",
       "      <td>3312258926</td>\n",
       "      <td>2019-08-15</td>\n",
       "      <td>1650</td>\n",
       "      <td>B</td>\n",
       "    </tr>\n",
       "    <tr>\n",
       "      <th>1</th>\n",
       "      <td>2804400009</td>\n",
       "      <td>3642806036</td>\n",
       "      <td>2019-08-15</td>\n",
       "      <td>730</td>\n",
       "      <td>B</td>\n",
       "    </tr>\n",
       "    <tr>\n",
       "      <th>2</th>\n",
       "      <td>2961555356</td>\n",
       "      <td>4069496402</td>\n",
       "      <td>2019-08-15</td>\n",
       "      <td>400</td>\n",
       "      <td>A</td>\n",
       "    </tr>\n",
       "    <tr>\n",
       "      <th>3</th>\n",
       "      <td>3797467345</td>\n",
       "      <td>1196621759</td>\n",
       "      <td>2019-08-15</td>\n",
       "      <td>9759</td>\n",
       "      <td>B</td>\n",
       "    </tr>\n",
       "    <tr>\n",
       "      <th>4</th>\n",
       "      <td>2282983706</td>\n",
       "      <td>2322279887</td>\n",
       "      <td>2019-08-15</td>\n",
       "      <td>2308</td>\n",
       "      <td>B</td>\n",
       "    </tr>\n",
       "  </tbody>\n",
       "</table>\n",
       "</div>"
      ],
      "text/plain": [
       "   transactionId   visitorId       date  revenue group\n",
       "0     3667963787  3312258926 2019-08-15     1650     B\n",
       "1     2804400009  3642806036 2019-08-15      730     B\n",
       "2     2961555356  4069496402 2019-08-15      400     A\n",
       "3     3797467345  1196621759 2019-08-15     9759     B\n",
       "4     2282983706  2322279887 2019-08-15     2308     B"
      ]
     },
     "execution_count": 12,
     "metadata": {},
     "output_type": "execute_result"
    }
   ],
   "source": [
    "# на всякий случай посмотрим как отобразился датасет\n",
    "ord.head() "
   ]
  },
  {
   "cell_type": "code",
   "execution_count": 13,
   "id": "d244a8fd",
   "metadata": {},
   "outputs": [
    {
     "data": {
      "text/plain": [
       "0"
      ]
     },
     "execution_count": 13,
     "metadata": {},
     "output_type": "execute_result"
    }
   ],
   "source": [
    "# проверка на дубликаты\n",
    "ord.duplicated().sum() "
   ]
  },
  {
   "cell_type": "markdown",
   "id": "95ae7a13",
   "metadata": {},
   "source": [
    "#### 1.3 Изучим датасет vis (visitors.csv) "
   ]
  },
  {
   "cell_type": "code",
   "execution_count": 14,
   "id": "366ffe14",
   "metadata": {},
   "outputs": [
    {
     "data": {
      "text/html": [
       "<div>\n",
       "<style scoped>\n",
       "    .dataframe tbody tr th:only-of-type {\n",
       "        vertical-align: middle;\n",
       "    }\n",
       "\n",
       "    .dataframe tbody tr th {\n",
       "        vertical-align: top;\n",
       "    }\n",
       "\n",
       "    .dataframe thead th {\n",
       "        text-align: right;\n",
       "    }\n",
       "</style>\n",
       "<table border=\"1\" class=\"dataframe\">\n",
       "  <thead>\n",
       "    <tr style=\"text-align: right;\">\n",
       "      <th></th>\n",
       "      <th>date</th>\n",
       "      <th>group</th>\n",
       "      <th>visitors</th>\n",
       "    </tr>\n",
       "  </thead>\n",
       "  <tbody>\n",
       "    <tr>\n",
       "      <th>0</th>\n",
       "      <td>2019-08-01</td>\n",
       "      <td>A</td>\n",
       "      <td>719</td>\n",
       "    </tr>\n",
       "    <tr>\n",
       "      <th>1</th>\n",
       "      <td>2019-08-02</td>\n",
       "      <td>A</td>\n",
       "      <td>619</td>\n",
       "    </tr>\n",
       "    <tr>\n",
       "      <th>2</th>\n",
       "      <td>2019-08-03</td>\n",
       "      <td>A</td>\n",
       "      <td>507</td>\n",
       "    </tr>\n",
       "    <tr>\n",
       "      <th>3</th>\n",
       "      <td>2019-08-04</td>\n",
       "      <td>A</td>\n",
       "      <td>717</td>\n",
       "    </tr>\n",
       "    <tr>\n",
       "      <th>4</th>\n",
       "      <td>2019-08-05</td>\n",
       "      <td>A</td>\n",
       "      <td>756</td>\n",
       "    </tr>\n",
       "  </tbody>\n",
       "</table>\n",
       "</div>"
      ],
      "text/plain": [
       "         date group  visitors\n",
       "0  2019-08-01     A       719\n",
       "1  2019-08-02     A       619\n",
       "2  2019-08-03     A       507\n",
       "3  2019-08-04     A       717\n",
       "4  2019-08-05     A       756"
      ]
     },
     "execution_count": 14,
     "metadata": {},
     "output_type": "execute_result"
    }
   ],
   "source": [
    "# посмотрим что в датасете\n",
    "vis.head() "
   ]
  },
  {
   "cell_type": "markdown",
   "id": "6b3b86f1",
   "metadata": {},
   "source": [
    "#### Структура visitors.csv:<br>\n",
    "date — дата;<br>\n",
    "group — группа A/B-теста;<br>\n",
    "visitors — количество пользователей в указанную дату в указанной группе A/B-теста<br>"
   ]
  },
  {
   "cell_type": "code",
   "execution_count": 15,
   "id": "2b371586",
   "metadata": {},
   "outputs": [
    {
     "name": "stdout",
     "output_type": "stream",
     "text": [
      "<class 'pandas.core.frame.DataFrame'>\n",
      "RangeIndex: 62 entries, 0 to 61\n",
      "Data columns (total 3 columns):\n",
      " #   Column    Non-Null Count  Dtype \n",
      "---  ------    --------------  ----- \n",
      " 0   date      62 non-null     object\n",
      " 1   group     62 non-null     object\n",
      " 2   visitors  62 non-null     int64 \n",
      "dtypes: int64(1), object(2)\n",
      "memory usage: 1.6+ KB\n"
     ]
    }
   ],
   "source": [
    "# выведим информацию о датасете\n",
    "vis.info() "
   ]
  },
  {
   "cell_type": "code",
   "execution_count": 16,
   "id": "ff2ba1f4",
   "metadata": {},
   "outputs": [
    {
     "data": {
      "text/plain": [
       "transactionId    0\n",
       "visitorId        0\n",
       "date             0\n",
       "revenue          0\n",
       "group            0\n",
       "dtype: int64"
      ]
     },
     "metadata": {},
     "output_type": "display_data"
    }
   ],
   "source": [
    "# проверим заполненность данных. Всё хорошо! все строки заполнены.\n",
    "display(ord.isna().sum()) "
   ]
  },
  {
   "cell_type": "code",
   "execution_count": 17,
   "id": "8489fe76",
   "metadata": {},
   "outputs": [],
   "source": [
    "# преобразуем столбец 'date' из object в дату (datetime64)\n",
    "vis['date'] = pd.to_datetime(vis['date'], format='%Y-%m-%d') "
   ]
  },
  {
   "cell_type": "code",
   "execution_count": 18,
   "id": "9d64d6c1",
   "metadata": {},
   "outputs": [
    {
     "name": "stdout",
     "output_type": "stream",
     "text": [
      "<class 'pandas.core.frame.DataFrame'>\n",
      "RangeIndex: 62 entries, 0 to 61\n",
      "Data columns (total 3 columns):\n",
      " #   Column    Non-Null Count  Dtype         \n",
      "---  ------    --------------  -----         \n",
      " 0   date      62 non-null     datetime64[ns]\n",
      " 1   group     62 non-null     object        \n",
      " 2   visitors  62 non-null     int64         \n",
      "dtypes: datetime64[ns](1), int64(1), object(1)\n",
      "memory usage: 1.6+ KB\n"
     ]
    }
   ],
   "source": [
    "# проверяем преобразовался ли 'date' в дату. Всё ок! =)\n",
    "vis.info() "
   ]
  },
  {
   "cell_type": "code",
   "execution_count": 19,
   "id": "f30f1fcb",
   "metadata": {},
   "outputs": [
    {
     "data": {
      "text/html": [
       "<div>\n",
       "<style scoped>\n",
       "    .dataframe tbody tr th:only-of-type {\n",
       "        vertical-align: middle;\n",
       "    }\n",
       "\n",
       "    .dataframe tbody tr th {\n",
       "        vertical-align: top;\n",
       "    }\n",
       "\n",
       "    .dataframe thead th {\n",
       "        text-align: right;\n",
       "    }\n",
       "</style>\n",
       "<table border=\"1\" class=\"dataframe\">\n",
       "  <thead>\n",
       "    <tr style=\"text-align: right;\">\n",
       "      <th></th>\n",
       "      <th>date</th>\n",
       "      <th>group</th>\n",
       "      <th>visitors</th>\n",
       "    </tr>\n",
       "  </thead>\n",
       "  <tbody>\n",
       "    <tr>\n",
       "      <th>0</th>\n",
       "      <td>2019-08-01</td>\n",
       "      <td>A</td>\n",
       "      <td>719</td>\n",
       "    </tr>\n",
       "    <tr>\n",
       "      <th>1</th>\n",
       "      <td>2019-08-02</td>\n",
       "      <td>A</td>\n",
       "      <td>619</td>\n",
       "    </tr>\n",
       "    <tr>\n",
       "      <th>2</th>\n",
       "      <td>2019-08-03</td>\n",
       "      <td>A</td>\n",
       "      <td>507</td>\n",
       "    </tr>\n",
       "    <tr>\n",
       "      <th>3</th>\n",
       "      <td>2019-08-04</td>\n",
       "      <td>A</td>\n",
       "      <td>717</td>\n",
       "    </tr>\n",
       "    <tr>\n",
       "      <th>4</th>\n",
       "      <td>2019-08-05</td>\n",
       "      <td>A</td>\n",
       "      <td>756</td>\n",
       "    </tr>\n",
       "  </tbody>\n",
       "</table>\n",
       "</div>"
      ],
      "text/plain": [
       "        date group  visitors\n",
       "0 2019-08-01     A       719\n",
       "1 2019-08-02     A       619\n",
       "2 2019-08-03     A       507\n",
       "3 2019-08-04     A       717\n",
       "4 2019-08-05     A       756"
      ]
     },
     "execution_count": 19,
     "metadata": {},
     "output_type": "execute_result"
    }
   ],
   "source": [
    "# на всякий случай посмотрим как отобразился датасет\n",
    "vis.head() "
   ]
  },
  {
   "cell_type": "code",
   "execution_count": 20,
   "id": "130b35e4",
   "metadata": {},
   "outputs": [
    {
     "data": {
      "text/plain": [
       "0"
      ]
     },
     "execution_count": 20,
     "metadata": {},
     "output_type": "execute_result"
    }
   ],
   "source": [
    "# проверка на дубликаты. Дубликатов 0.\n",
    "vis.duplicated().sum() "
   ]
  },
  {
   "cell_type": "markdown",
   "id": "594f5a0d",
   "metadata": {},
   "source": [
    "<div class=\"alert alert-block alert-danger\">\n",
    "<h2> Комментарий ревьюера 🤔<a class=\"tocSkip\"></h2>\n",
    "    <s>\n",
    "Мы пропустили один важный шаг предобработки - проверка на дубликаты)"
   ]
  },
  {
   "cell_type": "markdown",
   "id": "b691dcb0",
   "metadata": {},
   "source": [
    "<div class=\"alert alert-info\"> <b>Комментарий студента:</b> <br>\n",
    "    Спасибо за напоминание о дубликатах! Я про них постоянно забываю. Я так же через # наделал комментарий для себя. Буду признателен если Вы дадите отзыв о них и о правельности. Это моя ошибка. Раньше подробно не расписывал. Тебе буду стараться так делать.</div>"
   ]
  },
  {
   "cell_type": "markdown",
   "id": "f71c361e",
   "metadata": {},
   "source": [
    "<div class=\"alert alert-success\">\n",
    "<h2> Комментарий ревьюера 😊 v_2 <a class=\"tocSkip\"> </h2>\n",
    "\n",
    "Рада помочь, комментарии это хорошо) Так ты сам не запутаешься и коллеги при просмотре тетради не будут испытывать сложности)"
   ]
  },
  {
   "cell_type": "markdown",
   "id": "d93c3f8e",
   "metadata": {},
   "source": [
    "<div class=\"alert alert-warning\">\n",
    "<h2> Комментарий ревьюера 🤓<a class=\"tocSkip\"> </h2>\n",
    "        \n",
    "Можно провести дополнительные исследования, например: \n",
    "    \n",
    "* Посмотреть сколько у нас групп в АВ-тесте;\n",
    "* Изучить временной интервал, узнав даты начала и окончания теста;\n",
    "* Рассмотреть количество пользователей в каждой группе - по таблице с заказами;\n",
    "* Посмотреть не попадают ли какие-то пользователи в обе группы - по таблице с заказами.\n",
    "* Посмотреть динамику посетителей по дням по группам (visitos).\n",
    "</div>"
   ]
  },
  {
   "cell_type": "code",
   "execution_count": 21,
   "id": "06108921",
   "metadata": {},
   "outputs": [
    {
     "name": "stdout",
     "output_type": "stream",
     "text": [
      "Посетителей в группе А:  18736\n",
      "Посетителей в группе B:  18916\n",
      "\n",
      "Всего покупок в группе А:  557\n",
      "Всего покупок в группе B:  640\n"
     ]
    }
   ],
   "source": [
    "visitA = vis[vis['group']=='A']['visitors'].sum() # посетителей в группе А\n",
    "visitB = vis[vis['group']=='B']['visitors'].sum() # посетителей в группе А\n",
    "pukupkiA = len(ord[ord['group']=='A'])\n",
    "pukupkiB = len(ord[ord['group']=='B'])\n",
    "\n",
    "vis_allA = vis[vis['group']=='A']['visitors']\n",
    "vis_allB = vis[vis['group']=='B']['visitors']\n",
    "results = st.mannwhitneyu(vis_allA, vis_allB, True, 'less')\n",
    "alpha = 0.05  # критический уровень статистической значимости\n",
    "\n",
    "print('Посетителей в группе А: ', visitA) \n",
    "print('Посетителей в группе B: ',visitB) \n",
    "print()\n",
    "print('Всего покупок в группе А: ', pukupkiA) \n",
    "print('Всего покупок в группе B: ',pukupkiB) \n"
   ]
  },
  {
   "cell_type": "markdown",
   "id": "7a0022a8",
   "metadata": {},
   "source": [
    "<div class=\"alert alert-info\"> <b>Комментарий студента:</b> <br>\n",
    "Очень хотел разобраться поподробнее с этими исследованиями. Я обязательно к ним вернусь после сдачи проекта. Оставил их на потом, а время поджимает. С правками просидел пол дня. Надо ехать ребёнка встречать))))</div>"
   ]
  },
  {
   "cell_type": "markdown",
   "id": "79162874",
   "metadata": {},
   "source": [
    "# Часть 1. Приоритизация гипотез."
   ]
  },
  {
   "cell_type": "markdown",
   "id": "372c584e",
   "metadata": {},
   "source": [
    "В файле /datasets/hypothesis.csv 9 гипотез по увеличению выручки интернет-магазина с указанными параметрами Reach, Impact, Confidence, Effort."
   ]
  },
  {
   "cell_type": "markdown",
   "id": "56a93a14",
   "metadata": {},
   "source": [
    "#### Задача:\n",
    "\n",
    "#### Примените фреймворк ICE для приоритизации гипотез. Отсортируйте их по убыванию приоритета.\n",
    "\n",
    "#### Примените фреймворк RICE для приоритизации гипотез. Отсортируйте их по убыванию приоритета.\n",
    "\n",
    "#### Укажите, как изменилась приоритизация гипотез при применении RICE вместо ICE. Объясните, почему так произошло."
   ]
  },
  {
   "cell_type": "code",
   "execution_count": 22,
   "id": "39462beb",
   "metadata": {},
   "outputs": [
    {
     "data": {
      "text/html": [
       "<div>\n",
       "<style scoped>\n",
       "    .dataframe tbody tr th:only-of-type {\n",
       "        vertical-align: middle;\n",
       "    }\n",
       "\n",
       "    .dataframe tbody tr th {\n",
       "        vertical-align: top;\n",
       "    }\n",
       "\n",
       "    .dataframe thead th {\n",
       "        text-align: right;\n",
       "    }\n",
       "</style>\n",
       "<table border=\"1\" class=\"dataframe\">\n",
       "  <thead>\n",
       "    <tr style=\"text-align: right;\">\n",
       "      <th></th>\n",
       "      <th>hypothesis</th>\n",
       "      <th>reach</th>\n",
       "      <th>impact</th>\n",
       "      <th>confidence</th>\n",
       "      <th>efforts</th>\n",
       "    </tr>\n",
       "  </thead>\n",
       "  <tbody>\n",
       "    <tr>\n",
       "      <th>0</th>\n",
       "      <td>Добавить два новых канала привлечения трафика, что позволит привлекать на 30% больше пользователей</td>\n",
       "      <td>3</td>\n",
       "      <td>10</td>\n",
       "      <td>8</td>\n",
       "      <td>6</td>\n",
       "    </tr>\n",
       "    <tr>\n",
       "      <th>1</th>\n",
       "      <td>Запустить собственную службу доставки, что сократит срок доставки заказов</td>\n",
       "      <td>2</td>\n",
       "      <td>5</td>\n",
       "      <td>4</td>\n",
       "      <td>10</td>\n",
       "    </tr>\n",
       "    <tr>\n",
       "      <th>2</th>\n",
       "      <td>Добавить блоки рекомендаций товаров на сайт интернет магазина, чтобы повысить конверсию и средний чек заказа</td>\n",
       "      <td>8</td>\n",
       "      <td>3</td>\n",
       "      <td>7</td>\n",
       "      <td>3</td>\n",
       "    </tr>\n",
       "    <tr>\n",
       "      <th>3</th>\n",
       "      <td>Изменить структура категорий, что увеличит конверсию, т.к. пользователи быстрее найдут нужный товар</td>\n",
       "      <td>8</td>\n",
       "      <td>3</td>\n",
       "      <td>3</td>\n",
       "      <td>8</td>\n",
       "    </tr>\n",
       "    <tr>\n",
       "      <th>4</th>\n",
       "      <td>Изменить цвет фона главной страницы, чтобы увеличить вовлеченность пользователей</td>\n",
       "      <td>3</td>\n",
       "      <td>1</td>\n",
       "      <td>1</td>\n",
       "      <td>1</td>\n",
       "    </tr>\n",
       "    <tr>\n",
       "      <th>5</th>\n",
       "      <td>Добавить страницу отзывов клиентов о магазине, что позволит увеличить количество заказов</td>\n",
       "      <td>3</td>\n",
       "      <td>2</td>\n",
       "      <td>2</td>\n",
       "      <td>3</td>\n",
       "    </tr>\n",
       "    <tr>\n",
       "      <th>6</th>\n",
       "      <td>Показать на главной странице баннеры с актуальными акциями и распродажами, чтобы увеличить конверсию</td>\n",
       "      <td>5</td>\n",
       "      <td>3</td>\n",
       "      <td>8</td>\n",
       "      <td>3</td>\n",
       "    </tr>\n",
       "    <tr>\n",
       "      <th>7</th>\n",
       "      <td>Добавить форму подписки на все основные страницы, чтобы собрать базу клиентов для email-рассылок</td>\n",
       "      <td>10</td>\n",
       "      <td>7</td>\n",
       "      <td>8</td>\n",
       "      <td>5</td>\n",
       "    </tr>\n",
       "    <tr>\n",
       "      <th>8</th>\n",
       "      <td>Запустить акцию, дающую скидку на товар в день рождения</td>\n",
       "      <td>1</td>\n",
       "      <td>9</td>\n",
       "      <td>9</td>\n",
       "      <td>5</td>\n",
       "    </tr>\n",
       "  </tbody>\n",
       "</table>\n",
       "</div>"
      ],
      "text/plain": [
       "                                                                                                     hypothesis  \\\n",
       "0            Добавить два новых канала привлечения трафика, что позволит привлекать на 30% больше пользователей   \n",
       "1                                     Запустить собственную службу доставки, что сократит срок доставки заказов   \n",
       "2  Добавить блоки рекомендаций товаров на сайт интернет магазина, чтобы повысить конверсию и средний чек заказа   \n",
       "3           Изменить структура категорий, что увеличит конверсию, т.к. пользователи быстрее найдут нужный товар   \n",
       "4                              Изменить цвет фона главной страницы, чтобы увеличить вовлеченность пользователей   \n",
       "5                      Добавить страницу отзывов клиентов о магазине, что позволит увеличить количество заказов   \n",
       "6          Показать на главной странице баннеры с актуальными акциями и распродажами, чтобы увеличить конверсию   \n",
       "7              Добавить форму подписки на все основные страницы, чтобы собрать базу клиентов для email-рассылок   \n",
       "8                                                       Запустить акцию, дающую скидку на товар в день рождения   \n",
       "\n",
       "   reach  impact  confidence  efforts  \n",
       "0      3      10           8        6  \n",
       "1      2       5           4       10  \n",
       "2      8       3           7        3  \n",
       "3      8       3           3        8  \n",
       "4      3       1           1        1  \n",
       "5      3       2           2        3  \n",
       "6      5       3           8        3  \n",
       "7     10       7           8        5  \n",
       "8      1       9           9        5  "
      ]
     },
     "execution_count": 22,
     "metadata": {},
     "output_type": "execute_result"
    }
   ],
   "source": [
    "# просмотр датасета\n",
    "hyp"
   ]
  },
  {
   "cell_type": "markdown",
   "id": "1d204af3",
   "metadata": {},
   "source": [
    "#### 1.1 Примените фреймворк ICE для приоритизации гипотез. Отсортируйте их по убыванию приоритета."
   ]
  },
  {
   "cell_type": "code",
   "execution_count": 23,
   "id": "7c7fe7d6",
   "metadata": {},
   "outputs": [],
   "source": [
    "# подсчитаем 'RICE'\n",
    "hyp['RICE'] = (hyp['reach'] * hyp['impact'] * hyp['confidence']) / hyp['efforts']"
   ]
  },
  {
   "cell_type": "code",
   "execution_count": 24,
   "id": "7704679b",
   "metadata": {},
   "outputs": [
    {
     "data": {
      "text/html": [
       "<div>\n",
       "<style scoped>\n",
       "    .dataframe tbody tr th:only-of-type {\n",
       "        vertical-align: middle;\n",
       "    }\n",
       "\n",
       "    .dataframe tbody tr th {\n",
       "        vertical-align: top;\n",
       "    }\n",
       "\n",
       "    .dataframe thead th {\n",
       "        text-align: right;\n",
       "    }\n",
       "</style>\n",
       "<table border=\"1\" class=\"dataframe\">\n",
       "  <thead>\n",
       "    <tr style=\"text-align: right;\">\n",
       "      <th></th>\n",
       "      <th>hypothesis</th>\n",
       "      <th>reach</th>\n",
       "      <th>impact</th>\n",
       "      <th>confidence</th>\n",
       "      <th>efforts</th>\n",
       "      <th>RICE</th>\n",
       "    </tr>\n",
       "  </thead>\n",
       "  <tbody>\n",
       "    <tr>\n",
       "      <th>0</th>\n",
       "      <td>Добавить два новых канала привлечения трафика, что позволит привлекать на 30% больше пользователей</td>\n",
       "      <td>3</td>\n",
       "      <td>10</td>\n",
       "      <td>8</td>\n",
       "      <td>6</td>\n",
       "      <td>40.0</td>\n",
       "    </tr>\n",
       "    <tr>\n",
       "      <th>1</th>\n",
       "      <td>Запустить собственную службу доставки, что сократит срок доставки заказов</td>\n",
       "      <td>2</td>\n",
       "      <td>5</td>\n",
       "      <td>4</td>\n",
       "      <td>10</td>\n",
       "      <td>4.0</td>\n",
       "    </tr>\n",
       "    <tr>\n",
       "      <th>2</th>\n",
       "      <td>Добавить блоки рекомендаций товаров на сайт интернет магазина, чтобы повысить конверсию и средний чек заказа</td>\n",
       "      <td>8</td>\n",
       "      <td>3</td>\n",
       "      <td>7</td>\n",
       "      <td>3</td>\n",
       "      <td>56.0</td>\n",
       "    </tr>\n",
       "    <tr>\n",
       "      <th>3</th>\n",
       "      <td>Изменить структура категорий, что увеличит конверсию, т.к. пользователи быстрее найдут нужный товар</td>\n",
       "      <td>8</td>\n",
       "      <td>3</td>\n",
       "      <td>3</td>\n",
       "      <td>8</td>\n",
       "      <td>9.0</td>\n",
       "    </tr>\n",
       "    <tr>\n",
       "      <th>4</th>\n",
       "      <td>Изменить цвет фона главной страницы, чтобы увеличить вовлеченность пользователей</td>\n",
       "      <td>3</td>\n",
       "      <td>1</td>\n",
       "      <td>1</td>\n",
       "      <td>1</td>\n",
       "      <td>3.0</td>\n",
       "    </tr>\n",
       "    <tr>\n",
       "      <th>5</th>\n",
       "      <td>Добавить страницу отзывов клиентов о магазине, что позволит увеличить количество заказов</td>\n",
       "      <td>3</td>\n",
       "      <td>2</td>\n",
       "      <td>2</td>\n",
       "      <td>3</td>\n",
       "      <td>4.0</td>\n",
       "    </tr>\n",
       "    <tr>\n",
       "      <th>6</th>\n",
       "      <td>Показать на главной странице баннеры с актуальными акциями и распродажами, чтобы увеличить конверсию</td>\n",
       "      <td>5</td>\n",
       "      <td>3</td>\n",
       "      <td>8</td>\n",
       "      <td>3</td>\n",
       "      <td>40.0</td>\n",
       "    </tr>\n",
       "    <tr>\n",
       "      <th>7</th>\n",
       "      <td>Добавить форму подписки на все основные страницы, чтобы собрать базу клиентов для email-рассылок</td>\n",
       "      <td>10</td>\n",
       "      <td>7</td>\n",
       "      <td>8</td>\n",
       "      <td>5</td>\n",
       "      <td>112.0</td>\n",
       "    </tr>\n",
       "    <tr>\n",
       "      <th>8</th>\n",
       "      <td>Запустить акцию, дающую скидку на товар в день рождения</td>\n",
       "      <td>1</td>\n",
       "      <td>9</td>\n",
       "      <td>9</td>\n",
       "      <td>5</td>\n",
       "      <td>16.2</td>\n",
       "    </tr>\n",
       "  </tbody>\n",
       "</table>\n",
       "</div>"
      ],
      "text/plain": [
       "                                                                                                     hypothesis  \\\n",
       "0            Добавить два новых канала привлечения трафика, что позволит привлекать на 30% больше пользователей   \n",
       "1                                     Запустить собственную службу доставки, что сократит срок доставки заказов   \n",
       "2  Добавить блоки рекомендаций товаров на сайт интернет магазина, чтобы повысить конверсию и средний чек заказа   \n",
       "3           Изменить структура категорий, что увеличит конверсию, т.к. пользователи быстрее найдут нужный товар   \n",
       "4                              Изменить цвет фона главной страницы, чтобы увеличить вовлеченность пользователей   \n",
       "5                      Добавить страницу отзывов клиентов о магазине, что позволит увеличить количество заказов   \n",
       "6          Показать на главной странице баннеры с актуальными акциями и распродажами, чтобы увеличить конверсию   \n",
       "7              Добавить форму подписки на все основные страницы, чтобы собрать базу клиентов для email-рассылок   \n",
       "8                                                       Запустить акцию, дающую скидку на товар в день рождения   \n",
       "\n",
       "   reach  impact  confidence  efforts   RICE  \n",
       "0      3      10           8        6   40.0  \n",
       "1      2       5           4       10    4.0  \n",
       "2      8       3           7        3   56.0  \n",
       "3      8       3           3        8    9.0  \n",
       "4      3       1           1        1    3.0  \n",
       "5      3       2           2        3    4.0  \n",
       "6      5       3           8        3   40.0  \n",
       "7     10       7           8        5  112.0  \n",
       "8      1       9           9        5   16.2  "
      ]
     },
     "execution_count": 24,
     "metadata": {},
     "output_type": "execute_result"
    }
   ],
   "source": [
    "# проверим что получилось\n",
    "hyp"
   ]
  },
  {
   "cell_type": "code",
   "execution_count": 25,
   "id": "95295fd9",
   "metadata": {},
   "outputs": [
    {
     "data": {
      "text/html": [
       "<div>\n",
       "<style scoped>\n",
       "    .dataframe tbody tr th:only-of-type {\n",
       "        vertical-align: middle;\n",
       "    }\n",
       "\n",
       "    .dataframe tbody tr th {\n",
       "        vertical-align: top;\n",
       "    }\n",
       "\n",
       "    .dataframe thead th {\n",
       "        text-align: right;\n",
       "    }\n",
       "</style>\n",
       "<table border=\"1\" class=\"dataframe\">\n",
       "  <thead>\n",
       "    <tr style=\"text-align: right;\">\n",
       "      <th></th>\n",
       "      <th>hypothesis</th>\n",
       "      <th>RICE</th>\n",
       "    </tr>\n",
       "  </thead>\n",
       "  <tbody>\n",
       "    <tr>\n",
       "      <th>7</th>\n",
       "      <td>Добавить форму подписки на все основные страницы, чтобы собрать базу клиентов для email-рассылок</td>\n",
       "      <td>112.0</td>\n",
       "    </tr>\n",
       "    <tr>\n",
       "      <th>2</th>\n",
       "      <td>Добавить блоки рекомендаций товаров на сайт интернет магазина, чтобы повысить конверсию и средний чек заказа</td>\n",
       "      <td>56.0</td>\n",
       "    </tr>\n",
       "    <tr>\n",
       "      <th>0</th>\n",
       "      <td>Добавить два новых канала привлечения трафика, что позволит привлекать на 30% больше пользователей</td>\n",
       "      <td>40.0</td>\n",
       "    </tr>\n",
       "    <tr>\n",
       "      <th>6</th>\n",
       "      <td>Показать на главной странице баннеры с актуальными акциями и распродажами, чтобы увеличить конверсию</td>\n",
       "      <td>40.0</td>\n",
       "    </tr>\n",
       "    <tr>\n",
       "      <th>8</th>\n",
       "      <td>Запустить акцию, дающую скидку на товар в день рождения</td>\n",
       "      <td>16.2</td>\n",
       "    </tr>\n",
       "    <tr>\n",
       "      <th>3</th>\n",
       "      <td>Изменить структура категорий, что увеличит конверсию, т.к. пользователи быстрее найдут нужный товар</td>\n",
       "      <td>9.0</td>\n",
       "    </tr>\n",
       "    <tr>\n",
       "      <th>1</th>\n",
       "      <td>Запустить собственную службу доставки, что сократит срок доставки заказов</td>\n",
       "      <td>4.0</td>\n",
       "    </tr>\n",
       "    <tr>\n",
       "      <th>5</th>\n",
       "      <td>Добавить страницу отзывов клиентов о магазине, что позволит увеличить количество заказов</td>\n",
       "      <td>4.0</td>\n",
       "    </tr>\n",
       "    <tr>\n",
       "      <th>4</th>\n",
       "      <td>Изменить цвет фона главной страницы, чтобы увеличить вовлеченность пользователей</td>\n",
       "      <td>3.0</td>\n",
       "    </tr>\n",
       "  </tbody>\n",
       "</table>\n",
       "</div>"
      ],
      "text/plain": [
       "                                                                                                     hypothesis  \\\n",
       "7              Добавить форму подписки на все основные страницы, чтобы собрать базу клиентов для email-рассылок   \n",
       "2  Добавить блоки рекомендаций товаров на сайт интернет магазина, чтобы повысить конверсию и средний чек заказа   \n",
       "0            Добавить два новых канала привлечения трафика, что позволит привлекать на 30% больше пользователей   \n",
       "6          Показать на главной странице баннеры с актуальными акциями и распродажами, чтобы увеличить конверсию   \n",
       "8                                                       Запустить акцию, дающую скидку на товар в день рождения   \n",
       "3           Изменить структура категорий, что увеличит конверсию, т.к. пользователи быстрее найдут нужный товар   \n",
       "1                                     Запустить собственную службу доставки, что сократит срок доставки заказов   \n",
       "5                      Добавить страницу отзывов клиентов о магазине, что позволит увеличить количество заказов   \n",
       "4                              Изменить цвет фона главной страницы, чтобы увеличить вовлеченность пользователей   \n",
       "\n",
       "    RICE  \n",
       "7  112.0  \n",
       "2   56.0  \n",
       "0   40.0  \n",
       "6   40.0  \n",
       "8   16.2  \n",
       "3    9.0  \n",
       "1    4.0  \n",
       "5    4.0  \n",
       "4    3.0  "
      ]
     },
     "execution_count": 25,
     "metadata": {},
     "output_type": "execute_result"
    }
   ],
   "source": [
    "# создадим датасет с наименованиями и RICE\n",
    "hyp1 = hyp[['hypothesis','RICE']]\n",
    "hyp1.sort_values(by = 'RICE', ascending=False)"
   ]
  },
  {
   "cell_type": "markdown",
   "id": "8debac83",
   "metadata": {},
   "source": [
    "#### 1.2 Примените фреймворк RICE для приоритизации гипотез. Отсортируйте их по убыванию приоритета."
   ]
  },
  {
   "cell_type": "code",
   "execution_count": 26,
   "id": "56a13a84",
   "metadata": {},
   "outputs": [],
   "source": [
    "# подсчитаем 'ICE'\n",
    "hyp['ICE'] = (hyp['impact'] * hyp['confidence']) / hyp['efforts']"
   ]
  },
  {
   "cell_type": "code",
   "execution_count": 27,
   "id": "a599b81b",
   "metadata": {},
   "outputs": [
    {
     "data": {
      "text/html": [
       "<div>\n",
       "<style scoped>\n",
       "    .dataframe tbody tr th:only-of-type {\n",
       "        vertical-align: middle;\n",
       "    }\n",
       "\n",
       "    .dataframe tbody tr th {\n",
       "        vertical-align: top;\n",
       "    }\n",
       "\n",
       "    .dataframe thead th {\n",
       "        text-align: right;\n",
       "    }\n",
       "</style>\n",
       "<table border=\"1\" class=\"dataframe\">\n",
       "  <thead>\n",
       "    <tr style=\"text-align: right;\">\n",
       "      <th></th>\n",
       "      <th>hypothesis</th>\n",
       "      <th>ICE</th>\n",
       "    </tr>\n",
       "  </thead>\n",
       "  <tbody>\n",
       "    <tr>\n",
       "      <th>8</th>\n",
       "      <td>Запустить акцию, дающую скидку на товар в день рождения</td>\n",
       "      <td>16.20</td>\n",
       "    </tr>\n",
       "    <tr>\n",
       "      <th>0</th>\n",
       "      <td>Добавить два новых канала привлечения трафика, что позволит привлекать на 30% больше пользователей</td>\n",
       "      <td>13.33</td>\n",
       "    </tr>\n",
       "    <tr>\n",
       "      <th>7</th>\n",
       "      <td>Добавить форму подписки на все основные страницы, чтобы собрать базу клиентов для email-рассылок</td>\n",
       "      <td>11.20</td>\n",
       "    </tr>\n",
       "    <tr>\n",
       "      <th>6</th>\n",
       "      <td>Показать на главной странице баннеры с актуальными акциями и распродажами, чтобы увеличить конверсию</td>\n",
       "      <td>8.00</td>\n",
       "    </tr>\n",
       "    <tr>\n",
       "      <th>2</th>\n",
       "      <td>Добавить блоки рекомендаций товаров на сайт интернет магазина, чтобы повысить конверсию и средний чек заказа</td>\n",
       "      <td>7.00</td>\n",
       "    </tr>\n",
       "    <tr>\n",
       "      <th>1</th>\n",
       "      <td>Запустить собственную службу доставки, что сократит срок доставки заказов</td>\n",
       "      <td>2.00</td>\n",
       "    </tr>\n",
       "    <tr>\n",
       "      <th>5</th>\n",
       "      <td>Добавить страницу отзывов клиентов о магазине, что позволит увеличить количество заказов</td>\n",
       "      <td>1.33</td>\n",
       "    </tr>\n",
       "    <tr>\n",
       "      <th>3</th>\n",
       "      <td>Изменить структура категорий, что увеличит конверсию, т.к. пользователи быстрее найдут нужный товар</td>\n",
       "      <td>1.12</td>\n",
       "    </tr>\n",
       "    <tr>\n",
       "      <th>4</th>\n",
       "      <td>Изменить цвет фона главной страницы, чтобы увеличить вовлеченность пользователей</td>\n",
       "      <td>1.00</td>\n",
       "    </tr>\n",
       "  </tbody>\n",
       "</table>\n",
       "</div>"
      ],
      "text/plain": [
       "                                                                                                     hypothesis  \\\n",
       "8                                                       Запустить акцию, дающую скидку на товар в день рождения   \n",
       "0            Добавить два новых канала привлечения трафика, что позволит привлекать на 30% больше пользователей   \n",
       "7              Добавить форму подписки на все основные страницы, чтобы собрать базу клиентов для email-рассылок   \n",
       "6          Показать на главной странице баннеры с актуальными акциями и распродажами, чтобы увеличить конверсию   \n",
       "2  Добавить блоки рекомендаций товаров на сайт интернет магазина, чтобы повысить конверсию и средний чек заказа   \n",
       "1                                     Запустить собственную службу доставки, что сократит срок доставки заказов   \n",
       "5                      Добавить страницу отзывов клиентов о магазине, что позволит увеличить количество заказов   \n",
       "3           Изменить структура категорий, что увеличит конверсию, т.к. пользователи быстрее найдут нужный товар   \n",
       "4                              Изменить цвет фона главной страницы, чтобы увеличить вовлеченность пользователей   \n",
       "\n",
       "     ICE  \n",
       "8  16.20  \n",
       "0  13.33  \n",
       "7  11.20  \n",
       "6   8.00  \n",
       "2   7.00  \n",
       "1   2.00  \n",
       "5   1.33  \n",
       "3   1.12  \n",
       "4   1.00  "
      ]
     },
     "execution_count": 27,
     "metadata": {},
     "output_type": "execute_result"
    }
   ],
   "source": [
    "# создадим датасет с наименованиями и ICE\n",
    "hyp2 = hyp[['hypothesis', 'ICE']] \n",
    "hyp2.round(2).sort_values(by = 'ICE', ascending=False)"
   ]
  },
  {
   "cell_type": "markdown",
   "id": "0c0aa7cc",
   "metadata": {},
   "source": [
    "<div class=\"alert alert-warning\">\n",
    "<h2> Комментарий ревьюера 🤓<a class=\"tocSkip\"> </h2>\n",
    "        \n",
    "Будет лучше округлить значения до 2 знаков после запятой. </div>   "
   ]
  },
  {
   "cell_type": "markdown",
   "id": "5a1883fa",
   "metadata": {},
   "source": [
    "<div class=\"alert alert-info\"> <b>Комментарий студента:</b> <br>\n",
    "Сделано! </div>"
   ]
  },
  {
   "cell_type": "markdown",
   "id": "02e1369e",
   "metadata": {},
   "source": [
    "<div class=\"alert alert-success\">\n",
    "<h2> Комментарий ревьюера 😊 v_2 <a class=\"tocSkip\"> </h2>\n",
    "\n",
    "Так намного лучше)"
   ]
  },
  {
   "cell_type": "markdown",
   "id": "1a302527",
   "metadata": {},
   "source": [
    "#### 1.3 Укажите, как изменилась приоритизация гипотез при применении RICE вместо ICE. Объясните, почему так произошло."
   ]
  },
  {
   "cell_type": "markdown",
   "id": "06990bc5",
   "metadata": {},
   "source": [
    "По фреймворку ICE наибольшую оценку имели гпиотезы 8,0 и 7. После применения фреймворка RICE приоритеты изменились на гпиотезы 7,2 и 0. Это объясняется тем, что в случае фреймворка ICE в отличие от RICE мы не учитывали охват изменений, тогда как это важная составляющая оценки гипотез. \n",
    "\n",
    "В нашем случае наиболее приоритетными гипотезами будут 7, 2, 0."
   ]
  },
  {
   "cell_type": "markdown",
   "id": "6288c76e",
   "metadata": {},
   "source": [
    "<div class=\"alert alert-block alert-danger\">\n",
    "<h2> Комментарий ревьюера 🤔<a class=\"tocSkip\"></h2>\n",
    "<s>\n",
    "Обрати внимание, что, на самом деле - мы выводим не номер, а индекс гипотезы в конкретном файле. Если такой вывод передать коллегам, то у них под этими номерами могут быть иные гипотезы. Поэтому следует указать полное название гипотез.  "
   ]
  },
  {
   "cell_type": "markdown",
   "id": "f34bb4e1",
   "metadata": {},
   "source": [
    "Вывод (версия 2.0):<br>\n",
    "По фреймворку ICE наибольшую оценку имели гпиотезы:<br>\n",
    "Запустить акцию, дающую скидку на товар в день рождения<br>\n",
    "Добавить два новых канала привлечения трафика, что позволит привлекать на 30% больше пользователей<br>\n",
    "Добавить форму подписки на все основные страницы, чтобы собрать базу клиентов для email-рассылок<br><br>\n",
    "\n",
    "По фреймворку RICE наибольшую оценку имели гпиотезы:<br>\n",
    "Добавить форму подписки на все основные страницы, чтобы собрать базу клиентов для email-рассылок<br>\n",
    "Добавить блоки рекомендаций товаров на сайт интернет магазина, чтобы повысить конверсию и средний чек заказа<br>\n",
    "Добавить два новых канала привлечения трафика, что позволит привлекать на 30% больше пользователей<br><br>\n",
    "\n",
    "\n",
    "В нашем случае наиболее приоритетными гипотезами будут RICE"
   ]
  },
  {
   "cell_type": "markdown",
   "id": "2d36fe18",
   "metadata": {},
   "source": [
    "<div class=\"alert alert-success\">\n",
    "<h2> Комментарий ревьюера 😊 v_2 <a class=\"tocSkip\"> </h2>\n",
    "\n",
    "👍"
   ]
  },
  {
   "cell_type": "markdown",
   "id": "8c071170",
   "metadata": {},
   "source": [
    "# Часть 2. Анализ A/B-теста"
   ]
  },
  {
   "cell_type": "markdown",
   "id": "77d02c39",
   "metadata": {},
   "source": [
    "Вы провели A/B-тест и получили результаты, которые описаны в файлах /datasets/orders.csv и /datasets/visitors.csv."
   ]
  },
  {
   "cell_type": "markdown",
   "id": "20dc0368",
   "metadata": {},
   "source": [
    "#### Задача\n",
    "\n",
    "#### Проанализируйте A/B-тест:\n",
    "\n",
    "#### Постройте график кумулятивной выручки по группам. Сделайте выводы и предположения.\n",
    "\n",
    "#### Постройте график кумулятивного среднего чека по группам. Сделайте выводы и предположения.\n",
    "\n",
    "#### Постройте график относительного изменения кумулятивного среднего чека группы B к группе A. Сделайте выводы и предположения.\n",
    "\n",
    "#### Постройте график кумулятивного среднего количества заказов на посетителя по группам. Сделайте выводы и предположения.\n",
    "\n",
    "#### Постройте график относительного изменения кумулятивного среднего количества заказов на посетителя группы B к группе A. Сделайте выводы и предположения.\n",
    "\n",
    "#### Постройте точечный график количества заказов по пользователям. Сделайте выводы и предположения.\n",
    "\n",
    "#### Посчитайте 95-й и 99-й перцентили количества заказов на пользователя. Выберите границу для определения аномальных пользователей.\n",
    "\n",
    "#### Постройте точечный график стоимостей заказов. Сделайте выводы и предположения.\n",
    "\n",
    "#### Посчитайте 95-й и 99-й перцентили стоимости заказов. Выберите границу для определения аномальных заказов.\n",
    "\n",
    "#### Посчитайте статистическую значимость различий в среднем количестве заказов на посетителя между группами по «сырым» данным. \n",
    "\n",
    "#### Сделайте выводы и предположения.\n",
    "\n",
    "#### Посчитайте статистическую значимость различий в среднем чеке заказа между группами по «сырым» данным. Сделайте выводы и предположения.\n",
    "\n",
    "#### Посчитайте статистическую значимость различий в среднем количестве заказов на посетителя между группами по «очищенным» данным. Сделайте выводы и предположения.\n",
    "\n",
    "#### Посчитайте статистическую значимость различий в среднем чеке заказа между группами по «очищенным» данным. Сделайте выводы и предположения.\n",
    "\n",
    "#### Примите решение по результатам теста и объясните его. Варианты решений:\n",
    "\n",
    "1. Остановить тест, зафиксировать победу одной из групп.\n",
    "\n",
    "2. Остановить тест, зафиксировать отсутствие различий между группами.\n",
    "\n",
    "3. Продолжить тест."
   ]
  },
  {
   "cell_type": "code",
   "execution_count": 28,
   "id": "e8e7b1c9",
   "metadata": {},
   "outputs": [
    {
     "data": {
      "text/html": [
       "<div>\n",
       "<style scoped>\n",
       "    .dataframe tbody tr th:only-of-type {\n",
       "        vertical-align: middle;\n",
       "    }\n",
       "\n",
       "    .dataframe tbody tr th {\n",
       "        vertical-align: top;\n",
       "    }\n",
       "\n",
       "    .dataframe thead th {\n",
       "        text-align: right;\n",
       "    }\n",
       "</style>\n",
       "<table border=\"1\" class=\"dataframe\">\n",
       "  <thead>\n",
       "    <tr style=\"text-align: right;\">\n",
       "      <th></th>\n",
       "      <th>transactionId</th>\n",
       "      <th>visitorId</th>\n",
       "      <th>date</th>\n",
       "      <th>revenue</th>\n",
       "      <th>group</th>\n",
       "    </tr>\n",
       "  </thead>\n",
       "  <tbody>\n",
       "    <tr>\n",
       "      <th>0</th>\n",
       "      <td>3667963787</td>\n",
       "      <td>3312258926</td>\n",
       "      <td>2019-08-15</td>\n",
       "      <td>1650</td>\n",
       "      <td>B</td>\n",
       "    </tr>\n",
       "    <tr>\n",
       "      <th>1</th>\n",
       "      <td>2804400009</td>\n",
       "      <td>3642806036</td>\n",
       "      <td>2019-08-15</td>\n",
       "      <td>730</td>\n",
       "      <td>B</td>\n",
       "    </tr>\n",
       "    <tr>\n",
       "      <th>2</th>\n",
       "      <td>2961555356</td>\n",
       "      <td>4069496402</td>\n",
       "      <td>2019-08-15</td>\n",
       "      <td>400</td>\n",
       "      <td>A</td>\n",
       "    </tr>\n",
       "    <tr>\n",
       "      <th>3</th>\n",
       "      <td>3797467345</td>\n",
       "      <td>1196621759</td>\n",
       "      <td>2019-08-15</td>\n",
       "      <td>9759</td>\n",
       "      <td>B</td>\n",
       "    </tr>\n",
       "    <tr>\n",
       "      <th>4</th>\n",
       "      <td>2282983706</td>\n",
       "      <td>2322279887</td>\n",
       "      <td>2019-08-15</td>\n",
       "      <td>2308</td>\n",
       "      <td>B</td>\n",
       "    </tr>\n",
       "  </tbody>\n",
       "</table>\n",
       "</div>"
      ],
      "text/plain": [
       "   transactionId   visitorId       date  revenue group\n",
       "0     3667963787  3312258926 2019-08-15     1650     B\n",
       "1     2804400009  3642806036 2019-08-15      730     B\n",
       "2     2961555356  4069496402 2019-08-15      400     A\n",
       "3     3797467345  1196621759 2019-08-15     9759     B\n",
       "4     2282983706  2322279887 2019-08-15     2308     B"
      ]
     },
     "execution_count": 28,
     "metadata": {},
     "output_type": "execute_result"
    }
   ],
   "source": [
    "# посмотрим датасет снова перед работой\n",
    "ord.head() "
   ]
  },
  {
   "cell_type": "code",
   "execution_count": 29,
   "id": "ad774fc1",
   "metadata": {},
   "outputs": [
    {
     "data": {
      "text/html": [
       "<div>\n",
       "<style scoped>\n",
       "    .dataframe tbody tr th:only-of-type {\n",
       "        vertical-align: middle;\n",
       "    }\n",
       "\n",
       "    .dataframe tbody tr th {\n",
       "        vertical-align: top;\n",
       "    }\n",
       "\n",
       "    .dataframe thead th {\n",
       "        text-align: right;\n",
       "    }\n",
       "</style>\n",
       "<table border=\"1\" class=\"dataframe\">\n",
       "  <thead>\n",
       "    <tr style=\"text-align: right;\">\n",
       "      <th></th>\n",
       "      <th>date</th>\n",
       "      <th>group</th>\n",
       "      <th>visitors</th>\n",
       "    </tr>\n",
       "  </thead>\n",
       "  <tbody>\n",
       "    <tr>\n",
       "      <th>0</th>\n",
       "      <td>2019-08-01</td>\n",
       "      <td>A</td>\n",
       "      <td>719</td>\n",
       "    </tr>\n",
       "    <tr>\n",
       "      <th>1</th>\n",
       "      <td>2019-08-02</td>\n",
       "      <td>A</td>\n",
       "      <td>619</td>\n",
       "    </tr>\n",
       "    <tr>\n",
       "      <th>2</th>\n",
       "      <td>2019-08-03</td>\n",
       "      <td>A</td>\n",
       "      <td>507</td>\n",
       "    </tr>\n",
       "    <tr>\n",
       "      <th>3</th>\n",
       "      <td>2019-08-04</td>\n",
       "      <td>A</td>\n",
       "      <td>717</td>\n",
       "    </tr>\n",
       "    <tr>\n",
       "      <th>4</th>\n",
       "      <td>2019-08-05</td>\n",
       "      <td>A</td>\n",
       "      <td>756</td>\n",
       "    </tr>\n",
       "  </tbody>\n",
       "</table>\n",
       "</div>"
      ],
      "text/plain": [
       "        date group  visitors\n",
       "0 2019-08-01     A       719\n",
       "1 2019-08-02     A       619\n",
       "2 2019-08-03     A       507\n",
       "3 2019-08-04     A       717\n",
       "4 2019-08-05     A       756"
      ]
     },
     "execution_count": 29,
     "metadata": {},
     "output_type": "execute_result"
    }
   ],
   "source": [
    "# посмотрим датасет снова перед работой\n",
    "vis.head()"
   ]
  },
  {
   "cell_type": "markdown",
   "id": "855519ac",
   "metadata": {},
   "source": [
    "#### 2.1 Постройте график кумулятивной выручки по группам. Сделайте выводы и предположения."
   ]
  },
  {
   "cell_type": "code",
   "execution_count": 30,
   "id": "e450bd3c",
   "metadata": {},
   "outputs": [],
   "source": [
    "# создаем массив уникальных пар значений дат и групп теста\n",
    "datesGroups = ord[['date','group']].drop_duplicates()"
   ]
  },
  {
   "cell_type": "code",
   "execution_count": 31,
   "id": "052cb69a",
   "metadata": {},
   "outputs": [
    {
     "data": {
      "text/html": [
       "<div>\n",
       "<style scoped>\n",
       "    .dataframe tbody tr th:only-of-type {\n",
       "        vertical-align: middle;\n",
       "    }\n",
       "\n",
       "    .dataframe tbody tr th {\n",
       "        vertical-align: top;\n",
       "    }\n",
       "\n",
       "    .dataframe thead th {\n",
       "        text-align: right;\n",
       "    }\n",
       "</style>\n",
       "<table border=\"1\" class=\"dataframe\">\n",
       "  <thead>\n",
       "    <tr style=\"text-align: right;\">\n",
       "      <th></th>\n",
       "      <th>date</th>\n",
       "      <th>group</th>\n",
       "    </tr>\n",
       "  </thead>\n",
       "  <tbody>\n",
       "    <tr>\n",
       "      <th>0</th>\n",
       "      <td>2019-08-15</td>\n",
       "      <td>B</td>\n",
       "    </tr>\n",
       "    <tr>\n",
       "      <th>2</th>\n",
       "      <td>2019-08-15</td>\n",
       "      <td>A</td>\n",
       "    </tr>\n",
       "    <tr>\n",
       "      <th>45</th>\n",
       "      <td>2019-08-16</td>\n",
       "      <td>A</td>\n",
       "    </tr>\n",
       "    <tr>\n",
       "      <th>47</th>\n",
       "      <td>2019-08-16</td>\n",
       "      <td>B</td>\n",
       "    </tr>\n",
       "    <tr>\n",
       "      <th>55</th>\n",
       "      <td>2019-08-01</td>\n",
       "      <td>A</td>\n",
       "    </tr>\n",
       "  </tbody>\n",
       "</table>\n",
       "</div>"
      ],
      "text/plain": [
       "         date group\n",
       "0  2019-08-15     B\n",
       "2  2019-08-15     A\n",
       "45 2019-08-16     A\n",
       "47 2019-08-16     B\n",
       "55 2019-08-01     A"
      ]
     },
     "execution_count": 31,
     "metadata": {},
     "output_type": "execute_result"
    }
   ],
   "source": [
    "# посмотрим что получилось\n",
    "datesGroups.head()"
   ]
  },
  {
   "cell_type": "code",
   "execution_count": 32,
   "id": "6dc2d828",
   "metadata": {},
   "outputs": [
    {
     "data": {
      "text/html": [
       "<div>\n",
       "<style scoped>\n",
       "    .dataframe tbody tr th:only-of-type {\n",
       "        vertical-align: middle;\n",
       "    }\n",
       "\n",
       "    .dataframe tbody tr th {\n",
       "        vertical-align: top;\n",
       "    }\n",
       "\n",
       "    .dataframe thead th {\n",
       "        text-align: right;\n",
       "    }\n",
       "</style>\n",
       "<table border=\"1\" class=\"dataframe\">\n",
       "  <thead>\n",
       "    <tr style=\"text-align: right;\">\n",
       "      <th></th>\n",
       "      <th>date</th>\n",
       "      <th>group</th>\n",
       "      <th>transactionId</th>\n",
       "      <th>visitorId</th>\n",
       "      <th>revenue</th>\n",
       "    </tr>\n",
       "  </thead>\n",
       "  <tbody>\n",
       "    <tr>\n",
       "      <th>55</th>\n",
       "      <td>2019-08-01</td>\n",
       "      <td>A</td>\n",
       "      <td>24</td>\n",
       "      <td>20</td>\n",
       "      <td>148579</td>\n",
       "    </tr>\n",
       "    <tr>\n",
       "      <th>66</th>\n",
       "      <td>2019-08-01</td>\n",
       "      <td>B</td>\n",
       "      <td>21</td>\n",
       "      <td>20</td>\n",
       "      <td>101217</td>\n",
       "    </tr>\n",
       "    <tr>\n",
       "      <th>175</th>\n",
       "      <td>2019-08-02</td>\n",
       "      <td>A</td>\n",
       "      <td>44</td>\n",
       "      <td>38</td>\n",
       "      <td>242401</td>\n",
       "    </tr>\n",
       "    <tr>\n",
       "      <th>173</th>\n",
       "      <td>2019-08-02</td>\n",
       "      <td>B</td>\n",
       "      <td>45</td>\n",
       "      <td>43</td>\n",
       "      <td>266748</td>\n",
       "    </tr>\n",
       "    <tr>\n",
       "      <th>291</th>\n",
       "      <td>2019-08-03</td>\n",
       "      <td>A</td>\n",
       "      <td>68</td>\n",
       "      <td>62</td>\n",
       "      <td>354874</td>\n",
       "    </tr>\n",
       "  </tbody>\n",
       "</table>\n",
       "</div>"
      ],
      "text/plain": [
       "          date group  transactionId  visitorId  revenue\n",
       "55  2019-08-01     A             24         20   148579\n",
       "66  2019-08-01     B             21         20   101217\n",
       "175 2019-08-02     A             44         38   242401\n",
       "173 2019-08-02     B             45         43   266748\n",
       "291 2019-08-03     A             68         62   354874"
      ]
     },
     "execution_count": 32,
     "metadata": {},
     "output_type": "execute_result"
    }
   ],
   "source": [
    "# получаем агрегированные кумулятивные по дням данные о заказах \n",
    "ordersAggregated = datesGroups.apply(lambda x: ord[np.logical_and(ord['date'] <= x['date'], ord['group'] == x['group'])].agg({'date' : 'max', 'group' : 'max', 'transactionId' : 'nunique', 'visitorId' : 'nunique', 'revenue' : 'sum'}), axis=1).sort_values(by=['date','group'])\n",
    "ordersAggregated.head()"
   ]
  },
  {
   "cell_type": "code",
   "execution_count": 33,
   "id": "3049fc3a",
   "metadata": {},
   "outputs": [
    {
     "data": {
      "text/html": [
       "<div>\n",
       "<style scoped>\n",
       "    .dataframe tbody tr th:only-of-type {\n",
       "        vertical-align: middle;\n",
       "    }\n",
       "\n",
       "    .dataframe tbody tr th {\n",
       "        vertical-align: top;\n",
       "    }\n",
       "\n",
       "    .dataframe thead th {\n",
       "        text-align: right;\n",
       "    }\n",
       "</style>\n",
       "<table border=\"1\" class=\"dataframe\">\n",
       "  <thead>\n",
       "    <tr style=\"text-align: right;\">\n",
       "      <th></th>\n",
       "      <th>date</th>\n",
       "      <th>group</th>\n",
       "      <th>visitors</th>\n",
       "    </tr>\n",
       "  </thead>\n",
       "  <tbody>\n",
       "    <tr>\n",
       "      <th>55</th>\n",
       "      <td>2019-08-01</td>\n",
       "      <td>A</td>\n",
       "      <td>719</td>\n",
       "    </tr>\n",
       "    <tr>\n",
       "      <th>66</th>\n",
       "      <td>2019-08-01</td>\n",
       "      <td>B</td>\n",
       "      <td>713</td>\n",
       "    </tr>\n",
       "    <tr>\n",
       "      <th>175</th>\n",
       "      <td>2019-08-02</td>\n",
       "      <td>A</td>\n",
       "      <td>1338</td>\n",
       "    </tr>\n",
       "    <tr>\n",
       "      <th>173</th>\n",
       "      <td>2019-08-02</td>\n",
       "      <td>B</td>\n",
       "      <td>1294</td>\n",
       "    </tr>\n",
       "    <tr>\n",
       "      <th>291</th>\n",
       "      <td>2019-08-03</td>\n",
       "      <td>A</td>\n",
       "      <td>1845</td>\n",
       "    </tr>\n",
       "  </tbody>\n",
       "</table>\n",
       "</div>"
      ],
      "text/plain": [
       "          date group  visitors\n",
       "55  2019-08-01     A       719\n",
       "66  2019-08-01     B       713\n",
       "175 2019-08-02     A      1338\n",
       "173 2019-08-02     B      1294\n",
       "291 2019-08-03     A      1845"
      ]
     },
     "execution_count": 33,
     "metadata": {},
     "output_type": "execute_result"
    }
   ],
   "source": [
    "# получаем агрегированные кумулятивные по дням данные о посетителях интернет-магазина \n",
    "visitorsAggregated = datesGroups.apply(lambda x: vis[np.logical_and(vis['date'] <= x['date'], vis['group'] == x['group'])].agg({'date' : 'max', 'group' : 'max', 'visitors' : 'sum'}), axis=1).sort_values(by=['date','group'])\n",
    "visitorsAggregated.head()"
   ]
  },
  {
   "cell_type": "code",
   "execution_count": 34,
   "id": "d956d9e5",
   "metadata": {},
   "outputs": [
    {
     "data": {
      "text/html": [
       "<div>\n",
       "<style scoped>\n",
       "    .dataframe tbody tr th:only-of-type {\n",
       "        vertical-align: middle;\n",
       "    }\n",
       "\n",
       "    .dataframe tbody tr th {\n",
       "        vertical-align: top;\n",
       "    }\n",
       "\n",
       "    .dataframe thead th {\n",
       "        text-align: right;\n",
       "    }\n",
       "</style>\n",
       "<table border=\"1\" class=\"dataframe\">\n",
       "  <thead>\n",
       "    <tr style=\"text-align: right;\">\n",
       "      <th></th>\n",
       "      <th>date</th>\n",
       "      <th>group</th>\n",
       "      <th>orders</th>\n",
       "      <th>buyers</th>\n",
       "      <th>revenue</th>\n",
       "      <th>visitors</th>\n",
       "    </tr>\n",
       "  </thead>\n",
       "  <tbody>\n",
       "    <tr>\n",
       "      <th>0</th>\n",
       "      <td>2019-08-01</td>\n",
       "      <td>A</td>\n",
       "      <td>24</td>\n",
       "      <td>20</td>\n",
       "      <td>148579</td>\n",
       "      <td>719</td>\n",
       "    </tr>\n",
       "    <tr>\n",
       "      <th>1</th>\n",
       "      <td>2019-08-01</td>\n",
       "      <td>B</td>\n",
       "      <td>21</td>\n",
       "      <td>20</td>\n",
       "      <td>101217</td>\n",
       "      <td>713</td>\n",
       "    </tr>\n",
       "    <tr>\n",
       "      <th>2</th>\n",
       "      <td>2019-08-02</td>\n",
       "      <td>A</td>\n",
       "      <td>44</td>\n",
       "      <td>38</td>\n",
       "      <td>242401</td>\n",
       "      <td>1338</td>\n",
       "    </tr>\n",
       "    <tr>\n",
       "      <th>3</th>\n",
       "      <td>2019-08-02</td>\n",
       "      <td>B</td>\n",
       "      <td>45</td>\n",
       "      <td>43</td>\n",
       "      <td>266748</td>\n",
       "      <td>1294</td>\n",
       "    </tr>\n",
       "    <tr>\n",
       "      <th>4</th>\n",
       "      <td>2019-08-03</td>\n",
       "      <td>A</td>\n",
       "      <td>68</td>\n",
       "      <td>62</td>\n",
       "      <td>354874</td>\n",
       "      <td>1845</td>\n",
       "    </tr>\n",
       "  </tbody>\n",
       "</table>\n",
       "</div>"
      ],
      "text/plain": [
       "        date group  orders  buyers  revenue  visitors\n",
       "0 2019-08-01     A      24      20   148579       719\n",
       "1 2019-08-01     B      21      20   101217       713\n",
       "2 2019-08-02     A      44      38   242401      1338\n",
       "3 2019-08-02     B      45      43   266748      1294\n",
       "4 2019-08-03     A      68      62   354874      1845"
      ]
     },
     "execution_count": 34,
     "metadata": {},
     "output_type": "execute_result"
    }
   ],
   "source": [
    "cumulativeData = ordersAggregated.merge(visitorsAggregated, left_on=['date', 'group'], right_on=['date', 'group'])\n",
    "cumulativeData.columns = ['date', 'group', 'orders', 'buyers', 'revenue', 'visitors']\n",
    "cumulativeData.head()"
   ]
  },
  {
   "cell_type": "markdown",
   "id": "bda31799",
   "metadata": {},
   "source": [
    "<div class=\"alert alert-warning\">\n",
    "<h2> Комментарий ревьюера 🤓<a class=\"tocSkip\"> </h2>\n",
    "        \n",
    "Можно проверить, корректно ли был содан датафрейм cummulativeData. Например, совпадают ли минимальная и максимальная даты в этом датафрейме с минимальной и максимальной датой в исходных данных. </div>   "
   ]
  },
  {
   "cell_type": "code",
   "execution_count": 35,
   "id": "141aef14",
   "metadata": {},
   "outputs": [
    {
     "name": "stdout",
     "output_type": "stream",
     "text": [
      "2019-08-01 00:00:00\n",
      "2019-08-31 00:00:00\n",
      "\n",
      "2019-08-01 00:00:00\n",
      "2019-08-31 00:00:00\n"
     ]
    }
   ],
   "source": [
    "print (cumulativeData['date'].min()) # минимальная дата DataFrame cumulativeData\n",
    "print (cumulativeData['date'].max()) # максимальная дата DataFrame cumulativeData\n",
    "print()\n",
    "print (ord['date'].min()) # минимальная дата DataFrame ord\n",
    "print (ord['date'].max()) # максимальная дата DataFrame ord\n",
    "\n",
    "\n",
    "# комментарий для себя после проверки - разобраться почему в print() подпись не работает, чтобы \n",
    "#\"минимальная дата DataFrame ord\" и прочее выводилось. "
   ]
  },
  {
   "cell_type": "markdown",
   "id": "fc3dd2fd",
   "metadata": {},
   "source": [
    "<div class=\"alert alert-info\"> <b>Комментарий студента:</b> <br>\n",
    "Минимальные и максимальные даты в DataFrame - ord и cummulativeData совпадают. <br>\n",
    "\n",
    "Я верно тебя понял?))) верно проверил?)    \n",
    "</div>"
   ]
  },
  {
   "cell_type": "markdown",
   "id": "a8722ce5",
   "metadata": {},
   "source": [
    "<div class=\"alert alert-success\">\n",
    "<h2> Комментарий ревьюера 😊 v_2 <a class=\"tocSkip\"> </h2>\n",
    "\n",
    "Да, все отлично)"
   ]
  },
  {
   "cell_type": "code",
   "execution_count": 36,
   "id": "2c1430d0",
   "metadata": {},
   "outputs": [
    {
     "data": {
      "image/png": "[encoded data removed]",
      "text/plain": [
       "<Figure size 1200x400 with 1 Axes>"
      ]
     },
     "metadata": {},
     "output_type": "display_data"
    }
   ],
   "source": [
    "cumulativeRevenueA = cumulativeData[cumulativeData['group']=='A'][['date','revenue', 'orders']]\n",
    "\n",
    "cumulativeRevenueB = cumulativeData[cumulativeData['group']=='B'][['date','revenue', 'orders']]\n",
    "\n",
    "plt.figure(figsize=(12,4))\n",
    "# Строим график выручки группы А\n",
    "plt.plot(cumulativeRevenueA['date'], cumulativeRevenueA['revenue'], label='A')\n",
    "\n",
    "# Строим график выручки группы B\n",
    "plt.plot(cumulativeRevenueB['date'], cumulativeRevenueB['revenue'], label='B')\n",
    "plt.title('График кумулятивной выручки по дням и группам A/B-тестирования') # подпись графика (сверху)\n",
    "plt.xlabel('Даты совершения заказа') # подписываем ось Х\n",
    "plt.ylabel('Выручка(доход)') # подписываем ось Y\n",
    "plt.legend(); \n",
    "\n",
    "# Напоминание для себя. Может поможет выучить наконец это)\n",
    "# Кумулятивный график - это график накапливаемых данных за период (у нас с 01.08.2019 по 31.08.2019)."
   ]
  },
  {
   "cell_type": "markdown",
   "id": "6af8badc",
   "metadata": {},
   "source": [
    "<div class=\"alert alert-block alert-danger\">\n",
    "<h2> Комментарий ревьюера 🤔<a class=\"tocSkip\"></h2>\n",
    "    <s>\n",
    "Поскольку это проект второго модуля, давай оформим все графики проекта, добавив подписи ко всем графикам и названия. Можешь использовать `plt.xlabel()` и `plt.ylabel()`, `plt.title()`.  Для того что убрать технические подписи (<matplotlib.legend>), ты можешь использовать `plt.show()` или `;`. \n",
    "</div>"
   ]
  },
  {
   "cell_type": "markdown",
   "id": "ce8c99a2",
   "metadata": {},
   "source": [
    "<div class=\"alert alert-info\"> <b>Комментарий студента:</b> <br>\n",
    "Сделано! \n",
    "</div>"
   ]
  },
  {
   "cell_type": "markdown",
   "id": "d4e6fe7c",
   "metadata": {},
   "source": [
    "<div class=\"alert alert-success\">\n",
    "<h2> Комментарий ревьюера 😊 v_2 <a class=\"tocSkip\"> </h2>\n",
    "\n",
    "Теперь красиво)"
   ]
  },
  {
   "cell_type": "markdown",
   "id": "43991227",
   "metadata": {},
   "source": [
    "Выводы:\n",
    "Группа B показывает большую выручку чем группа A."
   ]
  },
  {
   "cell_type": "markdown",
   "id": "b140a62a",
   "metadata": {},
   "source": [
    "<div class=\"alert alert-block alert-danger\">\n",
    "<h2> Комментарий ревьюера 🤔<a class=\"tocSkip\"></h2>\n",
    "   <s>\n",
    "Разве выручка равномерно увеличивается на графике? Следует ометить резкий скачок и  дать полное описание возможных причин такого поведения графика."
   ]
  },
  {
   "cell_type": "markdown",
   "id": "b6dcf431",
   "metadata": {},
   "source": [
    "Вывод (исправленный):<br>\n",
    "График А: выручка увеличивается последовательно с наростанием от меньшего к большему.<br><br>\n",
    "График B: выручка увеличивается последовательно до 18.08.2019г. Потом резкий рост общей выручки 19.08.2019г. После 19.08.2019г. последовательный и плавный рост выручки продолжился.\n",
    "\n",
    "Между 18.08.2019г и 19.08.2019г произошла аномалия. Резкий рост дохода по группе B."
   ]
  },
  {
   "cell_type": "markdown",
   "id": "af091d0f",
   "metadata": {},
   "source": [
    "<div class=\"alert alert-info\"> <b>Комментарий студента:</b> <br>\n",
    "Вывод исправлен и расширен =) <br>\n",
    "    \n",
    "* промежуточное спасибо =) ваши комментарии выводят из депрессионного непонимания и направляют в нужное русло =)    \n",
    "</div>"
   ]
  },
  {
   "cell_type": "markdown",
   "id": "d7c954be",
   "metadata": {},
   "source": [
    "<div class=\"alert alert-warning\">\n",
    "<h2> Комментарий ревьюера 🤓 v_2 <a class=\"tocSkip\"> </h2>\n",
    "\n",
    "Сейчас при анализе графика мы не учитываем, что на графике виден рост выручки. Если упростить, то выручка = конверсия * средний чек. Если выручка выросла, то мог увеличится средний чек, а могло увеличится количество заказов (т.е. конверсия).\n"
   ]
  },
  {
   "cell_type": "markdown",
   "id": "a2747632",
   "metadata": {},
   "source": [
    "#### 2.2 Постройте график кумулятивного среднего чека по группам. Сделайте выводы и предположения."
   ]
  },
  {
   "cell_type": "code",
   "execution_count": 37,
   "id": "6cb7c123",
   "metadata": {},
   "outputs": [
    {
     "data": {
      "image/png": "[encoded data removed]",
      "text/plain": [
       "<Figure size 1200x400 with 1 Axes>"
      ]
     },
     "metadata": {},
     "output_type": "display_data"
    }
   ],
   "source": [
    "plt.figure(figsize=(12,4))\n",
    "plt.plot(cumulativeRevenueA['date'], cumulativeRevenueA['revenue']/cumulativeRevenueA['orders'], label='A')\n",
    "plt.plot(cumulativeRevenueB['date'], cumulativeRevenueB['revenue']/cumulativeRevenueB['orders'], label='B')\n",
    "plt.title('График кумулятивной среднего чека по дням и группам A/B-тестирования') # подпись графика (сверху)\n",
    "plt.xlabel('Даты совершения заказа') # подписываем ось Х\n",
    "plt.ylabel('Средний чек') # подписываем ось Y\n",
    "plt.legend(); "
   ]
  },
  {
   "cell_type": "markdown",
   "id": "f2eefcc7",
   "metadata": {},
   "source": [
    "Вывод: Присутствует резкое полебание во второй половине графика В. Возможно аномалия."
   ]
  },
  {
   "cell_type": "markdown",
   "id": "78bea152",
   "metadata": {},
   "source": [
    "<div class=\"alert alert-info\"> <b>Комментарий студента:</b> <br>\n",
    "Обновил вывод. Версия 2.0 =))  <br>\n",
    "Так же сделал подписи на графике    \n",
    "</div>"
   ]
  },
  {
   "cell_type": "markdown",
   "id": "31acf877",
   "metadata": {},
   "source": [
    "Вывод (обновлённая версия №2 после переосмысления):<br>\n",
    "График А: Средний чек до 06.08.2019г. падает, потом с этой даты до 13.08.2019г. поступательный рост. Далее небольшое падение среднего дохода и относительная стабилизация. <br><br>\n",
    "График B: с 01.08.2019г. по 18.08.2019г. происходит волнообразный рост среднего чека. 19.08.2019г. происходит резкий рост суммы среднего чека, что видно на графике. Далее плавное поступательное снижение среднего чека плоть до 01.09.2019г. \n",
    "\n",
    "Между 18.08.2019г и 19.08.2019г произошла аномалия. Резкий рост среднего чека по группе B. Возможно в этот период была крупная покупка."
   ]
  },
  {
   "cell_type": "markdown",
   "id": "799536bf",
   "metadata": {},
   "source": [
    "<div class=\"alert alert-success\">\n",
    "<h2> Комментарий ревьюера 😊 v_2 <a class=\"tocSkip\"> </h2>\n",
    "\n",
    "Хорошо)"
   ]
  },
  {
   "cell_type": "markdown",
   "id": "1765cbdf",
   "metadata": {},
   "source": [
    "#### 2.3 Постройте график относительного изменения кумулятивного среднего чека группы B к группе A. Сделайте выводы и предположения."
   ]
  },
  {
   "cell_type": "code",
   "execution_count": 38,
   "id": "e6e11a75",
   "metadata": {},
   "outputs": [],
   "source": [
    "cumulativeRevenueA = cumulativeData[cumulativeData['group'] == 'A'][\n",
    "    ['date', 'revenue', 'orders']\n",
    "]\n",
    "cumulativeRevenueB = cumulativeData[cumulativeData['group'] == 'B'][\n",
    "    ['date', 'revenue', 'orders']\n",
    "]\n",
    "\n",
    "# собираем данные в одном датафрейме\n",
    "mergedCumulativeRevenue = cumulativeRevenueA.merge(cumulativeRevenueB, left_on='date', right_on='date', how='left', suffixes=['A', 'B'])\n"
   ]
  },
  {
   "cell_type": "code",
   "execution_count": 39,
   "id": "aa1dd0ca",
   "metadata": {},
   "outputs": [
    {
     "data": {
      "image/png": "[encoded data removed]",
      "text/plain": [
       "<Figure size 1200x400 with 1 Axes>"
      ]
     },
     "metadata": {},
     "output_type": "display_data"
    }
   ],
   "source": [
    "plt.figure(figsize=(12,4))\n",
    "# cтроим отношение средних чеков\n",
    "plt.plot(mergedCumulativeRevenue['date'], (mergedCumulativeRevenue['revenueB']/mergedCumulativeRevenue['ordersB'])/(mergedCumulativeRevenue['revenueA']/mergedCumulativeRevenue['ordersA'])-1)\n",
    "\n",
    "# добавляем ось X\n",
    "plt.axhline(y=0, color='black', linestyle='--') \n",
    "\n",
    "plt.title('График относительного изменения кумулятивного среднего чека группы B к группе A') # подпись графика (сверху)\n",
    "plt.xlabel('Даты совершения заказа') # подписываем ось Х\n",
    "plt.ylabel('Средний чек'); # подписываем ось Y"
   ]
  },
  {
   "cell_type": "markdown",
   "id": "833d383e",
   "metadata": {},
   "source": [
    "Вывод: На графике присутствуют колебания. Возможна аномалия. "
   ]
  },
  {
   "cell_type": "markdown",
   "id": "dde62142",
   "metadata": {},
   "source": [
    "<div class=\"alert alert-info\"> <b>Комментарий студента:</b> <br>\n",
    "Обновил вывод. Версия 2.0 =))  <br>\n",
    "Так можно описать, как я сделал в обновлённом выводе?  \n",
    "    \n",
    "* так же подписал график, как и выше    \n",
    "</div>"
   ]
  },
  {
   "cell_type": "markdown",
   "id": "e9db16d2",
   "metadata": {},
   "source": [
    "Вывод (обновлённая версия №2 после переосмысления):<br>\n",
    "Сравнение двух групп - А и B.<br>\n",
    "Между 18.08.2019г и 19.08.2019г произошла аномалия. Резкое колебание в районе данных дат.\n"
   ]
  },
  {
   "cell_type": "markdown",
   "id": "b9d282e9",
   "metadata": {},
   "source": [
    "<div class=\"alert alert-warning\">\n",
    "<h2> Комментарий ревьюера 🤓 v_2 <a class=\"tocSkip\"> </h2>\n",
    "\n",
    "В целом булет хорошо отметить значительный спад после 05-08 , минимум 13-08 и уже после подъем значений)"
   ]
  },
  {
   "cell_type": "markdown",
   "id": "0b2434c9",
   "metadata": {},
   "source": [
    "#### 2.4 Постройте график кумулятивного среднего количества заказов на посетителя по группам. Сделайте выводы и предположения."
   ]
  },
  {
   "cell_type": "code",
   "execution_count": 40,
   "id": "e66a8cce",
   "metadata": {},
   "outputs": [
    {
     "data": {
      "image/png": "[encoded data removed]",
      "text/plain": [
       "<Figure size 1200x400 with 1 Axes>"
      ]
     },
     "metadata": {},
     "output_type": "display_data"
    }
   ],
   "source": [
    "cumulativeRevenueA1 = cumulativeData[cumulativeData['group']=='A'][['date','visitors', 'orders']]\n",
    "\n",
    "cumulativeRevenueB1 = cumulativeData[cumulativeData['group']=='B'][['date','visitors', 'orders']]\n",
    "plt.figure(figsize=(12,4))\n",
    "plt.plot(cumulativeRevenueA1['date'], cumulativeRevenueA1['orders']/cumulativeRevenueA1['visitors'], label='A')\n",
    "plt.plot(cumulativeRevenueB1['date'], cumulativeRevenueB1['orders']/cumulativeRevenueB1['visitors'], label='B')\n",
    "plt.title('График кумулятивного среднего количества заказов на посетителя по группам А и B') # подпись графика (сверху)\n",
    "plt.xlabel('Даты совершения заказа') # подписываем ось Х\n",
    "plt.ylabel('Среднее количество заказов'); # подписываем ось Y\n",
    "plt.legend();\n",
    "\n",
    "# Напоминание для себя. Может поможет выучить наконец это)\n",
    "# Кумулятивный график - это график накапливаемых данных за период (у нас с 01.08.2019 по 31.08.2019)."
   ]
  },
  {
   "cell_type": "raw",
   "id": "54f33737",
   "metadata": {},
   "source": [
    "Вывод: Группа В показывает резкий рост и остаётся на стабильном уровке. Группа А отображает резкий рост в начале месяца, стабильное падение и стабилизация на низком уровне. Группа А нас радует =)"
   ]
  },
  {
   "cell_type": "markdown",
   "id": "8a2fd6a4",
   "metadata": {},
   "source": [
    "<div class=\"alert alert-block alert-danger\">\n",
    "<h2> Комментарий ревьюера 🤔<a class=\"tocSkip\"></h2><s>\n",
    "Группа А радует? Также следует отметить смену значений в начале графика)"
   ]
  },
  {
   "cell_type": "markdown",
   "id": "c98fcbfa",
   "metadata": {},
   "source": [
    "<div class=\"alert alert-info\"> <b>Комментарий студента:</b> <br>\n",
    "Обновил вывод. Версия 2.0 =))  <br>\n",
    "    \n",
    "* так же подписал график, как и выше  \n",
    "** прошу оценить вывод. \n",
    "</div>"
   ]
  },
  {
   "cell_type": "markdown",
   "id": "1ec25e8c",
   "metadata": {},
   "source": [
    "Вывод (обновлённая версия №2 после переосмысления):<br>\n",
    "\n",
    "График А: В начале рассматриваемого периода виден резкий рост среднего количества заказов, далее идёт резкое падение до 09.08.2019г. ПОтом видна относительная стабилизация среднего количества заказов до конца месяца.  <br><br>\n",
    "График B: в начале периода виден резкий рост и резкое падение среднего количества заказов. С 04.08.2016г. Видем резкий рост до 10.08.2019г. Далее постепенное волнообразное снижение среднего количества заказов до конца месяца со всплеском с падением в период с 14.08.2019г. по 18.08.2019г. <br>\n",
    "\n",
    "Видимо аномалия среднего чека группы B со среднем количеством заказов не связана.<br>\n",
    "Верно?))"
   ]
  },
  {
   "cell_type": "markdown",
   "id": "c7f176a6",
   "metadata": {},
   "source": [
    "<div class=\"alert alert-success\">\n",
    "<h2> Комментарий ревьюера 😊 v_2 <a class=\"tocSkip\"> </h2>\n",
    "\n",
    "Верно, хорошо)"
   ]
  },
  {
   "cell_type": "markdown",
   "id": "d0c9ab7a",
   "metadata": {},
   "source": [
    "#### 2.5 Постройте график относительного изменения кумулятивного среднего количества заказов на посетителя группы B к группе A. Сделайте выводы и предположения."
   ]
  },
  {
   "cell_type": "code",
   "execution_count": 41,
   "id": "93b0bc20",
   "metadata": {},
   "outputs": [
    {
     "data": {
      "text/html": [
       "<div>\n",
       "<style scoped>\n",
       "    .dataframe tbody tr th:only-of-type {\n",
       "        vertical-align: middle;\n",
       "    }\n",
       "\n",
       "    .dataframe tbody tr th {\n",
       "        vertical-align: top;\n",
       "    }\n",
       "\n",
       "    .dataframe thead th {\n",
       "        text-align: right;\n",
       "    }\n",
       "</style>\n",
       "<table border=\"1\" class=\"dataframe\">\n",
       "  <thead>\n",
       "    <tr style=\"text-align: right;\">\n",
       "      <th></th>\n",
       "      <th>date</th>\n",
       "      <th>conversion1A</th>\n",
       "      <th>conversion1B</th>\n",
       "    </tr>\n",
       "  </thead>\n",
       "  <tbody>\n",
       "    <tr>\n",
       "      <th>0</th>\n",
       "      <td>2019-08-01</td>\n",
       "      <td>0.033380</td>\n",
       "      <td>0.029453</td>\n",
       "    </tr>\n",
       "    <tr>\n",
       "      <th>1</th>\n",
       "      <td>2019-08-02</td>\n",
       "      <td>0.032885</td>\n",
       "      <td>0.034776</td>\n",
       "    </tr>\n",
       "    <tr>\n",
       "      <th>2</th>\n",
       "      <td>2019-08-03</td>\n",
       "      <td>0.036856</td>\n",
       "      <td>0.033833</td>\n",
       "    </tr>\n",
       "    <tr>\n",
       "      <th>3</th>\n",
       "      <td>2019-08-04</td>\n",
       "      <td>0.032787</td>\n",
       "      <td>0.030315</td>\n",
       "    </tr>\n",
       "    <tr>\n",
       "      <th>4</th>\n",
       "      <td>2019-08-05</td>\n",
       "      <td>0.032851</td>\n",
       "      <td>0.030793</td>\n",
       "    </tr>\n",
       "    <tr>\n",
       "      <th>5</th>\n",
       "      <td>2019-08-06</td>\n",
       "      <td>0.031870</td>\n",
       "      <td>0.032783</td>\n",
       "    </tr>\n",
       "    <tr>\n",
       "      <th>6</th>\n",
       "      <td>2019-08-07</td>\n",
       "      <td>0.031324</td>\n",
       "      <td>0.032946</td>\n",
       "    </tr>\n",
       "    <tr>\n",
       "      <th>7</th>\n",
       "      <td>2019-08-08</td>\n",
       "      <td>0.030731</td>\n",
       "      <td>0.033975</td>\n",
       "    </tr>\n",
       "    <tr>\n",
       "      <th>8</th>\n",
       "      <td>2019-08-09</td>\n",
       "      <td>0.030225</td>\n",
       "      <td>0.034699</td>\n",
       "    </tr>\n",
       "    <tr>\n",
       "      <th>9</th>\n",
       "      <td>2019-08-10</td>\n",
       "      <td>0.030821</td>\n",
       "      <td>0.036323</td>\n",
       "    </tr>\n",
       "    <tr>\n",
       "      <th>10</th>\n",
       "      <td>2019-08-11</td>\n",
       "      <td>0.029513</td>\n",
       "      <td>0.034438</td>\n",
       "    </tr>\n",
       "    <tr>\n",
       "      <th>11</th>\n",
       "      <td>2019-08-12</td>\n",
       "      <td>0.030363</td>\n",
       "      <td>0.035009</td>\n",
       "    </tr>\n",
       "    <tr>\n",
       "      <th>12</th>\n",
       "      <td>2019-08-13</td>\n",
       "      <td>0.029316</td>\n",
       "      <td>0.034296</td>\n",
       "    </tr>\n",
       "    <tr>\n",
       "      <th>13</th>\n",
       "      <td>2019-08-14</td>\n",
       "      <td>0.029587</td>\n",
       "      <td>0.034011</td>\n",
       "    </tr>\n",
       "    <tr>\n",
       "      <th>14</th>\n",
       "      <td>2019-08-15</td>\n",
       "      <td>0.029217</td>\n",
       "      <td>0.035312</td>\n",
       "    </tr>\n",
       "    <tr>\n",
       "      <th>15</th>\n",
       "      <td>2019-08-16</td>\n",
       "      <td>0.029959</td>\n",
       "      <td>0.035853</td>\n",
       "    </tr>\n",
       "    <tr>\n",
       "      <th>16</th>\n",
       "      <td>2019-08-17</td>\n",
       "      <td>0.029735</td>\n",
       "      <td>0.035749</td>\n",
       "    </tr>\n",
       "    <tr>\n",
       "      <th>17</th>\n",
       "      <td>2019-08-18</td>\n",
       "      <td>0.029478</td>\n",
       "      <td>0.034196</td>\n",
       "    </tr>\n",
       "    <tr>\n",
       "      <th>18</th>\n",
       "      <td>2019-08-19</td>\n",
       "      <td>0.030097</td>\n",
       "      <td>0.034569</td>\n",
       "    </tr>\n",
       "    <tr>\n",
       "      <th>19</th>\n",
       "      <td>2019-08-20</td>\n",
       "      <td>0.029662</td>\n",
       "      <td>0.034621</td>\n",
       "    </tr>\n",
       "    <tr>\n",
       "      <th>20</th>\n",
       "      <td>2019-08-21</td>\n",
       "      <td>0.029961</td>\n",
       "      <td>0.033944</td>\n",
       "    </tr>\n",
       "    <tr>\n",
       "      <th>21</th>\n",
       "      <td>2019-08-22</td>\n",
       "      <td>0.029794</td>\n",
       "      <td>0.034161</td>\n",
       "    </tr>\n",
       "    <tr>\n",
       "      <th>22</th>\n",
       "      <td>2019-08-23</td>\n",
       "      <td>0.030588</td>\n",
       "      <td>0.033902</td>\n",
       "    </tr>\n",
       "    <tr>\n",
       "      <th>23</th>\n",
       "      <td>2019-08-24</td>\n",
       "      <td>0.030792</td>\n",
       "      <td>0.034122</td>\n",
       "    </tr>\n",
       "    <tr>\n",
       "      <th>24</th>\n",
       "      <td>2019-08-25</td>\n",
       "      <td>0.030181</td>\n",
       "      <td>0.033516</td>\n",
       "    </tr>\n",
       "    <tr>\n",
       "      <th>25</th>\n",
       "      <td>2019-08-26</td>\n",
       "      <td>0.029812</td>\n",
       "      <td>0.033664</td>\n",
       "    </tr>\n",
       "    <tr>\n",
       "      <th>26</th>\n",
       "      <td>2019-08-27</td>\n",
       "      <td>0.030227</td>\n",
       "      <td>0.033166</td>\n",
       "    </tr>\n",
       "    <tr>\n",
       "      <th>27</th>\n",
       "      <td>2019-08-28</td>\n",
       "      <td>0.030171</td>\n",
       "      <td>0.033533</td>\n",
       "    </tr>\n",
       "    <tr>\n",
       "      <th>28</th>\n",
       "      <td>2019-08-29</td>\n",
       "      <td>0.030433</td>\n",
       "      <td>0.033657</td>\n",
       "    </tr>\n",
       "    <tr>\n",
       "      <th>29</th>\n",
       "      <td>2019-08-30</td>\n",
       "      <td>0.030216</td>\n",
       "      <td>0.034070</td>\n",
       "    </tr>\n",
       "    <tr>\n",
       "      <th>30</th>\n",
       "      <td>2019-08-31</td>\n",
       "      <td>0.029729</td>\n",
       "      <td>0.033834</td>\n",
       "    </tr>\n",
       "  </tbody>\n",
       "</table>\n",
       "</div>"
      ],
      "text/plain": [
       "         date  conversion1A  conversion1B\n",
       "0  2019-08-01      0.033380      0.029453\n",
       "1  2019-08-02      0.032885      0.034776\n",
       "2  2019-08-03      0.036856      0.033833\n",
       "3  2019-08-04      0.032787      0.030315\n",
       "4  2019-08-05      0.032851      0.030793\n",
       "5  2019-08-06      0.031870      0.032783\n",
       "6  2019-08-07      0.031324      0.032946\n",
       "7  2019-08-08      0.030731      0.033975\n",
       "8  2019-08-09      0.030225      0.034699\n",
       "9  2019-08-10      0.030821      0.036323\n",
       "10 2019-08-11      0.029513      0.034438\n",
       "11 2019-08-12      0.030363      0.035009\n",
       "12 2019-08-13      0.029316      0.034296\n",
       "13 2019-08-14      0.029587      0.034011\n",
       "14 2019-08-15      0.029217      0.035312\n",
       "15 2019-08-16      0.029959      0.035853\n",
       "16 2019-08-17      0.029735      0.035749\n",
       "17 2019-08-18      0.029478      0.034196\n",
       "18 2019-08-19      0.030097      0.034569\n",
       "19 2019-08-20      0.029662      0.034621\n",
       "20 2019-08-21      0.029961      0.033944\n",
       "21 2019-08-22      0.029794      0.034161\n",
       "22 2019-08-23      0.030588      0.033902\n",
       "23 2019-08-24      0.030792      0.034122\n",
       "24 2019-08-25      0.030181      0.033516\n",
       "25 2019-08-26      0.029812      0.033664\n",
       "26 2019-08-27      0.030227      0.033166\n",
       "27 2019-08-28      0.030171      0.033533\n",
       "28 2019-08-29      0.030433      0.033657\n",
       "29 2019-08-30      0.030216      0.034070\n",
       "30 2019-08-31      0.029729      0.033834"
      ]
     },
     "execution_count": 41,
     "metadata": {},
     "output_type": "execute_result"
    }
   ],
   "source": [
    "cumulativeData['conversion1'] = (\n",
    "    cumulativeData['orders'] / cumulativeData['visitors']\n",
    ")\n",
    "\n",
    "cumulativeDataA1 = cumulativeData[cumulativeData['group'] == 'A']\n",
    "cumulativeDataB1 = cumulativeData[cumulativeData['group'] == 'B']\n",
    "\n",
    "mergedCumulativeConversions1 = cumulativeDataA1[['date','conversion1']].merge(cumulativeDataB1[['date','conversion1']], left_on='date', right_on='date', how='left', suffixes=['A', 'B'])\n",
    "mergedCumulativeConversions1"
   ]
  },
  {
   "cell_type": "code",
   "execution_count": 42,
   "id": "51f4d415",
   "metadata": {},
   "outputs": [
    {
     "data": {
      "image/png": "[encoded data removed]",
      "text/plain": [
       "<Figure size 1200x400 with 1 Axes>"
      ]
     },
     "metadata": {},
     "output_type": "display_data"
    }
   ],
   "source": [
    "plt.figure(figsize=(12,4))\n",
    "plt.plot(mergedCumulativeConversions1['date'], ((mergedCumulativeConversions1['conversion1B']/mergedCumulativeConversions1['conversion1A'])-1))\n",
    "plt.title('График относительного изменения кумулятивной конверсии группы B к группе A')\n",
    "plt.axhline(y=0, color='black', linestyle='--')\n",
    "plt.axhline(y=0.1, color='grey', linestyle='--')\n",
    "plt.xlabel('Дата')\n",
    "plt.show()\n",
    "\n",
    "# Напоминание для себя. Может поможет выучить наконец это)\n",
    "\n",
    "# Кумулятивный график - это график накапливаемых данных за период (у нас с 01.08.2019 по 31.08.2019).\n",
    "\n",
    "# Конверсия - это отношение числа посетителей сайта, выполнивших на нём какие-либо целевые действия\n",
    "# к общему числу посетителей сайта"
   ]
  },
  {
   "cell_type": "markdown",
   "id": "bf38a4c4",
   "metadata": {},
   "source": [
    "Вывод: Конверсия в группе B стабильно лучше конверсии в группе A на 10% по просшествии 1 недели после начала"
   ]
  },
  {
   "cell_type": "markdown",
   "id": "65fef9cc",
   "metadata": {},
   "source": [
    "<div class=\"alert alert-success\">\n",
    "<h2> Комментарий ревьюера 😊<a class=\"tocSkip\"> </h2>\n",
    "\n",
    "Графики построены верно, но выводы следует дополнить)"
   ]
  },
  {
   "cell_type": "markdown",
   "id": "a9a8b548",
   "metadata": {},
   "source": [
    "<div class=\"alert alert-info\"> <b>Комментарий студента:</b> <br>\n",
    "Обновил вывод. Версия 2.0 =))  <br>\n",
    "    \n",
    "* так же подписал график, как и выше  \n",
    "** прошу оценить вывод. \n",
    "</div>"
   ]
  },
  {
   "cell_type": "markdown",
   "id": "9d5f8b11",
   "metadata": {},
   "source": [
    "Вывод (обновлённая версия №2 после переосмысления):<br>\n",
    "\n",
    "В начале месяца было видно, что в целом группа А была лучше группы B. Количество посетителей интернет-магазина до 06.08.2019г. Но после этой даты по группе B видим конферсию намного более лучшею, чем по группе А.<br>\n",
    "\n",
    "В группе B посетители превращаются в покупателей намного активнее несмотря на проблемное начало месяца."
   ]
  },
  {
   "cell_type": "markdown",
   "id": "c977abac",
   "metadata": {},
   "source": [
    "<div class=\"alert alert-success\">\n",
    "<h2> Комментарий ревьюера 😊 v_2 <a class=\"tocSkip\"> </h2>\n",
    "\n",
    "Отлично)"
   ]
  },
  {
   "cell_type": "markdown",
   "id": "78eaa3b2",
   "metadata": {},
   "source": [
    "#### 2.6 Постройте точечный график количества заказов по пользователям. Сделайте выводы и предположения."
   ]
  },
  {
   "cell_type": "code",
   "execution_count": 43,
   "id": "1426856b",
   "metadata": {},
   "outputs": [
    {
     "name": "stdout",
     "output_type": "stream",
     "text": [
      "       visitorId  orders\n",
      "1023  4256040402      11\n",
      "591   2458001652      11\n",
      "569   2378935119       9\n",
      "487   2038680547       8\n",
      "44     199603092       5\n",
      "744   3062433592       5\n",
      "55     237748145       5\n",
      "917   3803269165       5\n",
      "299   1230306981       5\n",
      "897   3717692402       5\n"
     ]
    }
   ],
   "source": [
    "ordersByUsers = (\n",
    "    ord.groupby('visitorId', as_index=False)\n",
    "    .agg({'transactionId':'nunique'})\n",
    ")\n",
    "\n",
    "ordersByUsers.columns = ['visitorId', 'orders']\n",
    "\n",
    "print(ordersByUsers.sort_values(by='orders', ascending=False).head(10)) \n"
   ]
  },
  {
   "cell_type": "code",
   "execution_count": 44,
   "id": "bb1354f9",
   "metadata": {},
   "outputs": [
    {
     "data": {
      "image/png": "[encoded data removed]",
      "text/plain": [
       "<Figure size 1200x400 with 1 Axes>"
      ]
     },
     "metadata": {},
     "output_type": "display_data"
    }
   ],
   "source": [
    "plt.figure(figsize=(12,4))\n",
    "plt.hist(ordersByUsers['orders']) \n",
    "plt.xlabel(\"Заказы\") # подпись оси Х\n",
    "plt.ylabel(\"Идентификатор пользователя, совершившего заказ\"); # подпись оси Y\n"
   ]
  },
  {
   "cell_type": "code",
   "execution_count": 45,
   "id": "3e14eaf9",
   "metadata": {},
   "outputs": [
    {
     "data": {
      "text/plain": [
       "<Figure size 1200x400 with 0 Axes>"
      ]
     },
     "metadata": {},
     "output_type": "display_data"
    },
    {
     "data": {
      "image/png": "[encoded data removed]",
      "text/plain": [
       "<Figure size 1000x400 with 1 Axes>"
      ]
     },
     "metadata": {},
     "output_type": "display_data"
    }
   ],
   "source": [
    "x_values = pd.Series(range(0, len(ordersByUsers)))\n",
    "plt.figure(figsize=(12,4))\n",
    "plt.figure(figsize=(10,4))\n",
    "plt.scatter(x_values, ordersByUsers['orders'])\n",
    "plt.xlabel(\"Идентификатор пользователя, совершившего заказ\") # подпись оси Х\n",
    "plt.ylabel(\"Заказы\"); # подпись оси Y\n"
   ]
  },
  {
   "cell_type": "markdown",
   "id": "c5b7a06f",
   "metadata": {},
   "source": [
    "Вывод: Больше всего пользователей делают 1-2 заказа. Более двух заказов делаю гараздо меньше покупателей. "
   ]
  },
  {
   "cell_type": "markdown",
   "id": "08058bed",
   "metadata": {},
   "source": [
    "<div class=\"alert alert-info\"> <b>Комментарий студента:</b> <br>\n",
    "А почему информация над графиком не убралась? Я поставил знак ;. Или по другому как-то надо?"
   ]
  },
  {
   "cell_type": "markdown",
   "id": "1e8a6ebe",
   "metadata": {},
   "source": [
    "<div class=\"alert alert-success\">\n",
    "<h2> Комментарий ревьюера 😊 v_2 <a class=\"tocSkip\"> </h2>\n",
    "\n",
    "Потому что у нас дважды дублируется строка с размером графика)"
   ]
  },
  {
   "cell_type": "markdown",
   "id": "b31441b6",
   "metadata": {},
   "source": [
    "#### 2.7 Посчитайте 95-й и 99-й перцентили количества заказов на пользователя. Выберите границу для определения аномальных пользователей."
   ]
  },
  {
   "cell_type": "code",
   "execution_count": 46,
   "id": "41658412",
   "metadata": {},
   "outputs": [
    {
     "name": "stdout",
     "output_type": "stream",
     "text": [
      "Перцентили:\n",
      "95: 2.0\n",
      "99: 4.0\n"
     ]
    }
   ],
   "source": [
    "percentiles = np.percentile(ordersByUsers['orders'], [95, 99])\n",
    "print('Перцентили:\\n95: {}\\n99: {}'.format(percentiles[0],percentiles[1]))\n"
   ]
  },
  {
   "cell_type": "markdown",
   "id": "8c0e11fd",
   "metadata": {},
   "source": [
    "Выводы: Как мы и предполагали, больше 2 заказов совершают только 5% пользователей. 1% покупатеоей совершают более 4 заказов. "
   ]
  },
  {
   "cell_type": "markdown",
   "id": "ab82453f",
   "metadata": {},
   "source": [
    "#### 2.8 Постройте точечный график стоимостей заказов. Сделайте выводы и предположения."
   ]
  },
  {
   "cell_type": "code",
   "execution_count": 61,
   "id": "efa43f13",
   "metadata": {},
   "outputs": [
    {
     "data": {
      "image/png": "[encoded data removed]",
      "text/plain": [
       "<Figure size 1200x400 with 1 Axes>"
      ]
     },
     "metadata": {},
     "output_type": "display_data"
    }
   ],
   "source": [
    "plt.figure(figsize=(12,4))\n",
    "plt.hist(ord['revenue'], range=(0,100000), bins = 100);"
   ]
  },
  {
   "cell_type": "code",
   "execution_count": 48,
   "id": "ccdf190b",
   "metadata": {},
   "outputs": [
    {
     "data": {
      "image/png": "[encoded data removed]",
      "text/plain": [
       "<Figure size 1200x400 with 1 Axes>"
      ]
     },
     "metadata": {},
     "output_type": "display_data"
    }
   ],
   "source": [
    "x_values = pd.Series(range(0,len(ord['revenue'])))\n",
    "\n",
    "plt.figure(figsize=(12,4))\n",
    "plt.axis([0, 1250, 0, 100000])\n",
    "plt.scatter(x_values, ord['revenue']) \n",
    "plt.xlabel(\"Идентификатор пользователя, совершившего заказ\") # подпись оси Х\n",
    "plt.ylabel(\"Сумма заказа\");\n"
   ]
  },
  {
   "cell_type": "markdown",
   "id": "ed0a6b54",
   "metadata": {},
   "source": [
    "Вывод: Основное количесто заказов не привышает 30000рублей. Так же видны аномалии."
   ]
  },
  {
   "cell_type": "markdown",
   "id": "156bbeff",
   "metadata": {},
   "source": [
    "#### 2.9 Посчитайте 95-й и 99-й перцентили стоимости заказов. Выберите границу для определения аномальных заказов."
   ]
  },
  {
   "cell_type": "code",
   "execution_count": 49,
   "id": "354ad4ff",
   "metadata": {},
   "outputs": [
    {
     "name": "stdout",
     "output_type": "stream",
     "text": [
      "Перцентили:\n",
      "95: 28000.000000000004\n",
      "99: 58233.19999999999\n"
     ]
    }
   ],
   "source": [
    "percentiles = np.percentile(ord['revenue'], [95, 99])\n",
    "print('Перцентили:\\n95: {}\\n99: {}'.format(percentiles[0],percentiles[1]))\n"
   ]
  },
  {
   "cell_type": "markdown",
   "id": "83018e82",
   "metadata": {},
   "source": [
    "Вывод: 5% покупателей - общий счёт около 28000р, у 1% пользователей - 58233р."
   ]
  },
  {
   "cell_type": "markdown",
   "id": "c90a8c8f",
   "metadata": {},
   "source": [
    "<div class=\"alert alert-warning\">\n",
    "<h2> Комментарий ревьюера 🤓<a class=\"tocSkip\"> </h2>\n",
    "Расчеты верные, а вот по выводам так и не ясно, что же мы будем принимать за аномалии. Можешь детализировать этот момент и указать принятые границы аномалий.\n",
    "</div>"
   ]
  },
  {
   "cell_type": "markdown",
   "id": "83fb0bdb",
   "metadata": {},
   "source": [
    "<div class=\"alert alert-info\"> <b>Комментарий студента:</b> <br>\n",
    "Обновил вывод. Версия 2.0 =))  <br> \n",
    "</div>"
   ]
  },
  {
   "cell_type": "markdown",
   "id": "b2cec9d5",
   "metadata": {},
   "source": [
    "Вывод (обновлённая версия №2 после переосмысления):<br>\n",
    "\n",
    "5% покупателей - общий счёт около 28000р, у 1% пользователей - 58233р.<br>\n",
    "Граница для определения аномальных заказов - это заказы более 28000р."
   ]
  },
  {
   "cell_type": "markdown",
   "id": "94f003cf",
   "metadata": {},
   "source": [
    "\n",
    "<div class=\"alert alert-warning\">\n",
    "<h2> Комментарий ревьюера 🤓 v_2<a class=\"tocSkip\"> </h2>\n",
    "\n",
    "Использовать 95% перцентиль для отсечения выбросов - возможный вариант. Но в данном случае лучше использовать 99% перцентиль. Мы фильтруем по двум параметрам. А значит при последовательном отсечении 5%, мы отбросим больше 5%, а это не очень хорошо."
   ]
  },
  {
   "cell_type": "markdown",
   "id": "b906c323",
   "metadata": {},
   "source": [
    "#### 2.10 Посчитайте статистическую значимость различий в среднем количестве заказов на посетителя между группами по «сырым» данным."
   ]
  },
  {
   "cell_type": "markdown",
   "id": "1610f86d",
   "metadata": {},
   "source": [
    "#### 2.10.1 Подготовка данных"
   ]
  },
  {
   "cell_type": "code",
   "execution_count": 50,
   "id": "6bc9f595",
   "metadata": {},
   "outputs": [
    {
     "name": "stdout",
     "output_type": "stream",
     "text": [
      "        date  ordersPerDateA  revenuePerDateA  ordersPerDateB  \\\n",
      "0 2019-08-01              24           148579              21   \n",
      "1 2019-08-02              20            93822              24   \n",
      "2 2019-08-03              24           112473              16   \n",
      "3 2019-08-04              16            70825              17   \n",
      "4 2019-08-05              25           124218              23   \n",
      "\n",
      "   revenuePerDateB  ordersCummulativeA  revenueCummulativeA  \\\n",
      "0           101217                  24               148579   \n",
      "1           165531                  44               242401   \n",
      "2           114248                  68               354874   \n",
      "3           108571                  84               425699   \n",
      "4            92428                 109               549917   \n",
      "\n",
      "   ordersCummulativeB  revenueCummulativeB  visitorsPerDateA  \\\n",
      "0                  21               101217               719   \n",
      "1                  45               266748               619   \n",
      "2                  61               380996               507   \n",
      "3                  78               489567               717   \n",
      "4                 101               581995               756   \n",
      "\n",
      "   visitorsPerDateB  visitorsCummulativeA  visitorsCummulativeB  \n",
      "0               713                   719                   713  \n",
      "1               581                  1338                  1294  \n",
      "2               509                  1845                  1803  \n",
      "3               770                  2562                  2573  \n",
      "4               707                  3318                  3280  \n"
     ]
    }
   ],
   "source": [
    "visitorsADaily = vis[vis['group'] == 'A'][['date', 'visitors']]\n",
    "visitorsADaily.columns = ['date', 'visitorsPerDateA']\n",
    "\n",
    "visitorsACummulative = visitorsADaily.apply(\n",
    "    lambda x: visitorsADaily[visitorsADaily['date'] <= x['date']].agg(\n",
    "        {'date': 'max', 'visitorsPerDateA': 'sum'}\n",
    "    ),\n",
    "    axis=1,\n",
    ")\n",
    "visitorsACummulative.columns = ['date', 'visitorsCummulativeA']\n",
    "\n",
    "visitorsBDaily = vis[vis['group'] == 'B'][['date', 'visitors']]\n",
    "visitorsBDaily.columns = ['date', 'visitorsPerDateB']\n",
    "\n",
    "visitorsBCummulative = visitorsBDaily.apply(\n",
    "    lambda x: visitorsBDaily[visitorsBDaily['date'] <= x['date']].agg(\n",
    "        {'date': 'max', 'visitorsPerDateB': 'sum'}\n",
    "    ),\n",
    "    axis=1,\n",
    ")\n",
    "visitorsBCummulative.columns = ['date', 'visitorsCummulativeB']\n",
    "\n",
    "ordersADaily = (\n",
    "    ord[ord['group'] == 'A'][['date', 'transactionId', 'visitorId', 'revenue']]\n",
    "    .groupby('date', as_index=False)\n",
    "    .agg({'transactionId': pd.Series.nunique, 'revenue': 'sum'})\n",
    ")\n",
    "ordersADaily.columns = ['date', 'ordersPerDateA', 'revenuePerDateA']\n",
    "\n",
    "ordersACummulative = ordersADaily.apply(\n",
    "    lambda x: ordersADaily[ordersADaily['date'] <= x['date']].agg(\n",
    "        {'date': 'max', 'ordersPerDateA': 'sum', 'revenuePerDateA': 'sum'}\n",
    "    ),\n",
    "    axis=1,\n",
    ").sort_values(by=['date'])\n",
    "ordersACummulative.columns = [\n",
    "    'date',\n",
    "    'ordersCummulativeA',\n",
    "    'revenueCummulativeA',\n",
    "]\n",
    "\n",
    "ordersBDaily = (\n",
    "    ord[ord['group'] == 'B'][['date', 'transactionId', 'visitorId', 'revenue']]\n",
    "    .groupby('date', as_index=False)\n",
    "    .agg({'transactionId': pd.Series.nunique, 'revenue': 'sum'})\n",
    ")\n",
    "ordersBDaily.columns = ['date', 'ordersPerDateB', 'revenuePerDateB']\n",
    "\n",
    "ordersBCummulative = ordersBDaily.apply(\n",
    "    lambda x: ordersBDaily[ordersBDaily['date'] <= x['date']].agg(\n",
    "        {'date': 'max', 'ordersPerDateB': 'sum', 'revenuePerDateB': 'sum'}\n",
    "    ),\n",
    "    axis=1,\n",
    ").sort_values(by=['date'])\n",
    "ordersBCummulative.columns = [\n",
    "    'date',\n",
    "    'ordersCummulativeB',\n",
    "    'revenueCummulativeB',\n",
    "]\n",
    "\n",
    "data2 = (\n",
    "    ordersADaily.merge(\n",
    "        ordersBDaily, left_on='date', right_on='date', how='left'\n",
    "    )\n",
    "    .merge(ordersACummulative, left_on='date', right_on='date', how='left')\n",
    "    .merge(ordersBCummulative, left_on='date', right_on='date', how='left')\n",
    "    .merge(visitorsADaily, left_on='date', right_on='date', how='left')\n",
    "    .merge(visitorsBDaily, left_on='date', right_on='date', how='left')\n",
    "    .merge(visitorsACummulative, left_on='date', right_on='date', how='left')\n",
    "    .merge(visitorsBCummulative, left_on='date', right_on='date', how='left')\n",
    ")\n",
    "\n",
    "print(data2.head(5)) \n",
    "\n"
   ]
  },
  {
   "cell_type": "markdown",
   "id": "3b7f80ec",
   "metadata": {},
   "source": [
    "•\tdate — дата;<br>\n",
    "•\tordersPerDateA — количество заказов в выбранную дату в группе A;<br>\n",
    "•\trevenuePerDateA — суммарная выручка в выбранную дату в группе A;<br>\n",
    "•\tordersPerDateB — количество заказов в выбранную дату в группе B;<br>\n",
    "•\trevenuePerDateB — суммарная выручка в выбранную дату в группе B;<br>\n",
    "•\tordersCummulativeA — суммарное число заказов до выбранной даты включительно в группе A;<br>\n",
    "•\trevenueCummulativeA — суммарная выручка до выбранной даты включительно в группе A;<br>\n",
    "•\tordersCummulativeB — суммарное количество заказов до выбранной даты включительно в группе B;<br>\n",
    "•\trevenueCummulativeB — суммарная выручка до выбранной даты включительно в группе B;<br>\n",
    "•\tvisitorsPerDateA — количество пользователей в выбранную дату в группе A;<br>\n",
    "•\tvisitorsPerDateB — количество пользователей в выбранную дату в группе B;<br>\n",
    "•\tvisitorsCummulativeA — количество пользователей до выбранной даты включительно в группе A;<br>\n",
    "•\tvisitorsCummulativeB — количество пользователей до выбранной даты включительно в группе B.\n"
   ]
  },
  {
   "cell_type": "markdown",
   "id": "1aba7267",
   "metadata": {},
   "source": [
    "Проверка гепотиз равных долей"
   ]
  },
  {
   "cell_type": "markdown",
   "id": "9b48a820",
   "metadata": {},
   "source": [
    "#### 2.10.2 Посчитайте статистическую значимость различий в среднем количестве заказов на посетителя между группами"
   ]
  },
  {
   "cell_type": "markdown",
   "id": "de335c30",
   "metadata": {},
   "source": [
    "Сформулируем гипотезу. Нулевая: различий в среднем количестве заказов между группами нет. Альтернативная: различия в среднем между группами есть."
   ]
  },
  {
   "cell_type": "code",
   "execution_count": 51,
   "id": "548c7839",
   "metadata": {},
   "outputs": [
    {
     "name": "stdout",
     "output_type": "stream",
     "text": [
      "0.017\n",
      "0.138\n"
     ]
    }
   ],
   "source": [
    "ordersByUsersA = (\n",
    "    ord[ord['group'] == 'A']\n",
    "    .groupby('visitorId', as_index=False)\n",
    "    .agg({'transactionId': pd.Series.nunique})\n",
    ")\n",
    "ordersByUsersA.columns = ['visitorId', 'orders']\n",
    "\n",
    "ordersByUsersB = (\n",
    "    ord[ord['group'] == 'B']\n",
    "    .groupby('visitorId', as_index=False)\n",
    "    .agg({'transactionId': pd.Series.nunique})\n",
    ")\n",
    "ordersByUsersB.columns = ['visitorId', 'orders']\n",
    "\n",
    "sampleA = pd.concat(\n",
    "    [\n",
    "        ordersByUsersA['orders'],\n",
    "        pd.Series(\n",
    "            0,\n",
    "            index=np.arange(\n",
    "                data2['visitorsPerDateA'].sum() - len(ordersByUsersA['orders'])\n",
    "            ),\n",
    "            name='orders',\n",
    "        ),\n",
    "    ],\n",
    "    axis=0,\n",
    ")\n",
    "\n",
    "sampleB = pd.concat(\n",
    "    [\n",
    "        ordersByUsersB['orders'],\n",
    "        pd.Series(\n",
    "            0,\n",
    "            index=np.arange(\n",
    "                data2['visitorsPerDateB'].sum() - len(ordersByUsersB['orders'])\n",
    "            ),\n",
    "            name='orders',\n",
    "        ),\n",
    "    ],\n",
    "    axis=0,\n",
    ")\n",
    "\n",
    "print(\"{0:.3f}\".format(st.mannwhitneyu(sampleA, sampleB)[1]))\n",
    "\n",
    "print(\"{0:.3f}\".format(sampleB.mean() / sampleA.mean() - 1))  \n"
   ]
  },
  {
   "cell_type": "code",
   "execution_count": 52,
   "id": "788fa628",
   "metadata": {},
   "outputs": [
    {
     "name": "stdout",
     "output_type": "stream",
     "text": [
      "p-значение:  0.016792355056752608\n",
      "Отвергаем нулевую гипотезу: разница статистически значима\n"
     ]
    }
   ],
   "source": [
    "alpha = 0.05  # критический уровень статистической значимости\n",
    "\n",
    "results = st.mannwhitneyu(sampleA, sampleB)\n",
    "\n",
    "print('p-значение: ', results.pvalue)\n",
    "\n",
    "if results.pvalue < alpha:\n",
    "    print('Отвергаем нулевую гипотезу: разница статистически значима')\n",
    "else:\n",
    "    print(\n",
    "        'Не получилось отвергнуть нулевую гипотезу, вывод о различии сделать нельзя'\n",
    "    ) \n"
   ]
  },
  {
   "cell_type": "markdown",
   "id": "f3a7732e",
   "metadata": {},
   "source": [
    "Вывод: По «сырым» данным различий в среднем числе заказов групп A и B нет. \n",
    "Первое число — p-value = 0.017 меньше 0.05. После анализа р-значение  0,017 ниже, чем уровень значимости 0,05, и мы можем сказать, что результат является статистически значимым. Однако относительный проигрыш группы B равен 13.8%.\n"
   ]
  },
  {
   "cell_type": "markdown",
   "id": "f831ecc4",
   "metadata": {},
   "source": [
    "<div class=\"alert alert-success\">\n",
    "<h2> Комментарий ревьюера 😊<a class=\"tocSkip\"> </h2>\n",
    "\n",
    "Значение p-value интерпретировано правильно. Хорошая работа.\n",
    "</div>"
   ]
  },
  {
   "cell_type": "markdown",
   "id": "4d0346c8",
   "metadata": {},
   "source": [
    "<div class=\"alert alert-block alert-danger\">\n",
    "<h2> Комментарий ревьюера 🤔<a class=\"tocSkip\"></h2>\n",
    "    <s>\n",
    "Отсутствуют статистические гипотезы по которым проводится проверка, и значение alpha не задано. Давай добавим нулевую и альтернативную гипотезы к каждому тесту)\n",
    "</div>"
   ]
  },
  {
   "cell_type": "markdown",
   "id": "ce4a37f5",
   "metadata": {},
   "source": [
    "<div class=\"alert alert-block alert-danger\">\n",
    "<h2> Комментарий ревьюера 🤔 v_2 <a class=\"tocSkip\"></h2>\n",
    "    <s>\n",
    "Так же перед каждым тестом следует указать нулевую и альтернативную гипотезы.  Можешь изучить Спринт 11/20 → Тема 6/9: Анализ результатов A/B-теста → Урок 7/10 Анализ A/B-теста шаг за шагом. И добавить гипотезы перед каждым тестом)"
   ]
  },
  {
   "cell_type": "markdown",
   "id": "d6bfb17f",
   "metadata": {},
   "source": [
    "<div class=\"alert alert-info\"> <b>Комментарий студента:</b> <br>\n",
    "Так! Вроде до меня наконец дошло с alpha) Я сделал так. Это правильно?) <br> \n",
    "</div>"
   ]
  },
  {
   "cell_type": "markdown",
   "id": "954d2144",
   "metadata": {},
   "source": [
    "<div class=\"alert alert-success\">\n",
    "<h2> Комментарий ревьюера 😊 v_2 <a class=\"tocSkip\"> </h2>\n",
    "Альфа задано верно, но гипотезы так и не появились =( Вот пример из урока, надо так же сформулировать перед каждым нашим тестом.\n",
    "![image.png](attachment:image.png)"
   ]
  },
  {
   "cell_type": "markdown",
   "id": "5ffd561a",
   "metadata": {},
   "source": [
    "<div class=\"alert alert-info\"> <b>Комментарий студента:</b> <br>\n",
    "Ааааа..... блин!) Надо было просто дописать формулировку гипотезы?) Текст) Как же я туплю) Голова кипит)  <br> \n",
    "</div>"
   ]
  },
  {
   "cell_type": "markdown",
   "id": "16c0b494",
   "metadata": {},
   "source": [
    "<div class=\"alert alert-success\">\n",
    "<h2> Комментарий ревьюера 😊 v_4 <a class=\"tocSkip\"> </h2>\n",
    "\n",
    "Да, вот теперь все отлично)"
   ]
  },
  {
   "cell_type": "markdown",
   "id": "4ada5d79",
   "metadata": {},
   "source": [
    "#### 2.11 Посчитайте статистическую значимость различий в среднем чеке заказа между группами по «сырым» данным. Сделайте выводы и предположения."
   ]
  },
  {
   "cell_type": "markdown",
   "id": "832e9e77",
   "metadata": {},
   "source": [
    "Сформулируем гипотезу.Нулевая гипотеза: различий в среднем чеке между группами нет. Альтернативная гипотеза: различия в среднем чеке между группами есть. "
   ]
  },
  {
   "cell_type": "code",
   "execution_count": 53,
   "id": "2d0aefef",
   "metadata": {},
   "outputs": [
    {
     "name": "stdout",
     "output_type": "stream",
     "text": [
      "0.729\n",
      "0.259\n"
     ]
    }
   ],
   "source": [
    "print('{0:.3f}'.format(st.mannwhitneyu(ord[ord['group']=='A']['revenue'], ord[ord['group']=='B']['revenue'])[1]))\n",
    "print('{0:.3f}'.format(ord[ord['group']=='B']['revenue'].mean()/ord[ord['group']=='A']['revenue'].mean()-1)) "
   ]
  },
  {
   "cell_type": "code",
   "execution_count": 54,
   "id": "7f69e41d",
   "metadata": {},
   "outputs": [
    {
     "name": "stdout",
     "output_type": "stream",
     "text": [
      "p-значение:  0.7292909855432458\n",
      "Не получилось отвергнуть нулевую гипотезу, вывод о различии сделать нельзя\n"
     ]
    }
   ],
   "source": [
    "alpha = 0.05 \n",
    "results = st.mannwhitneyu(ord[ord['group']=='A']['revenue'], ord[ord['group']=='B']['revenue'])\n",
    "print('p-значение: ', results.pvalue)\n",
    "\n",
    "if results.pvalue < alpha:\n",
    "    print('Отвергаем нулевую гипотезу: разница статистически значима')\n",
    "else:\n",
    "    print(\n",
    "        'Не получилось отвергнуть нулевую гипотезу, вывод о различии сделать нельзя'\n",
    "    ) \n"
   ]
  },
  {
   "cell_type": "markdown",
   "id": "4b4c49af",
   "metadata": {},
   "source": [
    "P-value значительно больше 0.05, то есть равно 0.729. Значит, причин отвергать нулевую гипотезу и считать, что в среднем чеке есть различия, нет. Впрочем, средний чек группы B значительно ниже среднего чека группы A. Однако относительный проигрыш группы B равен 25.9% — второе число в выводе.\n"
   ]
  },
  {
   "cell_type": "markdown",
   "id": "2981aca2",
   "metadata": {},
   "source": [
    "<div class=\"alert alert-warning\">\n",
    "<h2> Комментарий ревьюера 🤓<a class=\"tocSkip\"> </h2>\n",
    "    \n",
    "Стоит дополнить, что поскольку относительное различие среднего чека между сегментами составляет ~26%, наблюдаемые различия не являются значимыми при таком уровне значимости, а следовательно были получены случайно. </div>"
   ]
  },
  {
   "cell_type": "markdown",
   "id": "8bae2ed4",
   "metadata": {},
   "source": [
    "#### 2.13 Посчитайте статистическую значимость различий в среднем количестве заказов на посетителя между группами по «очищенным» данным. Сделайте выводы и предположения."
   ]
  },
  {
   "cell_type": "markdown",
   "id": "e9cd52aa",
   "metadata": {},
   "source": [
    "#### 2.13.1 Найдём аномальных пользователей"
   ]
  },
  {
   "cell_type": "markdown",
   "id": "fc478384",
   "metadata": {},
   "source": [
    "Ранее мы уже выяснили, что подавляющее большинство пользователей не делает более 2 заказов и сумма 1 покупки в большинстве случаев не превышает 28 т.р. Очистим данные от аномальных пользователей с превышающими данные лимиты значениями."
   ]
  },
  {
   "cell_type": "code",
   "execution_count": 55,
   "id": "76c6f568",
   "metadata": {},
   "outputs": [
    {
     "name": "stdout",
     "output_type": "stream",
     "text": [
      "1099    148427295\n",
      "18      199603092\n",
      "928     204675465\n",
      "23      237748145\n",
      "37      249864742\n",
      "Name: visitorId, dtype: int64\n",
      "74\n"
     ]
    }
   ],
   "source": [
    "usersWithManyOrders = pd.concat(\n",
    "    [\n",
    "        ordersByUsersA[ordersByUsersA['orders'] > 2]['visitorId'],\n",
    "        ordersByUsersB[ordersByUsersB['orders'] > 2]['visitorId'],\n",
    "    ],\n",
    "    axis=0,\n",
    ")\n",
    "usersWithExpensiveOrders = ord[ord['revenue'] > 28000]['visitorId']\n",
    "abnormalUsers = (\n",
    "    pd.concat([usersWithManyOrders, usersWithExpensiveOrders], axis=0)\n",
    "    .drop_duplicates()\n",
    "    .sort_values()\n",
    ")\n",
    "print(abnormalUsers.head(5))\n",
    "print(abnormalUsers.shape[0]) \n"
   ]
  },
  {
   "cell_type": "markdown",
   "id": "81d683e1",
   "metadata": {},
   "source": [
    "<div class=\"alert alert-warning\">\n",
    "<h2> Комментарий ревьюера 🤓<a class=\"tocSkip\"> </h2>\n",
    "\n",
    "Чтобы в дальнейшем мы могли использовать анализ повторно, будет лучше отказаться от  ручного ввода обозначаемых границ, и заменить на соответствующие коду обозначения (перцентили))\n"
   ]
  },
  {
   "cell_type": "markdown",
   "id": "1cd4fca6",
   "metadata": {},
   "source": [
    "Вывод: Найдено 74 аномальных покупателя с большим количеством заказов."
   ]
  },
  {
   "cell_type": "markdown",
   "id": "34ee50f3",
   "metadata": {},
   "source": [
    "#### 2.14 Посчитайте статистическую значимость различий в среднем чеке заказа между группами по «очищенным» данным. Сделайте выводы и предположения."
   ]
  },
  {
   "cell_type": "markdown",
   "id": "f2961421",
   "metadata": {},
   "source": [
    "Сформулируем гипотезу. Нулевая: различий в среднем количестве заказов между группами нет. Альтернативная: различия в среднем между группами есть."
   ]
  },
  {
   "cell_type": "markdown",
   "id": "c9c2a231",
   "metadata": {},
   "source": [
    "#### 2.14.1 Сначала подготовим выборки количества заказов по пользователям по группам теста:"
   ]
  },
  {
   "cell_type": "code",
   "execution_count": 56,
   "id": "f2d37eb7",
   "metadata": {},
   "outputs": [],
   "source": [
    "sampleAFiltered = pd.concat(\n",
    "    [\n",
    "        ordersByUsersA[\n",
    "            np.logical_not(ordersByUsersA['visitorId'].isin(abnormalUsers))\n",
    "        ]['orders'],\n",
    "        pd.Series(\n",
    "            0,\n",
    "            index=np.arange(\n",
    "                data2['visitorsPerDateA'].sum() - len(ordersByUsersA['orders'])\n",
    "            ),\n",
    "            name='orders',\n",
    "        ),\n",
    "    ],\n",
    "    axis=0,\n",
    ")\n",
    "\n",
    "sampleBFiltered = pd.concat(\n",
    "    [\n",
    "        ordersByUsersB[\n",
    "            np.logical_not(ordersByUsersB['visitorId'].isin(abnormalUsers))\n",
    "        ]['orders'],\n",
    "        pd.Series(\n",
    "            0,\n",
    "            index=np.arange(\n",
    "                data2['visitorsPerDateB'].sum() - len(ordersByUsersB['orders'])\n",
    "            ),\n",
    "            name='orders',\n",
    "        ),\n",
    "    ],\n",
    "    axis=0,\n",
    ") "
   ]
  },
  {
   "cell_type": "code",
   "execution_count": 57,
   "id": "69b4fbf5",
   "metadata": {},
   "outputs": [
    {
     "name": "stdout",
     "output_type": "stream",
     "text": [
      "0.013\n",
      "0.173\n"
     ]
    }
   ],
   "source": [
    "print('{0:.3f}'.format(st.mannwhitneyu(sampleAFiltered, sampleBFiltered)[1]))\n",
    "print('{0:.3f}'.format(sampleBFiltered.mean()/sampleAFiltered.mean()-1)) "
   ]
  },
  {
   "cell_type": "code",
   "execution_count": 58,
   "id": "c2082692",
   "metadata": {},
   "outputs": [
    {
     "name": "stdout",
     "output_type": "stream",
     "text": [
      "p-значение:  0.013042592743036745\n",
      "Отвергаем нулевую гипотезу: разница статистически значима\n"
     ]
    }
   ],
   "source": [
    "alpha = 0.05  # критический уровень статистической значимости\n",
    "\n",
    "results = st.mannwhitneyu(sampleAFiltered, sampleBFiltered)\n",
    "\n",
    "print('p-значение: ', results.pvalue)\n",
    "\n",
    "if results.pvalue < alpha:\n",
    "    print('Отвергаем нулевую гипотезу: разница статистически значима')\n",
    "else:\n",
    "    print(\n",
    "        'Не получилось отвергнуть нулевую гипотезу, вывод о различии сделать нельзя'\n",
    "    ) \n"
   ]
  },
  {
   "cell_type": "markdown",
   "id": "827c2c47",
   "metadata": {},
   "source": [
    "<div class=\"alert alert-block alert-danger\">\n",
    "<h2> Комментарий ревьюера 🤔<a class=\"tocSkip\"></h2>\n",
    "    <s>\n",
    "Отсутствует вывод по тесту и подписи значений."
   ]
  },
  {
   "cell_type": "markdown",
   "id": "88e7b677",
   "metadata": {},
   "source": [
    "<div class=\"alert alert-info\"> <b>Комментарий студента:</b> <br>\n",
    "Я изменил как в части выше. Разобрался <br> \n",
    "</div>"
   ]
  },
  {
   "cell_type": "markdown",
   "id": "e4c7b430",
   "metadata": {},
   "source": [
    "<div class=\"alert alert-success\">\n",
    "<h2> Комментарий ревьюера 😊 v_2 <a class=\"tocSkip\"> </h2>\n",
    "\n",
    "Намного лучше)"
   ]
  },
  {
   "cell_type": "markdown",
   "id": "54a20ecb",
   "metadata": {},
   "source": [
    "Вывод: По «очищенным» данным различий в среднем числе заказов групп A и B нет. \n",
    "Первое число — p-value = 0.013 меньше 0.05. После анализа р-значение  0,013 ниже, чем уровень значимости 0,05, и мы можем сказать, что результат является статистически значимым. Однако относительный проигрыш группы B равен 17,3%."
   ]
  },
  {
   "cell_type": "code",
   "execution_count": 59,
   "id": "f93c4f9f",
   "metadata": {},
   "outputs": [
    {
     "name": "stdout",
     "output_type": "stream",
     "text": [
      "0.013\n",
      "0.173\n"
     ]
    }
   ],
   "source": [
    "print('{0:.3f}'.format(st.mannwhitneyu(sampleAFiltered, sampleBFiltered)[1]))\n",
    "print('{0:.3f}'.format(sampleBFiltered.mean()/sampleAFiltered.mean()-1)) "
   ]
  },
  {
   "cell_type": "markdown",
   "id": "c99e33fe",
   "metadata": {},
   "source": [
    "#### 2.14.3 Произошло ли что-нибудь с результатами по среднему чеку?"
   ]
  },
  {
   "cell_type": "code",
   "execution_count": 60,
   "id": "4e220816",
   "metadata": {},
   "outputs": [
    {
     "name": "stdout",
     "output_type": "stream",
     "text": [
      "0.738\n",
      "-0.020\n"
     ]
    }
   ],
   "source": [
    "print(\n",
    "    '{0:.3f}'.format(\n",
    "        st.mannwhitneyu(\n",
    "            ord[\n",
    "                np.logical_and(\n",
    "                    ord['group'] == 'A',\n",
    "                    np.logical_not(ord['visitorId'].isin(abnormalUsers)),\n",
    "                )\n",
    "            ]['revenue'],\n",
    "            ord[\n",
    "                np.logical_and(\n",
    "                    ord['group'] == 'B',\n",
    "                    np.logical_not(ord['visitorId'].isin(abnormalUsers)),\n",
    "                )\n",
    "            ]['revenue'],\n",
    "        )[1]\n",
    "    )\n",
    ")\n",
    "\n",
    "print(\n",
    "    \"{0:.3f}\".format(\n",
    "        ord[\n",
    "            np.logical_and(\n",
    "                ord['group'] == 'B',\n",
    "                np.logical_not(ord['visitorId'].isin(abnormalUsers)),\n",
    "            )\n",
    "        ]['revenue'].mean()\n",
    "        / ord[\n",
    "            np.logical_and(\n",
    "                ord['group'] == 'A',\n",
    "                np.logical_not(ord['visitorId'].isin(abnormalUsers)),\n",
    "            )\n",
    "        ]['revenue'].mean()\n",
    "        - 1\n",
    "    )\n",
    ") "
   ]
  },
  {
   "cell_type": "markdown",
   "id": "aace7b0d",
   "metadata": {},
   "source": [
    "P-value в \"очищенных\" значительно больше 0.05, то есть равно 0.738. Значит, причин отвергать нулевую гипотезу и считать, что в среднем чеке есть различия, нет. Относительный прирост конверсии группы B по отношению к группе A в \"очищенных данных\" по сравнению с \"неочищенными\" сократилась с 25,9% до 2%."
   ]
  },
  {
   "cell_type": "markdown",
   "id": "9fc40db0",
   "metadata": {},
   "source": [
    "Вывод: По очищенным данным РАЗЛИЧИЙ в средних чеках в группах A и B НЕТ"
   ]
  },
  {
   "cell_type": "markdown",
   "id": "1b39f3d9",
   "metadata": {},
   "source": [
    "<div class=\"alert alert-success\">\n",
    "<h2> Комментарий ревьюера 😊<a class=\"tocSkip\"> </h2>\n",
    "  \n",
    "Расчеты по статистическому анализу верные, но следует добавить гиптезы и вывод"
   ]
  },
  {
   "cell_type": "markdown",
   "id": "85cee490",
   "metadata": {},
   "source": [
    "Примите решение по результатам теста и объясните его. Варианты решений:\n",
    "\n",
    "1. Остановить тест, зафиксировать победу одной из групп.\n",
    "\n",
    "Причины принятия решения - в группе В величина среднего чека выше, чем в группе А по вышеизложенным результатам. "
   ]
  },
  {
   "cell_type": "markdown",
   "id": "3056ba4e",
   "metadata": {},
   "source": [
    "<div class=\"alert alert-block alert-danger\">\n",
    "<h2> Комментарий ревьюера 🤔<a class=\"tocSkip\"></h2>\n",
    "    <s>\n",
    "Общий вывод это главный итог твоей работы, то что мы можем предоставить нашему заказчику. Давай дополним его результатами твоей работы и основными выводами) Можно  начать общий вывод с того, с какими данными мы работали и какие действия провели на этапе предобработки, а закончить аргументами принятого решения и рекомендациями заказчику по улучшению. </div>"
   ]
  },
  {
   "cell_type": "markdown",
   "id": "eb946836",
   "metadata": {},
   "source": [
    "Суммарный вывод (версия 2.0):<br>\n",
    "\n",
    "1. У нас в наличии 2 рассматреваемые группы: А и В. В группе А: 18736 посетителей, и 557 покупок. <br>\n",
    "В группе B: 18916, и 640 покупок.<br>\n",
    "\n",
    "2. Рассматриваемый период времени: с 01.08.2019г. по 01.09.2019г. <br>\n",
    "\n",
    "3. На основании графика кумулятивной выручки по группам сделан вывод, что между 18.08.2019г и 19.08.2019г произошла аномалия. Резкий рост дохода по группе B.<br>\n",
    "\n",
    "4. На основании графика кумулятивного среднего чека по группам сделан вывод, что между 18.08.2019г и 19.08.2019г произошла аномалия. Резкий рост среднего чека по группе B.<br>\n",
    "\n",
    "5. На основании графика кумулятивного среднего количества заказов на посетителя по группам сделан вывод, что аномалия среднего чека группы B со среднем количеством заказов не связана.<br>\n",
    "\n",
    "6. На основании графика относительного изменения кумулятивного среднего количества заказов на посетителя группы B к группе A сделан вывод, что в группе B посетители превращаются в покупателей намного активнее.<br>\n",
    "\n",
    "7. Больше всего пользователей делают 1-2 заказа. Более двух заказов делаю гараздо меньше покупателей.<br>\n",
    "\n",
    "8. 5% пользоваетей делают 2 заказа, 1% пользователей делает 4 заказа.<br>\n",
    "\n",
    "9. Основное количество заказов не привышает 30000 рублей.<br>\n",
    "\n",
    "10. 5% покупателей - общий счёт около 28000р, у 1% пользователей - 58233р.<br>\n",
    "\n",
    "11. Сущестует статистическая значимость среднего количества заказов на посетителя между группами А и Б. Однако относительный проигрыш группы B равен 13.8%.<br>\n",
    "\n",
    "12. Статистическая значимость различий в среднем чеке заказа между группами по «сырым» данным. Нулевую гипотезу не опровергаем. Однако относительный проигрыш группы B равен 25.9% <br>\n",
    "\n",
    "13. У нас 74 аномальных пользователя с большим количеством заказов.<br>\n",
    "\n",
    "14. Статистическую значимость различий в среднем чеке заказа между группами по «очищенным» данным. Результат является статистически значимым. Однако относительный проигрыш группы B равен 17,3%.<br>\n",
    "\n",
    "15. Результатами по среднему чеку - относительный прирост конверсии группы B по отношению к группе A в \"очищенных данных\" по сравнению с \"неочищенными\" сократилась с 25,9% до 2%.<br>\n",
    "\n"
   ]
  },
  {
   "cell_type": "markdown",
   "id": "b550684e",
   "metadata": {},
   "source": [
    "<div class=\"alert alert-success\">\n",
    "<h2> Комментарий ревьюера 😊 v_2 <a class=\"tocSkip\"> </h2>\n",
    "\n",
    "Содержательный вывод получился, молодец)"
   ]
  },
  {
   "cell_type": "markdown",
   "id": "05a7b363",
   "metadata": {},
   "source": [
    "##### Общий вывод:\n",
    "##### Можно констатировать победу группы B и смело остановить тест, т.к. в группе B прирост среднего чека составляет 2%. Это успех! =)"
   ]
  },
  {
   "cell_type": "markdown",
   "id": "c2ff82bf",
   "metadata": {},
   "source": [
    "<div style=\"border:solid Purple 2px; padding: 40px\">\n",
    "\n",
    "<h2> Общий комментарий ревьюера 😊<a class=\"tocSkip\"> </h2>\n",
    "    <br/>\n",
    "Василий, ты проделал оличную работу. Графики и расчеты верные, осталось доработать выводы) \n",
    "    \n",
    "Необходимо доработать:\n",
    "    \n",
    "* Добавить оформление графикам\n",
    "* Дополнить выводы\n",
    "* Добавить проверку на дубликаты\n",
    "* Остальные комментарии ты найдешь в работе\n",
    "    \n",
    " \n",
    "**Желаю удачи и жду твой проект на повторное ревью! Если вдруг у тебя возникнут вопросы, то я с радостью отвечу на них.    😊**\n",
    "    \n",
    "![gif](https://i.gifer.com/378.gif)\n",
    "    \n",
    "<br>   \n",
    "             \n",
    "**Дополнительные материалы:**\n",
    " \n",
    "[Вебинары под эгидой Практикума](https://vk.com/yandex.praktikum?w=wall-176471180_2144), \n",
    "    \n",
    "[Лекции Анатолия Карпова 1](https://www.youtube.com/watch?v=jnFVmtaeSA0&list=WL&index=19&t=2s) [2](https://www.youtube.com/watch?v=gljfGAkgX_o&list=WL&index=4)\n",
    "    \n",
    "Материалы [gopractice](https://gopractice.ru/summary/)\n",
    "\n",
    "Лекцию Карта статистических методов [Смотреть видео](https://www.youtube.com/watch?v=-zps6hm0nX8&t=1269s)\n",
    "        \n",
    "</div>"
   ]
  }
 ],
 "metadata": {
  "ExecuteTimeLog": [
   {
    "duration": 1380,
    "start_time": "2023-01-28T08:31:47.636Z"
   },
   {
    "duration": 248,
    "start_time": "2023-01-28T08:31:49.018Z"
   },
   {
    "duration": 17,
    "start_time": "2023-01-28T08:31:49.269Z"
   },
   {
    "duration": 31,
    "start_time": "2023-01-28T08:31:49.288Z"
   },
   {
    "duration": 26,
    "start_time": "2023-01-28T08:31:49.321Z"
   },
   {
    "duration": 20,
    "start_time": "2023-01-28T08:31:49.350Z"
   },
   {
    "duration": 37,
    "start_time": "2023-01-28T08:31:49.372Z"
   },
   {
    "duration": 14,
    "start_time": "2023-01-28T08:31:49.411Z"
   },
   {
    "duration": 23,
    "start_time": "2023-01-28T08:31:49.427Z"
   },
   {
    "duration": 13,
    "start_time": "2023-01-28T08:31:49.453Z"
   },
   {
    "duration": 19,
    "start_time": "2023-01-28T08:31:49.468Z"
   },
   {
    "duration": 21,
    "start_time": "2023-01-28T08:31:49.489Z"
   },
   {
    "duration": 15,
    "start_time": "2023-01-28T08:31:49.512Z"
   },
   {
    "duration": 12,
    "start_time": "2023-01-28T08:31:49.529Z"
   },
   {
    "duration": 5,
    "start_time": "2023-01-28T08:31:49.543Z"
   },
   {
    "duration": 15,
    "start_time": "2023-01-28T08:31:49.550Z"
   },
   {
    "duration": 31,
    "start_time": "2023-01-28T08:31:49.567Z"
   },
   {
    "duration": 34,
    "start_time": "2023-01-28T08:31:49.600Z"
   },
   {
    "duration": 22,
    "start_time": "2023-01-28T08:31:49.637Z"
   },
   {
    "duration": 21,
    "start_time": "2023-01-28T08:31:49.661Z"
   },
   {
    "duration": 40,
    "start_time": "2023-01-28T08:31:49.684Z"
   },
   {
    "duration": 35,
    "start_time": "2023-01-28T08:31:49.726Z"
   },
   {
    "duration": 11,
    "start_time": "2023-01-28T08:31:49.764Z"
   },
   {
    "duration": 30,
    "start_time": "2023-01-28T08:31:49.778Z"
   },
   {
    "duration": 28,
    "start_time": "2023-01-28T08:31:49.811Z"
   },
   {
    "duration": 34,
    "start_time": "2023-01-28T08:31:49.840Z"
   },
   {
    "duration": 64,
    "start_time": "2023-01-28T08:31:49.877Z"
   },
   {
    "duration": 59,
    "start_time": "2023-01-28T08:31:49.946Z"
   },
   {
    "duration": 45,
    "start_time": "2023-01-28T08:31:50.008Z"
   },
   {
    "duration": 274,
    "start_time": "2023-01-28T08:31:50.055Z"
   },
   {
    "duration": 9,
    "start_time": "2023-01-28T08:31:50.331Z"
   },
   {
    "duration": 186,
    "start_time": "2023-01-28T08:31:50.342Z"
   },
   {
    "duration": 10,
    "start_time": "2023-01-28T08:31:50.531Z"
   },
   {
    "duration": 11,
    "start_time": "2023-01-28T08:31:50.543Z"
   },
   {
    "duration": 37,
    "start_time": "2023-01-28T08:31:50.556Z"
   },
   {
    "duration": 482,
    "start_time": "2023-01-28T08:31:50.605Z"
   },
   {
    "duration": 319,
    "start_time": "2023-01-28T08:31:51.089Z"
   },
   {
    "duration": 17,
    "start_time": "2023-01-28T08:31:51.411Z"
   },
   {
    "duration": 368,
    "start_time": "2023-01-28T08:31:51.431Z"
   },
   {
    "duration": 314,
    "start_time": "2023-01-28T08:31:51.804Z"
   },
   {
    "duration": 22,
    "start_time": "2023-01-28T08:31:52.121Z"
   },
   {
    "duration": 527,
    "start_time": "2023-01-28T08:31:52.145Z"
   },
   {
    "duration": 25,
    "start_time": "2023-01-28T08:31:52.674Z"
   },
   {
    "duration": 174,
    "start_time": "2023-01-28T08:31:52.701Z"
   },
   {
    "duration": 192,
    "start_time": "2023-01-28T08:31:52.877Z"
   },
   {
    "duration": 19,
    "start_time": "2023-01-28T08:31:53.072Z"
   },
   {
    "duration": 538,
    "start_time": "2023-01-28T08:31:53.097Z"
   },
   {
    "duration": 240,
    "start_time": "2023-01-28T08:31:53.639Z"
   },
   {
    "duration": 4,
    "start_time": "2023-01-28T08:31:53.886Z"
   },
   {
    "duration": 516,
    "start_time": "2023-01-28T08:31:53.892Z"
   },
   {
    "duration": 281,
    "start_time": "2023-01-28T08:31:54.411Z"
   },
   {
    "duration": 16,
    "start_time": "2023-01-28T08:31:54.696Z"
   },
   {
    "duration": 29,
    "start_time": "2023-01-28T08:31:54.715Z"
   },
   {
    "duration": 20,
    "start_time": "2023-01-28T08:31:54.746Z"
   },
   {
    "duration": 62,
    "start_time": "2023-01-28T08:31:54.768Z"
   },
   {
    "duration": 21,
    "start_time": "2023-01-28T08:31:54.833Z"
   },
   {
    "duration": 1435,
    "start_time": "2023-01-29T10:26:26.630Z"
   },
   {
    "duration": 205,
    "start_time": "2023-01-29T10:26:28.067Z"
   },
   {
    "duration": 23,
    "start_time": "2023-01-29T10:26:28.274Z"
   },
   {
    "duration": 35,
    "start_time": "2023-01-29T10:26:28.299Z"
   },
   {
    "duration": 11,
    "start_time": "2023-01-29T10:26:28.338Z"
   },
   {
    "duration": 34,
    "start_time": "2023-01-29T10:26:28.352Z"
   },
   {
    "duration": 16,
    "start_time": "2023-01-29T10:26:28.388Z"
   },
   {
    "duration": 28,
    "start_time": "2023-01-29T10:26:28.407Z"
   },
   {
    "duration": 19,
    "start_time": "2023-01-29T10:26:28.437Z"
   },
   {
    "duration": 11,
    "start_time": "2023-01-29T10:26:28.459Z"
   },
   {
    "duration": 15,
    "start_time": "2023-01-29T10:26:28.472Z"
   },
   {
    "duration": 12,
    "start_time": "2023-01-29T10:26:28.489Z"
   },
   {
    "duration": 11,
    "start_time": "2023-01-29T10:26:28.503Z"
   },
   {
    "duration": 9,
    "start_time": "2023-01-29T10:26:28.540Z"
   },
   {
    "duration": 15,
    "start_time": "2023-01-29T10:26:28.551Z"
   },
   {
    "duration": 8,
    "start_time": "2023-01-29T10:26:28.568Z"
   },
   {
    "duration": 8,
    "start_time": "2023-01-29T10:26:28.577Z"
   },
   {
    "duration": 13,
    "start_time": "2023-01-29T10:26:28.588Z"
   },
   {
    "duration": 41,
    "start_time": "2023-01-29T10:26:28.603Z"
   },
   {
    "duration": 18,
    "start_time": "2023-01-29T10:26:28.646Z"
   },
   {
    "duration": 19,
    "start_time": "2023-01-29T10:26:28.665Z"
   },
   {
    "duration": 21,
    "start_time": "2023-01-29T10:26:28.686Z"
   },
   {
    "duration": 10,
    "start_time": "2023-01-29T10:26:28.709Z"
   },
   {
    "duration": 26,
    "start_time": "2023-01-29T10:26:28.721Z"
   },
   {
    "duration": 7,
    "start_time": "2023-01-29T10:26:28.749Z"
   },
   {
    "duration": 15,
    "start_time": "2023-01-29T10:26:28.758Z"
   },
   {
    "duration": 7,
    "start_time": "2023-01-29T10:26:28.776Z"
   },
   {
    "duration": 9,
    "start_time": "2023-01-29T10:26:28.785Z"
   },
   {
    "duration": 38,
    "start_time": "2023-01-29T10:26:28.795Z"
   },
   {
    "duration": 36,
    "start_time": "2023-01-29T10:26:28.834Z"
   },
   {
    "duration": 53,
    "start_time": "2023-01-29T10:26:28.872Z"
   },
   {
    "duration": 53,
    "start_time": "2023-01-29T10:26:28.928Z"
   },
   {
    "duration": 39,
    "start_time": "2023-01-29T10:26:28.983Z"
   },
   {
    "duration": 224,
    "start_time": "2023-01-29T10:26:29.025Z"
   },
   {
    "duration": 11,
    "start_time": "2023-01-29T10:26:29.250Z"
   },
   {
    "duration": 147,
    "start_time": "2023-01-29T10:26:29.263Z"
   },
   {
    "duration": 13,
    "start_time": "2023-01-29T10:26:29.412Z"
   },
   {
    "duration": 17,
    "start_time": "2023-01-29T10:26:29.440Z"
   },
   {
    "duration": 20,
    "start_time": "2023-01-29T10:26:29.460Z"
   },
   {
    "duration": 11,
    "start_time": "2023-01-29T10:26:29.483Z"
   },
   {
    "duration": 381,
    "start_time": "2023-01-29T10:26:29.500Z"
   },
   {
    "duration": 231,
    "start_time": "2023-01-29T10:26:29.883Z"
   },
   {
    "duration": 10,
    "start_time": "2023-01-29T10:26:30.116Z"
   },
   {
    "duration": 367,
    "start_time": "2023-01-29T10:26:30.128Z"
   },
   {
    "duration": 255,
    "start_time": "2023-01-29T10:26:30.497Z"
   },
   {
    "duration": 21,
    "start_time": "2023-01-29T10:26:30.755Z"
   },
   {
    "duration": 390,
    "start_time": "2023-01-29T10:26:30.778Z"
   },
   {
    "duration": 11,
    "start_time": "2023-01-29T10:26:31.170Z"
   },
   {
    "duration": 176,
    "start_time": "2023-01-29T10:26:31.183Z"
   },
   {
    "duration": 166,
    "start_time": "2023-01-29T10:26:31.361Z"
   },
   {
    "duration": 10,
    "start_time": "2023-01-29T10:26:31.529Z"
   },
   {
    "duration": 387,
    "start_time": "2023-01-29T10:26:31.541Z"
   },
   {
    "duration": 174,
    "start_time": "2023-01-29T10:26:31.930Z"
   },
   {
    "duration": 7,
    "start_time": "2023-01-29T10:26:32.106Z"
   },
   {
    "duration": 350,
    "start_time": "2023-01-29T10:26:32.115Z"
   },
   {
    "duration": 201,
    "start_time": "2023-01-29T10:26:32.467Z"
   },
   {
    "duration": 41,
    "start_time": "2023-01-29T10:26:32.671Z"
   },
   {
    "duration": 38,
    "start_time": "2023-01-29T10:26:32.714Z"
   },
   {
    "duration": 17,
    "start_time": "2023-01-29T10:26:32.756Z"
   },
   {
    "duration": 43,
    "start_time": "2023-01-29T10:26:32.775Z"
   },
   {
    "duration": 15,
    "start_time": "2023-01-29T10:26:32.820Z"
   },
   {
    "duration": 51,
    "start_time": "2023-01-29T10:26:32.837Z"
   },
   {
    "duration": 26,
    "start_time": "2023-01-29T10:26:32.890Z"
   },
   {
    "duration": 41,
    "start_time": "2023-01-29T10:26:32.919Z"
   },
   {
    "duration": 17,
    "start_time": "2023-01-29T10:26:32.962Z"
   }
  ],
  "kernelspec": {
   "display_name": "Python 3 (ipykernel)",
   "language": "python",
   "name": "python3"
  },
  "language_info": {
   "codemirror_mode": {
    "name": "ipython",
    "version": 3
   },
   "file_extension": ".py",
   "mimetype": "text/x-python",
   "name": "python",
   "nbconvert_exporter": "python",
   "pygments_lexer": "ipython3",
   "version": "3.9.13"
  },
  "toc": {
   "base_numbering": 1,
   "nav_menu": {},
   "number_sections": true,
   "sideBar": true,
   "skip_h1_title": true,
   "title_cell": "Table of Contents",
   "title_sidebar": "Contents",
   "toc_cell": false,
   "toc_position": {},
   "toc_section_display": true,
   "toc_window_display": false
  }
 },
 "nbformat": 4,
 "nbformat_minor": 5
}
