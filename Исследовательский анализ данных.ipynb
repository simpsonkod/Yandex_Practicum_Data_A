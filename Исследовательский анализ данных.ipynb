{
 "cells": [
  {
   "cell_type": "markdown",
   "id": "641b0323",
   "metadata": {},
   "source": [
    "Исследование объявлений о продаже квартир\n",
    "В вашем распоряжении данные сервиса Яндекс.Недвижимость — архив объявлений о продаже квартир в Санкт-Петербурге и соседних населённых пунктов за несколько лет. Нужно научиться определять рыночную стоимость объектов недвижимости. Ваша задача — установить параметры. Это позволит построить автоматизированную систему: она отследит аномалии и мошенническую деятельность.\n",
    "\n",
    "По каждой квартире на продажу доступны два вида данных. Первые вписаны пользователем, вторые — получены автоматически на основе картографических данных. Например, расстояние до центра, аэропорта, ближайшего парка и водоёма."
   ]
  },
  {
   "cell_type": "markdown",
   "id": "3e6173cc",
   "metadata": {},
   "source": [
    "- [x]  открыт файл\n",
    "- [x]  файлы изучены (выведены первые строки, метод `info()`, гистограммы и т.д.)\n",
    "- [x]  определены пропущенные значения\n",
    "- [x]  заполнены пропущенные значения там, где это возможно\n",
    "- [x]  есть пояснение, какие пропущенные значения обнаружены\n",
    "- [x]  изменены типы данных\n",
    "- [x]  есть пояснение, в каких столбцах изменены типы и почему\n",
    "- [x]  устранены неявные дубликаты в названиях населённых пунктов\n",
    "- [x]  устранены редкие и выбивающиеся значения (аномалии) во всех столбцах\n",
    "- [x]  посчитано и добавлено в таблицу: цена одного квадратного метра\n",
    "- [x]  посчитано и добавлено в таблицу: день публикации объявления (0 - понедельник, 1 - вторник и т.д.)\n",
    "- [x]  посчитано и добавлено в таблицу: месяц публикации объявления\n",
    "- [x]  посчитано и добавлено в таблицу: год публикации объявления\n",
    "- [x]  посчитано и добавлено в таблицу: тип этажа квартиры (значения — «первый», «последний», «другой»)\n",
    "- [x]  посчитано и добавлено в таблицу: расстояние в км до центра города\n",
    "- [x]  изучены и описаны следующие параметры:\n",
    "        - общая площадь;\n",
    "        - жилая площадь;\n",
    "        - площадь кухни;\n",
    "        - цена объекта;\n",
    "        - количество комнат;\n",
    "        - высота потолков;\n",
    "        - этаж квартиры;\n",
    "        - тип этажа квартиры («первый», «последний», «другой»);\n",
    "        - общее количество этажей в доме;\n",
    "        - расстояние до центра города в метрах;\n",
    "        - расстояние до ближайшего аэропорта;\n",
    "        - расстояние до ближайшего парка;\n",
    "        - день и месяц публикации объявления\n",
    "- [x]  построены гистограммы для каждого параметра\n",
    "- [x]  выполнено задание: \"Изучите, как быстро продавались квартиры (столбец days_exposition). Этот параметр показывает, сколько дней «висело» каждое объявление.\n",
    "    - Постройте гистограмму.\n",
    "    - Посчитайте среднее и медиану.\n",
    "    - В ячейке типа markdown опишите, сколько обычно занимает продажа. Какие продажи можно считать быстрыми, а какие — необычно долгими?\"\n",
    "- [x]  выполнено задание: \"Какие факторы больше всего влияют на общую (полную) стоимость объекта? Постройте графики, которые покажут зависимость цены от указанных ниже параметров. Для подготовки данных перед визуализацией вы можете использовать сводные таблицы.\"\n",
    "        - общей площади;\n",
    "        - жилой площади;\n",
    "        - площади кухни;\n",
    "        - количество комнат;\n",
    "        - типа этажа, на котором расположена квартира (первый, последний, другой);\n",
    "        - даты размещения (день недели, месяц, год);\n",
    "- [x]  выполнено задание: \"Посчитайте среднюю цену одного квадратного метра в 10 населённых пунктах с наибольшим числом объявлений. Выделите населённые пункты с самой высокой и низкой стоимостью квадратного метра. Эти данные можно найти по имени в столбце `locality_name`.\"\n",
    "- [x]  выполнено задание: \"Ранее вы посчитали расстояние до центра в километрах. Теперь выделите квартиры в Санкт-Петербурге с помощью столбца `locality_name` и вычислите среднюю цену каждого километра. Опишите, как стоимость объектов зависит от расстояния до центра города.\"\n",
    "- [x]  в каждом этапе есть промежуточные выводы\n",
    "- [x]  есть общий вывод"
   ]
  },
  {
   "cell_type": "markdown",
   "id": "16c064ba",
   "metadata": {},
   "source": [
    "### 1. Откройте файл с данными и изучите общую информацию. "
   ]
  },
  {
   "cell_type": "code",
   "execution_count": null,
   "id": "350a8415",
   "metadata": {},
   "outputs": [],
   "source": [
    "import pandas as pd\n",
    "import numpy as np\n",
    "data = pd.read_csv('/jubyterbase/real_estate_data.csv', sep = '\\t') "
   ]
  },
  {
   "cell_type": "code",
   "execution_count": null,
   "id": "d7632f95",
   "metadata": {},
   "outputs": [],
   "source": [
    "# выводим информацию обо всех колонках\n",
    "data.info()"
   ]
  },
  {
   "cell_type": "code",
   "execution_count": null,
   "id": "a153642f",
   "metadata": {},
   "outputs": [],
   "source": [
    "# вывод первых 10 строчек для ознакомления\n",
    "data.head(10)"
   ]
  },
  {
   "cell_type": "code",
   "execution_count": null,
   "id": "87f83ebe",
   "metadata": {},
   "outputs": [],
   "source": [
    "# вывод пропусков\n",
    "display(data.isna().sum())"
   ]
  },
  {
   "cell_type": "code",
   "execution_count": null,
   "id": "601a56cf",
   "metadata": {},
   "outputs": [],
   "source": [
    "# посмотрим распределение числовых значений\n",
    "data.describe()"
   ]
  },
  {
   "cell_type": "markdown",
   "id": "3b7997b5",
   "metadata": {},
   "source": [
    "На основании изучения информации можно сделать вывод, что имеются пропуски у следующих столбцов нашего датафрейма:\n",
    "\n",
    "ceiling_height - высота потолков (м)\n",
    "\n",
    "floors_total - всего этажей в доме \n",
    "\n",
    "living_area - жилая площадь в квадратных метрах (м²)\n",
    "\n",
    "is_apartment - апартаменты (булев тип)\n",
    "\n",
    "kitchen_area - площадь кухни в квадратных метрах (м²)\n",
    "\n",
    "balcony - количество балконов\n",
    "\n",
    "locality_name - название населённого пункта  \n",
    "\n",
    "airports_nearest - расстояние до ближайшего аэропорта в метрах (м)  \n",
    "\n",
    "cityCenters_nearest - расстояние до центра города (м) \n",
    "\n",
    "parks_nearest - расстояние до ближайшего парка (м) \n",
    "\n",
    "parks_around3000  число парков в радиусе 3 км\n",
    "\n",
    "parks_nearest — расстояние до ближайшего парка (м)\n",
    "\n",
    "ponds_around3000 — число водоёмов в радиусе 3 км\n",
    "\n",
    "ponds_nearest - расстояние до ближайшего водоёма (м)  \n",
    "\n",
    "days_exposition - сколько дней было размещено объявление (от публикации до снятия) \n"
   ]
  },
  {
   "cell_type": "markdown",
   "id": "ea7c308f",
   "metadata": {},
   "source": [
    "Построим общую гистограмму для всех столбцов таблицы"
   ]
  },
  {
   "cell_type": "code",
   "execution_count": null,
   "id": "03d88920",
   "metadata": {},
   "outputs": [],
   "source": [
    "# выведим гистограмму для всех столбцов\n",
    "data.hist(figsize=(15, 20));"
   ]
  },
  {
   "cell_type": "markdown",
   "id": "fbb6176b",
   "metadata": {},
   "source": [
    "####  2.1 Предобработка промущенных данных"
   ]
  },
  {
   "cell_type": "markdown",
   "id": "d25b90c6",
   "metadata": {},
   "source": [
    "1) Предобработка столбца с пропущенными данными 'ceiling_height' - высота потолков (м)"
   ]
  },
  {
   "cell_type": "code",
   "execution_count": null,
   "id": "62140805",
   "metadata": {},
   "outputs": [],
   "source": [
    "# предобработка с пропущенныдми данными о потолках\n",
    "data = data[(data['ceiling_height'] != 100) & (data['ceiling_height'] != 1)]\n",
    "data.loc[data['ceiling_height'] > 20, 'ceiling_height'] = data.loc[data['ceiling_height'] > 20, 'ceiling_height']/10\n",
    "data['ceiling_height'].fillna(data['ceiling_height'].median(), inplace=True)"
   ]
  },
  {
   "cell_type": "markdown",
   "id": "3d063d6a",
   "metadata": {},
   "source": [
    "2) Предобработка столбца с пропущенными данными 'floors_total' - всего этажей в доме"
   ]
  },
  {
   "cell_type": "code",
   "execution_count": null,
   "id": "e9f8be1e",
   "metadata": {},
   "outputs": [],
   "source": [
    "# посмотрим информацию о этажности домов и сколько их\n",
    "data['floors_total'].value_counts()"
   ]
  },
  {
   "cell_type": "code",
   "execution_count": null,
   "id": "d86d18da",
   "metadata": {},
   "outputs": [],
   "source": [
    "# удаление пропусков\n",
    "data.dropna(subset=['floors_total'], inplace=True)"
   ]
  },
  {
   "cell_type": "markdown",
   "id": "0443bd9c",
   "metadata": {},
   "source": [
    "В связи с незначительным количеством пропущенных ячеек с указанием количества этажей и невозможности узнать данное значение - мы их удалим."
   ]
  },
  {
   "cell_type": "markdown",
   "id": "966aa62b",
   "metadata": {},
   "source": [
    "3) Предобработка столбца с пропущенными данными  'living_area' - всего этажей в доме"
   ]
  },
  {
   "cell_type": "code",
   "execution_count": null,
   "id": "5526bd5c",
   "metadata": {},
   "outputs": [],
   "source": [
    "# предобработка 'living_area'\n",
    "living_ratio = data['living_area'].mean() / data['total_area'].mean()\n",
    "data['living_area'].fillna(living_ratio * data['total_area'], inplace=True)"
   ]
  },
  {
   "cell_type": "markdown",
   "id": "4ebead0e",
   "metadata": {},
   "source": [
    "Для заполнения промощённых ячеек столца living_area создадим переменную living_ratio и ищем соотношение средней жилой площади и среднюю общий площадь. Соотношение умножаем на общую площадь и командой fillna() заполняем пропущенные ячейки."
   ]
  },
  {
   "cell_type": "markdown",
   "id": "9a7798e0",
   "metadata": {},
   "source": [
    "4) Предобработка столбца с пропущенными данными 'is_apartment' - апартаменты"
   ]
  },
  {
   "cell_type": "code",
   "execution_count": null,
   "id": "b7102115",
   "metadata": {},
   "outputs": [],
   "source": [
    "# заменим пропуски значениями True и False\n",
    "data['is_apartment'] = data['is_apartment'].fillna(False)"
   ]
  },
  {
   "cell_type": "code",
   "execution_count": null,
   "id": "a4c3136f",
   "metadata": {},
   "outputs": [],
   "source": [
    "# \n",
    "data['is_apartment'].value_counts()"
   ]
  },
  {
   "cell_type": "markdown",
   "id": "aa33bbd8",
   "metadata": {},
   "source": [
    "Изучив столбец 'is_apartment' можно сделать вывод, что булево значение False имеет преимущество перед True. Соответственно рынок продажи апартаментов не развит. Если мы заполним пропущенные строки булевым значением False, то результат не повлияет на общую картину."
   ]
  },
  {
   "cell_type": "code",
   "execution_count": null,
   "id": "c363604a",
   "metadata": {},
   "outputs": [],
   "source": [
    "# заменим пропуски нулями\n",
    "data['is_apartment'] = data['is_apartment'].fillna(False)"
   ]
  },
  {
   "cell_type": "markdown",
   "id": "f082a4d0",
   "metadata": {},
   "source": [
    "5) Предобработка столбца с пропущенными данными  'kitchen_area' - апартаменты"
   ]
  },
  {
   "cell_type": "code",
   "execution_count": null,
   "id": "276e7247",
   "metadata": {},
   "outputs": [],
   "source": [
    "# предобработка 'kitchen_area'\n",
    "kitchen_ratio = data['kitchen_area'].mean() / data['total_area'].mean()\n",
    "data['kitchen_area'].fillna(kitchen_ratio * data['total_area'], inplace=True)"
   ]
  },
  {
   "cell_type": "markdown",
   "id": "8b48b840",
   "metadata": {},
   "source": [
    "Для заполнения промощённых ячеек столбца kitchen_area создадим переменную kitchen_ratio и ищем соотношение средней площади кухни и средний общий площади. Соотношение умножаем на общую площадь и командой fillna() заполняем пропущенные ячейки."
   ]
  },
  {
   "cell_type": "markdown",
   "id": "4eac208b",
   "metadata": {},
   "source": [
    "6) Предобработка столбца с пропущенными данными  'balcony' - балконы"
   ]
  },
  {
   "cell_type": "code",
   "execution_count": null,
   "id": "821e8559",
   "metadata": {},
   "outputs": [],
   "source": [
    "# проверим количество уникальных значений\n",
    "data['balcony'].value_counts()"
   ]
  },
  {
   "cell_type": "code",
   "execution_count": null,
   "id": "095b6274",
   "metadata": {},
   "outputs": [],
   "source": [
    "# изучим информацию о балконах\n",
    "data['balcony'] = data['balcony'].fillna(0)\n",
    "data['balcony'].astype('int')"
   ]
  },
  {
   "cell_type": "markdown",
   "id": "e2c53a5f",
   "metadata": {},
   "source": [
    "Изучая столбец 'balcony' видно, что большая часть квартир не имеет балконов, соответственно можно сделать вывод, что незаполненные ячейки — это квартиры без балконов. С помощью команды fillna() заполняем пустые ячейки цифрой 0. Так же переведём столбец из float64 в int."
   ]
  },
  {
   "cell_type": "code",
   "execution_count": null,
   "id": "6de37da3",
   "metadata": {},
   "outputs": [],
   "source": [
    "# проверим информацию после предобработки\n",
    "display(data.isna().sum())"
   ]
  },
  {
   "cell_type": "markdown",
   "id": "7410f5d2",
   "metadata": {},
   "source": [
    "7) Предобработка столбца с пропущенными данными 'locality_name' - балконы"
   ]
  },
  {
   "cell_type": "code",
   "execution_count": null,
   "id": "2fe24456",
   "metadata": {},
   "outputs": [],
   "source": [
    "# проверим количество уникальных значений в 'locality_name'\n",
    "data['locality_name'].value_counts()"
   ]
  },
  {
   "cell_type": "markdown",
   "id": "8c9fba5a",
   "metadata": {},
   "source": [
    "Изучив столбец 'locality_name' командой value_counts() видно, что населённые пункты имеют название начинающиеся на \"посёлок\", а так же разное писание - с буквами Е и Ё. Изучим поподробнее командой unique(). Найдём уникальные названия."
   ]
  },
  {
   "cell_type": "code",
   "execution_count": null,
   "id": "d3092058",
   "metadata": {},
   "outputs": [],
   "source": [
    "# проверим уникальные значения в  'locality_name'\n",
    "data['locality_name'].unique()"
   ]
  },
  {
   "cell_type": "markdown",
   "id": "10063a64",
   "metadata": {},
   "source": [
    "Видим множество населённых пунктов с разными наименованиями. Удалим тип населённого пункта для лучшего ориентирования. Предворительно удалим неизвестные населённые пункты - т.к. у нас нет возможности узнать их название."
   ]
  },
  {
   "cell_type": "code",
   "execution_count": null,
   "id": "5b064a2c",
   "metadata": {},
   "outputs": [],
   "source": [
    "# удалим незаполненные ячейки в 'locality_name'\n",
    "data.dropna(subset=['locality_name'], inplace=True)"
   ]
  },
  {
   "cell_type": "code",
   "execution_count": null,
   "id": "51e1d943",
   "metadata": {},
   "outputs": [],
   "source": [
    "# запишем в датасет excess_name названия, которые нужно удалить\n",
    "excess_name = ['посёлок', 'поселок', 'городского типа', 'садоводческое некоммерческое' , 'товарищество', 'станции', 'садовое', 'городской', 'при железнодорожной станции', 'деревня', 'коттеджный', 'село', 'городского типа' ]"
   ]
  },
  {
   "cell_type": "code",
   "execution_count": null,
   "id": "2b82c8a1",
   "metadata": {},
   "outputs": [],
   "source": [
    "# фунция для удаление ненужных слов из столбца\n",
    "def clarif_name(locality_name): # на вход функции подаются список неправильных значений и строка с правильным значением\n",
    "    for i in excess_name:\n",
    "        if i in locality_name:\n",
    "            return locality_name.replace(i, '') \n",
    "    return locality_name"
   ]
  },
  {
   "cell_type": "code",
   "execution_count": null,
   "id": "7260e652",
   "metadata": {},
   "outputs": [],
   "source": [
    "# применение фунции clarif_name. Удалим слова перечисленные в датасете excess_name\n",
    "data['locality_name'] = data['locality_name'].apply(clarif_name)"
   ]
  },
  {
   "cell_type": "code",
   "execution_count": null,
   "id": "ed3402b2",
   "metadata": {},
   "outputs": [],
   "source": [
    "# проверим что получилось\n",
    "print(data['locality_name'].sort_values())"
   ]
  },
  {
   "cell_type": "code",
   "execution_count": null,
   "id": "00ce7c2f",
   "metadata": {},
   "outputs": [],
   "source": [
    "# посмотрим пропуски\n",
    "display(data.isna().sum())"
   ]
  },
  {
   "cell_type": "markdown",
   "id": "213b5383",
   "metadata": {},
   "source": [
    "8) Предобработка столбца с пропущенными данными  'days_exposition' - сколько дней было размещено объявление (от публикации до снятия)"
   ]
  },
  {
   "cell_type": "code",
   "execution_count": null,
   "id": "b176fa20",
   "metadata": {},
   "outputs": [],
   "source": [
    "# проверим количество уникальных значений в 'days_exposition'\n",
    "data['days_exposition'].value_counts(ascending=True)"
   ]
  },
  {
   "cell_type": "code",
   "execution_count": null,
   "id": "7bc44a48",
   "metadata": {},
   "outputs": [],
   "source": [
    "data['days_exposition'] = np.floor(pd.to_numeric(data['days_exposition'], errors='coerce')).astype('Int64')"
   ]
  },
  {
   "cell_type": "code",
   "execution_count": null,
   "id": "2686c1f7",
   "metadata": {},
   "outputs": [],
   "source": [
    "# проверим количество уникальных значений в 'days_exposition'\n",
    "data['days_exposition'].value_counts(ascending=True)"
   ]
  },
  {
   "cell_type": "markdown",
   "id": "ee190058",
   "metadata": {},
   "source": [
    "Изучая 'days_exposition' видим, что количество пропущенных ячеек - 3171. Принимаю решение заполнить из цифрой 0. Незаполненные ячейки- квартиры, объявления о который находились 0 дней на публикации. Так же переведём столбец из float64 в int64."
   ]
  },
  {
   "cell_type": "markdown",
   "id": "67b94de8",
   "metadata": {},
   "source": [
    "9) Предобработка столбца с пропущенными данными 'airports_nearest', 'cityCenters_nearest',  'parks_around3000', 'parks_nearest ', 'ponds_around3000', 'ponds_nearest' пока оставим без изменений"
   ]
  },
  {
   "cell_type": "markdown",
   "id": "3c91c2cb",
   "metadata": {},
   "source": [
    "####  2.2 Предобработка остальных данных"
   ]
  },
  {
   "cell_type": "markdown",
   "id": "7544fac4",
   "metadata": {},
   "source": [
    "1) Переведём 'last_price' ( цена на момент снятия с публикации) в целое числовое значение "
   ]
  },
  {
   "cell_type": "code",
   "execution_count": null,
   "id": "7e64f23e",
   "metadata": {},
   "outputs": [],
   "source": [
    "# измегим тип данных в 'last_price'\n",
    "data['last_price'] = data['last_price'].astype('int')"
   ]
  },
  {
   "cell_type": "markdown",
   "id": "7043e6a0",
   "metadata": {},
   "source": [
    "2) Преобразуем отображение даты и времени в другой формат. Столбец 'first_day_exposition' "
   ]
  },
  {
   "cell_type": "code",
   "execution_count": null,
   "id": "e889e844",
   "metadata": {},
   "outputs": [],
   "source": [
    "# преобразуем формат выводимых временных данных 'first_day_exposition' \n",
    "data['first_day_exposition'] = pd.to_datetime(data['first_day_exposition'], format='%Y-%m-%dT%H:%M:%S')"
   ]
  },
  {
   "cell_type": "code",
   "execution_count": null,
   "id": "c7bdd752",
   "metadata": {},
   "outputs": [],
   "source": [
    "# посмотрим что получилось\n",
    "data['first_day_exposition']"
   ]
  },
  {
   "cell_type": "code",
   "execution_count": null,
   "id": "f4ef5337",
   "metadata": {},
   "outputs": [],
   "source": [
    "# после изменения типов данных проверим что получилось\n",
    "data.info()"
   ]
  },
  {
   "cell_type": "markdown",
   "id": "ff2bbae5",
   "metadata": {},
   "source": [
    "Переделываем \"Тип данных\" из float64 в int64, т.к. количество балконов целочисленно."
   ]
  },
  {
   "cell_type": "code",
   "execution_count": null,
   "id": "a11d056f",
   "metadata": {},
   "outputs": [],
   "source": [
    "# преобразуем тип данных в числовой\n",
    "data['balcony'] = data['balcony'].astype('int')"
   ]
  },
  {
   "cell_type": "code",
   "execution_count": null,
   "id": "726c5780",
   "metadata": {},
   "outputs": [],
   "source": [
    "# посмотрим распределение числовых значений\n",
    "data.describe()"
   ]
  },
  {
   "cell_type": "code",
   "execution_count": null,
   "id": "129fd974",
   "metadata": {},
   "outputs": [],
   "source": [
    "#код ревьюера\n",
    "data['total_area'].hist(bins=30);"
   ]
  },
  {
   "cell_type": "code",
   "execution_count": null,
   "id": "f58477b8",
   "metadata": {},
   "outputs": [],
   "source": [
    "data = data.loc[data['total_area'] < 200]"
   ]
  },
  {
   "cell_type": "code",
   "execution_count": null,
   "id": "30309ffa",
   "metadata": {
    "scrolled": false
   },
   "outputs": [],
   "source": [
    "data['total_area'].hist(bins=30, range=(0, 300)); #общая площадь"
   ]
  },
  {
   "cell_type": "code",
   "execution_count": null,
   "id": "e81ba190",
   "metadata": {},
   "outputs": [],
   "source": [
    "# посмотрим распределение в last_price\n",
    "data.boxplot(column=['last_price']);"
   ]
  },
  {
   "cell_type": "code",
   "execution_count": null,
   "id": "b5d4b2c2",
   "metadata": {},
   "outputs": [],
   "source": [
    "data = data.loc[data['last_price'] < 30000000]"
   ]
  },
  {
   "cell_type": "code",
   "execution_count": null,
   "id": "db6a8eed",
   "metadata": {},
   "outputs": [],
   "source": [
    "data['last_price'].hist(bins=30, range=(0, 50000000)); # цена"
   ]
  },
  {
   "cell_type": "code",
   "execution_count": null,
   "id": "a76a7bd0",
   "metadata": {},
   "outputs": [],
   "source": [
    "# посмотрим распределение в rooms\n",
    "data.boxplot(column=['rooms']);"
   ]
  },
  {
   "cell_type": "code",
   "execution_count": null,
   "id": "5c5cb9a5",
   "metadata": {},
   "outputs": [],
   "source": [
    "data = data.loc[data['rooms'] < 6]"
   ]
  },
  {
   "cell_type": "code",
   "execution_count": null,
   "id": "1e9569f1",
   "metadata": {},
   "outputs": [],
   "source": [
    "# количество комнат\n",
    "data['rooms'].hist(bins=30, range=(0, 10)); "
   ]
  },
  {
   "cell_type": "markdown",
   "id": "76b4799e",
   "metadata": {},
   "source": [
    "### 3. Посчитайте и добавьте в таблицу новые столбцы"
   ]
  },
  {
   "cell_type": "markdown",
   "id": "d0a1545b",
   "metadata": {},
   "source": [
    "1) Подсчитываем цену 1 кв.м"
   ]
  },
  {
   "cell_type": "code",
   "execution_count": null,
   "id": "ad20d0e6",
   "metadata": {},
   "outputs": [],
   "source": [
    "# создадим столбец с ценой за 1 кв.м.\n",
    "data['price_1'] = data['last_price'] / data['total_area']"
   ]
  },
  {
   "cell_type": "markdown",
   "id": "b8ff9943",
   "metadata": {},
   "source": [
    "2) Подсчитаем и добавим в таблицу: день публикации объявления (0 - понедельник, 1 - вторник и т.д.)"
   ]
  },
  {
   "cell_type": "code",
   "execution_count": null,
   "id": "6bd78ce6",
   "metadata": {},
   "outputs": [],
   "source": [
    "# подсчитаем день публикации объявления\n",
    "data['day_of_week'] = data['first_day_exposition'].dt.weekday"
   ]
  },
  {
   "cell_type": "markdown",
   "id": "180fe2a7",
   "metadata": {},
   "source": [
    "3) Подсчитаем и добавим в таблицу:  месяц публикации объявления"
   ]
  },
  {
   "cell_type": "code",
   "execution_count": null,
   "id": "d3f51a70",
   "metadata": {},
   "outputs": [],
   "source": [
    "# столбец с месяцем публикации объявления\n",
    "data['month'] = data['first_day_exposition'].dt.month"
   ]
  },
  {
   "cell_type": "markdown",
   "id": "b7c40abc",
   "metadata": {},
   "source": [
    "4) Подсчитаем и добавим в таблицу: год публикации объявления"
   ]
  },
  {
   "cell_type": "code",
   "execution_count": null,
   "id": "476e9f12",
   "metadata": {},
   "outputs": [],
   "source": [
    "# столбец с годом публикации объявления\n",
    "data['year'] = data['first_day_exposition'].dt.year"
   ]
  },
  {
   "cell_type": "markdown",
   "id": "b2d6ff32",
   "metadata": {},
   "source": [
    "5) Подсчитаем и добавим в таблицу: тип этажа квартиры (значения — «первый», «последний», «другой»)"
   ]
  },
  {
   "cell_type": "code",
   "execution_count": null,
   "id": "6f80eff0",
   "metadata": {},
   "outputs": [],
   "source": [
    "# фунция вывода информации об этажности\n",
    "def floor_category(row):\n",
    "    floors_total = row['floors_total']\n",
    "    floor = row['floor']\n",
    "    if floor == 1:\n",
    "        return 'первый'\n",
    "    elif floor == floors_total:\n",
    "        return 'последний'\n",
    "    elif 1 < floor < floors_total:\n",
    "        return 'другой'\n",
    "    \n",
    "data['floor_category'] = data.apply(floor_category, axis = 1)"
   ]
  },
  {
   "cell_type": "markdown",
   "id": "becf7e2b",
   "metadata": {},
   "source": [
    "6) Подсчитаем и добавим в таблицу:  расстояние в км до центра города"
   ]
  },
  {
   "cell_type": "code",
   "execution_count": null,
   "id": "76cd89bc",
   "metadata": {},
   "outputs": [],
   "source": [
    "# расстояние до центра города\n",
    "data['cityCenters_nearest_km'] = data['cityCenters_nearest']/1000\n",
    "data['cityCenters_nearest_km'].round(0)"
   ]
  },
  {
   "cell_type": "markdown",
   "id": "1ca5ba17",
   "metadata": {},
   "source": [
    "7) Проверим"
   ]
  },
  {
   "cell_type": "code",
   "execution_count": null,
   "id": "675abd10",
   "metadata": {},
   "outputs": [],
   "source": [
    "# посмотрим наш датасет. Что получилось\n",
    "data.head()"
   ]
  },
  {
   "cell_type": "markdown",
   "id": "bdc7ee27",
   "metadata": {},
   "source": [
    "### 4. Проведите исследовательский анализ данных"
   ]
  },
  {
   "cell_type": "markdown",
   "id": "4716ab7f",
   "metadata": {},
   "source": [
    "Изучим и опишем следующие параметры:"
   ]
  },
  {
   "cell_type": "markdown",
   "id": "be091cf6",
   "metadata": {},
   "source": [
    "1) Общая площадь:"
   ]
  },
  {
   "cell_type": "code",
   "execution_count": null,
   "id": "ea343bd2",
   "metadata": {},
   "outputs": [],
   "source": [
    "data['total_area'].hist(bins= 100, range=(10, 60));"
   ]
  },
  {
   "cell_type": "markdown",
   "id": "1ab5f95c",
   "metadata": {},
   "source": [
    "на гистограмме видно 5 максимумов из которых можно сделать вывод, что самые популярные квартиры имеют площадь:\n",
    "\n",
    "от 30 до 50 кв.м. (верноятно 1 комната)\n",
    "\n",
    "от 50 до 75 кв.м. (верноятно 2 комнаты)\n",
    "\n",
    "от 75 до 100 кв.м. (верноятно 3 комнаты)\n",
    "\n",
    "от 20 до 30 кв.м. (верноятно студия)\n",
    "\n",
    "от 100 и выше (4 комнаты и более)"
   ]
  },
  {
   "cell_type": "markdown",
   "id": "694fa6f4",
   "metadata": {},
   "source": [
    "2) Общая площадь:"
   ]
  },
  {
   "cell_type": "code",
   "execution_count": null,
   "id": "e2784bc5",
   "metadata": {},
   "outputs": [],
   "source": [
    "data['living_area'].hist(bins= 100, range=(5, 70));"
   ]
  },
  {
   "cell_type": "markdown",
   "id": "d67d8981",
   "metadata": {},
   "source": [
    "На основании анализа, который мы рассмотрели на гистограмме - видно следующее: \n",
    "\n",
    "Больше всего продаётся квартир в диапазоне 12-23 кв.м. Самые популярные около 18 кв.м. \n",
    "\n",
    "Далее по популярности идут квартиры площадью 25-37 кв.м. Самые популярные около 30 кв.м. \n",
    "\n",
    "Далее по популярности идут квартиры от 38 до 50 кв.м.\n",
    "\n"
   ]
  },
  {
   "cell_type": "markdown",
   "id": "7b351779",
   "metadata": {},
   "source": [
    "3) Площадь кухни"
   ]
  },
  {
   "cell_type": "code",
   "execution_count": null,
   "id": "d840fa35",
   "metadata": {},
   "outputs": [],
   "source": [
    "data['kitchen_area'].hist(bins= 100, range=(70, 150));"
   ]
  },
  {
   "cell_type": "markdown",
   "id": "b036def4",
   "metadata": {},
   "source": [
    "На основании анализа, который мы рассмотрели на гистограмме - видно следующее: \n",
    "\n",
    "Квартиры с площадью кухни от 6 до 12кв.м - самые продаваемые\n",
    "\n",
    "Менее продаваемые с площадью кухни начиная от 13 кв.м."
   ]
  },
  {
   "cell_type": "markdown",
   "id": "458fc8c8",
   "metadata": {},
   "source": []
  },
  {
   "cell_type": "code",
   "execution_count": null,
   "id": "fd88bf7f",
   "metadata": {},
   "outputs": [],
   "source": [
    "data['last_price'] = data['last_price'] /1000000 "
   ]
  },
  {
   "cell_type": "code",
   "execution_count": null,
   "id": "bc08f16b",
   "metadata": {},
   "outputs": [],
   "source": [
    "data['last_price'].hist(bins= 100, range=(0, 30));"
   ]
  },
  {
   "cell_type": "markdown",
   "id": "d917dde0",
   "metadata": {},
   "source": [
    "Вывод:\n",
    "Больше всего объявлений о продаже квартир находятся в ценовом диапазоне от 3 до 5 млн. руб. Наибольшее количество по цене 4,5 млн. руб."
   ]
  },
  {
   "cell_type": "markdown",
   "id": "9889c7dd",
   "metadata": {},
   "source": [
    "5) Количество комнат"
   ]
  },
  {
   "cell_type": "code",
   "execution_count": null,
   "id": "d9fc48b7",
   "metadata": {},
   "outputs": [],
   "source": [
    "data['rooms'].hist(bins= 100, range=(0, 10));"
   ]
  },
  {
   "cell_type": "markdown",
   "id": "366cbad2",
   "metadata": {},
   "source": [
    "Самые популярные проданные квартиры имеют 1-2 комнаты\n",
    "\n",
    "Далее 3 комнаты\n",
    "\n",
    "Далее 4 комнаты\n",
    "\n",
    "Далее свыше 4 комнат"
   ]
  },
  {
   "cell_type": "markdown",
   "id": "ad2f2c15",
   "metadata": {},
   "source": [
    "6) Высота потолков"
   ]
  },
  {
   "cell_type": "code",
   "execution_count": null,
   "id": "f29440d8",
   "metadata": {},
   "outputs": [],
   "source": [
    "data['ceiling_height'].hist(bins= 100, range=(2.3, 3));"
   ]
  },
  {
   "cell_type": "markdown",
   "id": "bc6ed6cb",
   "metadata": {},
   "source": [
    "больше всего квартир плодано с потолками 2,65м\n",
    "\n",
    "далее 2,5м, 2.6м, 2.7м, 3м, 2.8м"
   ]
  },
  {
   "cell_type": "markdown",
   "id": "af64e6a3",
   "metadata": {},
   "source": [
    "7) Этаж квартиры"
   ]
  },
  {
   "cell_type": "code",
   "execution_count": null,
   "id": "4cb0a609",
   "metadata": {},
   "outputs": [],
   "source": [
    "data['floor'].hist(bins= 100, range=(0, 30));"
   ]
  },
  {
   "cell_type": "markdown",
   "id": "c333baf4",
   "metadata": {},
   "source": [
    "самые популярные дома имеют 1-5 этажей\n",
    "\n",
    "далее от 6 до 9 этажей\n",
    "\n",
    "далее свыше 10 этажей"
   ]
  },
  {
   "cell_type": "markdown",
   "id": "449d2b9a",
   "metadata": {},
   "source": [
    "8) тип этажа квартиры («первый», «последний», «другой»)"
   ]
  },
  {
   "cell_type": "code",
   "execution_count": null,
   "id": "c564b810",
   "metadata": {},
   "outputs": [],
   "source": [
    "data['floor_category'].hist(bins= 100, range=(0, 2));"
   ]
  },
  {
   "cell_type": "markdown",
   "id": "7843cfb3",
   "metadata": {},
   "source": [
    "Больше всего квартир в категории \"другой\"\n",
    "\n",
    "квартир на первом и последних этажах почти одинаковое количество"
   ]
  },
  {
   "cell_type": "markdown",
   "id": "f193a892",
   "metadata": {},
   "source": [
    "9) Общее количество этажей в доме"
   ]
  },
  {
   "cell_type": "code",
   "execution_count": null,
   "id": "81d280ec",
   "metadata": {},
   "outputs": [],
   "source": [
    "data['floors_total'].hist(bins= 100, range=(0, 40));"
   ]
  },
  {
   "cell_type": "markdown",
   "id": "0a77f37e",
   "metadata": {},
   "source": [
    "Больше всего квартир продано в 5 и 9 этажных домах. Так же видно, что квартир в 4, 10, 17, 18 и 25 этажах, но они гораздо менее представлены, чем 5 и 9 этажи."
   ]
  },
  {
   "cell_type": "markdown",
   "id": "16dfac7b",
   "metadata": {},
   "source": [
    "10) Расстояние до центра города в метрах"
   ]
  },
  {
   "cell_type": "code",
   "execution_count": null,
   "id": "4a53b0f2",
   "metadata": {},
   "outputs": [],
   "source": [
    "data['cityCenters_nearest'].hist(bins= 100, range=(0, 50000));"
   ]
  },
  {
   "cell_type": "markdown",
   "id": "779ff2fe",
   "metadata": {},
   "source": [
    "Основная масса квартир находится на расстоянии от цента в диапазоне от 5000 м до 18000 м."
   ]
  },
  {
   "cell_type": "markdown",
   "id": "218f239f",
   "metadata": {},
   "source": [
    "11) Расстояние до ближайшего аэропорта"
   ]
  },
  {
   "cell_type": "code",
   "execution_count": null,
   "id": "76e84c04",
   "metadata": {},
   "outputs": [],
   "source": [
    "data['airports_nearest'].hist(bins= 100, range=(5000, 60000));"
   ]
  },
  {
   "cell_type": "markdown",
   "id": "7016a639",
   "metadata": {},
   "source": [
    "Расстояние до ближайшего аэропорта можно разделить на 4 категории:\n",
    "\n",
    "Категория №1 - Больше всего проданных квартир, где расстояние до аэропорта находиться в диапазоне от 10 до 30 км;\n",
    "\n",
    "Категория №2 - от 30 до 40 км;\n",
    "\n",
    "Категория №3 - от 40 до 55 км;\n",
    "\n",
    "Категория №4 - незначительное меньшинство квартир.\n"
   ]
  },
  {
   "cell_type": "markdown",
   "id": "979607e1",
   "metadata": {},
   "source": [
    "12) Расстояние до ближайшего парка"
   ]
  },
  {
   "cell_type": "code",
   "execution_count": null,
   "id": "048d7e9c",
   "metadata": {},
   "outputs": [],
   "source": [
    "data['parks_nearest'].hist(bins= 100, range=(0, 4000));"
   ]
  },
  {
   "cell_type": "markdown",
   "id": "96e4a416",
   "metadata": {},
   "source": [
    "Больше всего проданных квартир находятся от ближайшего парка на расстоянии до 1 км.\n",
    "\n",
    "Меньше всего проданных квартир находятся на расстоянии от 1 км и более"
   ]
  },
  {
   "cell_type": "markdown",
   "id": "07929e5c",
   "metadata": {},
   "source": [
    "13) День и месяц публикации объявления"
   ]
  },
  {
   "cell_type": "code",
   "execution_count": null,
   "id": "8f4fcde5",
   "metadata": {},
   "outputs": [],
   "source": [
    "data['day_of_week'].hist(bins= 100, range=(0, 10));"
   ]
  },
  {
   "cell_type": "code",
   "execution_count": null,
   "id": "c67ffd39",
   "metadata": {},
   "outputs": [],
   "source": [
    "data['month'].hist(bins= 100, range=(0, 12));"
   ]
  },
  {
   "cell_type": "markdown",
   "id": "c9a0037e",
   "metadata": {},
   "source": [
    "Лучше всего квартиры продаются в будние дни с понедельника по пятницу. Меньше всего в выходные - суббота и воскресенье.\n",
    "\n",
    "Лучше всего квартиры продаются феврале, но и в марте, апреле и октябре происходят много сделок.\n",
    "\n",
    "В мае наименьшее количество продаж квартир. Однако на равное с маем худшие месяца — это январь и декабрь."
   ]
  },
  {
   "cell_type": "code",
   "execution_count": null,
   "id": "dc06abc5",
   "metadata": {},
   "outputs": [],
   "source": [
    "data['days_exposition'].hist(bins= 100, range=(80, 500));"
   ]
  },
  {
   "cell_type": "code",
   "execution_count": null,
   "id": "cde9ab95",
   "metadata": {},
   "outputs": [],
   "source": [
    "print('Среднее значение: ', data['days_exposition'].mean())\n",
    "print('Медианное значение: ', data['days_exposition'].median()) "
   ]
  },
  {
   "cell_type": "markdown",
   "id": "c4f8890c",
   "metadata": {},
   "source": [
    "Так же мы видим 3 всплеска продаж. Самый большой на 45 день нахождения объявления на сайте, далее на 60 и на 30 день.\n",
    "\n",
    "В среднем квартиры за 157 дней.\n",
    "\n",
    "Медианное значение сроков продажи квартир - 74 дней.\n",
    "\n",
    "\n",
    "\n",
    "Долгими продажами являются квартиры объявления, которых находятся более 200 дней.\n"
   ]
  },
  {
   "cell_type": "markdown",
   "id": "d04140d8",
   "metadata": {},
   "source": [
    "15) Какие факторы больше всего влияют на общую (полную) стоимость объекта? Постройте графики, которые покажут зависимость цены от указанных ниже параметров. Для подготовки данных перед визуализацией вы можете использовать сводные таблицы.\""
   ]
  },
  {
   "cell_type": "markdown",
   "id": "ceeda33b",
   "metadata": {},
   "source": [
    "- общая площадь;"
   ]
  },
  {
   "cell_type": "code",
   "execution_count": null,
   "id": "876e0831",
   "metadata": {},
   "outputs": [],
   "source": [
    "total_area_price = data.pivot_table(index='total_area', values='last_price')\n",
    "print(total_area_price)\n",
    "total_area_price.plot(grid=True, style='o', figsize=(7, 7))"
   ]
  },
  {
   "cell_type": "code",
   "execution_count": null,
   "id": "7667d652",
   "metadata": {},
   "outputs": [],
   "source": [
    "display(data['total_area'].corr(data['last_price']))\n",
    "display(data['last_price'].corr(data['total_area']))"
   ]
  },
  {
   "cell_type": "markdown",
   "id": "3cbfa7ac",
   "metadata": {},
   "source": [
    "Вывод: \n",
    "\n",
    "Чем больше площадь - тем выше цена квартиры;"
   ]
  },
  {
   "cell_type": "markdown",
   "id": "06f5b30b",
   "metadata": {},
   "source": [
    "- жилая площадь"
   ]
  },
  {
   "cell_type": "code",
   "execution_count": null,
   "id": "c7925c6f",
   "metadata": {},
   "outputs": [],
   "source": [
    "living_area_price = data.pivot_table(index='living_area', values='last_price')\n",
    "living_area_price.plot(grid=True, style='o', figsize=(7, 7))"
   ]
  },
  {
   "cell_type": "code",
   "execution_count": null,
   "id": "1de632cf",
   "metadata": {},
   "outputs": [],
   "source": [
    "display(data['living_area'].corr(data['last_price']))\n",
    "display(data['last_price'].corr(data['living_area']))"
   ]
  },
  {
   "cell_type": "markdown",
   "id": "89d8b4af",
   "metadata": {},
   "source": [
    "Вывод: \n",
    "\n",
    "Чем больше жилая площадь - тем выше цена квартиры;"
   ]
  },
  {
   "cell_type": "markdown",
   "id": "e0be4b55",
   "metadata": {},
   "source": [
    "- площадь кухни;"
   ]
  },
  {
   "cell_type": "code",
   "execution_count": null,
   "id": "d386ab63",
   "metadata": {},
   "outputs": [],
   "source": [
    "total_kitchen_area_price = data.pivot_table(index='kitchen_area', values='last_price')\n",
    "total_kitchen_area_price.plot(grid=True, style='o', figsize=(7, 7))"
   ]
  },
  {
   "cell_type": "code",
   "execution_count": null,
   "id": "6b61324c",
   "metadata": {},
   "outputs": [],
   "source": [
    "display(data['kitchen_area'].corr(data['last_price']))\n",
    "display(data['last_price'].corr(data['kitchen_area']))"
   ]
  },
  {
   "cell_type": "markdown",
   "id": "3778660b",
   "metadata": {},
   "source": [
    "Вывод: \n",
    "\n",
    "Чем больше площадь кухни- тем выше цена квартиры;"
   ]
  },
  {
   "cell_type": "markdown",
   "id": "c1b27709",
   "metadata": {},
   "source": [
    "- количество комнат;"
   ]
  },
  {
   "cell_type": "code",
   "execution_count": null,
   "id": "27e7558d",
   "metadata": {},
   "outputs": [],
   "source": [
    "total_rooms = data.pivot_table(index='rooms', values='last_price')\n",
    "total_rooms.plot(grid=True, style='o', figsize=(10, 10));"
   ]
  },
  {
   "cell_type": "markdown",
   "id": "fabb9f5f",
   "metadata": {},
   "source": [
    "Вывод:\n",
    "\n",
    "В зависимости от площади цена на квартиры ростёт до квартир с 7 комнатами. На квартиры свыше 7 комнат цена начинает снижаться. Однако видно необоснованный реский рост цены на квартиры с 12 комнатами. Однако это исключение из правил, который мы не будем брать в рассчёт. Так же можно в качестве исключения из правил взать квартиры с 15 комнатами. Там мы видем необоснованне увеличение цены."
   ]
  },
  {
   "cell_type": "code",
   "execution_count": null,
   "id": "ee15047c",
   "metadata": {},
   "outputs": [],
   "source": [
    "display(data['rooms'].corr(data['last_price']))\n",
    "display(data['last_price'].corr(data['rooms']))"
   ]
  },
  {
   "cell_type": "markdown",
   "id": "f6563546",
   "metadata": {},
   "source": [
    "- типа этажа, на котором расположена квартира (первый, последний, другой);"
   ]
  },
  {
   "cell_type": "code",
   "execution_count": null,
   "id": "4d1e86f8",
   "metadata": {},
   "outputs": [],
   "source": [
    "total_floors_total = data.pivot_table(index='floors_total', values='last_price')\n",
    "total_floors_total.plot(grid=True, style='o', figsize=(10, 10));"
   ]
  },
  {
   "cell_type": "code",
   "execution_count": null,
   "id": "d648148f",
   "metadata": {},
   "outputs": [],
   "source": [
    "display(data['floors_total'].corr(data['last_price']))\n",
    "display(data['last_price'].corr(data['floors_total']))"
   ]
  },
  {
   "cell_type": "markdown",
   "id": "877db592",
   "metadata": {},
   "source": [
    "Вывод:\n",
    "\n",
    "Согласно гистограмме и коэффициенту Пирсона взаимосвязь цены квартиры и её местоположения минимальная"
   ]
  },
  {
   "cell_type": "markdown",
   "id": "6fbf69df",
   "metadata": {},
   "source": [
    "- даты размещения (день недели, месяц, год);"
   ]
  },
  {
   "cell_type": "code",
   "execution_count": null,
   "id": "6d31d51e",
   "metadata": {},
   "outputs": [],
   "source": [
    "total_first_day_exposition = data.pivot_table(index=['day_of_week'], values='last_price')\n",
    "total_first_day_exposition.plot(grid=True, style='o', figsize=(10, 10));"
   ]
  },
  {
   "cell_type": "code",
   "execution_count": null,
   "id": "f3552b23",
   "metadata": {},
   "outputs": [],
   "source": [
    "total_first_day_exposition = data.pivot_table(index=['month'], values='last_price')\n",
    "total_first_day_exposition.plot(grid=True, style='o', figsize=(10, 10));"
   ]
  },
  {
   "cell_type": "code",
   "execution_count": null,
   "id": "0a4cdddf",
   "metadata": {},
   "outputs": [],
   "source": [
    "total_first_day_exposition = data.pivot_table(index=['year'], values='last_price')\n",
    "total_first_day_exposition.plot(grid=True, style='o', figsize=(10, 10))"
   ]
  },
  {
   "cell_type": "markdown",
   "id": "0f9479d4",
   "metadata": {},
   "source": [
    "Вывод: \n",
    "\n",
    "На основании гистограммы в целом нет зависимости цены квартиры от даты размещения, однако видно, что в определённые даты, месяца и года наплюдается необоснованные всплески количества объявлений."
   ]
  },
  {
   "cell_type": "markdown",
   "id": "b6398a63",
   "metadata": {},
   "source": [
    "Вывод:\n",
    "\n",
    "На основании гистограмм можно видно, что:\n",
    "\n",
    "1) Лучше всего квартиры продавались в субботу, среду и четверг. Хуже всего в воскресенье, вторник, пятницу и понедельник <br>\n",
    "2) 3 наилучших месяца по продажам: декабрь, сентябрь и апрель. 3 худших месяца: октябрь, июнь и март <br>\n",
    "3) Самый лучший год по продажам - 2014. Очень много получилось продаж. Дашее спад вплоть до 2018 года и в 2019 году снова начался рост.<br>"
   ]
  },
  {
   "cell_type": "markdown",
   "id": "853e1b99",
   "metadata": {},
   "source": [
    "16) Посчитайте среднюю цену одного квадратного метра в 10 населённых пунктах с наибольшим числом объявлений. \n",
    "Выделите населённые пункты с самой высокой и низкой стоимостью квадратного метра. Эти данные можно найти по имени в столбце \n",
    "locality_name.\""
   ]
  },
  {
   "cell_type": "code",
   "execution_count": null,
   "id": "873efebf",
   "metadata": {},
   "outputs": [],
   "source": [
    "# максимальное число объявлений\n",
    "locality_name_max_10 = data['locality_name'].value_counts().head(10)"
   ]
  },
  {
   "cell_type": "code",
   "execution_count": null,
   "id": "5ebb40c5",
   "metadata": {},
   "outputs": [],
   "source": [
    "print(locality_name_max_10)"
   ]
  },
  {
   "cell_type": "code",
   "execution_count": null,
   "id": "052b84de",
   "metadata": {},
   "outputs": [],
   "source": [
    "# средний last_price объявлений\n",
    "mean_last_price = data['last_price'].mean()"
   ]
  },
  {
   "cell_type": "code",
   "execution_count": null,
   "id": "67a0eb1d",
   "metadata": {},
   "outputs": [],
   "source": [
    "print(mean_last_price)"
   ]
  },
  {
   "cell_type": "code",
   "execution_count": null,
   "id": "1cc30d71",
   "metadata": {},
   "outputs": [],
   "source": [
    "# максимальные цены по городам \n",
    "locality_name_max_10 = data['locality_name'].value_counts().head(10)\n",
    "locality_name_max_10_price_1 = data.query('locality_name in (@locality_name_max_10.index)').pivot_table(values='price_1', index='locality_name')\n",
    "locality_name_max_10_price_1.sort_values('price_1', ascending=False)"
   ]
  },
  {
   "cell_type": "markdown",
   "id": "250a7c18",
   "metadata": {},
   "source": [
    "Вывод: \n",
    "\n",
    "Самые дорогие квартиры в Санкт-Петербурге. Средняя цена на квартиры в городе составляет 114838,24 рубля за квадратный метр. Далее в порядке убывания г. Пушкин, деревня Кудрово и т.д. Очевидно, что чем больше удаление от центра города (и самого города) тем ниже цена.  \n",
    "\n"
   ]
  },
  {
   "cell_type": "markdown",
   "id": "8be2c4af",
   "metadata": {},
   "source": [
    "17) Ранее вы посчитали расстояние до центра в километрах. Теперь выделите квартиры в Санкт-Петербурге с помощью столбца locality_name и вычислите среднюю цену каждого километра. Опишите, как стоимость объектов зависит от расстояния до центра города."
   ]
  },
  {
   "cell_type": "code",
   "execution_count": null,
   "id": "2304f858",
   "metadata": {},
   "outputs": [],
   "source": [
    "spb_center = data.query('(locality_name == \"Санкт-Петербург\") & (cityCenters_nearest_km < 40)')\n",
    "spb_center1 = spb_center.pivot_table(index='cityCenters_nearest_km', values='last_price', aggfunc='median')\n",
    "spb_center1.plot(grid=True, style='o', figsize=(10, 10))"
   ]
  },
  {
   "cell_type": "code",
   "execution_count": null,
   "id": "9d4fd824",
   "metadata": {},
   "outputs": [],
   "source": [
    "spb_center_averag = data.query('(locality_name == \"Санкт-Петербург\") & (cityCenters_nearest_km < 40)')\n",
    "spb_center_averag1 = spb_center_averag.pivot_table(index='cityCenters_nearest_km', values='price_1', aggfunc='median').plot(grid=True, style='o', figsize=(5, 5))\n",
    "spb_center_averag1"
   ]
  },
  {
   "cell_type": "markdown",
   "id": "2bab04b5",
   "metadata": {},
   "source": [
    "Вывод: \n",
    "\n",
    "Наиболее дорогие квартиры находятся на расстоянии 7 километров от центра города. Далее, с удалением от центра стоимость как самих квартир , так и средняя стоимость квадратного метра начинает уменьшаться. "
   ]
  },
  {
   "cell_type": "markdown",
   "id": "3b688bd3",
   "metadata": {},
   "source": [
    "### 5. Общий вывод"
   ]
  },
  {
   "cell_type": "markdown",
   "id": "1a63a5e7",
   "metadata": {},
   "source": [
    "На основании проведённого исследовательского анализа данных можно сделать седлающие выводы:\n",
    "\n",
    "1) Самый популярный тип квартир 1 и 2 комнатные. Далее по популярности 3 комнатные, студии и квартиры с 4 комнатами и выше;\n",
    "\n",
    "2) Самые популярные квартиры около 18 кв.м. Далее по популярности квартиры около 30 кв.м. Далее около 43 кв.м.;\n",
    "\n",
    "3) Квартиры с площадью кухни от 6 до 12кв.м - самые продаваемые. Квартиры с площадью кухни более 13 кв.м. менее продаваемые.;\n",
    "\n",
    "4) Больше всего объявлений о продаже квартир находятся в ценовом диапазоне от 3 до 5 млн. руб. Наибольшее количество по цене 4,5 млн. руб.;\n",
    "\n",
    "5) Самые популярные проданные квартиры имеют 1-2 комнаты, далее 3 комнаты, 4 комнаты, свыше 4 комнат;\n",
    "\n",
    "6) Больше всего квартир подано с потолками 2,65м, далее по популярности 2,5м, 2.6м, 2.7м, 3м, 2.8м;\n",
    "\n",
    "7) Самые популярные дома имеют 1-5 этажей, далее по популярности от 6 до 9 этажей, далее свыше 10 этажей;\n",
    "\n",
    "8) Больше всего квартир находиться не на 1 и не на последнем этаже. Количество квартир на 1 и последнем этажах одинаково;\n",
    "\n",
    "9) Больше всего квартир продано в 5 и 9 этажных домах. Так же видно, что квартир в 4, 10, 17, 18 и 25 этажках, но они гораздо менее представлены, чем 5 и 9 этажки;\n",
    "\n",
    "10) Основная масса квартир находится на расстоянии от цента в диапазоне от 5000 м. до 18000 м.;\n",
    "\n",
    "11) Больше всего проданных квартир, где расстояние до аэропорта находиться в диапазоне от 10 до 30 км, далее по популярности от 30 до 40 км, от 40 до 55 км\n",
    "\n",
    "12) Больше всего проданных квартир находятся от ближайшего парка на расстоянии до 1 км., менее всего от 1 км и более\n",
    "\n",
    "13) Лучше всего квартиры продаются в будние дни с понедельника по пятницу. Меньше всего в выходные - суббота и воскресенье.\n",
    "\n",
    "Лучше всего квартиры продаются феврале, но и в марте, апреле и октябре происходят много сделок.\n",
    "\n",
    "В мае наименьшее количество продаж квартир. Однако на равное с маем худшие месяца — это январь и декабрь.\n",
    "\n",
    "14) Судя по данным гистограммы можно сделать вывод, что больше всего квартир находилось на сайте 0 дней.\n",
    "\n",
    "Так же мы видим 3 всплеска продаж. Самый большой на 45 день нахождения объявления на сайте, далее на 60 и на 30 день.\n",
    "\n",
    "В среднем квартиры за 157 дней.\n",
    "\n",
    "Медианное значение сроков продажи квартир - 74 дней.\n",
    "\n",
    "\n",
    "Долгими продажами являются квартиры объявления, которых находятся более 200 дней.\n",
    "\n",
    "15) Чем больше площадь - тем выше цена квартиры;\n",
    "\n",
    "16) Чем больше жилая площадь - тем выше цена квартиры;\n",
    "\n",
    "17) Чем больше площадь кухни- тем выше цена квартиры;\n",
    "\n",
    "18) В зависимости от площади цена на квартиры растёт до квартир с 7 комнатами. На квартиры свыше 7 комнат цена начинает снижаться. Однако видно необоснованный резкий рост цены на квартиры с 12 комнатами. Однако это исключение из правил, который мы не будем брать в расчёт. Так же можно в качестве исключения из правил взять квартиры с 15 комнатами. Там мы видим необоснованное увеличение цены;\n",
    "\n",
    "19) Взаимосвязь цены квартиры и её местоположения минимальная\n",
    "\n",
    "20) На основании гистограмм можно видно, что:\n",
    "- Лучше всего квартиры продавались в субботу, среду и четверг. Хуже всего в воскресенье, вторник, пятницу и понедельник\n",
    "- 3 наилучших месяца по продажам: декабрь, сентябрь и апрель. 3 худших месяца: октябрь, июнь и март\n",
    "- Самый лучший год по продажам - 2014. Очень много получилось продаж. Дашее спад вплоть до 2018 года и в 2019 году снова начался рост.\n",
    "\n",
    "21) Самые дорогие квартиры в Санкт-Петербурге. Средняя цена на квартиры в городе составляет 114838,24 рубля за квадратный метр. Далее в порядке убывания г. Пушкин, деревня Кудрово и т.д. Очевидно, что чем больше удаление от центра города (и самого города) тем ниже цена.\n",
    "\n",
    "22) Наиболее дорогие квартиры находятся на расстоянии 7 километров от центра города. Далее, с удалением от центра стоимость как самих квартир, так и средняя стоимость квадратного метра начинает уменьшаться.\n"
   ]
  },
  {
   "cell_type": "markdown",
   "id": "764eb546",
   "metadata": {},
   "source": [
    "<div class=\"alert alert-success\">\n",
    "<b>✔️ Итоговый комментарий ревьюера v4:</b>\n",
    "<br>Все правки выполнены. Молодец!\n",
    "<br>Проделана огромная работа! У тебя подробные, понятные и логичные выводы, которые ты подкрепляешь фактами. Были использованы разные графики и способы, чтобы как можно более тщательно изучить данные и у тебя это получилось! \n",
    "<br>Я рад был поработать над проверкой твоей работы) В качестве дополнительного материала для изучения могу порекомендовать следующий ресурс:\n",
    "\n",
    "\thttps://www.python-graph-gallery.com/\n",
    "<br>В нем содержится большая библиотека графиков с готовым кодом, который можно использовать при работе.\n",
    "<br>Поздравляю со сдачей проекта и желаю удачи в дальнейшем обучении! 😉    \n",
    "</div>"
   ]
  },
  {
   "cell_type": "code",
   "execution_count": null,
   "id": "63b815e9",
   "metadata": {},
   "outputs": [],
   "source": []
  }
 ],
 "metadata": {
  "ExecuteTimeLog": [
   {
    "duration": 525,
    "start_time": "2022-11-05T19:51:59.032Z"
   },
   {
    "duration": 0,
    "start_time": "2022-11-05T19:51:59.561Z"
   },
   {
    "duration": 0,
    "start_time": "2022-11-05T19:51:59.563Z"
   },
   {
    "duration": 0,
    "start_time": "2022-11-05T19:51:59.568Z"
   },
   {
    "duration": 0,
    "start_time": "2022-11-05T19:51:59.569Z"
   },
   {
    "duration": 0,
    "start_time": "2022-11-05T19:51:59.570Z"
   },
   {
    "duration": 0,
    "start_time": "2022-11-05T19:51:59.571Z"
   },
   {
    "duration": 0,
    "start_time": "2022-11-05T19:51:59.573Z"
   },
   {
    "duration": 0,
    "start_time": "2022-11-05T19:51:59.574Z"
   },
   {
    "duration": 0,
    "start_time": "2022-11-05T19:51:59.576Z"
   },
   {
    "duration": 0,
    "start_time": "2022-11-05T19:51:59.577Z"
   },
   {
    "duration": 0,
    "start_time": "2022-11-05T19:51:59.578Z"
   },
   {
    "duration": 0,
    "start_time": "2022-11-05T19:51:59.580Z"
   },
   {
    "duration": 0,
    "start_time": "2022-11-05T19:51:59.581Z"
   },
   {
    "duration": 0,
    "start_time": "2022-11-05T19:51:59.582Z"
   },
   {
    "duration": 0,
    "start_time": "2022-11-05T19:51:59.584Z"
   },
   {
    "duration": 0,
    "start_time": "2022-11-05T19:51:59.585Z"
   },
   {
    "duration": 0,
    "start_time": "2022-11-05T19:51:59.587Z"
   },
   {
    "duration": 0,
    "start_time": "2022-11-05T19:51:59.588Z"
   },
   {
    "duration": 0,
    "start_time": "2022-11-05T19:51:59.589Z"
   },
   {
    "duration": 0,
    "start_time": "2022-11-05T19:51:59.590Z"
   },
   {
    "duration": 0,
    "start_time": "2022-11-05T19:51:59.591Z"
   },
   {
    "duration": 0,
    "start_time": "2022-11-05T19:51:59.592Z"
   },
   {
    "duration": 0,
    "start_time": "2022-11-05T19:51:59.593Z"
   },
   {
    "duration": 0,
    "start_time": "2022-11-05T19:51:59.594Z"
   },
   {
    "duration": 0,
    "start_time": "2022-11-05T19:51:59.595Z"
   },
   {
    "duration": 0,
    "start_time": "2022-11-05T19:51:59.596Z"
   },
   {
    "duration": 0,
    "start_time": "2022-11-05T19:51:59.597Z"
   },
   {
    "duration": 0,
    "start_time": "2022-11-05T19:51:59.598Z"
   },
   {
    "duration": 0,
    "start_time": "2022-11-05T19:51:59.599Z"
   },
   {
    "duration": 0,
    "start_time": "2022-11-05T19:51:59.600Z"
   },
   {
    "duration": 0,
    "start_time": "2022-11-05T19:51:59.601Z"
   },
   {
    "duration": 0,
    "start_time": "2022-11-05T19:51:59.603Z"
   },
   {
    "duration": 0,
    "start_time": "2022-11-05T19:51:59.655Z"
   },
   {
    "duration": 0,
    "start_time": "2022-11-05T19:51:59.657Z"
   },
   {
    "duration": 0,
    "start_time": "2022-11-05T19:51:59.658Z"
   },
   {
    "duration": 0,
    "start_time": "2022-11-05T19:51:59.659Z"
   },
   {
    "duration": 0,
    "start_time": "2022-11-05T19:51:59.660Z"
   },
   {
    "duration": 0,
    "start_time": "2022-11-05T19:51:59.661Z"
   },
   {
    "duration": 0,
    "start_time": "2022-11-05T19:51:59.662Z"
   },
   {
    "duration": 0,
    "start_time": "2022-11-05T19:51:59.664Z"
   },
   {
    "duration": 0,
    "start_time": "2022-11-05T19:51:59.666Z"
   },
   {
    "duration": 0,
    "start_time": "2022-11-05T19:51:59.667Z"
   },
   {
    "duration": 0,
    "start_time": "2022-11-05T19:51:59.669Z"
   },
   {
    "duration": 0,
    "start_time": "2022-11-05T19:51:59.670Z"
   },
   {
    "duration": 0,
    "start_time": "2022-11-05T19:51:59.671Z"
   },
   {
    "duration": 0,
    "start_time": "2022-11-05T19:51:59.673Z"
   },
   {
    "duration": 0,
    "start_time": "2022-11-05T19:51:59.674Z"
   },
   {
    "duration": 0,
    "start_time": "2022-11-05T19:51:59.675Z"
   },
   {
    "duration": 0,
    "start_time": "2022-11-05T19:51:59.677Z"
   },
   {
    "duration": 0,
    "start_time": "2022-11-05T19:51:59.678Z"
   },
   {
    "duration": 0,
    "start_time": "2022-11-05T19:51:59.678Z"
   },
   {
    "duration": 0,
    "start_time": "2022-11-05T19:51:59.680Z"
   },
   {
    "duration": 0,
    "start_time": "2022-11-05T19:51:59.681Z"
   },
   {
    "duration": 0,
    "start_time": "2022-11-05T19:51:59.682Z"
   },
   {
    "duration": 0,
    "start_time": "2022-11-05T19:51:59.685Z"
   },
   {
    "duration": 0,
    "start_time": "2022-11-05T19:51:59.686Z"
   },
   {
    "duration": 0,
    "start_time": "2022-11-05T19:51:59.687Z"
   },
   {
    "duration": 0,
    "start_time": "2022-11-05T19:51:59.689Z"
   },
   {
    "duration": 0,
    "start_time": "2022-11-05T19:51:59.690Z"
   },
   {
    "duration": 0,
    "start_time": "2022-11-05T19:51:59.692Z"
   },
   {
    "duration": 0,
    "start_time": "2022-11-05T19:51:59.693Z"
   },
   {
    "duration": 0,
    "start_time": "2022-11-05T19:51:59.754Z"
   },
   {
    "duration": 0,
    "start_time": "2022-11-05T19:51:59.756Z"
   },
   {
    "duration": 501,
    "start_time": "2022-11-06T12:14:14.991Z"
   },
   {
    "duration": 44,
    "start_time": "2022-11-06T12:15:23.514Z"
   },
   {
    "duration": 70,
    "start_time": "2022-11-06T12:16:28.213Z"
   },
   {
    "duration": 44,
    "start_time": "2022-11-06T12:19:47.009Z"
   },
   {
    "duration": 142,
    "start_time": "2022-11-06T12:21:13.167Z"
   },
   {
    "duration": 15,
    "start_time": "2022-11-06T12:21:15.793Z"
   },
   {
    "duration": 72,
    "start_time": "2022-11-06T12:21:43.677Z"
   },
   {
    "duration": 604,
    "start_time": "2022-11-06T18:33:13.020Z"
   },
   {
    "duration": 17,
    "start_time": "2022-11-06T18:33:13.626Z"
   },
   {
    "duration": 38,
    "start_time": "2022-11-06T18:33:13.645Z"
   },
   {
    "duration": 9,
    "start_time": "2022-11-06T18:33:13.685Z"
   },
   {
    "duration": 105,
    "start_time": "2022-11-06T18:33:13.696Z"
   },
   {
    "duration": 12,
    "start_time": "2022-11-06T18:33:13.803Z"
   },
   {
    "duration": 23,
    "start_time": "2022-11-06T18:33:13.817Z"
   },
   {
    "duration": 10,
    "start_time": "2022-11-06T18:33:13.842Z"
   },
   {
    "duration": 6,
    "start_time": "2022-11-06T18:33:13.854Z"
   },
   {
    "duration": 6,
    "start_time": "2022-11-06T18:33:13.863Z"
   },
   {
    "duration": 9,
    "start_time": "2022-11-06T18:33:13.870Z"
   },
   {
    "duration": 4,
    "start_time": "2022-11-06T18:33:13.880Z"
   },
   {
    "duration": 6,
    "start_time": "2022-11-06T18:33:13.887Z"
   },
   {
    "duration": 46,
    "start_time": "2022-11-06T18:33:13.895Z"
   },
   {
    "duration": 8,
    "start_time": "2022-11-06T18:33:13.943Z"
   },
   {
    "duration": 12,
    "start_time": "2022-11-06T18:33:13.952Z"
   },
   {
    "duration": 10,
    "start_time": "2022-11-06T18:33:13.967Z"
   },
   {
    "duration": 9,
    "start_time": "2022-11-06T18:33:13.979Z"
   },
   {
    "duration": 9,
    "start_time": "2022-11-06T18:33:13.990Z"
   },
   {
    "duration": 254,
    "start_time": "2022-11-06T18:33:14.038Z"
   },
   {
    "duration": 0,
    "start_time": "2022-11-06T18:33:14.294Z"
   },
   {
    "duration": 0,
    "start_time": "2022-11-06T18:33:14.296Z"
   },
   {
    "duration": 0,
    "start_time": "2022-11-06T18:33:14.297Z"
   },
   {
    "duration": 0,
    "start_time": "2022-11-06T18:33:14.299Z"
   },
   {
    "duration": 0,
    "start_time": "2022-11-06T18:33:14.301Z"
   },
   {
    "duration": 0,
    "start_time": "2022-11-06T18:33:14.303Z"
   },
   {
    "duration": 0,
    "start_time": "2022-11-06T18:33:14.305Z"
   },
   {
    "duration": 0,
    "start_time": "2022-11-06T18:33:14.306Z"
   },
   {
    "duration": 1,
    "start_time": "2022-11-06T18:33:14.307Z"
   },
   {
    "duration": 0,
    "start_time": "2022-11-06T18:33:14.309Z"
   },
   {
    "duration": 0,
    "start_time": "2022-11-06T18:33:14.310Z"
   },
   {
    "duration": 0,
    "start_time": "2022-11-06T18:33:14.311Z"
   },
   {
    "duration": 0,
    "start_time": "2022-11-06T18:33:14.312Z"
   },
   {
    "duration": 0,
    "start_time": "2022-11-06T18:33:14.321Z"
   },
   {
    "duration": 0,
    "start_time": "2022-11-06T18:33:14.322Z"
   },
   {
    "duration": 0,
    "start_time": "2022-11-06T18:33:14.323Z"
   },
   {
    "duration": 0,
    "start_time": "2022-11-06T18:33:14.324Z"
   },
   {
    "duration": 0,
    "start_time": "2022-11-06T18:33:14.325Z"
   },
   {
    "duration": 0,
    "start_time": "2022-11-06T18:33:14.326Z"
   },
   {
    "duration": 0,
    "start_time": "2022-11-06T18:33:14.327Z"
   },
   {
    "duration": 0,
    "start_time": "2022-11-06T18:33:14.328Z"
   },
   {
    "duration": 0,
    "start_time": "2022-11-06T18:33:14.329Z"
   },
   {
    "duration": 0,
    "start_time": "2022-11-06T18:33:14.329Z"
   },
   {
    "duration": 0,
    "start_time": "2022-11-06T18:33:14.334Z"
   },
   {
    "duration": 0,
    "start_time": "2022-11-06T18:33:14.335Z"
   },
   {
    "duration": 0,
    "start_time": "2022-11-06T18:33:14.336Z"
   },
   {
    "duration": 0,
    "start_time": "2022-11-06T18:33:14.338Z"
   },
   {
    "duration": 0,
    "start_time": "2022-11-06T18:33:14.342Z"
   },
   {
    "duration": 0,
    "start_time": "2022-11-06T18:33:14.344Z"
   },
   {
    "duration": 0,
    "start_time": "2022-11-06T18:33:14.345Z"
   },
   {
    "duration": 0,
    "start_time": "2022-11-06T18:33:14.347Z"
   },
   {
    "duration": 0,
    "start_time": "2022-11-06T18:33:14.348Z"
   },
   {
    "duration": 0,
    "start_time": "2022-11-06T18:33:14.349Z"
   },
   {
    "duration": 0,
    "start_time": "2022-11-06T18:33:14.351Z"
   },
   {
    "duration": 0,
    "start_time": "2022-11-06T18:33:14.352Z"
   },
   {
    "duration": 0,
    "start_time": "2022-11-06T18:33:14.354Z"
   },
   {
    "duration": 0,
    "start_time": "2022-11-06T18:33:14.357Z"
   },
   {
    "duration": 0,
    "start_time": "2022-11-06T18:33:14.359Z"
   },
   {
    "duration": 0,
    "start_time": "2022-11-06T18:33:14.360Z"
   },
   {
    "duration": 0,
    "start_time": "2022-11-06T18:33:14.362Z"
   },
   {
    "duration": 0,
    "start_time": "2022-11-06T18:33:14.363Z"
   },
   {
    "duration": 0,
    "start_time": "2022-11-06T18:33:14.365Z"
   },
   {
    "duration": 0,
    "start_time": "2022-11-06T18:33:14.365Z"
   },
   {
    "duration": 0,
    "start_time": "2022-11-06T18:33:14.367Z"
   },
   {
    "duration": 65,
    "start_time": "2022-11-07T08:26:06.853Z"
   },
   {
    "duration": 8,
    "start_time": "2022-11-07T08:27:57.441Z"
   },
   {
    "duration": 8,
    "start_time": "2022-11-07T08:28:59.689Z"
   },
   {
    "duration": 712,
    "start_time": "2022-11-07T08:29:10.199Z"
   },
   {
    "duration": 15,
    "start_time": "2022-11-07T08:29:12.127Z"
   },
   {
    "duration": 38,
    "start_time": "2022-11-07T08:29:12.707Z"
   },
   {
    "duration": 10,
    "start_time": "2022-11-07T08:29:12.935Z"
   },
   {
    "duration": 77,
    "start_time": "2022-11-07T08:29:13.232Z"
   },
   {
    "duration": 14,
    "start_time": "2022-11-07T08:29:15.063Z"
   },
   {
    "duration": 8,
    "start_time": "2022-11-07T08:29:16.704Z"
   },
   {
    "duration": 9,
    "start_time": "2022-11-07T08:29:17.273Z"
   },
   {
    "duration": 6,
    "start_time": "2022-11-07T08:29:18.438Z"
   },
   {
    "duration": 7,
    "start_time": "2022-11-07T08:29:19.422Z"
   },
   {
    "duration": 6,
    "start_time": "2022-11-07T08:29:20.280Z"
   },
   {
    "duration": 4,
    "start_time": "2022-11-07T08:29:28.023Z"
   },
   {
    "duration": 6,
    "start_time": "2022-11-07T08:29:28.984Z"
   },
   {
    "duration": 7,
    "start_time": "2022-11-07T08:29:30.263Z"
   },
   {
    "duration": 7,
    "start_time": "2022-11-07T08:29:31.185Z"
   },
   {
    "duration": 12,
    "start_time": "2022-11-07T08:29:33.488Z"
   },
   {
    "duration": 10,
    "start_time": "2022-11-07T08:29:35.904Z"
   },
   {
    "duration": 9,
    "start_time": "2022-11-07T08:29:36.926Z"
   },
   {
    "duration": 11,
    "start_time": "2022-11-07T08:29:37.959Z"
   },
   {
    "duration": 307,
    "start_time": "2022-11-07T08:29:38.600Z"
   },
   {
    "duration": 11,
    "start_time": "2022-11-07T08:30:17.495Z"
   },
   {
    "duration": 8,
    "start_time": "2022-11-07T08:30:19.557Z"
   },
   {
    "duration": 7,
    "start_time": "2022-11-07T08:30:20.232Z"
   },
   {
    "duration": 6,
    "start_time": "2022-11-07T08:30:20.722Z"
   },
   {
    "duration": 5,
    "start_time": "2022-11-07T08:30:22.983Z"
   },
   {
    "duration": 7,
    "start_time": "2022-11-07T08:30:23.967Z"
   },
   {
    "duration": 5,
    "start_time": "2022-11-07T08:30:24.457Z"
   },
   {
    "duration": 4,
    "start_time": "2022-11-07T08:30:29.774Z"
   },
   {
    "duration": 6,
    "start_time": "2022-11-07T08:30:30.767Z"
   },
   {
    "duration": 6,
    "start_time": "2022-11-07T08:30:32.751Z"
   },
   {
    "duration": 6,
    "start_time": "2022-11-07T08:30:34.519Z"
   },
   {
    "duration": 332,
    "start_time": "2022-11-07T08:30:34.984Z"
   },
   {
    "duration": 5,
    "start_time": "2022-11-07T08:30:35.470Z"
   },
   {
    "duration": 28,
    "start_time": "2022-11-07T08:30:42.238Z"
   },
   {
    "duration": 659,
    "start_time": "2022-11-07T08:30:43.244Z"
   },
   {
    "duration": 255,
    "start_time": "2022-11-07T08:30:43.966Z"
   },
   {
    "duration": 262,
    "start_time": "2022-11-07T08:30:45.046Z"
   },
   {
    "duration": 256,
    "start_time": "2022-11-07T08:30:45.712Z"
   },
   {
    "duration": 285,
    "start_time": "2022-11-07T08:30:46.398Z"
   },
   {
    "duration": 253,
    "start_time": "2022-11-07T08:30:47.021Z"
   },
   {
    "duration": 348,
    "start_time": "2022-11-07T08:30:47.878Z"
   },
   {
    "duration": 239,
    "start_time": "2022-11-07T08:30:48.506Z"
   },
   {
    "duration": 243,
    "start_time": "2022-11-07T08:30:49.156Z"
   },
   {
    "duration": 237,
    "start_time": "2022-11-07T08:30:49.966Z"
   },
   {
    "duration": 246,
    "start_time": "2022-11-07T08:30:50.605Z"
   },
   {
    "duration": 340,
    "start_time": "2022-11-07T08:30:51.237Z"
   },
   {
    "duration": 282,
    "start_time": "2022-11-07T08:30:51.886Z"
   },
   {
    "duration": 274,
    "start_time": "2022-11-07T08:30:52.170Z"
   },
   {
    "duration": 234,
    "start_time": "2022-11-07T08:30:52.740Z"
   },
   {
    "duration": 6,
    "start_time": "2022-11-07T08:30:52.976Z"
   },
   {
    "duration": 161,
    "start_time": "2022-11-07T08:30:53.821Z"
   },
   {
    "duration": 167,
    "start_time": "2022-11-07T08:30:54.455Z"
   },
   {
    "duration": 160,
    "start_time": "2022-11-07T08:30:55.086Z"
   },
   {
    "duration": 181,
    "start_time": "2022-11-07T08:30:55.693Z"
   },
   {
    "duration": 214,
    "start_time": "2022-11-07T08:30:56.349Z"
   },
   {
    "duration": 9,
    "start_time": "2022-11-07T08:30:56.573Z"
   },
   {
    "duration": 423,
    "start_time": "2022-11-07T08:30:57.477Z"
   },
   {
    "duration": 9,
    "start_time": "2022-11-07T08:30:58.153Z"
   },
   {
    "duration": 4,
    "start_time": "2022-11-07T08:30:58.383Z"
   },
   {
    "duration": 3,
    "start_time": "2022-11-07T08:30:58.606Z"
   },
   {
    "duration": 3,
    "start_time": "2022-11-07T08:30:58.838Z"
   },
   {
    "duration": 23,
    "start_time": "2022-11-07T08:30:59.079Z"
   },
   {
    "duration": 200,
    "start_time": "2022-11-07T08:30:59.813Z"
   },
   {
    "duration": 190,
    "start_time": "2022-11-07T08:31:00.108Z"
   },
   {
    "duration": 190,
    "start_time": "2022-11-07T08:38:12.805Z"
   },
   {
    "duration": 9,
    "start_time": "2022-11-07T08:51:31.182Z"
   },
   {
    "duration": 7,
    "start_time": "2022-11-07T08:51:32.551Z"
   },
   {
    "duration": 14,
    "start_time": "2022-11-07T08:51:36.113Z"
   },
   {
    "duration": 227,
    "start_time": "2022-11-07T08:51:37.079Z"
   },
   {
    "duration": 13,
    "start_time": "2022-11-07T08:51:38.149Z"
   },
   {
    "duration": 4,
    "start_time": "2022-11-07T08:59:30.917Z"
   },
   {
    "duration": 305,
    "start_time": "2022-11-07T08:59:33.172Z"
   },
   {
    "duration": 9,
    "start_time": "2022-11-07T08:59:55.530Z"
   },
   {
    "duration": 243,
    "start_time": "2022-11-07T08:59:56.454Z"
   },
   {
    "duration": 10,
    "start_time": "2022-11-07T08:59:58.130Z"
   },
   {
    "duration": 8,
    "start_time": "2022-11-07T09:07:54.472Z"
   },
   {
    "duration": 17,
    "start_time": "2022-11-07T09:07:56.553Z"
   },
   {
    "duration": 4,
    "start_time": "2022-11-07T09:07:57.346Z"
   },
   {
    "duration": 337,
    "start_time": "2022-11-07T09:07:58.168Z"
   },
   {
    "duration": 7,
    "start_time": "2022-11-07T09:10:27.005Z"
   },
   {
    "duration": 3,
    "start_time": "2022-11-07T09:23:05.408Z"
   },
   {
    "duration": 3,
    "start_time": "2022-11-07T09:23:29.257Z"
   },
   {
    "duration": 242,
    "start_time": "2022-11-07T09:23:30.178Z"
   },
   {
    "duration": 2,
    "start_time": "2022-11-07T09:23:35.280Z"
   },
   {
    "duration": 3,
    "start_time": "2022-11-07T09:23:35.808Z"
   },
   {
    "duration": 5,
    "start_time": "2022-11-07T09:26:12.808Z"
   },
   {
    "duration": 17,
    "start_time": "2022-11-07T09:39:44.340Z"
   },
   {
    "duration": 49,
    "start_time": "2022-11-08T10:40:10.263Z"
   },
   {
    "duration": 672,
    "start_time": "2022-11-08T10:40:15.673Z"
   },
   {
    "duration": 16,
    "start_time": "2022-11-08T10:40:17.150Z"
   },
   {
    "duration": 39,
    "start_time": "2022-11-08T10:40:17.361Z"
   },
   {
    "duration": 9,
    "start_time": "2022-11-08T10:40:17.562Z"
   },
   {
    "duration": 73,
    "start_time": "2022-11-08T10:40:18.088Z"
   },
   {
    "duration": 11,
    "start_time": "2022-11-08T10:40:19.373Z"
   },
   {
    "duration": 7,
    "start_time": "2022-11-08T10:40:19.780Z"
   },
   {
    "duration": 11,
    "start_time": "2022-11-08T10:40:19.990Z"
   },
   {
    "duration": 5,
    "start_time": "2022-11-08T10:40:21.100Z"
   },
   {
    "duration": 6,
    "start_time": "2022-11-08T10:40:21.742Z"
   },
   {
    "duration": 5,
    "start_time": "2022-11-08T10:40:21.974Z"
   },
   {
    "duration": 3,
    "start_time": "2022-11-08T10:40:22.805Z"
   },
   {
    "duration": 5,
    "start_time": "2022-11-08T10:40:23.262Z"
   },
   {
    "duration": 6,
    "start_time": "2022-11-08T10:40:23.940Z"
   },
   {
    "duration": 6,
    "start_time": "2022-11-08T10:40:24.179Z"
   },
   {
    "duration": 8,
    "start_time": "2022-11-08T10:40:24.703Z"
   },
   {
    "duration": 8,
    "start_time": "2022-11-08T10:40:25.237Z"
   },
   {
    "duration": 6,
    "start_time": "2022-11-08T10:40:25.712Z"
   },
   {
    "duration": 8,
    "start_time": "2022-11-08T10:40:26.676Z"
   },
   {
    "duration": 3,
    "start_time": "2022-11-08T10:40:26.971Z"
   },
   {
    "duration": 3,
    "start_time": "2022-11-08T10:40:27.239Z"
   },
   {
    "duration": 18,
    "start_time": "2022-11-08T10:40:27.515Z"
   },
   {
    "duration": 15,
    "start_time": "2022-11-08T10:40:27.883Z"
   },
   {
    "duration": 8,
    "start_time": "2022-11-08T10:40:28.188Z"
   },
   {
    "duration": 6,
    "start_time": "2022-11-08T10:40:28.761Z"
   },
   {
    "duration": 6,
    "start_time": "2022-11-08T10:40:28.988Z"
   },
   {
    "duration": 6,
    "start_time": "2022-11-08T10:40:29.177Z"
   },
   {
    "duration": 4,
    "start_time": "2022-11-08T10:40:30.445Z"
   },
   {
    "duration": 8,
    "start_time": "2022-11-08T10:40:30.880Z"
   },
   {
    "duration": 6,
    "start_time": "2022-11-08T10:40:31.074Z"
   },
   {
    "duration": 4,
    "start_time": "2022-11-08T10:40:31.714Z"
   },
   {
    "duration": 7,
    "start_time": "2022-11-08T10:40:32.374Z"
   },
   {
    "duration": 6,
    "start_time": "2022-11-08T10:40:32.777Z"
   },
   {
    "duration": 5,
    "start_time": "2022-11-08T10:40:33.219Z"
   },
   {
    "duration": 329,
    "start_time": "2022-11-08T10:40:33.663Z"
   },
   {
    "duration": 4,
    "start_time": "2022-11-08T10:40:34.101Z"
   },
   {
    "duration": 25,
    "start_time": "2022-11-08T10:40:34.558Z"
   },
   {
    "duration": 647,
    "start_time": "2022-11-08T10:40:35.467Z"
   },
   {
    "duration": 249,
    "start_time": "2022-11-08T10:40:36.159Z"
   },
   {
    "duration": 264,
    "start_time": "2022-11-08T10:40:36.806Z"
   },
   {
    "duration": 254,
    "start_time": "2022-11-08T10:40:37.483Z"
   },
   {
    "duration": 291,
    "start_time": "2022-11-08T10:40:38.131Z"
   },
   {
    "duration": 250,
    "start_time": "2022-11-08T10:40:39.013Z"
   },
   {
    "duration": 322,
    "start_time": "2022-11-08T10:40:39.705Z"
   },
   {
    "duration": 243,
    "start_time": "2022-11-08T10:40:40.386Z"
   },
   {
    "duration": 251,
    "start_time": "2022-11-08T10:40:41.057Z"
   },
   {
    "duration": 236,
    "start_time": "2022-11-08T10:40:41.760Z"
   },
   {
    "duration": 263,
    "start_time": "2022-11-08T10:40:42.446Z"
   },
   {
    "duration": 359,
    "start_time": "2022-11-08T10:40:43.457Z"
   },
   {
    "duration": 270,
    "start_time": "2022-11-08T10:40:44.265Z"
   },
   {
    "duration": 252,
    "start_time": "2022-11-08T10:40:44.538Z"
   },
   {
    "duration": 235,
    "start_time": "2022-11-08T10:40:45.111Z"
   },
   {
    "duration": 5,
    "start_time": "2022-11-08T10:40:45.348Z"
   },
   {
    "duration": 163,
    "start_time": "2022-11-08T10:40:46.459Z"
   },
   {
    "duration": 170,
    "start_time": "2022-11-08T10:40:47.167Z"
   },
   {
    "duration": 165,
    "start_time": "2022-11-08T10:40:47.880Z"
   },
   {
    "duration": 176,
    "start_time": "2022-11-08T10:40:48.561Z"
   },
   {
    "duration": 182,
    "start_time": "2022-11-08T10:40:49.306Z"
   },
   {
    "duration": 7,
    "start_time": "2022-11-08T10:40:49.569Z"
   },
   {
    "duration": 446,
    "start_time": "2022-11-08T10:40:50.385Z"
   },
   {
    "duration": 7,
    "start_time": "2022-11-08T10:40:51.116Z"
   },
   {
    "duration": 4,
    "start_time": "2022-11-08T10:40:51.351Z"
   },
   {
    "duration": 3,
    "start_time": "2022-11-08T10:40:51.615Z"
   },
   {
    "duration": 3,
    "start_time": "2022-11-08T10:40:51.854Z"
   },
   {
    "duration": 24,
    "start_time": "2022-11-08T10:40:52.462Z"
   },
   {
    "duration": 206,
    "start_time": "2022-11-08T10:40:52.935Z"
   },
   {
    "duration": 173,
    "start_time": "2022-11-08T10:40:53.397Z"
   },
   {
    "duration": 494,
    "start_time": "2022-11-09T09:12:58.628Z"
   },
   {
    "duration": 16,
    "start_time": "2022-11-09T09:12:59.124Z"
   },
   {
    "duration": 51,
    "start_time": "2022-11-09T09:12:59.141Z"
   },
   {
    "duration": 10,
    "start_time": "2022-11-09T09:12:59.194Z"
   },
   {
    "duration": 89,
    "start_time": "2022-11-09T09:12:59.205Z"
   },
   {
    "duration": 12,
    "start_time": "2022-11-09T09:12:59.296Z"
   },
   {
    "duration": 18,
    "start_time": "2022-11-09T09:12:59.310Z"
   },
   {
    "duration": 12,
    "start_time": "2022-11-09T09:12:59.330Z"
   },
   {
    "duration": 18,
    "start_time": "2022-11-09T09:12:59.344Z"
   },
   {
    "duration": 11,
    "start_time": "2022-11-09T09:12:59.365Z"
   },
   {
    "duration": 34,
    "start_time": "2022-11-09T09:12:59.378Z"
   },
   {
    "duration": 8,
    "start_time": "2022-11-09T09:12:59.413Z"
   },
   {
    "duration": 10,
    "start_time": "2022-11-09T09:12:59.423Z"
   },
   {
    "duration": 34,
    "start_time": "2022-11-09T09:12:59.435Z"
   },
   {
    "duration": 30,
    "start_time": "2022-11-09T09:12:59.470Z"
   },
   {
    "duration": 12,
    "start_time": "2022-11-09T09:12:59.501Z"
   },
   {
    "duration": 7,
    "start_time": "2022-11-09T09:12:59.515Z"
   },
   {
    "duration": 15,
    "start_time": "2022-11-09T09:12:59.524Z"
   },
   {
    "duration": 31,
    "start_time": "2022-11-09T09:12:59.540Z"
   },
   {
    "duration": 23,
    "start_time": "2022-11-09T09:12:59.573Z"
   },
   {
    "duration": 17,
    "start_time": "2022-11-09T09:12:59.597Z"
   },
   {
    "duration": 31,
    "start_time": "2022-11-09T09:12:59.615Z"
   },
   {
    "duration": 40,
    "start_time": "2022-11-09T09:12:59.648Z"
   },
   {
    "duration": 19,
    "start_time": "2022-11-09T09:12:59.691Z"
   },
   {
    "duration": 10,
    "start_time": "2022-11-09T09:12:59.712Z"
   },
   {
    "duration": 17,
    "start_time": "2022-11-09T09:12:59.724Z"
   },
   {
    "duration": 34,
    "start_time": "2022-11-09T09:12:59.742Z"
   },
   {
    "duration": 29,
    "start_time": "2022-11-09T09:12:59.780Z"
   },
   {
    "duration": 24,
    "start_time": "2022-11-09T09:12:59.810Z"
   },
   {
    "duration": 13,
    "start_time": "2022-11-09T09:12:59.835Z"
   },
   {
    "duration": 34,
    "start_time": "2022-11-09T09:12:59.850Z"
   },
   {
    "duration": 26,
    "start_time": "2022-11-09T09:12:59.885Z"
   },
   {
    "duration": 13,
    "start_time": "2022-11-09T09:12:59.912Z"
   },
   {
    "duration": 13,
    "start_time": "2022-11-09T09:12:59.927Z"
   },
   {
    "duration": 319,
    "start_time": "2022-11-09T09:12:59.941Z"
   },
   {
    "duration": 4,
    "start_time": "2022-11-09T09:13:00.262Z"
   },
   {
    "duration": 55,
    "start_time": "2022-11-09T09:13:00.267Z"
   },
   {
    "duration": 495,
    "start_time": "2022-11-09T09:13:00.323Z"
   },
   {
    "duration": 326,
    "start_time": "2022-11-09T09:13:00.820Z"
   },
   {
    "duration": 311,
    "start_time": "2022-11-09T09:13:01.148Z"
   },
   {
    "duration": 288,
    "start_time": "2022-11-09T09:13:01.461Z"
   },
   {
    "duration": 270,
    "start_time": "2022-11-09T09:13:01.750Z"
   },
   {
    "duration": 270,
    "start_time": "2022-11-09T09:13:02.021Z"
   },
   {
    "duration": 420,
    "start_time": "2022-11-09T09:13:02.293Z"
   },
   {
    "duration": 260,
    "start_time": "2022-11-09T09:13:02.715Z"
   },
   {
    "duration": 282,
    "start_time": "2022-11-09T09:13:02.976Z"
   },
   {
    "duration": 263,
    "start_time": "2022-11-09T09:13:03.261Z"
   },
   {
    "duration": 269,
    "start_time": "2022-11-09T09:13:03.526Z"
   },
   {
    "duration": 261,
    "start_time": "2022-11-09T09:13:03.797Z"
   },
   {
    "duration": 371,
    "start_time": "2022-11-09T09:13:04.059Z"
   },
   {
    "duration": 265,
    "start_time": "2022-11-09T09:13:04.432Z"
   },
   {
    "duration": 241,
    "start_time": "2022-11-09T09:13:04.699Z"
   },
   {
    "duration": 5,
    "start_time": "2022-11-09T09:13:04.941Z"
   },
   {
    "duration": 198,
    "start_time": "2022-11-09T09:13:04.948Z"
   },
   {
    "duration": 179,
    "start_time": "2022-11-09T09:13:05.147Z"
   },
   {
    "duration": 177,
    "start_time": "2022-11-09T09:13:05.328Z"
   },
   {
    "duration": 188,
    "start_time": "2022-11-09T09:13:05.507Z"
   },
   {
    "duration": 201,
    "start_time": "2022-11-09T09:13:05.696Z"
   },
   {
    "duration": 8,
    "start_time": "2022-11-09T09:13:05.898Z"
   },
   {
    "duration": 498,
    "start_time": "2022-11-09T09:13:05.907Z"
   },
   {
    "duration": 5,
    "start_time": "2022-11-09T09:13:06.407Z"
   },
   {
    "duration": 29,
    "start_time": "2022-11-09T09:13:06.414Z"
   },
   {
    "duration": 24,
    "start_time": "2022-11-09T09:13:06.445Z"
   },
   {
    "duration": 27,
    "start_time": "2022-11-09T09:13:06.471Z"
   },
   {
    "duration": 42,
    "start_time": "2022-11-09T09:13:06.500Z"
   },
   {
    "duration": 220,
    "start_time": "2022-11-09T09:13:06.543Z"
   },
   {
    "duration": 221,
    "start_time": "2022-11-09T09:13:06.765Z"
   },
   {
    "duration": 7,
    "start_time": "2022-11-09T09:18:06.664Z"
   },
   {
    "duration": 14,
    "start_time": "2022-11-09T09:18:44.613Z"
   },
   {
    "duration": 15,
    "start_time": "2022-11-09T09:18:54.027Z"
   },
   {
    "duration": 91,
    "start_time": "2022-11-09T09:18:57.195Z"
   },
   {
    "duration": 7,
    "start_time": "2022-11-09T09:19:35.917Z"
   },
   {
    "duration": 531,
    "start_time": "2022-11-09T09:19:54.898Z"
   },
   {
    "duration": 26,
    "start_time": "2022-11-09T09:19:55.436Z"
   },
   {
    "duration": 56,
    "start_time": "2022-11-09T09:19:55.464Z"
   },
   {
    "duration": 12,
    "start_time": "2022-11-09T09:19:55.522Z"
   },
   {
    "duration": 89,
    "start_time": "2022-11-09T09:19:55.536Z"
   },
   {
    "duration": 11,
    "start_time": "2022-11-09T09:19:55.628Z"
   },
   {
    "duration": 8,
    "start_time": "2022-11-09T09:19:55.640Z"
   },
   {
    "duration": 31,
    "start_time": "2022-11-09T09:19:55.650Z"
   },
   {
    "duration": 6,
    "start_time": "2022-11-09T09:19:55.683Z"
   },
   {
    "duration": 5,
    "start_time": "2022-11-09T09:19:55.692Z"
   },
   {
    "duration": 14,
    "start_time": "2022-11-09T09:19:55.698Z"
   },
   {
    "duration": 8,
    "start_time": "2022-11-09T09:19:55.714Z"
   },
   {
    "duration": 13,
    "start_time": "2022-11-09T09:19:55.724Z"
   },
   {
    "duration": 12,
    "start_time": "2022-11-09T09:19:55.739Z"
   },
   {
    "duration": 12,
    "start_time": "2022-11-09T09:19:55.753Z"
   },
   {
    "duration": 17,
    "start_time": "2022-11-09T09:19:55.766Z"
   },
   {
    "duration": 7,
    "start_time": "2022-11-09T09:19:55.785Z"
   },
   {
    "duration": 17,
    "start_time": "2022-11-09T09:19:55.793Z"
   },
   {
    "duration": 11,
    "start_time": "2022-11-09T09:19:55.812Z"
   },
   {
    "duration": 6,
    "start_time": "2022-11-09T09:19:55.824Z"
   },
   {
    "duration": 11,
    "start_time": "2022-11-09T09:19:55.831Z"
   },
   {
    "duration": 35,
    "start_time": "2022-11-09T09:19:55.844Z"
   },
   {
    "duration": 21,
    "start_time": "2022-11-09T09:19:55.881Z"
   },
   {
    "duration": 9,
    "start_time": "2022-11-09T09:19:55.903Z"
   },
   {
    "duration": 6,
    "start_time": "2022-11-09T09:19:55.914Z"
   },
   {
    "duration": 13,
    "start_time": "2022-11-09T09:19:55.921Z"
   },
   {
    "duration": 6,
    "start_time": "2022-11-09T09:19:55.936Z"
   },
   {
    "duration": 6,
    "start_time": "2022-11-09T09:19:55.979Z"
   },
   {
    "duration": 14,
    "start_time": "2022-11-09T09:19:55.986Z"
   },
   {
    "duration": 12,
    "start_time": "2022-11-09T09:19:56.002Z"
   },
   {
    "duration": 29,
    "start_time": "2022-11-09T09:19:56.016Z"
   },
   {
    "duration": 85,
    "start_time": "2022-11-09T09:19:56.047Z"
   },
   {
    "duration": 71,
    "start_time": "2022-11-09T09:19:56.133Z"
   },
   {
    "duration": 4,
    "start_time": "2022-11-09T09:19:56.206Z"
   },
   {
    "duration": 13,
    "start_time": "2022-11-09T09:19:56.211Z"
   },
   {
    "duration": 12,
    "start_time": "2022-11-09T09:19:56.226Z"
   },
   {
    "duration": 5,
    "start_time": "2022-11-09T09:19:56.240Z"
   },
   {
    "duration": 329,
    "start_time": "2022-11-09T09:19:56.246Z"
   },
   {
    "duration": 6,
    "start_time": "2022-11-09T09:19:56.577Z"
   },
   {
    "duration": 26,
    "start_time": "2022-11-09T09:19:56.584Z"
   },
   {
    "duration": 515,
    "start_time": "2022-11-09T09:19:56.611Z"
   },
   {
    "duration": 278,
    "start_time": "2022-11-09T09:19:57.127Z"
   },
   {
    "duration": 270,
    "start_time": "2022-11-09T09:19:57.406Z"
   },
   {
    "duration": 270,
    "start_time": "2022-11-09T09:19:57.678Z"
   },
   {
    "duration": 257,
    "start_time": "2022-11-09T09:19:57.950Z"
   },
   {
    "duration": 253,
    "start_time": "2022-11-09T09:19:58.208Z"
   },
   {
    "duration": 337,
    "start_time": "2022-11-09T09:19:58.462Z"
   },
   {
    "duration": 236,
    "start_time": "2022-11-09T09:19:58.801Z"
   },
   {
    "duration": 253,
    "start_time": "2022-11-09T09:19:59.038Z"
   },
   {
    "duration": 239,
    "start_time": "2022-11-09T09:19:59.293Z"
   },
   {
    "duration": 262,
    "start_time": "2022-11-09T09:19:59.533Z"
   },
   {
    "duration": 342,
    "start_time": "2022-11-09T09:19:59.798Z"
   },
   {
    "duration": 248,
    "start_time": "2022-11-09T09:20:00.142Z"
   },
   {
    "duration": 244,
    "start_time": "2022-11-09T09:20:00.392Z"
   },
   {
    "duration": 241,
    "start_time": "2022-11-09T09:20:00.638Z"
   },
   {
    "duration": 6,
    "start_time": "2022-11-09T09:20:00.881Z"
   },
   {
    "duration": 185,
    "start_time": "2022-11-09T09:20:00.889Z"
   },
   {
    "duration": 181,
    "start_time": "2022-11-09T09:20:01.076Z"
   },
   {
    "duration": 164,
    "start_time": "2022-11-09T09:20:01.259Z"
   },
   {
    "duration": 183,
    "start_time": "2022-11-09T09:20:01.424Z"
   },
   {
    "duration": 183,
    "start_time": "2022-11-09T09:20:01.609Z"
   },
   {
    "duration": 7,
    "start_time": "2022-11-09T09:20:01.794Z"
   },
   {
    "duration": 482,
    "start_time": "2022-11-09T09:20:01.802Z"
   },
   {
    "duration": 7,
    "start_time": "2022-11-09T09:20:02.285Z"
   },
   {
    "duration": 22,
    "start_time": "2022-11-09T09:20:02.293Z"
   },
   {
    "duration": 25,
    "start_time": "2022-11-09T09:20:02.317Z"
   },
   {
    "duration": 8,
    "start_time": "2022-11-09T09:20:02.344Z"
   },
   {
    "duration": 30,
    "start_time": "2022-11-09T09:20:02.353Z"
   },
   {
    "duration": 275,
    "start_time": "2022-11-09T09:20:02.385Z"
   },
   {
    "duration": 195,
    "start_time": "2022-11-09T09:20:02.662Z"
   },
   {
    "duration": 49,
    "start_time": "2022-11-09T18:25:49.038Z"
   },
   {
    "duration": 711,
    "start_time": "2022-11-09T18:25:57.645Z"
   },
   {
    "duration": 16,
    "start_time": "2022-11-09T18:25:58.358Z"
   },
   {
    "duration": 37,
    "start_time": "2022-11-09T18:25:58.375Z"
   },
   {
    "duration": 23,
    "start_time": "2022-11-09T18:25:58.414Z"
   },
   {
    "duration": 77,
    "start_time": "2022-11-09T18:25:58.438Z"
   },
   {
    "duration": 2396,
    "start_time": "2022-11-09T18:25:58.517Z"
   },
   {
    "duration": 13,
    "start_time": "2022-11-09T18:26:00.915Z"
   },
   {
    "duration": 23,
    "start_time": "2022-11-09T18:26:00.930Z"
   },
   {
    "duration": 20,
    "start_time": "2022-11-09T18:26:00.955Z"
   },
   {
    "duration": 21,
    "start_time": "2022-11-09T18:26:00.978Z"
   },
   {
    "duration": 28,
    "start_time": "2022-11-09T18:26:01.001Z"
   },
   {
    "duration": 41,
    "start_time": "2022-11-09T18:26:01.031Z"
   },
   {
    "duration": 38,
    "start_time": "2022-11-09T18:26:01.074Z"
   },
   {
    "duration": 41,
    "start_time": "2022-11-09T18:26:01.114Z"
   },
   {
    "duration": 39,
    "start_time": "2022-11-09T18:26:01.157Z"
   },
   {
    "duration": 27,
    "start_time": "2022-11-09T18:26:01.198Z"
   },
   {
    "duration": 31,
    "start_time": "2022-11-09T18:26:01.227Z"
   },
   {
    "duration": 33,
    "start_time": "2022-11-09T18:26:01.260Z"
   },
   {
    "duration": 25,
    "start_time": "2022-11-09T18:26:01.295Z"
   },
   {
    "duration": 31,
    "start_time": "2022-11-09T18:26:01.322Z"
   },
   {
    "duration": 32,
    "start_time": "2022-11-09T18:26:01.355Z"
   },
   {
    "duration": 25,
    "start_time": "2022-11-09T18:26:01.389Z"
   },
   {
    "duration": 97,
    "start_time": "2022-11-09T18:26:01.416Z"
   },
   {
    "duration": 22,
    "start_time": "2022-11-09T18:26:01.515Z"
   },
   {
    "duration": 60,
    "start_time": "2022-11-09T18:26:01.540Z"
   },
   {
    "duration": 24,
    "start_time": "2022-11-09T18:26:01.602Z"
   },
   {
    "duration": 59,
    "start_time": "2022-11-09T18:26:01.628Z"
   },
   {
    "duration": 28,
    "start_time": "2022-11-09T18:26:01.691Z"
   },
   {
    "duration": 50,
    "start_time": "2022-11-09T18:26:01.721Z"
   },
   {
    "duration": 33,
    "start_time": "2022-11-09T18:26:01.773Z"
   },
   {
    "duration": 18,
    "start_time": "2022-11-09T18:26:01.808Z"
   },
   {
    "duration": 23,
    "start_time": "2022-11-09T18:26:01.828Z"
   },
   {
    "duration": 68,
    "start_time": "2022-11-09T18:26:01.853Z"
   },
   {
    "duration": 11,
    "start_time": "2022-11-09T18:26:01.923Z"
   },
   {
    "duration": 51,
    "start_time": "2022-11-09T18:26:01.936Z"
   },
   {
    "duration": 32,
    "start_time": "2022-11-09T18:26:01.989Z"
   },
   {
    "duration": 43,
    "start_time": "2022-11-09T18:26:02.023Z"
   },
   {
    "duration": 300,
    "start_time": "2022-11-09T18:26:02.068Z"
   },
   {
    "duration": 4,
    "start_time": "2022-11-09T18:26:02.370Z"
   },
   {
    "duration": 42,
    "start_time": "2022-11-09T18:26:02.376Z"
   },
   {
    "duration": 274,
    "start_time": "2022-11-09T18:26:02.420Z"
   },
   {
    "duration": 332,
    "start_time": "2022-11-09T18:26:02.696Z"
   },
   {
    "duration": 282,
    "start_time": "2022-11-09T18:26:03.033Z"
   },
   {
    "duration": 261,
    "start_time": "2022-11-09T18:26:03.317Z"
   },
   {
    "duration": 248,
    "start_time": "2022-11-09T18:26:03.580Z"
   },
   {
    "duration": 242,
    "start_time": "2022-11-09T18:26:03.833Z"
   },
   {
    "duration": 329,
    "start_time": "2022-11-09T18:26:04.077Z"
   },
   {
    "duration": 226,
    "start_time": "2022-11-09T18:26:04.408Z"
   },
   {
    "duration": 260,
    "start_time": "2022-11-09T18:26:04.636Z"
   },
   {
    "duration": 250,
    "start_time": "2022-11-09T18:26:04.898Z"
   },
   {
    "duration": 252,
    "start_time": "2022-11-09T18:26:05.150Z"
   },
   {
    "duration": 267,
    "start_time": "2022-11-09T18:26:05.404Z"
   },
   {
    "duration": 367,
    "start_time": "2022-11-09T18:26:05.674Z"
   },
   {
    "duration": 246,
    "start_time": "2022-11-09T18:26:06.043Z"
   },
   {
    "duration": 282,
    "start_time": "2022-11-09T18:26:06.290Z"
   },
   {
    "duration": 7,
    "start_time": "2022-11-09T18:26:06.574Z"
   },
   {
    "duration": 210,
    "start_time": "2022-11-09T18:26:06.583Z"
   },
   {
    "duration": 182,
    "start_time": "2022-11-09T18:26:06.795Z"
   },
   {
    "duration": 150,
    "start_time": "2022-11-09T18:26:06.979Z"
   },
   {
    "duration": 174,
    "start_time": "2022-11-09T18:26:07.130Z"
   },
   {
    "duration": 184,
    "start_time": "2022-11-09T18:26:07.305Z"
   },
   {
    "duration": 7,
    "start_time": "2022-11-09T18:26:07.491Z"
   },
   {
    "duration": 342,
    "start_time": "2022-11-09T18:26:07.499Z"
   },
   {
    "duration": 6,
    "start_time": "2022-11-09T18:26:07.843Z"
   },
   {
    "duration": 13,
    "start_time": "2022-11-09T18:26:07.850Z"
   },
   {
    "duration": 7,
    "start_time": "2022-11-09T18:26:07.864Z"
   },
   {
    "duration": 7,
    "start_time": "2022-11-09T18:26:07.872Z"
   },
   {
    "duration": 28,
    "start_time": "2022-11-09T18:26:07.881Z"
   },
   {
    "duration": 221,
    "start_time": "2022-11-09T18:26:07.911Z"
   },
   {
    "duration": 184,
    "start_time": "2022-11-09T18:26:08.134Z"
   },
   {
    "duration": 48,
    "start_time": "2022-11-09T18:26:57.677Z"
   },
   {
    "duration": 49,
    "start_time": "2022-11-09T18:27:28.316Z"
   },
   {
    "duration": 42,
    "start_time": "2022-11-09T18:28:41.998Z"
   },
   {
    "duration": 45,
    "start_time": "2022-11-09T18:28:49.037Z"
   },
   {
    "duration": 42,
    "start_time": "2022-11-09T18:28:57.476Z"
   },
   {
    "duration": 44,
    "start_time": "2022-11-09T18:29:38.606Z"
   },
   {
    "duration": 5,
    "start_time": "2022-11-09T18:32:14.147Z"
   },
   {
    "duration": 57,
    "start_time": "2022-11-09T18:32:14.661Z"
   },
   {
    "duration": 7,
    "start_time": "2022-11-09T18:32:20.676Z"
   },
   {
    "duration": 4,
    "start_time": "2022-11-09T18:32:25.027Z"
   },
   {
    "duration": 118,
    "start_time": "2022-11-09T18:32:36.627Z"
   },
   {
    "duration": 15,
    "start_time": "2022-11-09T18:32:36.747Z"
   },
   {
    "duration": 34,
    "start_time": "2022-11-09T18:32:36.764Z"
   },
   {
    "duration": 39,
    "start_time": "2022-11-09T18:32:36.800Z"
   },
   {
    "duration": 81,
    "start_time": "2022-11-09T18:32:36.840Z"
   },
   {
    "duration": 2032,
    "start_time": "2022-11-09T18:32:36.923Z"
   },
   {
    "duration": 9,
    "start_time": "2022-11-09T18:32:38.957Z"
   },
   {
    "duration": 7,
    "start_time": "2022-11-09T18:32:38.968Z"
   },
   {
    "duration": 19,
    "start_time": "2022-11-09T18:32:38.976Z"
   },
   {
    "duration": 16,
    "start_time": "2022-11-09T18:32:38.999Z"
   },
   {
    "duration": 11,
    "start_time": "2022-11-09T18:32:39.017Z"
   },
   {
    "duration": 16,
    "start_time": "2022-11-09T18:32:39.032Z"
   },
   {
    "duration": 4,
    "start_time": "2022-11-09T18:32:39.050Z"
   },
   {
    "duration": 9,
    "start_time": "2022-11-09T18:32:39.056Z"
   },
   {
    "duration": 11,
    "start_time": "2022-11-09T18:32:39.067Z"
   },
   {
    "duration": 8,
    "start_time": "2022-11-09T18:32:39.080Z"
   },
   {
    "duration": 19,
    "start_time": "2022-11-09T18:32:39.089Z"
   },
   {
    "duration": 23,
    "start_time": "2022-11-09T18:32:39.110Z"
   },
   {
    "duration": 8,
    "start_time": "2022-11-09T18:32:39.135Z"
   },
   {
    "duration": 17,
    "start_time": "2022-11-09T18:32:39.145Z"
   },
   {
    "duration": 7,
    "start_time": "2022-11-09T18:32:39.163Z"
   },
   {
    "duration": 9,
    "start_time": "2022-11-09T18:32:39.172Z"
   },
   {
    "duration": 24,
    "start_time": "2022-11-09T18:32:39.182Z"
   },
   {
    "duration": 33,
    "start_time": "2022-11-09T18:32:39.208Z"
   },
   {
    "duration": 8,
    "start_time": "2022-11-09T18:32:39.243Z"
   },
   {
    "duration": 9,
    "start_time": "2022-11-09T18:32:39.252Z"
   },
   {
    "duration": 5,
    "start_time": "2022-11-09T18:32:39.263Z"
   },
   {
    "duration": 8,
    "start_time": "2022-11-09T18:32:39.273Z"
   },
   {
    "duration": 0,
    "start_time": "2022-11-09T18:32:39.283Z"
   },
   {
    "duration": 0,
    "start_time": "2022-11-09T18:32:39.284Z"
   },
   {
    "duration": 0,
    "start_time": "2022-11-09T18:32:39.285Z"
   },
   {
    "duration": 0,
    "start_time": "2022-11-09T18:32:39.286Z"
   },
   {
    "duration": 0,
    "start_time": "2022-11-09T18:32:39.288Z"
   },
   {
    "duration": 0,
    "start_time": "2022-11-09T18:32:39.333Z"
   },
   {
    "duration": 0,
    "start_time": "2022-11-09T18:32:39.335Z"
   },
   {
    "duration": 0,
    "start_time": "2022-11-09T18:32:39.337Z"
   },
   {
    "duration": 0,
    "start_time": "2022-11-09T18:32:39.339Z"
   },
   {
    "duration": 0,
    "start_time": "2022-11-09T18:32:39.341Z"
   },
   {
    "duration": 0,
    "start_time": "2022-11-09T18:32:39.342Z"
   },
   {
    "duration": 0,
    "start_time": "2022-11-09T18:32:39.344Z"
   },
   {
    "duration": 0,
    "start_time": "2022-11-09T18:32:39.345Z"
   },
   {
    "duration": 0,
    "start_time": "2022-11-09T18:32:39.346Z"
   },
   {
    "duration": 0,
    "start_time": "2022-11-09T18:32:39.348Z"
   },
   {
    "duration": 0,
    "start_time": "2022-11-09T18:32:39.349Z"
   },
   {
    "duration": 0,
    "start_time": "2022-11-09T18:32:39.350Z"
   },
   {
    "duration": 0,
    "start_time": "2022-11-09T18:32:39.352Z"
   },
   {
    "duration": 0,
    "start_time": "2022-11-09T18:32:39.353Z"
   },
   {
    "duration": 0,
    "start_time": "2022-11-09T18:32:39.354Z"
   },
   {
    "duration": 0,
    "start_time": "2022-11-09T18:32:39.356Z"
   },
   {
    "duration": 0,
    "start_time": "2022-11-09T18:32:39.357Z"
   },
   {
    "duration": 0,
    "start_time": "2022-11-09T18:32:39.358Z"
   },
   {
    "duration": 0,
    "start_time": "2022-11-09T18:32:39.360Z"
   },
   {
    "duration": 0,
    "start_time": "2022-11-09T18:32:39.362Z"
   },
   {
    "duration": 0,
    "start_time": "2022-11-09T18:32:39.364Z"
   },
   {
    "duration": 0,
    "start_time": "2022-11-09T18:32:39.365Z"
   },
   {
    "duration": 0,
    "start_time": "2022-11-09T18:32:39.367Z"
   },
   {
    "duration": 0,
    "start_time": "2022-11-09T18:32:39.369Z"
   },
   {
    "duration": 0,
    "start_time": "2022-11-09T18:32:39.433Z"
   },
   {
    "duration": 0,
    "start_time": "2022-11-09T18:32:39.434Z"
   },
   {
    "duration": 0,
    "start_time": "2022-11-09T18:32:39.436Z"
   },
   {
    "duration": 0,
    "start_time": "2022-11-09T18:32:39.437Z"
   },
   {
    "duration": 0,
    "start_time": "2022-11-09T18:32:39.439Z"
   },
   {
    "duration": 0,
    "start_time": "2022-11-09T18:32:39.440Z"
   },
   {
    "duration": 0,
    "start_time": "2022-11-09T18:32:39.441Z"
   },
   {
    "duration": 0,
    "start_time": "2022-11-09T18:32:39.442Z"
   },
   {
    "duration": 0,
    "start_time": "2022-11-09T18:32:39.443Z"
   },
   {
    "duration": 0,
    "start_time": "2022-11-09T18:32:39.444Z"
   },
   {
    "duration": 0,
    "start_time": "2022-11-09T18:32:39.445Z"
   },
   {
    "duration": 0,
    "start_time": "2022-11-09T18:32:39.446Z"
   },
   {
    "duration": 0,
    "start_time": "2022-11-09T18:32:39.447Z"
   },
   {
    "duration": 0,
    "start_time": "2022-11-09T18:32:39.448Z"
   },
   {
    "duration": 9,
    "start_time": "2022-11-09T18:36:43.804Z"
   },
   {
    "duration": 82,
    "start_time": "2022-11-09T18:37:55.169Z"
   },
   {
    "duration": 105,
    "start_time": "2022-11-09T18:38:08.895Z"
   },
   {
    "duration": 36,
    "start_time": "2022-11-09T18:38:09.002Z"
   },
   {
    "duration": 29,
    "start_time": "2022-11-09T18:38:09.040Z"
   },
   {
    "duration": 9,
    "start_time": "2022-11-09T18:38:09.071Z"
   },
   {
    "duration": 107,
    "start_time": "2022-11-09T18:38:09.081Z"
   },
   {
    "duration": 2112,
    "start_time": "2022-11-09T18:38:09.190Z"
   },
   {
    "duration": 13,
    "start_time": "2022-11-09T18:38:11.304Z"
   },
   {
    "duration": 22,
    "start_time": "2022-11-09T18:38:11.319Z"
   },
   {
    "duration": 9,
    "start_time": "2022-11-09T18:38:11.342Z"
   },
   {
    "duration": 7,
    "start_time": "2022-11-09T18:38:11.355Z"
   },
   {
    "duration": 6,
    "start_time": "2022-11-09T18:38:11.364Z"
   },
   {
    "duration": 18,
    "start_time": "2022-11-09T18:38:11.372Z"
   },
   {
    "duration": 7,
    "start_time": "2022-11-09T18:38:11.393Z"
   },
   {
    "duration": 34,
    "start_time": "2022-11-09T18:38:11.402Z"
   },
   {
    "duration": 29,
    "start_time": "2022-11-09T18:38:11.438Z"
   },
   {
    "duration": 10,
    "start_time": "2022-11-09T18:38:11.469Z"
   },
   {
    "duration": 12,
    "start_time": "2022-11-09T18:38:11.480Z"
   },
   {
    "duration": 17,
    "start_time": "2022-11-09T18:38:11.494Z"
   },
   {
    "duration": 25,
    "start_time": "2022-11-09T18:38:11.513Z"
   },
   {
    "duration": 22,
    "start_time": "2022-11-09T18:38:11.540Z"
   },
   {
    "duration": 3,
    "start_time": "2022-11-09T18:38:11.564Z"
   },
   {
    "duration": 18,
    "start_time": "2022-11-09T18:38:11.569Z"
   },
   {
    "duration": 27,
    "start_time": "2022-11-09T18:38:11.589Z"
   },
   {
    "duration": 20,
    "start_time": "2022-11-09T18:38:11.619Z"
   },
   {
    "duration": 13,
    "start_time": "2022-11-09T18:38:11.642Z"
   },
   {
    "duration": 8,
    "start_time": "2022-11-09T18:38:11.658Z"
   },
   {
    "duration": 5,
    "start_time": "2022-11-09T18:38:11.668Z"
   },
   {
    "duration": 27,
    "start_time": "2022-11-09T18:38:11.677Z"
   },
   {
    "duration": 12,
    "start_time": "2022-11-09T18:38:11.706Z"
   },
   {
    "duration": 17,
    "start_time": "2022-11-09T18:38:11.720Z"
   },
   {
    "duration": 12,
    "start_time": "2022-11-09T18:38:11.739Z"
   },
   {
    "duration": 27,
    "start_time": "2022-11-09T18:38:11.753Z"
   },
   {
    "duration": 109,
    "start_time": "2022-11-09T18:38:11.782Z"
   },
   {
    "duration": 4,
    "start_time": "2022-11-09T18:38:11.893Z"
   },
   {
    "duration": 9,
    "start_time": "2022-11-09T18:38:11.899Z"
   },
   {
    "duration": 24,
    "start_time": "2022-11-09T18:38:11.910Z"
   },
   {
    "duration": 5,
    "start_time": "2022-11-09T18:38:11.936Z"
   },
   {
    "duration": 283,
    "start_time": "2022-11-09T18:38:11.943Z"
   },
   {
    "duration": 6,
    "start_time": "2022-11-09T18:38:12.228Z"
   },
   {
    "duration": 33,
    "start_time": "2022-11-09T18:38:12.236Z"
   },
   {
    "duration": 252,
    "start_time": "2022-11-09T18:38:12.270Z"
   },
   {
    "duration": 277,
    "start_time": "2022-11-09T18:38:12.525Z"
   },
   {
    "duration": 272,
    "start_time": "2022-11-09T18:38:12.803Z"
   },
   {
    "duration": 271,
    "start_time": "2022-11-09T18:38:13.077Z"
   },
   {
    "duration": 443,
    "start_time": "2022-11-09T18:38:13.350Z"
   },
   {
    "duration": 252,
    "start_time": "2022-11-09T18:38:13.795Z"
   },
   {
    "duration": 248,
    "start_time": "2022-11-09T18:38:14.049Z"
   },
   {
    "duration": 270,
    "start_time": "2022-11-09T18:38:14.299Z"
   },
   {
    "duration": 287,
    "start_time": "2022-11-09T18:38:14.572Z"
   },
   {
    "duration": 267,
    "start_time": "2022-11-09T18:38:14.861Z"
   },
   {
    "duration": 271,
    "start_time": "2022-11-09T18:38:15.129Z"
   },
   {
    "duration": 263,
    "start_time": "2022-11-09T18:38:15.402Z"
   },
   {
    "duration": 254,
    "start_time": "2022-11-09T18:38:15.667Z"
   },
   {
    "duration": 253,
    "start_time": "2022-11-09T18:38:15.923Z"
   },
   {
    "duration": 555,
    "start_time": "2022-11-09T18:38:16.178Z"
   },
   {
    "duration": 8,
    "start_time": "2022-11-09T18:38:16.735Z"
   },
   {
    "duration": 187,
    "start_time": "2022-11-09T18:38:16.745Z"
   },
   {
    "duration": 170,
    "start_time": "2022-11-09T18:38:16.934Z"
   },
   {
    "duration": 188,
    "start_time": "2022-11-09T18:38:17.106Z"
   },
   {
    "duration": 185,
    "start_time": "2022-11-09T18:38:17.296Z"
   },
   {
    "duration": 194,
    "start_time": "2022-11-09T18:38:17.483Z"
   },
   {
    "duration": 11,
    "start_time": "2022-11-09T18:38:17.679Z"
   },
   {
    "duration": 312,
    "start_time": "2022-11-09T18:38:17.692Z"
   },
   {
    "duration": 7,
    "start_time": "2022-11-09T18:38:18.006Z"
   },
   {
    "duration": 21,
    "start_time": "2022-11-09T18:38:18.015Z"
   },
   {
    "duration": 7,
    "start_time": "2022-11-09T18:38:18.038Z"
   },
   {
    "duration": 9,
    "start_time": "2022-11-09T18:38:18.047Z"
   },
   {
    "duration": 27,
    "start_time": "2022-11-09T18:38:18.058Z"
   },
   {
    "duration": 236,
    "start_time": "2022-11-09T18:38:18.087Z"
   },
   {
    "duration": 208,
    "start_time": "2022-11-09T18:38:18.325Z"
   },
   {
    "duration": 43,
    "start_time": "2022-11-09T18:40:33.419Z"
   },
   {
    "duration": 7,
    "start_time": "2022-11-09T18:41:22.742Z"
   },
   {
    "duration": 4,
    "start_time": "2022-11-09T18:41:29.631Z"
   },
   {
    "duration": 91,
    "start_time": "2022-11-09T18:41:30.066Z"
   },
   {
    "duration": 5,
    "start_time": "2022-11-09T18:46:45.300Z"
   },
   {
    "duration": 3,
    "start_time": "2022-11-09T18:50:28.295Z"
   },
   {
    "duration": 305,
    "start_time": "2022-11-09T18:50:52.012Z"
   },
   {
    "duration": 23,
    "start_time": "2022-11-09T18:50:52.320Z"
   },
   {
    "duration": 34,
    "start_time": "2022-11-09T18:50:52.345Z"
   },
   {
    "duration": 26,
    "start_time": "2022-11-09T18:50:52.381Z"
   },
   {
    "duration": 78,
    "start_time": "2022-11-09T18:50:52.409Z"
   },
   {
    "duration": 1940,
    "start_time": "2022-11-09T18:50:52.491Z"
   },
   {
    "duration": 10,
    "start_time": "2022-11-09T18:50:54.433Z"
   },
   {
    "duration": 11,
    "start_time": "2022-11-09T18:50:54.444Z"
   },
   {
    "duration": 7,
    "start_time": "2022-11-09T18:50:54.456Z"
   },
   {
    "duration": 11,
    "start_time": "2022-11-09T18:50:54.465Z"
   },
   {
    "duration": 12,
    "start_time": "2022-11-09T18:50:54.478Z"
   },
   {
    "duration": 8,
    "start_time": "2022-11-09T18:50:54.492Z"
   },
   {
    "duration": 32,
    "start_time": "2022-11-09T18:50:54.502Z"
   },
   {
    "duration": 8,
    "start_time": "2022-11-09T18:50:54.536Z"
   },
   {
    "duration": 9,
    "start_time": "2022-11-09T18:50:54.545Z"
   },
   {
    "duration": 8,
    "start_time": "2022-11-09T18:50:54.556Z"
   },
   {
    "duration": 16,
    "start_time": "2022-11-09T18:50:54.566Z"
   },
   {
    "duration": 11,
    "start_time": "2022-11-09T18:50:54.584Z"
   },
   {
    "duration": 37,
    "start_time": "2022-11-09T18:50:54.598Z"
   },
   {
    "duration": 12,
    "start_time": "2022-11-09T18:50:54.637Z"
   },
   {
    "duration": 4,
    "start_time": "2022-11-09T18:50:54.652Z"
   },
   {
    "duration": 10,
    "start_time": "2022-11-09T18:50:54.659Z"
   },
   {
    "duration": 26,
    "start_time": "2022-11-09T18:50:54.671Z"
   },
   {
    "duration": 35,
    "start_time": "2022-11-09T18:50:54.698Z"
   },
   {
    "duration": 9,
    "start_time": "2022-11-09T18:50:54.735Z"
   },
   {
    "duration": 12,
    "start_time": "2022-11-09T18:50:54.746Z"
   },
   {
    "duration": 11,
    "start_time": "2022-11-09T18:50:54.760Z"
   },
   {
    "duration": 8,
    "start_time": "2022-11-09T18:50:54.775Z"
   },
   {
    "duration": 6,
    "start_time": "2022-11-09T18:50:54.785Z"
   },
   {
    "duration": 42,
    "start_time": "2022-11-09T18:50:54.793Z"
   },
   {
    "duration": 7,
    "start_time": "2022-11-09T18:50:54.837Z"
   },
   {
    "duration": 17,
    "start_time": "2022-11-09T18:50:54.845Z"
   },
   {
    "duration": 6,
    "start_time": "2022-11-09T18:50:54.864Z"
   },
   {
    "duration": 88,
    "start_time": "2022-11-09T18:50:54.873Z"
   },
   {
    "duration": 5,
    "start_time": "2022-11-09T18:50:54.963Z"
   },
   {
    "duration": 19,
    "start_time": "2022-11-09T18:50:54.970Z"
   },
   {
    "duration": 6,
    "start_time": "2022-11-09T18:50:54.991Z"
   },
   {
    "duration": 6,
    "start_time": "2022-11-09T18:50:54.999Z"
   },
   {
    "duration": 299,
    "start_time": "2022-11-09T18:50:55.007Z"
   },
   {
    "duration": 3,
    "start_time": "2022-11-09T18:50:55.308Z"
   },
   {
    "duration": 31,
    "start_time": "2022-11-09T18:50:55.312Z"
   },
   {
    "duration": 238,
    "start_time": "2022-11-09T18:50:55.345Z"
   },
   {
    "duration": 248,
    "start_time": "2022-11-09T18:50:55.584Z"
   },
   {
    "duration": 277,
    "start_time": "2022-11-09T18:50:55.834Z"
   },
   {
    "duration": 584,
    "start_time": "2022-11-09T18:50:56.113Z"
   },
   {
    "duration": 258,
    "start_time": "2022-11-09T18:50:56.700Z"
   },
   {
    "duration": 245,
    "start_time": "2022-11-09T18:50:56.960Z"
   },
   {
    "duration": 261,
    "start_time": "2022-11-09T18:50:57.207Z"
   },
   {
    "duration": 249,
    "start_time": "2022-11-09T18:50:57.470Z"
   },
   {
    "duration": 252,
    "start_time": "2022-11-09T18:50:57.720Z"
   },
   {
    "duration": 237,
    "start_time": "2022-11-09T18:50:57.974Z"
   },
   {
    "duration": 249,
    "start_time": "2022-11-09T18:50:58.213Z"
   },
   {
    "duration": 259,
    "start_time": "2022-11-09T18:50:58.464Z"
   },
   {
    "duration": 247,
    "start_time": "2022-11-09T18:50:58.725Z"
   },
   {
    "duration": 242,
    "start_time": "2022-11-09T18:50:58.974Z"
   },
   {
    "duration": 218,
    "start_time": "2022-11-09T18:50:59.218Z"
   },
   {
    "duration": 5,
    "start_time": "2022-11-09T18:50:59.438Z"
   },
   {
    "duration": 162,
    "start_time": "2022-11-09T18:50:59.445Z"
   },
   {
    "duration": 170,
    "start_time": "2022-11-09T18:50:59.608Z"
   },
   {
    "duration": 155,
    "start_time": "2022-11-09T18:50:59.779Z"
   },
   {
    "duration": 178,
    "start_time": "2022-11-09T18:50:59.936Z"
   },
   {
    "duration": 186,
    "start_time": "2022-11-09T18:51:00.116Z"
   },
   {
    "duration": 9,
    "start_time": "2022-11-09T18:51:00.303Z"
   },
   {
    "duration": 269,
    "start_time": "2022-11-09T18:51:00.313Z"
   },
   {
    "duration": 7,
    "start_time": "2022-11-09T18:51:00.583Z"
   },
   {
    "duration": 19,
    "start_time": "2022-11-09T18:51:00.591Z"
   },
   {
    "duration": 53,
    "start_time": "2022-11-09T18:51:00.611Z"
   },
   {
    "duration": 42,
    "start_time": "2022-11-09T18:51:00.666Z"
   },
   {
    "duration": 76,
    "start_time": "2022-11-09T18:51:00.710Z"
   },
   {
    "duration": 36,
    "start_time": "2022-11-09T18:51:00.788Z"
   },
   {
    "duration": 0,
    "start_time": "2022-11-09T18:51:00.826Z"
   },
   {
    "duration": 54,
    "start_time": "2022-11-09T18:53:40.221Z"
   },
   {
    "duration": 242,
    "start_time": "2022-11-09T18:54:36.851Z"
   },
   {
    "duration": 5,
    "start_time": "2022-11-09T18:54:55.967Z"
   },
   {
    "duration": 5,
    "start_time": "2022-11-09T18:55:22.985Z"
   },
   {
    "duration": 230,
    "start_time": "2022-11-09T18:55:23.442Z"
   },
   {
    "duration": 633,
    "start_time": "2022-11-09T18:55:36.002Z"
   },
   {
    "duration": 263,
    "start_time": "2022-11-09T18:55:40.656Z"
   },
   {
    "duration": 3,
    "start_time": "2022-11-09T18:55:44.942Z"
   },
   {
    "duration": 225,
    "start_time": "2022-11-09T18:55:45.370Z"
   },
   {
    "duration": 4,
    "start_time": "2022-11-09T18:55:50.779Z"
   },
   {
    "duration": 231,
    "start_time": "2022-11-09T18:55:51.045Z"
   },
   {
    "duration": 4,
    "start_time": "2022-11-09T18:55:55.557Z"
   },
   {
    "duration": 225,
    "start_time": "2022-11-09T18:55:55.843Z"
   },
   {
    "duration": 3,
    "start_time": "2022-11-09T18:55:59.532Z"
   },
   {
    "duration": 231,
    "start_time": "2022-11-09T18:55:59.843Z"
   },
   {
    "duration": 5,
    "start_time": "2022-11-09T18:56:06.660Z"
   },
   {
    "duration": 4,
    "start_time": "2022-11-09T18:56:23.838Z"
   },
   {
    "duration": 246,
    "start_time": "2022-11-09T18:56:24.133Z"
   },
   {
    "duration": 5,
    "start_time": "2022-11-09T18:56:58.681Z"
   },
   {
    "duration": 302,
    "start_time": "2022-11-09T18:56:59.143Z"
   },
   {
    "duration": 230,
    "start_time": "2022-11-09T18:57:08.744Z"
   },
   {
    "duration": 249,
    "start_time": "2022-11-09T18:57:13.638Z"
   },
   {
    "duration": 4,
    "start_time": "2022-11-09T18:57:16.204Z"
   },
   {
    "duration": 330,
    "start_time": "2022-11-09T18:57:16.473Z"
   },
   {
    "duration": 113,
    "start_time": "2022-11-09T18:57:34.682Z"
   },
   {
    "duration": 137,
    "start_time": "2022-11-09T18:57:37.607Z"
   },
   {
    "duration": 129,
    "start_time": "2022-11-09T18:57:44.428Z"
   },
   {
    "duration": 135,
    "start_time": "2022-11-09T18:57:52.061Z"
   },
   {
    "duration": 145,
    "start_time": "2022-11-09T18:57:59.126Z"
   },
   {
    "duration": 161,
    "start_time": "2022-11-09T18:58:06.445Z"
   },
   {
    "duration": 263,
    "start_time": "2022-11-09T18:58:15.361Z"
   },
   {
    "duration": 4,
    "start_time": "2022-11-09T18:58:16.874Z"
   },
   {
    "duration": 141,
    "start_time": "2022-11-09T18:58:17.538Z"
   },
   {
    "duration": 4,
    "start_time": "2022-11-09T18:58:41.093Z"
   },
   {
    "duration": 121,
    "start_time": "2022-11-09T18:58:41.682Z"
   },
   {
    "duration": 277,
    "start_time": "2022-11-09T18:59:01.777Z"
   },
   {
    "duration": 278,
    "start_time": "2022-11-09T19:00:47.759Z"
   },
   {
    "duration": 2,
    "start_time": "2022-11-09T19:00:52.938Z"
   },
   {
    "duration": 228,
    "start_time": "2022-11-09T19:00:53.361Z"
   },
   {
    "duration": 94,
    "start_time": "2022-11-09T19:01:08.825Z"
   },
   {
    "duration": 15,
    "start_time": "2022-11-09T19:01:08.921Z"
   },
   {
    "duration": 28,
    "start_time": "2022-11-09T19:01:08.938Z"
   },
   {
    "duration": 11,
    "start_time": "2022-11-09T19:01:09.158Z"
   },
   {
    "duration": 75,
    "start_time": "2022-11-09T19:01:09.171Z"
   },
   {
    "duration": 2322,
    "start_time": "2022-11-09T19:01:09.248Z"
   },
   {
    "duration": 10,
    "start_time": "2022-11-09T19:01:11.572Z"
   },
   {
    "duration": 6,
    "start_time": "2022-11-09T19:01:11.585Z"
   },
   {
    "duration": 7,
    "start_time": "2022-11-09T19:01:11.592Z"
   },
   {
    "duration": 6,
    "start_time": "2022-11-09T19:01:11.600Z"
   },
   {
    "duration": 35,
    "start_time": "2022-11-09T19:01:11.607Z"
   },
   {
    "duration": 16,
    "start_time": "2022-11-09T19:01:11.644Z"
   },
   {
    "duration": 9,
    "start_time": "2022-11-09T19:01:11.661Z"
   },
   {
    "duration": 11,
    "start_time": "2022-11-09T19:01:11.671Z"
   },
   {
    "duration": 23,
    "start_time": "2022-11-09T19:01:11.684Z"
   },
   {
    "duration": 6,
    "start_time": "2022-11-09T19:01:11.709Z"
   },
   {
    "duration": 8,
    "start_time": "2022-11-09T19:01:11.718Z"
   },
   {
    "duration": 23,
    "start_time": "2022-11-09T19:01:11.727Z"
   },
   {
    "duration": 10,
    "start_time": "2022-11-09T19:01:11.751Z"
   },
   {
    "duration": 14,
    "start_time": "2022-11-09T19:01:11.762Z"
   },
   {
    "duration": 3,
    "start_time": "2022-11-09T19:01:11.778Z"
   },
   {
    "duration": 16,
    "start_time": "2022-11-09T19:01:11.782Z"
   },
   {
    "duration": 28,
    "start_time": "2022-11-09T19:01:11.799Z"
   },
   {
    "duration": 19,
    "start_time": "2022-11-09T19:01:11.829Z"
   },
   {
    "duration": 8,
    "start_time": "2022-11-09T19:01:11.850Z"
   },
   {
    "duration": 6,
    "start_time": "2022-11-09T19:01:11.860Z"
   },
   {
    "duration": 5,
    "start_time": "2022-11-09T19:01:11.868Z"
   },
   {
    "duration": 10,
    "start_time": "2022-11-09T19:01:11.875Z"
   },
   {
    "duration": 11,
    "start_time": "2022-11-09T19:01:11.887Z"
   },
   {
    "duration": 25,
    "start_time": "2022-11-09T19:01:11.900Z"
   },
   {
    "duration": 11,
    "start_time": "2022-11-09T19:01:11.927Z"
   },
   {
    "duration": 23,
    "start_time": "2022-11-09T19:01:11.940Z"
   },
   {
    "duration": 5,
    "start_time": "2022-11-09T19:01:11.965Z"
   },
   {
    "duration": 87,
    "start_time": "2022-11-09T19:01:11.971Z"
   },
   {
    "duration": 4,
    "start_time": "2022-11-09T19:01:12.060Z"
   },
   {
    "duration": 10,
    "start_time": "2022-11-09T19:01:12.066Z"
   },
   {
    "duration": 10,
    "start_time": "2022-11-09T19:01:12.077Z"
   },
   {
    "duration": 6,
    "start_time": "2022-11-09T19:01:12.089Z"
   },
   {
    "duration": 303,
    "start_time": "2022-11-09T19:01:12.097Z"
   },
   {
    "duration": 3,
    "start_time": "2022-11-09T19:01:12.402Z"
   },
   {
    "duration": 31,
    "start_time": "2022-11-09T19:01:12.407Z"
   },
   {
    "duration": 252,
    "start_time": "2022-11-09T19:01:12.440Z"
   },
   {
    "duration": 279,
    "start_time": "2022-11-09T19:01:12.694Z"
   },
   {
    "duration": 263,
    "start_time": "2022-11-09T19:01:12.979Z"
   },
   {
    "duration": 2,
    "start_time": "2022-11-09T19:01:13.244Z"
   },
   {
    "duration": 260,
    "start_time": "2022-11-09T19:01:13.248Z"
   },
   {
    "duration": 251,
    "start_time": "2022-11-09T19:01:13.510Z"
   },
   {
    "duration": 257,
    "start_time": "2022-11-09T19:01:13.763Z"
   },
   {
    "duration": 259,
    "start_time": "2022-11-09T19:01:14.022Z"
   },
   {
    "duration": 251,
    "start_time": "2022-11-09T19:01:14.283Z"
   },
   {
    "duration": 326,
    "start_time": "2022-11-09T19:01:14.536Z"
   },
   {
    "duration": 283,
    "start_time": "2022-11-09T19:01:14.865Z"
   },
   {
    "duration": 258,
    "start_time": "2022-11-09T19:01:15.150Z"
   },
   {
    "duration": 273,
    "start_time": "2022-11-09T19:01:15.409Z"
   },
   {
    "duration": 257,
    "start_time": "2022-11-09T19:01:15.684Z"
   },
   {
    "duration": 240,
    "start_time": "2022-11-09T19:01:15.942Z"
   },
   {
    "duration": 262,
    "start_time": "2022-11-09T19:01:16.186Z"
   },
   {
    "duration": 6,
    "start_time": "2022-11-09T19:01:16.451Z"
   },
   {
    "duration": 226,
    "start_time": "2022-11-09T19:01:16.459Z"
   },
   {
    "duration": 187,
    "start_time": "2022-11-09T19:01:16.687Z"
   },
   {
    "duration": 162,
    "start_time": "2022-11-09T19:01:16.876Z"
   },
   {
    "duration": 641,
    "start_time": "2022-11-09T19:01:17.040Z"
   },
   {
    "duration": 198,
    "start_time": "2022-11-09T19:01:17.682Z"
   },
   {
    "duration": 11,
    "start_time": "2022-11-09T19:01:17.882Z"
   },
   {
    "duration": 305,
    "start_time": "2022-11-09T19:01:17.894Z"
   },
   {
    "duration": 6,
    "start_time": "2022-11-09T19:01:18.201Z"
   },
   {
    "duration": 6,
    "start_time": "2022-11-09T19:01:18.209Z"
   },
   {
    "duration": 16,
    "start_time": "2022-11-09T19:01:18.217Z"
   },
   {
    "duration": 4,
    "start_time": "2022-11-09T19:01:18.235Z"
   },
   {
    "duration": 35,
    "start_time": "2022-11-09T19:01:18.240Z"
   },
   {
    "duration": 20,
    "start_time": "2022-11-09T19:01:18.276Z"
   },
   {
    "duration": 0,
    "start_time": "2022-11-09T19:01:18.297Z"
   },
   {
    "duration": 4,
    "start_time": "2022-11-09T19:01:27.549Z"
   },
   {
    "duration": 233,
    "start_time": "2022-11-09T19:01:28.422Z"
   },
   {
    "duration": 91,
    "start_time": "2022-11-09T19:01:38.975Z"
   },
   {
    "duration": 13,
    "start_time": "2022-11-09T19:01:39.068Z"
   },
   {
    "duration": 41,
    "start_time": "2022-11-09T19:01:39.083Z"
   },
   {
    "duration": 9,
    "start_time": "2022-11-09T19:01:39.305Z"
   },
   {
    "duration": 85,
    "start_time": "2022-11-09T19:01:39.316Z"
   },
   {
    "duration": 1925,
    "start_time": "2022-11-09T19:01:39.402Z"
   },
   {
    "duration": 11,
    "start_time": "2022-11-09T19:01:41.330Z"
   },
   {
    "duration": 25,
    "start_time": "2022-11-09T19:01:41.343Z"
   },
   {
    "duration": 18,
    "start_time": "2022-11-09T19:01:41.370Z"
   },
   {
    "duration": 25,
    "start_time": "2022-11-09T19:01:41.390Z"
   },
   {
    "duration": 19,
    "start_time": "2022-11-09T19:01:41.416Z"
   },
   {
    "duration": 27,
    "start_time": "2022-11-09T19:01:41.437Z"
   },
   {
    "duration": 20,
    "start_time": "2022-11-09T19:01:41.466Z"
   },
   {
    "duration": 21,
    "start_time": "2022-11-09T19:01:41.487Z"
   },
   {
    "duration": 21,
    "start_time": "2022-11-09T19:01:41.510Z"
   },
   {
    "duration": 24,
    "start_time": "2022-11-09T19:01:41.533Z"
   },
   {
    "duration": 21,
    "start_time": "2022-11-09T19:01:41.560Z"
   },
   {
    "duration": 15,
    "start_time": "2022-11-09T19:01:41.582Z"
   },
   {
    "duration": 31,
    "start_time": "2022-11-09T19:01:41.599Z"
   },
   {
    "duration": 29,
    "start_time": "2022-11-09T19:01:41.632Z"
   },
   {
    "duration": 20,
    "start_time": "2022-11-09T19:01:41.663Z"
   },
   {
    "duration": 25,
    "start_time": "2022-11-09T19:01:41.685Z"
   },
   {
    "duration": 35,
    "start_time": "2022-11-09T19:01:41.712Z"
   },
   {
    "duration": 24,
    "start_time": "2022-11-09T19:01:41.749Z"
   },
   {
    "duration": 25,
    "start_time": "2022-11-09T19:01:41.775Z"
   },
   {
    "duration": 12,
    "start_time": "2022-11-09T19:01:41.802Z"
   },
   {
    "duration": 23,
    "start_time": "2022-11-09T19:01:41.816Z"
   },
   {
    "duration": 19,
    "start_time": "2022-11-09T19:01:41.840Z"
   },
   {
    "duration": 23,
    "start_time": "2022-11-09T19:01:41.860Z"
   },
   {
    "duration": 21,
    "start_time": "2022-11-09T19:01:41.885Z"
   },
   {
    "duration": 39,
    "start_time": "2022-11-09T19:01:41.908Z"
   },
   {
    "duration": 20,
    "start_time": "2022-11-09T19:01:41.949Z"
   },
   {
    "duration": 4,
    "start_time": "2022-11-09T19:01:41.970Z"
   },
   {
    "duration": 69,
    "start_time": "2022-11-09T19:01:41.975Z"
   },
   {
    "duration": 4,
    "start_time": "2022-11-09T19:01:42.046Z"
   },
   {
    "duration": 22,
    "start_time": "2022-11-09T19:01:42.051Z"
   },
   {
    "duration": 9,
    "start_time": "2022-11-09T19:01:42.074Z"
   },
   {
    "duration": 27,
    "start_time": "2022-11-09T19:01:42.085Z"
   },
   {
    "duration": 282,
    "start_time": "2022-11-09T19:01:42.114Z"
   },
   {
    "duration": 4,
    "start_time": "2022-11-09T19:01:42.398Z"
   },
   {
    "duration": 52,
    "start_time": "2022-11-09T19:01:42.404Z"
   },
   {
    "duration": 254,
    "start_time": "2022-11-09T19:01:42.458Z"
   },
   {
    "duration": 241,
    "start_time": "2022-11-09T19:01:42.714Z"
   },
   {
    "duration": 262,
    "start_time": "2022-11-09T19:01:42.960Z"
   },
   {
    "duration": 9,
    "start_time": "2022-11-09T19:01:43.224Z"
   },
   {
    "duration": 228,
    "start_time": "2022-11-09T19:01:43.234Z"
   },
   {
    "duration": 243,
    "start_time": "2022-11-09T19:01:43.464Z"
   },
   {
    "duration": 251,
    "start_time": "2022-11-09T19:01:43.708Z"
   },
   {
    "duration": 255,
    "start_time": "2022-11-09T19:01:43.961Z"
   },
   {
    "duration": 229,
    "start_time": "2022-11-09T19:01:44.218Z"
   },
   {
    "duration": 249,
    "start_time": "2022-11-09T19:01:44.448Z"
   },
   {
    "duration": 232,
    "start_time": "2022-11-09T19:01:44.698Z"
   },
   {
    "duration": 245,
    "start_time": "2022-11-09T19:01:44.932Z"
   },
   {
    "duration": 255,
    "start_time": "2022-11-09T19:01:45.179Z"
   },
   {
    "duration": 254,
    "start_time": "2022-11-09T19:01:45.436Z"
   },
   {
    "duration": 242,
    "start_time": "2022-11-09T19:01:45.692Z"
   },
   {
    "duration": 260,
    "start_time": "2022-11-09T19:01:45.936Z"
   },
   {
    "duration": 6,
    "start_time": "2022-11-09T19:01:46.198Z"
   },
   {
    "duration": 186,
    "start_time": "2022-11-09T19:01:46.206Z"
   },
   {
    "duration": 180,
    "start_time": "2022-11-09T19:01:46.394Z"
   },
   {
    "duration": 150,
    "start_time": "2022-11-09T19:01:46.576Z"
   },
   {
    "duration": 185,
    "start_time": "2022-11-09T19:01:46.727Z"
   },
   {
    "duration": 221,
    "start_time": "2022-11-09T19:01:46.915Z"
   },
   {
    "duration": 8,
    "start_time": "2022-11-09T19:01:47.137Z"
   },
   {
    "duration": 281,
    "start_time": "2022-11-09T19:01:47.146Z"
   },
   {
    "duration": 7,
    "start_time": "2022-11-09T19:01:47.432Z"
   },
   {
    "duration": 28,
    "start_time": "2022-11-09T19:01:47.440Z"
   },
   {
    "duration": 16,
    "start_time": "2022-11-09T19:01:47.470Z"
   },
   {
    "duration": 15,
    "start_time": "2022-11-09T19:01:47.488Z"
   },
   {
    "duration": 35,
    "start_time": "2022-11-09T19:01:47.505Z"
   },
   {
    "duration": 30,
    "start_time": "2022-11-09T19:01:47.542Z"
   },
   {
    "duration": 0,
    "start_time": "2022-11-09T19:01:47.574Z"
   },
   {
    "duration": 769,
    "start_time": "2022-11-09T19:01:54.598Z"
   },
   {
    "duration": 254,
    "start_time": "2022-11-09T19:02:04.637Z"
   },
   {
    "duration": 236,
    "start_time": "2022-11-09T19:02:07.913Z"
   },
   {
    "duration": 259,
    "start_time": "2022-11-09T19:02:10.997Z"
   },
   {
    "duration": 105,
    "start_time": "2022-11-09T19:06:31.502Z"
   },
   {
    "duration": 16,
    "start_time": "2022-11-09T19:06:31.632Z"
   },
   {
    "duration": 32,
    "start_time": "2022-11-09T19:06:31.650Z"
   },
   {
    "duration": 9,
    "start_time": "2022-11-09T19:06:31.684Z"
   },
   {
    "duration": 108,
    "start_time": "2022-11-09T19:06:31.695Z"
   },
   {
    "duration": 1857,
    "start_time": "2022-11-09T19:06:31.805Z"
   },
   {
    "duration": 11,
    "start_time": "2022-11-09T19:06:33.665Z"
   },
   {
    "duration": 9,
    "start_time": "2022-11-09T19:06:33.677Z"
   },
   {
    "duration": 15,
    "start_time": "2022-11-09T19:06:33.687Z"
   },
   {
    "duration": 10,
    "start_time": "2022-11-09T19:06:33.704Z"
   },
   {
    "duration": 19,
    "start_time": "2022-11-09T19:06:33.716Z"
   },
   {
    "duration": 9,
    "start_time": "2022-11-09T19:06:33.737Z"
   },
   {
    "duration": 6,
    "start_time": "2022-11-09T19:06:33.747Z"
   },
   {
    "duration": 9,
    "start_time": "2022-11-09T19:06:33.754Z"
   },
   {
    "duration": 10,
    "start_time": "2022-11-09T19:06:33.765Z"
   },
   {
    "duration": 8,
    "start_time": "2022-11-09T19:06:33.777Z"
   },
   {
    "duration": 13,
    "start_time": "2022-11-09T19:06:33.786Z"
   },
   {
    "duration": 31,
    "start_time": "2022-11-09T19:06:33.801Z"
   },
   {
    "duration": 6,
    "start_time": "2022-11-09T19:06:33.834Z"
   },
   {
    "duration": 10,
    "start_time": "2022-11-09T19:06:33.842Z"
   },
   {
    "duration": 4,
    "start_time": "2022-11-09T19:06:33.853Z"
   },
   {
    "duration": 5,
    "start_time": "2022-11-09T19:06:33.859Z"
   },
   {
    "duration": 22,
    "start_time": "2022-11-09T19:06:33.866Z"
   },
   {
    "duration": 44,
    "start_time": "2022-11-09T19:06:33.889Z"
   },
   {
    "duration": 8,
    "start_time": "2022-11-09T19:06:33.935Z"
   },
   {
    "duration": 14,
    "start_time": "2022-11-09T19:06:33.945Z"
   },
   {
    "duration": 7,
    "start_time": "2022-11-09T19:06:33.961Z"
   },
   {
    "duration": 9,
    "start_time": "2022-11-09T19:06:33.972Z"
   },
   {
    "duration": 5,
    "start_time": "2022-11-09T19:06:33.983Z"
   },
   {
    "duration": 15,
    "start_time": "2022-11-09T19:06:33.989Z"
   },
   {
    "duration": 10,
    "start_time": "2022-11-09T19:06:34.005Z"
   },
   {
    "duration": 29,
    "start_time": "2022-11-09T19:06:34.016Z"
   },
   {
    "duration": 4,
    "start_time": "2022-11-09T19:06:34.047Z"
   },
   {
    "duration": 87,
    "start_time": "2022-11-09T19:06:34.052Z"
   },
   {
    "duration": 4,
    "start_time": "2022-11-09T19:06:34.141Z"
   },
   {
    "duration": 15,
    "start_time": "2022-11-09T19:06:34.147Z"
   },
   {
    "duration": 15,
    "start_time": "2022-11-09T19:06:34.163Z"
   },
   {
    "duration": 8,
    "start_time": "2022-11-09T19:06:34.180Z"
   },
   {
    "duration": 280,
    "start_time": "2022-11-09T19:06:34.189Z"
   },
   {
    "duration": 4,
    "start_time": "2022-11-09T19:06:34.471Z"
   },
   {
    "duration": 28,
    "start_time": "2022-11-09T19:06:34.476Z"
   },
   {
    "duration": 254,
    "start_time": "2022-11-09T19:06:34.505Z"
   },
   {
    "duration": 265,
    "start_time": "2022-11-09T19:06:34.761Z"
   },
   {
    "duration": 250,
    "start_time": "2022-11-09T19:06:35.033Z"
   },
   {
    "duration": 4,
    "start_time": "2022-11-09T19:06:35.284Z"
   },
   {
    "duration": 259,
    "start_time": "2022-11-09T19:06:35.290Z"
   },
   {
    "duration": 257,
    "start_time": "2022-11-09T19:06:35.551Z"
   },
   {
    "duration": 252,
    "start_time": "2022-11-09T19:06:35.810Z"
   },
   {
    "duration": 273,
    "start_time": "2022-11-09T19:06:36.064Z"
   },
   {
    "duration": 333,
    "start_time": "2022-11-09T19:06:36.339Z"
   },
   {
    "duration": 268,
    "start_time": "2022-11-09T19:06:36.674Z"
   },
   {
    "duration": 232,
    "start_time": "2022-11-09T19:06:36.943Z"
   },
   {
    "duration": 252,
    "start_time": "2022-11-09T19:06:37.176Z"
   },
   {
    "duration": 255,
    "start_time": "2022-11-09T19:06:37.433Z"
   },
   {
    "duration": 249,
    "start_time": "2022-11-09T19:06:37.690Z"
   },
   {
    "duration": 248,
    "start_time": "2022-11-09T19:06:37.941Z"
   },
   {
    "duration": 231,
    "start_time": "2022-11-09T19:06:38.191Z"
   },
   {
    "duration": 13,
    "start_time": "2022-11-09T19:06:38.423Z"
   },
   {
    "duration": 167,
    "start_time": "2022-11-09T19:06:38.438Z"
   },
   {
    "duration": 172,
    "start_time": "2022-11-09T19:06:38.607Z"
   },
   {
    "duration": 153,
    "start_time": "2022-11-09T19:06:38.781Z"
   },
   {
    "duration": 172,
    "start_time": "2022-11-09T19:06:38.936Z"
   },
   {
    "duration": 177,
    "start_time": "2022-11-09T19:06:39.110Z"
   },
   {
    "duration": 7,
    "start_time": "2022-11-09T19:06:39.288Z"
   },
   {
    "duration": 264,
    "start_time": "2022-11-09T19:06:39.297Z"
   },
   {
    "duration": 5,
    "start_time": "2022-11-09T19:06:39.563Z"
   },
   {
    "duration": 10,
    "start_time": "2022-11-09T19:06:39.570Z"
   },
   {
    "duration": 7,
    "start_time": "2022-11-09T19:06:39.581Z"
   },
   {
    "duration": 7,
    "start_time": "2022-11-09T19:06:39.590Z"
   },
   {
    "duration": 44,
    "start_time": "2022-11-09T19:06:39.599Z"
   },
   {
    "duration": 21,
    "start_time": "2022-11-09T19:06:39.645Z"
   },
   {
    "duration": 0,
    "start_time": "2022-11-09T19:06:39.667Z"
   },
   {
    "duration": 20,
    "start_time": "2022-11-09T19:06:50.028Z"
   },
   {
    "duration": 10,
    "start_time": "2022-11-09T19:08:46.722Z"
   },
   {
    "duration": 39,
    "start_time": "2022-11-09T19:09:38.846Z"
   },
   {
    "duration": 8,
    "start_time": "2022-11-09T19:09:45.349Z"
   },
   {
    "duration": 7,
    "start_time": "2022-11-09T19:10:30.021Z"
   },
   {
    "duration": 8,
    "start_time": "2022-11-09T19:10:52.005Z"
   },
   {
    "duration": 8,
    "start_time": "2022-11-09T19:13:45.412Z"
   },
   {
    "duration": 21,
    "start_time": "2022-11-09T19:14:52.929Z"
   },
   {
    "duration": 22,
    "start_time": "2022-11-09T19:15:32.734Z"
   },
   {
    "duration": 27,
    "start_time": "2022-11-09T19:15:33.393Z"
   },
   {
    "duration": 23,
    "start_time": "2022-11-09T19:15:45.789Z"
   },
   {
    "duration": 23,
    "start_time": "2022-11-09T19:15:46.516Z"
   },
   {
    "duration": 25,
    "start_time": "2022-11-09T19:17:54.865Z"
   },
   {
    "duration": 4,
    "start_time": "2022-11-09T19:18:20.164Z"
   },
   {
    "duration": 25,
    "start_time": "2022-11-09T19:18:21.936Z"
   },
   {
    "duration": 22,
    "start_time": "2022-11-09T19:18:27.090Z"
   },
   {
    "duration": 22,
    "start_time": "2022-11-09T19:18:31.248Z"
   },
   {
    "duration": 21,
    "start_time": "2022-11-09T19:18:31.708Z"
   },
   {
    "duration": 14,
    "start_time": "2022-11-09T19:19:27.650Z"
   },
   {
    "duration": 12,
    "start_time": "2022-11-09T19:19:38.752Z"
   },
   {
    "duration": 4,
    "start_time": "2022-11-09T19:19:44.492Z"
   },
   {
    "duration": 3,
    "start_time": "2022-11-09T19:19:50.015Z"
   },
   {
    "duration": 25,
    "start_time": "2022-11-09T19:19:52.054Z"
   },
   {
    "duration": 8,
    "start_time": "2022-11-09T19:20:36.756Z"
   },
   {
    "duration": 29,
    "start_time": "2022-11-09T19:20:38.639Z"
   },
   {
    "duration": 18,
    "start_time": "2022-11-09T19:21:35.392Z"
   },
   {
    "duration": 4,
    "start_time": "2022-11-09T19:21:59.778Z"
   },
   {
    "duration": 3,
    "start_time": "2022-11-09T19:24:20.425Z"
   },
   {
    "duration": 24,
    "start_time": "2022-11-09T19:24:23.738Z"
   },
   {
    "duration": 7,
    "start_time": "2022-11-09T19:25:52.300Z"
   },
   {
    "duration": 7,
    "start_time": "2022-11-09T19:26:08.198Z"
   },
   {
    "duration": 24,
    "start_time": "2022-11-09T19:26:09.838Z"
   },
   {
    "duration": 8,
    "start_time": "2022-11-09T19:29:01.129Z"
   },
   {
    "duration": 9,
    "start_time": "2022-11-09T19:29:10.767Z"
   },
   {
    "duration": 24,
    "start_time": "2022-11-09T19:29:13.538Z"
   },
   {
    "duration": 22,
    "start_time": "2022-11-09T19:29:40.798Z"
   },
   {
    "duration": 23,
    "start_time": "2022-11-09T19:29:41.401Z"
   },
   {
    "duration": 196,
    "start_time": "2022-11-09T19:29:53.664Z"
   },
   {
    "duration": 188,
    "start_time": "2022-11-09T19:30:03.333Z"
   },
   {
    "duration": 95,
    "start_time": "2022-11-09T19:30:50.457Z"
   },
   {
    "duration": 16,
    "start_time": "2022-11-09T19:30:50.554Z"
   },
   {
    "duration": 33,
    "start_time": "2022-11-09T19:30:50.572Z"
   },
   {
    "duration": 36,
    "start_time": "2022-11-09T19:30:50.607Z"
   },
   {
    "duration": 103,
    "start_time": "2022-11-09T19:30:50.645Z"
   },
   {
    "duration": 2527,
    "start_time": "2022-11-09T19:30:50.751Z"
   },
   {
    "duration": 10,
    "start_time": "2022-11-09T19:30:53.280Z"
   },
   {
    "duration": 27,
    "start_time": "2022-11-09T19:30:53.292Z"
   },
   {
    "duration": 11,
    "start_time": "2022-11-09T19:30:53.321Z"
   },
   {
    "duration": 5,
    "start_time": "2022-11-09T19:30:53.335Z"
   },
   {
    "duration": 8,
    "start_time": "2022-11-09T19:30:53.341Z"
   },
   {
    "duration": 18,
    "start_time": "2022-11-09T19:30:53.350Z"
   },
   {
    "duration": 18,
    "start_time": "2022-11-09T19:30:53.369Z"
   },
   {
    "duration": 19,
    "start_time": "2022-11-09T19:30:53.389Z"
   },
   {
    "duration": 26,
    "start_time": "2022-11-09T19:30:53.409Z"
   },
   {
    "duration": 27,
    "start_time": "2022-11-09T19:30:53.436Z"
   },
   {
    "duration": 19,
    "start_time": "2022-11-09T19:30:53.465Z"
   },
   {
    "duration": 13,
    "start_time": "2022-11-09T19:30:53.485Z"
   },
   {
    "duration": 13,
    "start_time": "2022-11-09T19:30:53.499Z"
   },
   {
    "duration": 11,
    "start_time": "2022-11-09T19:30:53.513Z"
   },
   {
    "duration": 4,
    "start_time": "2022-11-09T19:30:53.525Z"
   },
   {
    "duration": 8,
    "start_time": "2022-11-09T19:30:53.530Z"
   },
   {
    "duration": 21,
    "start_time": "2022-11-09T19:30:53.540Z"
   },
   {
    "duration": 19,
    "start_time": "2022-11-09T19:30:53.563Z"
   },
   {
    "duration": 9,
    "start_time": "2022-11-09T19:30:53.584Z"
   },
   {
    "duration": 8,
    "start_time": "2022-11-09T19:30:53.595Z"
   },
   {
    "duration": 4,
    "start_time": "2022-11-09T19:30:53.605Z"
   },
   {
    "duration": 7,
    "start_time": "2022-11-09T19:30:53.632Z"
   },
   {
    "duration": 14,
    "start_time": "2022-11-09T19:30:53.641Z"
   },
   {
    "duration": 16,
    "start_time": "2022-11-09T19:30:53.657Z"
   },
   {
    "duration": 8,
    "start_time": "2022-11-09T19:30:53.676Z"
   },
   {
    "duration": 15,
    "start_time": "2022-11-09T19:30:53.686Z"
   },
   {
    "duration": 4,
    "start_time": "2022-11-09T19:30:53.703Z"
   },
   {
    "duration": 95,
    "start_time": "2022-11-09T19:30:53.709Z"
   },
   {
    "duration": 4,
    "start_time": "2022-11-09T19:30:53.806Z"
   },
   {
    "duration": 21,
    "start_time": "2022-11-09T19:30:53.811Z"
   },
   {
    "duration": 11,
    "start_time": "2022-11-09T19:30:53.834Z"
   },
   {
    "duration": 24,
    "start_time": "2022-11-09T19:30:53.847Z"
   },
   {
    "duration": 271,
    "start_time": "2022-11-09T19:30:53.873Z"
   },
   {
    "duration": 7,
    "start_time": "2022-11-09T19:30:54.145Z"
   },
   {
    "duration": 29,
    "start_time": "2022-11-09T19:30:54.154Z"
   },
   {
    "duration": 238,
    "start_time": "2022-11-09T19:30:54.185Z"
   },
   {
    "duration": 238,
    "start_time": "2022-11-09T19:30:54.425Z"
   },
   {
    "duration": 253,
    "start_time": "2022-11-09T19:30:54.664Z"
   },
   {
    "duration": 4,
    "start_time": "2022-11-09T19:30:54.918Z"
   },
   {
    "duration": 238,
    "start_time": "2022-11-09T19:30:54.937Z"
   },
   {
    "duration": 231,
    "start_time": "2022-11-09T19:30:55.176Z"
   },
   {
    "duration": 242,
    "start_time": "2022-11-09T19:30:55.410Z"
   },
   {
    "duration": 235,
    "start_time": "2022-11-09T19:30:55.654Z"
   },
   {
    "duration": 247,
    "start_time": "2022-11-09T19:30:55.891Z"
   },
   {
    "duration": 301,
    "start_time": "2022-11-09T19:30:56.140Z"
   },
   {
    "duration": 259,
    "start_time": "2022-11-09T19:30:56.443Z"
   },
   {
    "duration": 246,
    "start_time": "2022-11-09T19:30:56.704Z"
   },
   {
    "duration": 255,
    "start_time": "2022-11-09T19:30:56.952Z"
   },
   {
    "duration": 254,
    "start_time": "2022-11-09T19:30:57.209Z"
   },
   {
    "duration": 231,
    "start_time": "2022-11-09T19:30:57.465Z"
   },
   {
    "duration": 229,
    "start_time": "2022-11-09T19:30:57.698Z"
   },
   {
    "duration": 5,
    "start_time": "2022-11-09T19:30:57.933Z"
   },
   {
    "duration": 169,
    "start_time": "2022-11-09T19:30:57.939Z"
   },
   {
    "duration": 7,
    "start_time": "2022-11-09T19:30:58.110Z"
   },
   {
    "duration": 168,
    "start_time": "2022-11-09T19:30:58.118Z"
   },
   {
    "duration": 7,
    "start_time": "2022-11-09T19:30:58.287Z"
   },
   {
    "duration": 167,
    "start_time": "2022-11-09T19:30:58.296Z"
   },
   {
    "duration": 8,
    "start_time": "2022-11-09T19:30:58.465Z"
   },
   {
    "duration": 181,
    "start_time": "2022-11-09T19:30:58.474Z"
   },
   {
    "duration": 7,
    "start_time": "2022-11-09T19:30:58.657Z"
   },
   {
    "duration": 186,
    "start_time": "2022-11-09T19:30:58.666Z"
   },
   {
    "duration": 6,
    "start_time": "2022-11-09T19:30:58.854Z"
   },
   {
    "duration": 252,
    "start_time": "2022-11-09T19:30:58.862Z"
   },
   {
    "duration": 5,
    "start_time": "2022-11-09T19:30:59.116Z"
   },
   {
    "duration": 12,
    "start_time": "2022-11-09T19:30:59.123Z"
   },
   {
    "duration": 31,
    "start_time": "2022-11-09T19:30:59.136Z"
   },
   {
    "duration": 10,
    "start_time": "2022-11-09T19:30:59.169Z"
   },
   {
    "duration": 36,
    "start_time": "2022-11-09T19:30:59.181Z"
   },
   {
    "duration": 189,
    "start_time": "2022-11-09T19:30:59.218Z"
   },
   {
    "duration": 173,
    "start_time": "2022-11-09T19:30:59.408Z"
   },
   {
    "duration": 47,
    "start_time": "2022-11-09T19:35:32.569Z"
   },
   {
    "duration": 48,
    "start_time": "2022-11-09T19:42:06.386Z"
   },
   {
    "duration": 45,
    "start_time": "2022-11-09T19:43:46.586Z"
   },
   {
    "duration": 45,
    "start_time": "2022-11-09T19:43:48.528Z"
   },
   {
    "duration": 98,
    "start_time": "2022-11-09T19:44:58.086Z"
   },
   {
    "duration": 14,
    "start_time": "2022-11-09T19:44:58.186Z"
   },
   {
    "duration": 51,
    "start_time": "2022-11-09T19:44:58.202Z"
   },
   {
    "duration": 9,
    "start_time": "2022-11-09T19:44:58.255Z"
   },
   {
    "duration": 102,
    "start_time": "2022-11-09T19:44:58.265Z"
   },
   {
    "duration": 1838,
    "start_time": "2022-11-09T19:44:58.369Z"
   },
   {
    "duration": 9,
    "start_time": "2022-11-09T19:45:00.210Z"
   },
   {
    "duration": 24,
    "start_time": "2022-11-09T19:45:00.221Z"
   },
   {
    "duration": 27,
    "start_time": "2022-11-09T19:45:00.246Z"
   },
   {
    "duration": 21,
    "start_time": "2022-11-09T19:45:00.276Z"
   },
   {
    "duration": 12,
    "start_time": "2022-11-09T19:45:00.299Z"
   },
   {
    "duration": 35,
    "start_time": "2022-11-09T19:45:00.312Z"
   },
   {
    "duration": 9,
    "start_time": "2022-11-09T19:45:00.349Z"
   },
   {
    "duration": 7,
    "start_time": "2022-11-09T19:45:00.360Z"
   },
   {
    "duration": 25,
    "start_time": "2022-11-09T19:45:00.368Z"
   },
   {
    "duration": 16,
    "start_time": "2022-11-09T19:45:00.395Z"
   },
   {
    "duration": 26,
    "start_time": "2022-11-09T19:45:00.413Z"
   },
   {
    "duration": 21,
    "start_time": "2022-11-09T19:45:00.441Z"
   },
   {
    "duration": 32,
    "start_time": "2022-11-09T19:45:00.464Z"
   },
   {
    "duration": 26,
    "start_time": "2022-11-09T19:45:00.498Z"
   },
   {
    "duration": 20,
    "start_time": "2022-11-09T19:45:00.526Z"
   },
   {
    "duration": 11,
    "start_time": "2022-11-09T19:45:00.548Z"
   },
   {
    "duration": 32,
    "start_time": "2022-11-09T19:45:00.560Z"
   },
   {
    "duration": 56,
    "start_time": "2022-11-09T19:45:00.594Z"
   },
   {
    "duration": 35,
    "start_time": "2022-11-09T19:45:00.652Z"
   },
   {
    "duration": 30,
    "start_time": "2022-11-09T19:45:00.690Z"
   },
   {
    "duration": 27,
    "start_time": "2022-11-09T19:45:00.722Z"
   },
   {
    "duration": 46,
    "start_time": "2022-11-09T19:45:00.755Z"
   },
   {
    "duration": 35,
    "start_time": "2022-11-09T19:45:00.803Z"
   },
   {
    "duration": 43,
    "start_time": "2022-11-09T19:45:00.840Z"
   },
   {
    "duration": 33,
    "start_time": "2022-11-09T19:45:00.884Z"
   },
   {
    "duration": 86,
    "start_time": "2022-11-09T19:45:00.919Z"
   },
   {
    "duration": 66,
    "start_time": "2022-11-09T19:45:01.007Z"
   },
   {
    "duration": 102,
    "start_time": "2022-11-09T19:45:01.076Z"
   },
   {
    "duration": 4,
    "start_time": "2022-11-09T19:45:01.180Z"
   },
   {
    "duration": 29,
    "start_time": "2022-11-09T19:45:01.186Z"
   },
   {
    "duration": 31,
    "start_time": "2022-11-09T19:45:01.217Z"
   },
   {
    "duration": 21,
    "start_time": "2022-11-09T19:45:01.249Z"
   },
   {
    "duration": 287,
    "start_time": "2022-11-09T19:45:01.272Z"
   },
   {
    "duration": 7,
    "start_time": "2022-11-09T19:45:01.560Z"
   },
   {
    "duration": 49,
    "start_time": "2022-11-09T19:45:01.568Z"
   },
   {
    "duration": 289,
    "start_time": "2022-11-09T19:45:01.618Z"
   },
   {
    "duration": 273,
    "start_time": "2022-11-09T19:45:01.909Z"
   },
   {
    "duration": 260,
    "start_time": "2022-11-09T19:45:02.184Z"
   },
   {
    "duration": 4,
    "start_time": "2022-11-09T19:45:02.445Z"
   },
   {
    "duration": 287,
    "start_time": "2022-11-09T19:45:02.451Z"
   },
   {
    "duration": 251,
    "start_time": "2022-11-09T19:45:02.740Z"
   },
   {
    "duration": 247,
    "start_time": "2022-11-09T19:45:02.993Z"
   },
   {
    "duration": 246,
    "start_time": "2022-11-09T19:45:03.241Z"
   },
   {
    "duration": 239,
    "start_time": "2022-11-09T19:45:03.489Z"
   },
   {
    "duration": 1026,
    "start_time": "2022-11-09T19:45:03.733Z"
   },
   {
    "duration": 248,
    "start_time": "2022-11-09T19:45:04.761Z"
   },
   {
    "duration": 251,
    "start_time": "2022-11-09T19:45:05.011Z"
   },
   {
    "duration": 255,
    "start_time": "2022-11-09T19:45:05.263Z"
   },
   {
    "duration": 243,
    "start_time": "2022-11-09T19:45:05.520Z"
   },
   {
    "duration": 246,
    "start_time": "2022-11-09T19:45:05.765Z"
   },
   {
    "duration": 226,
    "start_time": "2022-11-09T19:45:06.012Z"
   },
   {
    "duration": 6,
    "start_time": "2022-11-09T19:45:06.240Z"
   },
   {
    "duration": 166,
    "start_time": "2022-11-09T19:45:06.248Z"
   },
   {
    "duration": 19,
    "start_time": "2022-11-09T19:45:06.416Z"
   },
   {
    "duration": 210,
    "start_time": "2022-11-09T19:45:06.437Z"
   },
   {
    "duration": 8,
    "start_time": "2022-11-09T19:45:06.649Z"
   },
   {
    "duration": 180,
    "start_time": "2022-11-09T19:45:06.658Z"
   },
   {
    "duration": 9,
    "start_time": "2022-11-09T19:45:06.840Z"
   },
   {
    "duration": 187,
    "start_time": "2022-11-09T19:45:06.850Z"
   },
   {
    "duration": 9,
    "start_time": "2022-11-09T19:45:07.039Z"
   },
   {
    "duration": 204,
    "start_time": "2022-11-09T19:45:07.050Z"
   },
   {
    "duration": 7,
    "start_time": "2022-11-09T19:45:07.256Z"
   },
   {
    "duration": 256,
    "start_time": "2022-11-09T19:45:07.264Z"
   },
   {
    "duration": 13,
    "start_time": "2022-11-09T19:45:07.521Z"
   },
   {
    "duration": 10,
    "start_time": "2022-11-09T19:45:07.536Z"
   },
   {
    "duration": 10,
    "start_time": "2022-11-09T19:45:07.548Z"
   },
   {
    "duration": 12,
    "start_time": "2022-11-09T19:45:07.559Z"
   },
   {
    "duration": 32,
    "start_time": "2022-11-09T19:45:07.573Z"
   },
   {
    "duration": 199,
    "start_time": "2022-11-09T19:45:07.607Z"
   },
   {
    "duration": 173,
    "start_time": "2022-11-09T19:45:07.808Z"
   },
   {
    "duration": 49,
    "start_time": "2022-11-09T19:49:46.912Z"
   },
   {
    "duration": 41,
    "start_time": "2022-11-09T19:49:49.177Z"
   },
   {
    "duration": 476,
    "start_time": "2022-11-10T17:56:22.829Z"
   },
   {
    "duration": 14,
    "start_time": "2022-11-10T17:56:23.306Z"
   },
   {
    "duration": 34,
    "start_time": "2022-11-10T17:56:23.321Z"
   },
   {
    "duration": 21,
    "start_time": "2022-11-10T17:56:23.357Z"
   },
   {
    "duration": 69,
    "start_time": "2022-11-10T17:56:23.379Z"
   },
   {
    "duration": 2184,
    "start_time": "2022-11-10T17:56:23.450Z"
   },
   {
    "duration": 12,
    "start_time": "2022-11-10T17:56:25.635Z"
   },
   {
    "duration": 6,
    "start_time": "2022-11-10T17:56:25.649Z"
   },
   {
    "duration": 27,
    "start_time": "2022-11-10T17:56:25.656Z"
   },
   {
    "duration": 4,
    "start_time": "2022-11-10T17:56:25.686Z"
   },
   {
    "duration": 9,
    "start_time": "2022-11-10T17:56:25.692Z"
   },
   {
    "duration": 8,
    "start_time": "2022-11-10T17:56:25.702Z"
   },
   {
    "duration": 2,
    "start_time": "2022-11-10T17:56:25.712Z"
   },
   {
    "duration": 8,
    "start_time": "2022-11-10T17:56:25.716Z"
   },
   {
    "duration": 6,
    "start_time": "2022-11-10T17:56:25.726Z"
   },
   {
    "duration": 6,
    "start_time": "2022-11-10T17:56:25.733Z"
   },
   {
    "duration": 13,
    "start_time": "2022-11-10T17:56:25.740Z"
   },
   {
    "duration": 29,
    "start_time": "2022-11-10T17:56:25.754Z"
   },
   {
    "duration": 13,
    "start_time": "2022-11-10T17:56:25.785Z"
   },
   {
    "duration": 10,
    "start_time": "2022-11-10T17:56:25.799Z"
   },
   {
    "duration": 3,
    "start_time": "2022-11-10T17:56:25.810Z"
   },
   {
    "duration": 7,
    "start_time": "2022-11-10T17:56:25.814Z"
   },
   {
    "duration": 20,
    "start_time": "2022-11-10T17:56:25.823Z"
   },
   {
    "duration": 15,
    "start_time": "2022-11-10T17:56:25.844Z"
   },
   {
    "duration": 15,
    "start_time": "2022-11-10T17:56:25.878Z"
   },
   {
    "duration": 5,
    "start_time": "2022-11-10T17:56:25.895Z"
   },
   {
    "duration": 4,
    "start_time": "2022-11-10T17:56:25.902Z"
   },
   {
    "duration": 5,
    "start_time": "2022-11-10T17:56:25.909Z"
   },
   {
    "duration": 4,
    "start_time": "2022-11-10T17:56:25.916Z"
   },
   {
    "duration": 8,
    "start_time": "2022-11-10T17:56:25.921Z"
   },
   {
    "duration": 8,
    "start_time": "2022-11-10T17:56:25.931Z"
   },
   {
    "duration": 48,
    "start_time": "2022-11-10T17:56:25.940Z"
   },
   {
    "duration": 4,
    "start_time": "2022-11-10T17:56:25.990Z"
   },
   {
    "duration": 71,
    "start_time": "2022-11-10T17:56:25.996Z"
   },
   {
    "duration": 4,
    "start_time": "2022-11-10T17:56:26.078Z"
   },
   {
    "duration": 9,
    "start_time": "2022-11-10T17:56:26.084Z"
   },
   {
    "duration": 6,
    "start_time": "2022-11-10T17:56:26.094Z"
   },
   {
    "duration": 6,
    "start_time": "2022-11-10T17:56:26.101Z"
   },
   {
    "duration": 284,
    "start_time": "2022-11-10T17:56:26.109Z"
   },
   {
    "duration": 7,
    "start_time": "2022-11-10T17:56:26.394Z"
   },
   {
    "duration": 22,
    "start_time": "2022-11-10T17:56:26.402Z"
   },
   {
    "duration": 248,
    "start_time": "2022-11-10T17:56:26.425Z"
   },
   {
    "duration": 309,
    "start_time": "2022-11-10T17:56:26.677Z"
   },
   {
    "duration": 251,
    "start_time": "2022-11-10T17:56:26.988Z"
   },
   {
    "duration": 4,
    "start_time": "2022-11-10T17:56:27.241Z"
   },
   {
    "duration": 244,
    "start_time": "2022-11-10T17:56:27.246Z"
   },
   {
    "duration": 239,
    "start_time": "2022-11-10T17:56:27.492Z"
   },
   {
    "duration": 244,
    "start_time": "2022-11-10T17:56:27.733Z"
   },
   {
    "duration": 238,
    "start_time": "2022-11-10T17:56:27.979Z"
   },
   {
    "duration": 303,
    "start_time": "2022-11-10T17:56:28.219Z"
   },
   {
    "duration": 260,
    "start_time": "2022-11-10T17:56:28.524Z"
   },
   {
    "duration": 224,
    "start_time": "2022-11-10T17:56:28.785Z"
   },
   {
    "duration": 241,
    "start_time": "2022-11-10T17:56:29.011Z"
   },
   {
    "duration": 249,
    "start_time": "2022-11-10T17:56:29.253Z"
   },
   {
    "duration": 343,
    "start_time": "2022-11-10T17:56:29.503Z"
   },
   {
    "duration": 240,
    "start_time": "2022-11-10T17:56:29.848Z"
   },
   {
    "duration": 256,
    "start_time": "2022-11-10T17:56:30.090Z"
   },
   {
    "duration": 5,
    "start_time": "2022-11-10T17:56:30.348Z"
   },
   {
    "duration": 170,
    "start_time": "2022-11-10T17:56:30.354Z"
   },
   {
    "duration": 9,
    "start_time": "2022-11-10T17:56:30.526Z"
   },
   {
    "duration": 195,
    "start_time": "2022-11-10T17:56:30.537Z"
   },
   {
    "duration": 8,
    "start_time": "2022-11-10T17:56:30.733Z"
   },
   {
    "duration": 170,
    "start_time": "2022-11-10T17:56:30.742Z"
   },
   {
    "duration": 7,
    "start_time": "2022-11-10T17:56:30.914Z"
   },
   {
    "duration": 176,
    "start_time": "2022-11-10T17:56:30.922Z"
   },
   {
    "duration": 7,
    "start_time": "2022-11-10T17:56:31.100Z"
   },
   {
    "duration": 174,
    "start_time": "2022-11-10T17:56:31.108Z"
   },
   {
    "duration": 7,
    "start_time": "2022-11-10T17:56:31.283Z"
   },
   {
    "duration": 309,
    "start_time": "2022-11-10T17:56:31.291Z"
   },
   {
    "duration": 6,
    "start_time": "2022-11-10T17:56:31.601Z"
   },
   {
    "duration": 30,
    "start_time": "2022-11-10T17:56:31.608Z"
   },
   {
    "duration": 29,
    "start_time": "2022-11-10T17:56:31.639Z"
   },
   {
    "duration": 28,
    "start_time": "2022-11-10T17:56:31.670Z"
   },
   {
    "duration": 34,
    "start_time": "2022-11-10T17:56:31.700Z"
   },
   {
    "duration": 192,
    "start_time": "2022-11-10T17:56:31.735Z"
   },
   {
    "duration": 178,
    "start_time": "2022-11-10T17:56:31.929Z"
   },
   {
    "duration": 493,
    "start_time": "2022-11-10T17:57:19.844Z"
   },
   {
    "duration": 14,
    "start_time": "2022-11-10T17:57:20.339Z"
   },
   {
    "duration": 60,
    "start_time": "2022-11-10T17:57:20.355Z"
   },
   {
    "duration": 8,
    "start_time": "2022-11-10T17:57:20.417Z"
   },
   {
    "duration": 87,
    "start_time": "2022-11-10T17:57:20.426Z"
   },
   {
    "duration": 2139,
    "start_time": "2022-11-10T17:57:20.515Z"
   },
   {
    "duration": 12,
    "start_time": "2022-11-10T17:57:22.655Z"
   },
   {
    "duration": 43,
    "start_time": "2022-11-10T17:57:22.668Z"
   },
   {
    "duration": 29,
    "start_time": "2022-11-10T17:57:22.712Z"
   },
   {
    "duration": 35,
    "start_time": "2022-11-10T17:57:22.744Z"
   },
   {
    "duration": 15,
    "start_time": "2022-11-10T17:57:22.781Z"
   },
   {
    "duration": 32,
    "start_time": "2022-11-10T17:57:22.798Z"
   },
   {
    "duration": 43,
    "start_time": "2022-11-10T17:57:22.832Z"
   },
   {
    "duration": 26,
    "start_time": "2022-11-10T17:57:22.877Z"
   },
   {
    "duration": 35,
    "start_time": "2022-11-10T17:57:22.904Z"
   },
   {
    "duration": 21,
    "start_time": "2022-11-10T17:57:22.941Z"
   },
   {
    "duration": 25,
    "start_time": "2022-11-10T17:57:22.963Z"
   },
   {
    "duration": 23,
    "start_time": "2022-11-10T17:57:22.989Z"
   },
   {
    "duration": 65,
    "start_time": "2022-11-10T17:57:23.014Z"
   },
   {
    "duration": 24,
    "start_time": "2022-11-10T17:57:23.081Z"
   },
   {
    "duration": 45,
    "start_time": "2022-11-10T17:57:23.107Z"
   },
   {
    "duration": 82,
    "start_time": "2022-11-10T17:57:23.154Z"
   },
   {
    "duration": 42,
    "start_time": "2022-11-10T17:57:23.237Z"
   },
   {
    "duration": 42,
    "start_time": "2022-11-10T17:57:23.281Z"
   },
   {
    "duration": 21,
    "start_time": "2022-11-10T17:57:23.325Z"
   },
   {
    "duration": 34,
    "start_time": "2022-11-10T17:57:23.348Z"
   },
   {
    "duration": 16,
    "start_time": "2022-11-10T17:57:23.383Z"
   },
   {
    "duration": 29,
    "start_time": "2022-11-10T17:57:23.403Z"
   },
   {
    "duration": 24,
    "start_time": "2022-11-10T17:57:23.434Z"
   },
   {
    "duration": 36,
    "start_time": "2022-11-10T17:57:23.460Z"
   },
   {
    "duration": 47,
    "start_time": "2022-11-10T17:57:23.498Z"
   },
   {
    "duration": 25,
    "start_time": "2022-11-10T17:57:23.546Z"
   },
   {
    "duration": 22,
    "start_time": "2022-11-10T17:57:23.572Z"
   },
   {
    "duration": 76,
    "start_time": "2022-11-10T17:57:23.596Z"
   },
   {
    "duration": 4,
    "start_time": "2022-11-10T17:57:23.673Z"
   },
   {
    "duration": 18,
    "start_time": "2022-11-10T17:57:23.678Z"
   },
   {
    "duration": 24,
    "start_time": "2022-11-10T17:57:23.697Z"
   },
   {
    "duration": 52,
    "start_time": "2022-11-10T17:57:23.722Z"
   },
   {
    "duration": 295,
    "start_time": "2022-11-10T17:57:23.776Z"
   },
   {
    "duration": 9,
    "start_time": "2022-11-10T17:57:24.074Z"
   },
   {
    "duration": 57,
    "start_time": "2022-11-10T17:57:24.084Z"
   },
   {
    "duration": 263,
    "start_time": "2022-11-10T17:57:24.143Z"
   },
   {
    "duration": 311,
    "start_time": "2022-11-10T17:57:24.408Z"
   },
   {
    "duration": 253,
    "start_time": "2022-11-10T17:57:24.721Z"
   },
   {
    "duration": 4,
    "start_time": "2022-11-10T17:57:24.977Z"
   },
   {
    "duration": 268,
    "start_time": "2022-11-10T17:57:24.983Z"
   },
   {
    "duration": 245,
    "start_time": "2022-11-10T17:57:25.253Z"
   },
   {
    "duration": 236,
    "start_time": "2022-11-10T17:57:25.499Z"
   },
   {
    "duration": 242,
    "start_time": "2022-11-10T17:57:25.736Z"
   },
   {
    "duration": 333,
    "start_time": "2022-11-10T17:57:25.979Z"
   },
   {
    "duration": 243,
    "start_time": "2022-11-10T17:57:26.314Z"
   },
   {
    "duration": 241,
    "start_time": "2022-11-10T17:57:26.558Z"
   },
   {
    "duration": 247,
    "start_time": "2022-11-10T17:57:26.801Z"
   },
   {
    "duration": 259,
    "start_time": "2022-11-10T17:57:27.050Z"
   },
   {
    "duration": 353,
    "start_time": "2022-11-10T17:57:27.311Z"
   },
   {
    "duration": 230,
    "start_time": "2022-11-10T17:57:27.665Z"
   },
   {
    "duration": 229,
    "start_time": "2022-11-10T17:57:27.897Z"
   },
   {
    "duration": 6,
    "start_time": "2022-11-10T17:57:28.127Z"
   },
   {
    "duration": 188,
    "start_time": "2022-11-10T17:57:28.135Z"
   },
   {
    "duration": 8,
    "start_time": "2022-11-10T17:57:28.325Z"
   },
   {
    "duration": 202,
    "start_time": "2022-11-10T17:57:28.334Z"
   },
   {
    "duration": 8,
    "start_time": "2022-11-10T17:57:28.538Z"
   },
   {
    "duration": 167,
    "start_time": "2022-11-10T17:57:28.548Z"
   },
   {
    "duration": 9,
    "start_time": "2022-11-10T17:57:28.717Z"
   },
   {
    "duration": 208,
    "start_time": "2022-11-10T17:57:28.727Z"
   },
   {
    "duration": 8,
    "start_time": "2022-11-10T17:57:28.937Z"
   },
   {
    "duration": 203,
    "start_time": "2022-11-10T17:57:28.947Z"
   },
   {
    "duration": 7,
    "start_time": "2022-11-10T17:57:29.151Z"
   },
   {
    "duration": 335,
    "start_time": "2022-11-10T17:57:29.160Z"
   },
   {
    "duration": 6,
    "start_time": "2022-11-10T17:57:29.496Z"
   },
   {
    "duration": 25,
    "start_time": "2022-11-10T17:57:29.503Z"
   },
   {
    "duration": 27,
    "start_time": "2022-11-10T17:57:29.529Z"
   },
   {
    "duration": 30,
    "start_time": "2022-11-10T17:57:29.558Z"
   },
   {
    "duration": 49,
    "start_time": "2022-11-10T17:57:29.589Z"
   },
   {
    "duration": 207,
    "start_time": "2022-11-10T17:57:29.639Z"
   },
   {
    "duration": 176,
    "start_time": "2022-11-10T17:57:29.848Z"
   },
   {
    "duration": 14,
    "start_time": "2022-11-10T17:58:58.068Z"
   },
   {
    "duration": 12,
    "start_time": "2022-11-10T17:59:33.349Z"
   },
   {
    "duration": 85,
    "start_time": "2022-11-10T17:59:36.277Z"
   },
   {
    "duration": 152,
    "start_time": "2022-11-10T18:00:05.710Z"
   },
   {
    "duration": 6,
    "start_time": "2022-11-10T18:01:56.341Z"
   },
   {
    "duration": 533,
    "start_time": "2022-11-18T17:04:11.618Z"
   },
   {
    "duration": 15,
    "start_time": "2022-11-18T17:04:12.153Z"
   },
   {
    "duration": 33,
    "start_time": "2022-11-18T17:04:12.169Z"
   },
   {
    "duration": 8,
    "start_time": "2022-11-18T17:04:12.204Z"
   },
   {
    "duration": 92,
    "start_time": "2022-11-18T17:04:12.213Z"
   },
   {
    "duration": 2141,
    "start_time": "2022-11-18T17:04:12.306Z"
   },
   {
    "duration": 13,
    "start_time": "2022-11-18T17:04:14.448Z"
   },
   {
    "duration": 6,
    "start_time": "2022-11-18T17:04:14.462Z"
   },
   {
    "duration": 14,
    "start_time": "2022-11-18T17:04:14.470Z"
   },
   {
    "duration": 5,
    "start_time": "2022-11-18T17:04:14.487Z"
   },
   {
    "duration": 18,
    "start_time": "2022-11-18T17:04:14.493Z"
   },
   {
    "duration": 12,
    "start_time": "2022-11-18T17:04:14.513Z"
   },
   {
    "duration": 3,
    "start_time": "2022-11-18T17:04:14.527Z"
   },
   {
    "duration": 7,
    "start_time": "2022-11-18T17:04:14.531Z"
   },
   {
    "duration": 13,
    "start_time": "2022-11-18T17:04:14.540Z"
   },
   {
    "duration": 6,
    "start_time": "2022-11-18T17:04:14.555Z"
   },
   {
    "duration": 14,
    "start_time": "2022-11-18T17:04:14.562Z"
   },
   {
    "duration": 7,
    "start_time": "2022-11-18T17:04:14.578Z"
   },
   {
    "duration": 7,
    "start_time": "2022-11-18T17:04:14.587Z"
   },
   {
    "duration": 15,
    "start_time": "2022-11-18T17:04:14.596Z"
   },
   {
    "duration": 11,
    "start_time": "2022-11-18T17:04:14.612Z"
   },
   {
    "duration": 9,
    "start_time": "2022-11-18T17:04:14.625Z"
   },
   {
    "duration": 29,
    "start_time": "2022-11-18T17:04:14.636Z"
   },
   {
    "duration": 17,
    "start_time": "2022-11-18T17:04:14.667Z"
   },
   {
    "duration": 7,
    "start_time": "2022-11-18T17:04:14.686Z"
   },
   {
    "duration": 6,
    "start_time": "2022-11-18T17:04:14.695Z"
   },
   {
    "duration": 6,
    "start_time": "2022-11-18T17:04:14.702Z"
   },
   {
    "duration": 7,
    "start_time": "2022-11-18T17:04:14.712Z"
   },
   {
    "duration": 4,
    "start_time": "2022-11-18T17:04:14.721Z"
   },
   {
    "duration": 32,
    "start_time": "2022-11-18T17:04:14.726Z"
   },
   {
    "duration": 8,
    "start_time": "2022-11-18T17:04:14.760Z"
   },
   {
    "duration": 15,
    "start_time": "2022-11-18T17:04:14.769Z"
   },
   {
    "duration": 4,
    "start_time": "2022-11-18T17:04:14.786Z"
   },
   {
    "duration": 87,
    "start_time": "2022-11-18T17:04:14.791Z"
   },
   {
    "duration": 157,
    "start_time": "2022-11-18T17:04:14.879Z"
   },
   {
    "duration": 14,
    "start_time": "2022-11-18T17:04:15.038Z"
   },
   {
    "duration": 7,
    "start_time": "2022-11-18T17:04:15.054Z"
   },
   {
    "duration": 26,
    "start_time": "2022-11-18T17:04:15.062Z"
   },
   {
    "duration": 20,
    "start_time": "2022-11-18T17:04:15.090Z"
   },
   {
    "duration": 263,
    "start_time": "2022-11-18T17:04:15.112Z"
   },
   {
    "duration": 7,
    "start_time": "2022-11-18T17:04:15.377Z"
   },
   {
    "duration": 26,
    "start_time": "2022-11-18T17:04:15.386Z"
   },
   {
    "duration": 312,
    "start_time": "2022-11-18T17:04:15.414Z"
   },
   {
    "duration": 224,
    "start_time": "2022-11-18T17:04:15.728Z"
   },
   {
    "duration": 246,
    "start_time": "2022-11-18T17:04:15.954Z"
   },
   {
    "duration": 4,
    "start_time": "2022-11-18T17:04:16.201Z"
   },
   {
    "duration": 234,
    "start_time": "2022-11-18T17:04:16.207Z"
   },
   {
    "duration": 237,
    "start_time": "2022-11-18T17:04:16.442Z"
   },
   {
    "duration": 220,
    "start_time": "2022-11-18T17:04:16.680Z"
   },
   {
    "duration": 323,
    "start_time": "2022-11-18T17:04:16.902Z"
   },
   {
    "duration": 228,
    "start_time": "2022-11-18T17:04:17.227Z"
   },
   {
    "duration": 239,
    "start_time": "2022-11-18T17:04:17.457Z"
   },
   {
    "duration": 212,
    "start_time": "2022-11-18T17:04:17.697Z"
   },
   {
    "duration": 230,
    "start_time": "2022-11-18T17:04:17.911Z"
   },
   {
    "duration": 360,
    "start_time": "2022-11-18T17:04:18.143Z"
   },
   {
    "duration": 227,
    "start_time": "2022-11-18T17:04:18.505Z"
   },
   {
    "duration": 236,
    "start_time": "2022-11-18T17:04:18.734Z"
   },
   {
    "duration": 256,
    "start_time": "2022-11-18T17:04:18.972Z"
   },
   {
    "duration": 6,
    "start_time": "2022-11-18T17:04:19.231Z"
   },
   {
    "duration": 171,
    "start_time": "2022-11-18T17:04:19.238Z"
   },
   {
    "duration": 8,
    "start_time": "2022-11-18T17:04:19.411Z"
   },
   {
    "duration": 171,
    "start_time": "2022-11-18T17:04:19.421Z"
   },
   {
    "duration": 6,
    "start_time": "2022-11-18T17:04:19.594Z"
   },
   {
    "duration": 156,
    "start_time": "2022-11-18T17:04:19.602Z"
   },
   {
    "duration": 7,
    "start_time": "2022-11-18T17:04:19.760Z"
   },
   {
    "duration": 175,
    "start_time": "2022-11-18T17:04:19.768Z"
   },
   {
    "duration": 12,
    "start_time": "2022-11-18T17:04:19.945Z"
   },
   {
    "duration": 189,
    "start_time": "2022-11-18T17:04:19.959Z"
   },
   {
    "duration": 7,
    "start_time": "2022-11-18T17:04:20.152Z"
   },
   {
    "duration": 331,
    "start_time": "2022-11-18T17:04:20.161Z"
   },
   {
    "duration": 7,
    "start_time": "2022-11-18T17:04:20.494Z"
   },
   {
    "duration": 7,
    "start_time": "2022-11-18T17:04:20.502Z"
   },
   {
    "duration": 5,
    "start_time": "2022-11-18T17:04:20.510Z"
   },
   {
    "duration": 6,
    "start_time": "2022-11-18T17:04:20.516Z"
   },
   {
    "duration": 39,
    "start_time": "2022-11-18T17:04:20.524Z"
   },
   {
    "duration": 190,
    "start_time": "2022-11-18T17:04:20.565Z"
   },
   {
    "duration": 174,
    "start_time": "2022-11-18T17:04:20.756Z"
   },
   {
    "duration": 80,
    "start_time": "2022-11-18T17:15:06.761Z"
   },
   {
    "duration": 78,
    "start_time": "2022-11-18T17:15:09.221Z"
   },
   {
    "duration": 97,
    "start_time": "2022-11-18T17:16:58.219Z"
   },
   {
    "duration": 38,
    "start_time": "2022-11-18T17:16:58.318Z"
   },
   {
    "duration": 31,
    "start_time": "2022-11-18T17:16:58.357Z"
   },
   {
    "duration": 9,
    "start_time": "2022-11-18T17:16:58.390Z"
   },
   {
    "duration": 244,
    "start_time": "2022-11-18T17:16:58.400Z"
   },
   {
    "duration": 1868,
    "start_time": "2022-11-18T17:16:58.645Z"
   },
   {
    "duration": 10,
    "start_time": "2022-11-18T17:17:00.515Z"
   },
   {
    "duration": 9,
    "start_time": "2022-11-18T17:17:00.526Z"
   },
   {
    "duration": 52,
    "start_time": "2022-11-18T17:17:00.553Z"
   },
   {
    "duration": 38,
    "start_time": "2022-11-18T17:17:00.608Z"
   },
   {
    "duration": 35,
    "start_time": "2022-11-18T17:17:00.647Z"
   },
   {
    "duration": 59,
    "start_time": "2022-11-18T17:17:00.684Z"
   },
   {
    "duration": 63,
    "start_time": "2022-11-18T17:17:00.745Z"
   },
   {
    "duration": 73,
    "start_time": "2022-11-18T17:17:00.810Z"
   },
   {
    "duration": 31,
    "start_time": "2022-11-18T17:17:00.884Z"
   },
   {
    "duration": 22,
    "start_time": "2022-11-18T17:17:00.917Z"
   },
   {
    "duration": 15,
    "start_time": "2022-11-18T17:17:00.941Z"
   },
   {
    "duration": 17,
    "start_time": "2022-11-18T17:17:00.958Z"
   },
   {
    "duration": 25,
    "start_time": "2022-11-18T17:17:00.976Z"
   },
   {
    "duration": 44,
    "start_time": "2022-11-18T17:17:01.003Z"
   },
   {
    "duration": 4,
    "start_time": "2022-11-18T17:17:01.049Z"
   },
   {
    "duration": 40,
    "start_time": "2022-11-18T17:17:01.055Z"
   },
   {
    "duration": 46,
    "start_time": "2022-11-18T17:17:01.096Z"
   },
   {
    "duration": 50,
    "start_time": "2022-11-18T17:17:01.143Z"
   },
   {
    "duration": 24,
    "start_time": "2022-11-18T17:17:01.195Z"
   },
   {
    "duration": 22,
    "start_time": "2022-11-18T17:17:01.220Z"
   },
   {
    "duration": 13,
    "start_time": "2022-11-18T17:17:01.244Z"
   },
   {
    "duration": 14,
    "start_time": "2022-11-18T17:17:01.262Z"
   },
   {
    "duration": 22,
    "start_time": "2022-11-18T17:17:01.278Z"
   },
   {
    "duration": 34,
    "start_time": "2022-11-18T17:17:01.301Z"
   },
   {
    "duration": 18,
    "start_time": "2022-11-18T17:17:01.337Z"
   },
   {
    "duration": 19,
    "start_time": "2022-11-18T17:17:01.357Z"
   },
   {
    "duration": 9,
    "start_time": "2022-11-18T17:17:01.377Z"
   },
   {
    "duration": 108,
    "start_time": "2022-11-18T17:17:01.387Z"
   },
   {
    "duration": 139,
    "start_time": "2022-11-18T17:17:01.496Z"
   },
   {
    "duration": 4,
    "start_time": "2022-11-18T17:17:01.636Z"
   },
   {
    "duration": 20,
    "start_time": "2022-11-18T17:17:01.653Z"
   },
   {
    "duration": 11,
    "start_time": "2022-11-18T17:17:01.675Z"
   },
   {
    "duration": 24,
    "start_time": "2022-11-18T17:17:01.687Z"
   },
   {
    "duration": 423,
    "start_time": "2022-11-18T17:17:01.713Z"
   },
   {
    "duration": 7,
    "start_time": "2022-11-18T17:17:02.138Z"
   },
   {
    "duration": 21,
    "start_time": "2022-11-18T17:17:02.153Z"
   },
   {
    "duration": 242,
    "start_time": "2022-11-18T17:17:02.176Z"
   },
   {
    "duration": 281,
    "start_time": "2022-11-18T17:17:02.420Z"
   },
   {
    "duration": 241,
    "start_time": "2022-11-18T17:17:02.702Z"
   },
   {
    "duration": 9,
    "start_time": "2022-11-18T17:17:02.945Z"
   },
   {
    "duration": 241,
    "start_time": "2022-11-18T17:17:02.956Z"
   },
   {
    "duration": 234,
    "start_time": "2022-11-18T17:17:03.199Z"
   },
   {
    "duration": 228,
    "start_time": "2022-11-18T17:17:03.434Z"
   },
   {
    "duration": 235,
    "start_time": "2022-11-18T17:17:03.663Z"
   },
   {
    "duration": 210,
    "start_time": "2022-11-18T17:17:03.899Z"
   },
   {
    "duration": 445,
    "start_time": "2022-11-18T17:17:04.111Z"
   },
   {
    "duration": 247,
    "start_time": "2022-11-18T17:17:04.558Z"
   },
   {
    "duration": 238,
    "start_time": "2022-11-18T17:17:04.806Z"
   },
   {
    "duration": 239,
    "start_time": "2022-11-18T17:17:05.045Z"
   },
   {
    "duration": 234,
    "start_time": "2022-11-18T17:17:05.287Z"
   },
   {
    "duration": 229,
    "start_time": "2022-11-18T17:17:05.523Z"
   },
   {
    "duration": 215,
    "start_time": "2022-11-18T17:17:05.754Z"
   },
   {
    "duration": 5,
    "start_time": "2022-11-18T17:17:05.971Z"
   },
   {
    "duration": 152,
    "start_time": "2022-11-18T17:17:05.978Z"
   },
   {
    "duration": 7,
    "start_time": "2022-11-18T17:17:06.132Z"
   },
   {
    "duration": 168,
    "start_time": "2022-11-18T17:17:06.140Z"
   },
   {
    "duration": 7,
    "start_time": "2022-11-18T17:17:06.310Z"
   },
   {
    "duration": 148,
    "start_time": "2022-11-18T17:17:06.319Z"
   },
   {
    "duration": 7,
    "start_time": "2022-11-18T17:17:06.469Z"
   },
   {
    "duration": 167,
    "start_time": "2022-11-18T17:17:06.477Z"
   },
   {
    "duration": 11,
    "start_time": "2022-11-18T17:17:06.646Z"
   },
   {
    "duration": 169,
    "start_time": "2022-11-18T17:17:06.658Z"
   },
   {
    "duration": 7,
    "start_time": "2022-11-18T17:17:06.828Z"
   },
   {
    "duration": 259,
    "start_time": "2022-11-18T17:17:06.837Z"
   },
   {
    "duration": 6,
    "start_time": "2022-11-18T17:17:07.097Z"
   },
   {
    "duration": 18,
    "start_time": "2022-11-18T17:17:07.104Z"
   },
   {
    "duration": 6,
    "start_time": "2022-11-18T17:17:07.124Z"
   },
   {
    "duration": 6,
    "start_time": "2022-11-18T17:17:07.132Z"
   },
   {
    "duration": 35,
    "start_time": "2022-11-18T17:17:07.140Z"
   },
   {
    "duration": 181,
    "start_time": "2022-11-18T17:17:07.177Z"
   },
   {
    "duration": 169,
    "start_time": "2022-11-18T17:17:07.360Z"
   },
   {
    "duration": 90,
    "start_time": "2022-11-18T19:06:03.283Z"
   },
   {
    "duration": 74,
    "start_time": "2022-11-18T19:07:30.817Z"
   },
   {
    "duration": 92,
    "start_time": "2022-11-18T19:07:37.340Z"
   },
   {
    "duration": 25,
    "start_time": "2022-11-18T19:07:37.434Z"
   },
   {
    "duration": 31,
    "start_time": "2022-11-18T19:07:37.460Z"
   },
   {
    "duration": 26,
    "start_time": "2022-11-18T19:07:37.494Z"
   },
   {
    "duration": 86,
    "start_time": "2022-11-18T19:07:37.522Z"
   },
   {
    "duration": 1955,
    "start_time": "2022-11-18T19:07:37.610Z"
   },
   {
    "duration": 10,
    "start_time": "2022-11-18T19:07:39.566Z"
   },
   {
    "duration": 6,
    "start_time": "2022-11-18T19:07:39.578Z"
   },
   {
    "duration": 7,
    "start_time": "2022-11-18T19:07:39.585Z"
   },
   {
    "duration": 9,
    "start_time": "2022-11-18T19:07:39.594Z"
   },
   {
    "duration": 10,
    "start_time": "2022-11-18T19:07:39.604Z"
   },
   {
    "duration": 8,
    "start_time": "2022-11-18T19:07:39.616Z"
   },
   {
    "duration": 5,
    "start_time": "2022-11-18T19:07:39.626Z"
   },
   {
    "duration": 5,
    "start_time": "2022-11-18T19:07:39.652Z"
   },
   {
    "duration": 9,
    "start_time": "2022-11-18T19:07:39.658Z"
   },
   {
    "duration": 7,
    "start_time": "2022-11-18T19:07:39.669Z"
   },
   {
    "duration": 9,
    "start_time": "2022-11-18T19:07:39.678Z"
   },
   {
    "duration": 7,
    "start_time": "2022-11-18T19:07:39.689Z"
   },
   {
    "duration": 16,
    "start_time": "2022-11-18T19:07:39.698Z"
   },
   {
    "duration": 10,
    "start_time": "2022-11-18T19:07:39.716Z"
   },
   {
    "duration": 25,
    "start_time": "2022-11-18T19:07:39.728Z"
   },
   {
    "duration": 8,
    "start_time": "2022-11-18T19:07:39.755Z"
   },
   {
    "duration": 19,
    "start_time": "2022-11-18T19:07:39.764Z"
   },
   {
    "duration": 13,
    "start_time": "2022-11-18T19:07:39.785Z"
   },
   {
    "duration": 8,
    "start_time": "2022-11-18T19:07:39.800Z"
   },
   {
    "duration": 6,
    "start_time": "2022-11-18T19:07:39.810Z"
   },
   {
    "duration": 5,
    "start_time": "2022-11-18T19:07:39.817Z"
   },
   {
    "duration": 8,
    "start_time": "2022-11-18T19:07:39.853Z"
   },
   {
    "duration": 11,
    "start_time": "2022-11-18T19:07:39.862Z"
   },
   {
    "duration": 12,
    "start_time": "2022-11-18T19:07:39.875Z"
   },
   {
    "duration": 10,
    "start_time": "2022-11-18T19:07:39.888Z"
   },
   {
    "duration": 18,
    "start_time": "2022-11-18T19:07:39.900Z"
   },
   {
    "duration": 4,
    "start_time": "2022-11-18T19:07:39.920Z"
   },
   {
    "duration": 83,
    "start_time": "2022-11-18T19:07:39.925Z"
   },
   {
    "duration": 151,
    "start_time": "2022-11-18T19:07:40.010Z"
   },
   {
    "duration": 3,
    "start_time": "2022-11-18T19:07:40.163Z"
   },
   {
    "duration": 7,
    "start_time": "2022-11-18T19:07:40.168Z"
   },
   {
    "duration": 77,
    "start_time": "2022-11-18T19:07:40.176Z"
   },
   {
    "duration": 0,
    "start_time": "2022-11-18T19:07:40.254Z"
   },
   {
    "duration": 0,
    "start_time": "2022-11-18T19:07:40.255Z"
   },
   {
    "duration": 0,
    "start_time": "2022-11-18T19:07:40.256Z"
   },
   {
    "duration": 0,
    "start_time": "2022-11-18T19:07:40.257Z"
   },
   {
    "duration": 0,
    "start_time": "2022-11-18T19:07:40.258Z"
   },
   {
    "duration": 0,
    "start_time": "2022-11-18T19:07:40.260Z"
   },
   {
    "duration": 0,
    "start_time": "2022-11-18T19:07:40.261Z"
   },
   {
    "duration": 0,
    "start_time": "2022-11-18T19:07:40.262Z"
   },
   {
    "duration": 1,
    "start_time": "2022-11-18T19:07:40.262Z"
   },
   {
    "duration": 0,
    "start_time": "2022-11-18T19:07:40.264Z"
   },
   {
    "duration": 0,
    "start_time": "2022-11-18T19:07:40.265Z"
   },
   {
    "duration": 0,
    "start_time": "2022-11-18T19:07:40.266Z"
   },
   {
    "duration": 0,
    "start_time": "2022-11-18T19:07:40.267Z"
   },
   {
    "duration": 0,
    "start_time": "2022-11-18T19:07:40.268Z"
   },
   {
    "duration": 0,
    "start_time": "2022-11-18T19:07:40.268Z"
   },
   {
    "duration": 0,
    "start_time": "2022-11-18T19:07:40.269Z"
   },
   {
    "duration": 0,
    "start_time": "2022-11-18T19:07:40.270Z"
   },
   {
    "duration": 0,
    "start_time": "2022-11-18T19:07:40.271Z"
   },
   {
    "duration": 0,
    "start_time": "2022-11-18T19:07:40.272Z"
   },
   {
    "duration": 0,
    "start_time": "2022-11-18T19:07:40.273Z"
   },
   {
    "duration": 0,
    "start_time": "2022-11-18T19:07:40.274Z"
   },
   {
    "duration": 0,
    "start_time": "2022-11-18T19:07:40.274Z"
   },
   {
    "duration": 0,
    "start_time": "2022-11-18T19:07:40.275Z"
   },
   {
    "duration": 0,
    "start_time": "2022-11-18T19:07:40.277Z"
   },
   {
    "duration": 0,
    "start_time": "2022-11-18T19:07:40.278Z"
   },
   {
    "duration": 0,
    "start_time": "2022-11-18T19:07:40.278Z"
   },
   {
    "duration": 0,
    "start_time": "2022-11-18T19:07:40.279Z"
   },
   {
    "duration": 0,
    "start_time": "2022-11-18T19:07:40.280Z"
   },
   {
    "duration": 0,
    "start_time": "2022-11-18T19:07:40.281Z"
   },
   {
    "duration": 0,
    "start_time": "2022-11-18T19:07:40.282Z"
   },
   {
    "duration": 0,
    "start_time": "2022-11-18T19:07:40.283Z"
   },
   {
    "duration": 0,
    "start_time": "2022-11-18T19:07:40.284Z"
   },
   {
    "duration": 0,
    "start_time": "2022-11-18T19:07:40.285Z"
   },
   {
    "duration": 0,
    "start_time": "2022-11-18T19:07:40.286Z"
   },
   {
    "duration": 0,
    "start_time": "2022-11-18T19:07:40.287Z"
   },
   {
    "duration": 0,
    "start_time": "2022-11-18T19:07:40.288Z"
   },
   {
    "duration": 0,
    "start_time": "2022-11-18T19:07:40.289Z"
   },
   {
    "duration": 0,
    "start_time": "2022-11-18T19:07:40.290Z"
   },
   {
    "duration": 0,
    "start_time": "2022-11-18T19:07:40.352Z"
   },
   {
    "duration": 0,
    "start_time": "2022-11-18T19:07:40.353Z"
   },
   {
    "duration": 0,
    "start_time": "2022-11-18T19:07:40.354Z"
   },
   {
    "duration": 0,
    "start_time": "2022-11-18T19:07:40.355Z"
   },
   {
    "duration": 75,
    "start_time": "2022-11-18T19:08:00.254Z"
   },
   {
    "duration": 79,
    "start_time": "2022-11-18T19:08:03.133Z"
   },
   {
    "duration": 4,
    "start_time": "2022-11-18T19:08:33.830Z"
   },
   {
    "duration": 4,
    "start_time": "2022-11-18T19:08:34.114Z"
   },
   {
    "duration": 69,
    "start_time": "2022-11-18T19:08:34.569Z"
   },
   {
    "duration": 153,
    "start_time": "2022-11-18T19:08:39.383Z"
   },
   {
    "duration": 162,
    "start_time": "2022-11-18T19:08:45.556Z"
   },
   {
    "duration": 136,
    "start_time": "2022-11-18T19:08:50.480Z"
   },
   {
    "duration": 4,
    "start_time": "2022-11-18T19:09:03.465Z"
   },
   {
    "duration": 143,
    "start_time": "2022-11-18T19:09:03.711Z"
   },
   {
    "duration": 138,
    "start_time": "2022-11-18T19:09:04.113Z"
   },
   {
    "duration": 167,
    "start_time": "2022-11-18T19:09:04.554Z"
   },
   {
    "duration": 137,
    "start_time": "2022-11-18T19:09:10.915Z"
   },
   {
    "duration": 137,
    "start_time": "2022-11-18T19:09:32.022Z"
   },
   {
    "duration": 153,
    "start_time": "2022-11-18T19:09:32.914Z"
   },
   {
    "duration": 158,
    "start_time": "2022-11-18T19:09:46.452Z"
   },
   {
    "duration": 133,
    "start_time": "2022-11-18T19:09:51.432Z"
   },
   {
    "duration": 170,
    "start_time": "2022-11-18T19:09:54.551Z"
   },
   {
    "duration": 155,
    "start_time": "2022-11-18T19:09:57.572Z"
   },
   {
    "duration": 149,
    "start_time": "2022-11-18T19:10:01.282Z"
   },
   {
    "duration": 163,
    "start_time": "2022-11-18T19:10:06.874Z"
   },
   {
    "duration": 5,
    "start_time": "2022-11-18T19:11:00.200Z"
   },
   {
    "duration": 94,
    "start_time": "2022-11-18T19:11:14.286Z"
   },
   {
    "duration": 14,
    "start_time": "2022-11-18T19:11:14.382Z"
   },
   {
    "duration": 56,
    "start_time": "2022-11-18T19:11:14.397Z"
   },
   {
    "duration": 9,
    "start_time": "2022-11-18T19:11:14.455Z"
   },
   {
    "duration": 100,
    "start_time": "2022-11-18T19:11:14.466Z"
   },
   {
    "duration": 2050,
    "start_time": "2022-11-18T19:11:14.568Z"
   },
   {
    "duration": 11,
    "start_time": "2022-11-18T19:11:16.620Z"
   },
   {
    "duration": 28,
    "start_time": "2022-11-18T19:11:16.632Z"
   },
   {
    "duration": 8,
    "start_time": "2022-11-18T19:11:16.662Z"
   },
   {
    "duration": 5,
    "start_time": "2022-11-18T19:11:16.673Z"
   },
   {
    "duration": 7,
    "start_time": "2022-11-18T19:11:16.680Z"
   },
   {
    "duration": 8,
    "start_time": "2022-11-18T19:11:16.688Z"
   },
   {
    "duration": 7,
    "start_time": "2022-11-18T19:11:16.698Z"
   },
   {
    "duration": 11,
    "start_time": "2022-11-18T19:11:16.706Z"
   },
   {
    "duration": 13,
    "start_time": "2022-11-18T19:11:16.719Z"
   },
   {
    "duration": 23,
    "start_time": "2022-11-18T19:11:16.734Z"
   },
   {
    "duration": 8,
    "start_time": "2022-11-18T19:11:16.759Z"
   },
   {
    "duration": 7,
    "start_time": "2022-11-18T19:11:16.768Z"
   },
   {
    "duration": 10,
    "start_time": "2022-11-18T19:11:16.776Z"
   },
   {
    "duration": 11,
    "start_time": "2022-11-18T19:11:16.788Z"
   },
   {
    "duration": 3,
    "start_time": "2022-11-18T19:11:16.800Z"
   },
   {
    "duration": 8,
    "start_time": "2022-11-18T19:11:16.805Z"
   },
   {
    "duration": 40,
    "start_time": "2022-11-18T19:11:16.815Z"
   },
   {
    "duration": 18,
    "start_time": "2022-11-18T19:11:16.856Z"
   },
   {
    "duration": 8,
    "start_time": "2022-11-18T19:11:16.875Z"
   },
   {
    "duration": 15,
    "start_time": "2022-11-18T19:11:16.884Z"
   },
   {
    "duration": 5,
    "start_time": "2022-11-18T19:11:16.901Z"
   },
   {
    "duration": 10,
    "start_time": "2022-11-18T19:11:16.910Z"
   },
   {
    "duration": 12,
    "start_time": "2022-11-18T19:11:16.922Z"
   },
   {
    "duration": 16,
    "start_time": "2022-11-18T19:11:16.936Z"
   },
   {
    "duration": 7,
    "start_time": "2022-11-18T19:11:16.954Z"
   },
   {
    "duration": 20,
    "start_time": "2022-11-18T19:11:16.963Z"
   },
   {
    "duration": 5,
    "start_time": "2022-11-18T19:11:16.985Z"
   },
   {
    "duration": 87,
    "start_time": "2022-11-18T19:11:16.991Z"
   },
   {
    "duration": 146,
    "start_time": "2022-11-18T19:11:17.080Z"
   },
   {
    "duration": 5,
    "start_time": "2022-11-18T19:11:17.228Z"
   },
   {
    "duration": 17,
    "start_time": "2022-11-18T19:11:17.235Z"
   },
   {
    "duration": 154,
    "start_time": "2022-11-18T19:11:17.254Z"
   },
   {
    "duration": 154,
    "start_time": "2022-11-18T19:11:17.409Z"
   },
   {
    "duration": 152,
    "start_time": "2022-11-18T19:11:17.565Z"
   },
   {
    "duration": 4,
    "start_time": "2022-11-18T19:11:17.718Z"
   },
   {
    "duration": 12,
    "start_time": "2022-11-18T19:11:17.724Z"
   },
   {
    "duration": 28,
    "start_time": "2022-11-18T19:11:17.737Z"
   },
   {
    "duration": 7,
    "start_time": "2022-11-18T19:11:17.766Z"
   },
   {
    "duration": 251,
    "start_time": "2022-11-18T19:11:17.774Z"
   },
   {
    "duration": 6,
    "start_time": "2022-11-18T19:11:18.027Z"
   },
   {
    "duration": 33,
    "start_time": "2022-11-18T19:11:18.034Z"
   },
   {
    "duration": 222,
    "start_time": "2022-11-18T19:11:18.068Z"
   },
   {
    "duration": 233,
    "start_time": "2022-11-18T19:11:18.291Z"
   },
   {
    "duration": 249,
    "start_time": "2022-11-18T19:11:18.525Z"
   },
   {
    "duration": 4,
    "start_time": "2022-11-18T19:11:18.776Z"
   },
   {
    "duration": 240,
    "start_time": "2022-11-18T19:11:18.782Z"
   },
   {
    "duration": 250,
    "start_time": "2022-11-18T19:11:19.023Z"
   },
   {
    "duration": 232,
    "start_time": "2022-11-18T19:11:19.275Z"
   },
   {
    "duration": 235,
    "start_time": "2022-11-18T19:11:19.509Z"
   },
   {
    "duration": 553,
    "start_time": "2022-11-18T19:11:19.746Z"
   },
   {
    "duration": 263,
    "start_time": "2022-11-18T19:11:20.300Z"
   },
   {
    "duration": 221,
    "start_time": "2022-11-18T19:11:20.564Z"
   },
   {
    "duration": 252,
    "start_time": "2022-11-18T19:11:20.787Z"
   },
   {
    "duration": 247,
    "start_time": "2022-11-18T19:11:21.041Z"
   },
   {
    "duration": 241,
    "start_time": "2022-11-18T19:11:21.290Z"
   },
   {
    "duration": 226,
    "start_time": "2022-11-18T19:11:21.533Z"
   },
   {
    "duration": 213,
    "start_time": "2022-11-18T19:11:21.761Z"
   },
   {
    "duration": 7,
    "start_time": "2022-11-18T19:11:21.976Z"
   },
   {
    "duration": 157,
    "start_time": "2022-11-18T19:11:21.985Z"
   },
   {
    "duration": 16,
    "start_time": "2022-11-18T19:11:22.144Z"
   },
   {
    "duration": 170,
    "start_time": "2022-11-18T19:11:22.162Z"
   },
   {
    "duration": 17,
    "start_time": "2022-11-18T19:11:22.335Z"
   },
   {
    "duration": 195,
    "start_time": "2022-11-18T19:11:22.354Z"
   },
   {
    "duration": 10,
    "start_time": "2022-11-18T19:11:22.551Z"
   },
   {
    "duration": 195,
    "start_time": "2022-11-18T19:11:22.563Z"
   },
   {
    "duration": 8,
    "start_time": "2022-11-18T19:11:22.759Z"
   },
   {
    "duration": 173,
    "start_time": "2022-11-18T19:11:22.768Z"
   },
   {
    "duration": 14,
    "start_time": "2022-11-18T19:11:22.944Z"
   },
   {
    "duration": 245,
    "start_time": "2022-11-18T19:11:22.960Z"
   },
   {
    "duration": 6,
    "start_time": "2022-11-18T19:11:23.207Z"
   },
   {
    "duration": 18,
    "start_time": "2022-11-18T19:11:23.214Z"
   },
   {
    "duration": 12,
    "start_time": "2022-11-18T19:11:23.234Z"
   },
   {
    "duration": 7,
    "start_time": "2022-11-18T19:11:23.248Z"
   },
   {
    "duration": 27,
    "start_time": "2022-11-18T19:11:23.256Z"
   },
   {
    "duration": 194,
    "start_time": "2022-11-18T19:11:23.285Z"
   },
   {
    "duration": 179,
    "start_time": "2022-11-18T19:11:23.484Z"
   },
   {
    "duration": 157,
    "start_time": "2022-11-18T19:50:30.081Z"
   },
   {
    "duration": 223,
    "start_time": "2022-11-18T19:50:38.547Z"
   },
   {
    "duration": 169,
    "start_time": "2022-11-18T19:51:06.544Z"
   },
   {
    "duration": 172,
    "start_time": "2022-11-18T19:51:23.027Z"
   },
   {
    "duration": 152,
    "start_time": "2022-11-18T19:51:31.097Z"
   },
   {
    "duration": 77,
    "start_time": "2022-11-18T19:52:44.756Z"
   },
   {
    "duration": 509,
    "start_time": "2022-11-19T09:51:26.984Z"
   },
   {
    "duration": 16,
    "start_time": "2022-11-19T09:51:27.494Z"
   },
   {
    "duration": 35,
    "start_time": "2022-11-19T09:51:27.512Z"
   },
   {
    "duration": 9,
    "start_time": "2022-11-19T09:51:27.549Z"
   },
   {
    "duration": 99,
    "start_time": "2022-11-19T09:51:27.559Z"
   },
   {
    "duration": 1941,
    "start_time": "2022-11-19T09:51:27.659Z"
   },
   {
    "duration": 11,
    "start_time": "2022-11-19T09:51:29.602Z"
   },
   {
    "duration": 6,
    "start_time": "2022-11-19T09:51:29.615Z"
   },
   {
    "duration": 8,
    "start_time": "2022-11-19T09:51:29.623Z"
   },
   {
    "duration": 5,
    "start_time": "2022-11-19T09:51:29.633Z"
   },
   {
    "duration": 9,
    "start_time": "2022-11-19T09:51:29.639Z"
   },
   {
    "duration": 7,
    "start_time": "2022-11-19T09:51:29.650Z"
   },
   {
    "duration": 4,
    "start_time": "2022-11-19T09:51:29.658Z"
   },
   {
    "duration": 34,
    "start_time": "2022-11-19T09:51:29.663Z"
   },
   {
    "duration": 5,
    "start_time": "2022-11-19T09:51:29.699Z"
   },
   {
    "duration": 8,
    "start_time": "2022-11-19T09:51:29.706Z"
   },
   {
    "duration": 10,
    "start_time": "2022-11-19T09:51:29.715Z"
   },
   {
    "duration": 6,
    "start_time": "2022-11-19T09:51:29.727Z"
   },
   {
    "duration": 9,
    "start_time": "2022-11-19T09:51:29.735Z"
   },
   {
    "duration": 12,
    "start_time": "2022-11-19T09:51:29.745Z"
   },
   {
    "duration": 4,
    "start_time": "2022-11-19T09:51:29.758Z"
   },
   {
    "duration": 5,
    "start_time": "2022-11-19T09:51:29.763Z"
   },
   {
    "duration": 42,
    "start_time": "2022-11-19T09:51:29.769Z"
   },
   {
    "duration": 15,
    "start_time": "2022-11-19T09:51:29.812Z"
   },
   {
    "duration": 9,
    "start_time": "2022-11-19T09:51:29.829Z"
   },
   {
    "duration": 8,
    "start_time": "2022-11-19T09:51:29.839Z"
   },
   {
    "duration": 5,
    "start_time": "2022-11-19T09:51:29.849Z"
   },
   {
    "duration": 6,
    "start_time": "2022-11-19T09:51:29.859Z"
   },
   {
    "duration": 32,
    "start_time": "2022-11-19T09:51:29.867Z"
   },
   {
    "duration": 8,
    "start_time": "2022-11-19T09:51:29.901Z"
   },
   {
    "duration": 8,
    "start_time": "2022-11-19T09:51:29.911Z"
   },
   {
    "duration": 19,
    "start_time": "2022-11-19T09:51:29.920Z"
   },
   {
    "duration": 4,
    "start_time": "2022-11-19T09:51:29.940Z"
   },
   {
    "duration": 110,
    "start_time": "2022-11-19T09:51:29.945Z"
   },
   {
    "duration": 156,
    "start_time": "2022-11-19T09:51:30.056Z"
   },
   {
    "duration": 3,
    "start_time": "2022-11-19T09:51:30.214Z"
   },
   {
    "duration": 9,
    "start_time": "2022-11-19T09:51:30.219Z"
   },
   {
    "duration": 156,
    "start_time": "2022-11-19T09:51:30.229Z"
   },
   {
    "duration": 164,
    "start_time": "2022-11-19T09:51:30.387Z"
   },
   {
    "duration": 172,
    "start_time": "2022-11-19T09:51:30.552Z"
   },
   {
    "duration": 4,
    "start_time": "2022-11-19T09:51:30.727Z"
   },
   {
    "duration": 34,
    "start_time": "2022-11-19T09:51:30.732Z"
   },
   {
    "duration": 23,
    "start_time": "2022-11-19T09:51:30.768Z"
   },
   {
    "duration": 27,
    "start_time": "2022-11-19T09:51:30.792Z"
   },
   {
    "duration": 325,
    "start_time": "2022-11-19T09:51:30.821Z"
   },
   {
    "duration": 8,
    "start_time": "2022-11-19T09:51:31.148Z"
   },
   {
    "duration": 25,
    "start_time": "2022-11-19T09:51:31.157Z"
   },
   {
    "duration": 232,
    "start_time": "2022-11-19T09:51:31.184Z"
   },
   {
    "duration": 227,
    "start_time": "2022-11-19T09:51:31.418Z"
   },
   {
    "duration": 259,
    "start_time": "2022-11-19T09:51:31.646Z"
   },
   {
    "duration": 3,
    "start_time": "2022-11-19T09:51:31.907Z"
   },
   {
    "duration": 233,
    "start_time": "2022-11-19T09:51:31.912Z"
   },
   {
    "duration": 312,
    "start_time": "2022-11-19T09:51:32.147Z"
   },
   {
    "duration": 217,
    "start_time": "2022-11-19T09:51:32.460Z"
   },
   {
    "duration": 235,
    "start_time": "2022-11-19T09:51:32.679Z"
   },
   {
    "duration": 213,
    "start_time": "2022-11-19T09:51:32.916Z"
   },
   {
    "duration": 233,
    "start_time": "2022-11-19T09:51:33.131Z"
   },
   {
    "duration": 210,
    "start_time": "2022-11-19T09:51:33.366Z"
   },
   {
    "duration": 315,
    "start_time": "2022-11-19T09:51:33.578Z"
   },
   {
    "duration": 230,
    "start_time": "2022-11-19T09:51:33.895Z"
   },
   {
    "duration": 236,
    "start_time": "2022-11-19T09:51:34.126Z"
   },
   {
    "duration": 255,
    "start_time": "2022-11-19T09:51:34.363Z"
   },
   {
    "duration": 251,
    "start_time": "2022-11-19T09:51:34.620Z"
   },
   {
    "duration": 5,
    "start_time": "2022-11-19T09:51:34.873Z"
   },
   {
    "duration": 150,
    "start_time": "2022-11-19T09:51:34.879Z"
   },
   {
    "duration": 7,
    "start_time": "2022-11-19T09:51:35.031Z"
   },
   {
    "duration": 169,
    "start_time": "2022-11-19T09:51:35.039Z"
   },
   {
    "duration": 7,
    "start_time": "2022-11-19T09:51:35.210Z"
   },
   {
    "duration": 145,
    "start_time": "2022-11-19T09:51:35.219Z"
   },
   {
    "duration": 8,
    "start_time": "2022-11-19T09:51:35.365Z"
   },
   {
    "duration": 299,
    "start_time": "2022-11-19T09:51:35.374Z"
   },
   {
    "duration": 7,
    "start_time": "2022-11-19T09:51:35.675Z"
   },
   {
    "duration": 179,
    "start_time": "2022-11-19T09:51:35.683Z"
   },
   {
    "duration": 7,
    "start_time": "2022-11-19T09:51:35.863Z"
   },
   {
    "duration": 185,
    "start_time": "2022-11-19T09:51:35.871Z"
   },
   {
    "duration": 178,
    "start_time": "2022-11-19T09:51:36.057Z"
   },
   {
    "duration": 176,
    "start_time": "2022-11-19T09:51:36.237Z"
   },
   {
    "duration": 6,
    "start_time": "2022-11-19T09:51:36.415Z"
   },
   {
    "duration": 7,
    "start_time": "2022-11-19T09:51:36.422Z"
   },
   {
    "duration": 5,
    "start_time": "2022-11-19T09:51:36.431Z"
   },
   {
    "duration": 5,
    "start_time": "2022-11-19T09:51:36.438Z"
   },
   {
    "duration": 23,
    "start_time": "2022-11-19T09:51:36.448Z"
   },
   {
    "duration": 184,
    "start_time": "2022-11-19T09:51:36.498Z"
   },
   {
    "duration": 175,
    "start_time": "2022-11-19T09:51:36.684Z"
   },
   {
    "duration": 15,
    "start_time": "2022-11-19T09:52:45.613Z"
   },
   {
    "duration": 89,
    "start_time": "2022-11-19T09:52:56.528Z"
   },
   {
    "duration": 545,
    "start_time": "2022-11-20T20:02:16.559Z"
   },
   {
    "duration": 29,
    "start_time": "2022-11-20T20:02:17.107Z"
   },
   {
    "duration": 97,
    "start_time": "2022-11-20T20:02:17.138Z"
   },
   {
    "duration": 12,
    "start_time": "2022-11-20T20:02:17.237Z"
   },
   {
    "duration": 105,
    "start_time": "2022-11-20T20:02:17.257Z"
   },
   {
    "duration": 2700,
    "start_time": "2022-11-20T20:02:17.364Z"
   },
   {
    "duration": 18,
    "start_time": "2022-11-20T20:02:20.066Z"
   },
   {
    "duration": 9,
    "start_time": "2022-11-20T20:02:20.086Z"
   },
   {
    "duration": 14,
    "start_time": "2022-11-20T20:02:20.096Z"
   },
   {
    "duration": 32,
    "start_time": "2022-11-20T20:02:20.117Z"
   },
   {
    "duration": 32,
    "start_time": "2022-11-20T20:02:20.151Z"
   },
   {
    "duration": 21,
    "start_time": "2022-11-20T20:02:20.185Z"
   },
   {
    "duration": 10,
    "start_time": "2022-11-20T20:02:20.208Z"
   },
   {
    "duration": 52,
    "start_time": "2022-11-20T20:02:20.221Z"
   },
   {
    "duration": 7,
    "start_time": "2022-11-20T20:02:20.275Z"
   },
   {
    "duration": 11,
    "start_time": "2022-11-20T20:02:20.284Z"
   },
   {
    "duration": 12,
    "start_time": "2022-11-20T20:02:20.297Z"
   },
   {
    "duration": 17,
    "start_time": "2022-11-20T20:02:20.310Z"
   },
   {
    "duration": 35,
    "start_time": "2022-11-20T20:02:20.334Z"
   },
   {
    "duration": 10,
    "start_time": "2022-11-20T20:02:20.371Z"
   },
   {
    "duration": 10,
    "start_time": "2022-11-20T20:02:20.383Z"
   },
   {
    "duration": 8,
    "start_time": "2022-11-20T20:02:20.397Z"
   },
   {
    "duration": 61,
    "start_time": "2022-11-20T20:02:20.407Z"
   },
   {
    "duration": 27,
    "start_time": "2022-11-20T20:02:20.469Z"
   },
   {
    "duration": 24,
    "start_time": "2022-11-20T20:02:20.498Z"
   },
   {
    "duration": 28,
    "start_time": "2022-11-20T20:02:20.527Z"
   },
   {
    "duration": 6,
    "start_time": "2022-11-20T20:02:20.557Z"
   },
   {
    "duration": 12,
    "start_time": "2022-11-20T20:02:20.565Z"
   },
   {
    "duration": 4,
    "start_time": "2022-11-20T20:02:20.579Z"
   },
   {
    "duration": 20,
    "start_time": "2022-11-20T20:02:20.585Z"
   },
   {
    "duration": 36,
    "start_time": "2022-11-20T20:02:20.607Z"
   },
   {
    "duration": 32,
    "start_time": "2022-11-20T20:02:20.655Z"
   },
   {
    "duration": 5,
    "start_time": "2022-11-20T20:02:20.689Z"
   },
   {
    "duration": 115,
    "start_time": "2022-11-20T20:02:20.697Z"
   },
   {
    "duration": 191,
    "start_time": "2022-11-20T20:02:20.814Z"
   },
   {
    "duration": 5,
    "start_time": "2022-11-20T20:02:21.014Z"
   },
   {
    "duration": 11,
    "start_time": "2022-11-20T20:02:21.021Z"
   },
   {
    "duration": 227,
    "start_time": "2022-11-20T20:02:21.033Z"
   },
   {
    "duration": 225,
    "start_time": "2022-11-20T20:02:21.263Z"
   },
   {
    "duration": 259,
    "start_time": "2022-11-20T20:02:21.491Z"
   },
   {
    "duration": 5,
    "start_time": "2022-11-20T20:02:21.756Z"
   },
   {
    "duration": 42,
    "start_time": "2022-11-20T20:02:21.763Z"
   },
   {
    "duration": 18,
    "start_time": "2022-11-20T20:02:21.807Z"
   },
   {
    "duration": 61,
    "start_time": "2022-11-20T20:02:21.830Z"
   },
   {
    "duration": 558,
    "start_time": "2022-11-20T20:02:21.893Z"
   },
   {
    "duration": 12,
    "start_time": "2022-11-20T20:02:22.461Z"
   },
   {
    "duration": 42,
    "start_time": "2022-11-20T20:02:22.475Z"
   },
   {
    "duration": 381,
    "start_time": "2022-11-20T20:02:22.519Z"
   },
   {
    "duration": 304,
    "start_time": "2022-11-20T20:02:22.901Z"
   },
   {
    "duration": 410,
    "start_time": "2022-11-20T20:02:23.218Z"
   },
   {
    "duration": 6,
    "start_time": "2022-11-20T20:02:23.630Z"
   },
   {
    "duration": 441,
    "start_time": "2022-11-20T20:02:23.638Z"
   },
   {
    "duration": 595,
    "start_time": "2022-11-20T20:02:24.082Z"
   },
   {
    "duration": 367,
    "start_time": "2022-11-20T20:02:24.680Z"
   },
   {
    "duration": 305,
    "start_time": "2022-11-20T20:02:25.049Z"
   },
   {
    "duration": 302,
    "start_time": "2022-11-20T20:02:25.356Z"
   },
   {
    "duration": 388,
    "start_time": "2022-11-20T20:02:25.661Z"
   },
   {
    "duration": 309,
    "start_time": "2022-11-20T20:02:26.050Z"
   },
   {
    "duration": 564,
    "start_time": "2022-11-20T20:02:26.361Z"
   },
   {
    "duration": 393,
    "start_time": "2022-11-20T20:02:26.927Z"
   },
   {
    "duration": 374,
    "start_time": "2022-11-20T20:02:27.327Z"
   },
   {
    "duration": 320,
    "start_time": "2022-11-20T20:02:27.703Z"
   },
   {
    "duration": 292,
    "start_time": "2022-11-20T20:02:28.033Z"
   },
   {
    "duration": 9,
    "start_time": "2022-11-20T20:02:28.330Z"
   },
   {
    "duration": 286,
    "start_time": "2022-11-20T20:02:28.344Z"
   },
   {
    "duration": 19,
    "start_time": "2022-11-20T20:02:28.637Z"
   },
   {
    "duration": 221,
    "start_time": "2022-11-20T20:02:28.657Z"
   },
   {
    "duration": 13,
    "start_time": "2022-11-20T20:02:28.880Z"
   },
   {
    "duration": 255,
    "start_time": "2022-11-20T20:02:28.896Z"
   },
   {
    "duration": 10,
    "start_time": "2022-11-20T20:02:29.157Z"
   },
   {
    "duration": 451,
    "start_time": "2022-11-20T20:02:29.174Z"
   },
   {
    "duration": 13,
    "start_time": "2022-11-20T20:02:29.630Z"
   },
   {
    "duration": 259,
    "start_time": "2022-11-20T20:02:29.647Z"
   },
   {
    "duration": 28,
    "start_time": "2022-11-20T20:02:29.908Z"
   },
   {
    "duration": 280,
    "start_time": "2022-11-20T20:02:29.943Z"
   },
   {
    "duration": 263,
    "start_time": "2022-11-20T20:02:30.244Z"
   },
   {
    "duration": 270,
    "start_time": "2022-11-20T20:02:30.509Z"
   },
   {
    "duration": 13,
    "start_time": "2022-11-20T20:02:30.781Z"
   },
   {
    "duration": 82,
    "start_time": "2022-11-20T20:02:30.796Z"
   },
   {
    "duration": 15,
    "start_time": "2022-11-20T20:02:30.880Z"
   },
   {
    "duration": 15,
    "start_time": "2022-11-20T20:02:30.897Z"
   },
   {
    "duration": 106,
    "start_time": "2022-11-20T20:02:30.923Z"
   },
   {
    "duration": 306,
    "start_time": "2022-11-20T20:02:31.034Z"
   },
   {
    "duration": 251,
    "start_time": "2022-11-20T20:02:31.346Z"
   },
   {
    "duration": 10,
    "start_time": "2022-11-20T20:04:01.466Z"
   },
   {
    "duration": 523,
    "start_time": "2022-11-20T20:04:23.581Z"
   },
   {
    "duration": 22,
    "start_time": "2022-11-20T20:04:24.106Z"
   },
   {
    "duration": 105,
    "start_time": "2022-11-20T20:04:24.130Z"
   },
   {
    "duration": 21,
    "start_time": "2022-11-20T20:04:24.252Z"
   },
   {
    "duration": 108,
    "start_time": "2022-11-20T20:04:24.275Z"
   },
   {
    "duration": 2812,
    "start_time": "2022-11-20T20:04:24.384Z"
   },
   {
    "duration": 19,
    "start_time": "2022-11-20T20:04:27.198Z"
   },
   {
    "duration": 21,
    "start_time": "2022-11-20T20:04:27.225Z"
   },
   {
    "duration": 30,
    "start_time": "2022-11-20T20:04:27.248Z"
   },
   {
    "duration": 7,
    "start_time": "2022-11-20T20:04:27.282Z"
   },
   {
    "duration": 8,
    "start_time": "2022-11-20T20:04:27.291Z"
   },
   {
    "duration": 13,
    "start_time": "2022-11-20T20:04:27.301Z"
   },
   {
    "duration": 44,
    "start_time": "2022-11-20T20:04:27.316Z"
   },
   {
    "duration": 9,
    "start_time": "2022-11-20T20:04:27.363Z"
   },
   {
    "duration": 7,
    "start_time": "2022-11-20T20:04:27.374Z"
   },
   {
    "duration": 10,
    "start_time": "2022-11-20T20:04:27.382Z"
   },
   {
    "duration": 11,
    "start_time": "2022-11-20T20:04:27.394Z"
   },
   {
    "duration": 58,
    "start_time": "2022-11-20T20:04:27.406Z"
   },
   {
    "duration": 13,
    "start_time": "2022-11-20T20:04:27.466Z"
   },
   {
    "duration": 11,
    "start_time": "2022-11-20T20:04:27.481Z"
   },
   {
    "duration": 4,
    "start_time": "2022-11-20T20:04:27.493Z"
   },
   {
    "duration": 19,
    "start_time": "2022-11-20T20:04:27.499Z"
   },
   {
    "duration": 47,
    "start_time": "2022-11-20T20:04:27.524Z"
   },
   {
    "duration": 24,
    "start_time": "2022-11-20T20:04:27.575Z"
   },
   {
    "duration": 15,
    "start_time": "2022-11-20T20:04:27.601Z"
   },
   {
    "duration": 8,
    "start_time": "2022-11-20T20:04:27.621Z"
   },
   {
    "duration": 38,
    "start_time": "2022-11-20T20:04:27.631Z"
   },
   {
    "duration": 9,
    "start_time": "2022-11-20T20:04:27.675Z"
   },
   {
    "duration": 5,
    "start_time": "2022-11-20T20:04:27.686Z"
   },
   {
    "duration": 16,
    "start_time": "2022-11-20T20:04:27.692Z"
   },
   {
    "duration": 49,
    "start_time": "2022-11-20T20:04:27.710Z"
   },
   {
    "duration": 23,
    "start_time": "2022-11-20T20:04:27.761Z"
   },
   {
    "duration": 5,
    "start_time": "2022-11-20T20:04:27.786Z"
   },
   {
    "duration": 97,
    "start_time": "2022-11-20T20:04:27.793Z"
   },
   {
    "duration": 243,
    "start_time": "2022-11-20T20:04:27.894Z"
   },
   {
    "duration": 8,
    "start_time": "2022-11-20T20:04:28.148Z"
   },
   {
    "duration": 21,
    "start_time": "2022-11-20T20:04:28.158Z"
   },
   {
    "duration": 24,
    "start_time": "2022-11-20T20:04:28.182Z"
   },
   {
    "duration": 268,
    "start_time": "2022-11-20T20:04:28.209Z"
   },
   {
    "duration": 252,
    "start_time": "2022-11-20T20:04:28.479Z"
   },
   {
    "duration": 190,
    "start_time": "2022-11-20T20:04:28.737Z"
   },
   {
    "duration": 4,
    "start_time": "2022-11-20T20:04:28.929Z"
   },
   {
    "duration": 37,
    "start_time": "2022-11-20T20:04:28.935Z"
   },
   {
    "duration": 8,
    "start_time": "2022-11-20T20:04:28.974Z"
   },
   {
    "duration": 11,
    "start_time": "2022-11-20T20:04:28.984Z"
   },
   {
    "duration": 507,
    "start_time": "2022-11-20T20:04:28.997Z"
   },
   {
    "duration": 22,
    "start_time": "2022-11-20T20:04:29.505Z"
   },
   {
    "duration": 70,
    "start_time": "2022-11-20T20:04:29.529Z"
   },
   {
    "duration": 420,
    "start_time": "2022-11-20T20:04:29.602Z"
   },
   {
    "duration": 364,
    "start_time": "2022-11-20T20:04:30.024Z"
   },
   {
    "duration": 348,
    "start_time": "2022-11-20T20:04:30.390Z"
   },
   {
    "duration": 14,
    "start_time": "2022-11-20T20:04:30.743Z"
   },
   {
    "duration": 346,
    "start_time": "2022-11-20T20:04:30.759Z"
   },
   {
    "duration": 421,
    "start_time": "2022-11-20T20:04:31.107Z"
   },
   {
    "duration": 374,
    "start_time": "2022-11-20T20:04:31.529Z"
   },
   {
    "duration": 382,
    "start_time": "2022-11-20T20:04:31.905Z"
   },
   {
    "duration": 313,
    "start_time": "2022-11-20T20:04:32.290Z"
   },
   {
    "duration": 363,
    "start_time": "2022-11-20T20:04:32.605Z"
   },
   {
    "duration": 292,
    "start_time": "2022-11-20T20:04:32.973Z"
   },
   {
    "duration": 470,
    "start_time": "2022-11-20T20:04:33.267Z"
   },
   {
    "duration": 314,
    "start_time": "2022-11-20T20:04:33.741Z"
   },
   {
    "duration": 314,
    "start_time": "2022-11-20T20:04:34.064Z"
   },
   {
    "duration": 308,
    "start_time": "2022-11-20T20:04:34.380Z"
   },
   {
    "duration": 328,
    "start_time": "2022-11-20T20:04:34.690Z"
   },
   {
    "duration": 11,
    "start_time": "2022-11-20T20:04:35.020Z"
   },
   {
    "duration": 241,
    "start_time": "2022-11-20T20:04:35.033Z"
   },
   {
    "duration": 9,
    "start_time": "2022-11-20T20:04:35.276Z"
   },
   {
    "duration": 243,
    "start_time": "2022-11-20T20:04:35.287Z"
   },
   {
    "duration": 19,
    "start_time": "2022-11-20T20:04:35.534Z"
   },
   {
    "duration": 197,
    "start_time": "2022-11-20T20:04:35.559Z"
   },
   {
    "duration": 9,
    "start_time": "2022-11-20T20:04:35.758Z"
   },
   {
    "duration": 405,
    "start_time": "2022-11-20T20:04:35.769Z"
   },
   {
    "duration": 9,
    "start_time": "2022-11-20T20:04:36.190Z"
   },
   {
    "duration": 292,
    "start_time": "2022-11-20T20:04:36.201Z"
   },
   {
    "duration": 34,
    "start_time": "2022-11-20T20:04:36.495Z"
   },
   {
    "duration": 264,
    "start_time": "2022-11-20T20:04:36.534Z"
   },
   {
    "duration": 269,
    "start_time": "2022-11-20T20:04:36.801Z"
   },
   {
    "duration": 244,
    "start_time": "2022-11-20T20:04:37.074Z"
   },
   {
    "duration": 11,
    "start_time": "2022-11-20T20:04:37.326Z"
   },
   {
    "duration": 6,
    "start_time": "2022-11-20T20:04:37.342Z"
   },
   {
    "duration": 18,
    "start_time": "2022-11-20T20:04:37.350Z"
   },
   {
    "duration": 4,
    "start_time": "2022-11-20T20:04:37.375Z"
   },
   {
    "duration": 53,
    "start_time": "2022-11-20T20:04:37.381Z"
   },
   {
    "duration": 278,
    "start_time": "2022-11-20T20:04:37.438Z"
   },
   {
    "duration": 259,
    "start_time": "2022-11-20T20:04:37.719Z"
   },
   {
    "duration": 142,
    "start_time": "2022-11-20T20:07:42.338Z"
   },
   {
    "duration": 165,
    "start_time": "2022-11-20T20:07:57.695Z"
   },
   {
    "duration": 497,
    "start_time": "2022-11-20T20:08:17.472Z"
   },
   {
    "duration": 17,
    "start_time": "2022-11-20T20:08:17.973Z"
   },
   {
    "duration": 65,
    "start_time": "2022-11-20T20:08:17.992Z"
   },
   {
    "duration": 10,
    "start_time": "2022-11-20T20:08:18.060Z"
   },
   {
    "duration": 97,
    "start_time": "2022-11-20T20:08:18.072Z"
   },
   {
    "duration": 2804,
    "start_time": "2022-11-20T20:08:18.172Z"
   },
   {
    "duration": 18,
    "start_time": "2022-11-20T20:08:20.978Z"
   },
   {
    "duration": 9,
    "start_time": "2022-11-20T20:08:20.998Z"
   },
   {
    "duration": 12,
    "start_time": "2022-11-20T20:08:21.009Z"
   },
   {
    "duration": 42,
    "start_time": "2022-11-20T20:08:21.025Z"
   },
   {
    "duration": 13,
    "start_time": "2022-11-20T20:08:21.069Z"
   },
   {
    "duration": 11,
    "start_time": "2022-11-20T20:08:21.084Z"
   },
   {
    "duration": 4,
    "start_time": "2022-11-20T20:08:21.098Z"
   },
   {
    "duration": 54,
    "start_time": "2022-11-20T20:08:21.104Z"
   },
   {
    "duration": 21,
    "start_time": "2022-11-20T20:08:21.160Z"
   },
   {
    "duration": 34,
    "start_time": "2022-11-20T20:08:21.183Z"
   },
   {
    "duration": 64,
    "start_time": "2022-11-20T20:08:21.218Z"
   },
   {
    "duration": 19,
    "start_time": "2022-11-20T20:08:21.284Z"
   },
   {
    "duration": 68,
    "start_time": "2022-11-20T20:08:21.305Z"
   },
   {
    "duration": 57,
    "start_time": "2022-11-20T20:08:21.375Z"
   },
   {
    "duration": 20,
    "start_time": "2022-11-20T20:08:21.442Z"
   },
   {
    "duration": 10,
    "start_time": "2022-11-20T20:08:21.465Z"
   },
   {
    "duration": 20,
    "start_time": "2022-11-20T20:08:21.477Z"
   },
   {
    "duration": 29,
    "start_time": "2022-11-20T20:08:21.499Z"
   },
   {
    "duration": 30,
    "start_time": "2022-11-20T20:08:21.529Z"
   },
   {
    "duration": 24,
    "start_time": "2022-11-20T20:08:21.566Z"
   },
   {
    "duration": 7,
    "start_time": "2022-11-20T20:08:21.592Z"
   },
   {
    "duration": 10,
    "start_time": "2022-11-20T20:08:21.605Z"
   },
   {
    "duration": 51,
    "start_time": "2022-11-20T20:08:21.617Z"
   },
   {
    "duration": 17,
    "start_time": "2022-11-20T20:08:21.671Z"
   },
   {
    "duration": 7,
    "start_time": "2022-11-20T20:08:21.690Z"
   },
   {
    "duration": 24,
    "start_time": "2022-11-20T20:08:21.700Z"
   },
   {
    "duration": 44,
    "start_time": "2022-11-20T20:08:21.726Z"
   },
   {
    "duration": 125,
    "start_time": "2022-11-20T20:08:21.772Z"
   },
   {
    "duration": 198,
    "start_time": "2022-11-20T20:08:21.899Z"
   },
   {
    "duration": 23,
    "start_time": "2022-11-20T20:08:22.099Z"
   },
   {
    "duration": 214,
    "start_time": "2022-11-20T20:08:22.133Z"
   },
   {
    "duration": 143,
    "start_time": "2022-11-20T20:08:22.349Z"
   },
   {
    "duration": 27,
    "start_time": "2022-11-20T20:08:22.494Z"
   },
   {
    "duration": 247,
    "start_time": "2022-11-20T20:08:22.528Z"
   },
   {
    "duration": 163,
    "start_time": "2022-11-20T20:08:22.778Z"
   },
   {
    "duration": 8,
    "start_time": "2022-11-20T20:08:22.947Z"
   },
   {
    "duration": 285,
    "start_time": "2022-11-20T20:08:22.957Z"
   },
   {
    "duration": 10,
    "start_time": "2022-11-20T20:08:23.246Z"
   },
   {
    "duration": 15,
    "start_time": "2022-11-20T20:08:23.261Z"
   },
   {
    "duration": 6,
    "start_time": "2022-11-20T20:08:23.278Z"
   },
   {
    "duration": 8,
    "start_time": "2022-11-20T20:08:23.286Z"
   },
   {
    "duration": 1215,
    "start_time": "2022-11-20T20:08:23.296Z"
   },
   {
    "duration": 0,
    "start_time": "2022-11-20T20:08:24.520Z"
   },
   {
    "duration": 0,
    "start_time": "2022-11-20T20:08:24.526Z"
   },
   {
    "duration": 0,
    "start_time": "2022-11-20T20:08:24.531Z"
   },
   {
    "duration": 0,
    "start_time": "2022-11-20T20:08:24.533Z"
   },
   {
    "duration": 0,
    "start_time": "2022-11-20T20:08:24.541Z"
   },
   {
    "duration": 0,
    "start_time": "2022-11-20T20:08:24.547Z"
   },
   {
    "duration": 0,
    "start_time": "2022-11-20T20:08:24.548Z"
   },
   {
    "duration": 0,
    "start_time": "2022-11-20T20:08:24.549Z"
   },
   {
    "duration": 0,
    "start_time": "2022-11-20T20:08:24.550Z"
   },
   {
    "duration": 0,
    "start_time": "2022-11-20T20:08:24.555Z"
   },
   {
    "duration": 0,
    "start_time": "2022-11-20T20:08:24.558Z"
   },
   {
    "duration": 0,
    "start_time": "2022-11-20T20:08:24.559Z"
   },
   {
    "duration": 0,
    "start_time": "2022-11-20T20:08:24.561Z"
   },
   {
    "duration": 0,
    "start_time": "2022-11-20T20:08:24.562Z"
   },
   {
    "duration": 0,
    "start_time": "2022-11-20T20:08:24.564Z"
   },
   {
    "duration": 0,
    "start_time": "2022-11-20T20:08:24.565Z"
   },
   {
    "duration": 0,
    "start_time": "2022-11-20T20:08:24.571Z"
   },
   {
    "duration": 0,
    "start_time": "2022-11-20T20:08:24.572Z"
   },
   {
    "duration": 0,
    "start_time": "2022-11-20T20:08:24.574Z"
   },
   {
    "duration": 0,
    "start_time": "2022-11-20T20:08:24.575Z"
   },
   {
    "duration": 0,
    "start_time": "2022-11-20T20:08:24.576Z"
   },
   {
    "duration": 0,
    "start_time": "2022-11-20T20:08:24.577Z"
   },
   {
    "duration": 0,
    "start_time": "2022-11-20T20:08:24.579Z"
   },
   {
    "duration": 0,
    "start_time": "2022-11-20T20:08:24.582Z"
   },
   {
    "duration": 0,
    "start_time": "2022-11-20T20:08:24.583Z"
   },
   {
    "duration": 0,
    "start_time": "2022-11-20T20:08:24.584Z"
   },
   {
    "duration": 0,
    "start_time": "2022-11-20T20:08:24.585Z"
   },
   {
    "duration": 0,
    "start_time": "2022-11-20T20:08:24.586Z"
   },
   {
    "duration": 0,
    "start_time": "2022-11-20T20:08:24.587Z"
   },
   {
    "duration": 0,
    "start_time": "2022-11-20T20:08:24.589Z"
   },
   {
    "duration": 0,
    "start_time": "2022-11-20T20:08:24.618Z"
   },
   {
    "duration": 0,
    "start_time": "2022-11-20T20:08:24.619Z"
   },
   {
    "duration": 0,
    "start_time": "2022-11-20T20:08:24.620Z"
   },
   {
    "duration": 0,
    "start_time": "2022-11-20T20:08:24.621Z"
   },
   {
    "duration": 0,
    "start_time": "2022-11-20T20:08:24.622Z"
   },
   {
    "duration": 0,
    "start_time": "2022-11-20T20:08:24.623Z"
   },
   {
    "duration": 0,
    "start_time": "2022-11-20T20:08:24.624Z"
   },
   {
    "duration": 0,
    "start_time": "2022-11-20T20:08:24.625Z"
   },
   {
    "duration": 0,
    "start_time": "2022-11-20T20:08:24.628Z"
   },
   {
    "duration": 537,
    "start_time": "2022-11-20T20:09:00.842Z"
   },
   {
    "duration": 21,
    "start_time": "2022-11-20T20:09:01.382Z"
   },
   {
    "duration": 76,
    "start_time": "2022-11-20T20:09:01.405Z"
   },
   {
    "duration": 12,
    "start_time": "2022-11-20T20:09:01.484Z"
   },
   {
    "duration": 100,
    "start_time": "2022-11-20T20:09:01.498Z"
   },
   {
    "duration": 2684,
    "start_time": "2022-11-20T20:09:01.600Z"
   },
   {
    "duration": 17,
    "start_time": "2022-11-20T20:09:04.286Z"
   },
   {
    "duration": 25,
    "start_time": "2022-11-20T20:09:04.305Z"
   },
   {
    "duration": 32,
    "start_time": "2022-11-20T20:09:04.332Z"
   },
   {
    "duration": 8,
    "start_time": "2022-11-20T20:09:04.368Z"
   },
   {
    "duration": 10,
    "start_time": "2022-11-20T20:09:04.377Z"
   },
   {
    "duration": 8,
    "start_time": "2022-11-20T20:09:04.389Z"
   },
   {
    "duration": 11,
    "start_time": "2022-11-20T20:09:04.399Z"
   },
   {
    "duration": 43,
    "start_time": "2022-11-20T20:09:04.418Z"
   },
   {
    "duration": 6,
    "start_time": "2022-11-20T20:09:04.464Z"
   },
   {
    "duration": 14,
    "start_time": "2022-11-20T20:09:04.472Z"
   },
   {
    "duration": 8,
    "start_time": "2022-11-20T20:09:04.488Z"
   },
   {
    "duration": 8,
    "start_time": "2022-11-20T20:09:04.498Z"
   },
   {
    "duration": 18,
    "start_time": "2022-11-20T20:09:04.508Z"
   },
   {
    "duration": 43,
    "start_time": "2022-11-20T20:09:04.528Z"
   },
   {
    "duration": 4,
    "start_time": "2022-11-20T20:09:04.573Z"
   },
   {
    "duration": 13,
    "start_time": "2022-11-20T20:09:04.579Z"
   },
   {
    "duration": 42,
    "start_time": "2022-11-20T20:09:04.594Z"
   },
   {
    "duration": 25,
    "start_time": "2022-11-20T20:09:04.645Z"
   },
   {
    "duration": 12,
    "start_time": "2022-11-20T20:09:04.672Z"
   },
   {
    "duration": 16,
    "start_time": "2022-11-20T20:09:04.686Z"
   },
   {
    "duration": 58,
    "start_time": "2022-11-20T20:09:04.704Z"
   },
   {
    "duration": 9,
    "start_time": "2022-11-20T20:09:04.768Z"
   },
   {
    "duration": 4,
    "start_time": "2022-11-20T20:09:04.779Z"
   },
   {
    "duration": 12,
    "start_time": "2022-11-20T20:09:04.785Z"
   },
   {
    "duration": 11,
    "start_time": "2022-11-20T20:09:04.799Z"
   },
   {
    "duration": 82,
    "start_time": "2022-11-20T20:09:04.812Z"
   },
   {
    "duration": 44,
    "start_time": "2022-11-20T20:09:04.896Z"
   },
   {
    "duration": 154,
    "start_time": "2022-11-20T20:09:04.944Z"
   },
   {
    "duration": 183,
    "start_time": "2022-11-20T20:09:05.100Z"
   },
   {
    "duration": 9,
    "start_time": "2022-11-20T20:09:05.285Z"
   },
   {
    "duration": 199,
    "start_time": "2022-11-20T20:09:05.296Z"
   },
   {
    "duration": 175,
    "start_time": "2022-11-20T20:09:05.497Z"
   },
   {
    "duration": 7,
    "start_time": "2022-11-20T20:09:05.674Z"
   },
   {
    "duration": 245,
    "start_time": "2022-11-20T20:09:05.683Z"
   },
   {
    "duration": 180,
    "start_time": "2022-11-20T20:09:05.929Z"
   },
   {
    "duration": 8,
    "start_time": "2022-11-20T20:09:06.119Z"
   },
   {
    "duration": 336,
    "start_time": "2022-11-20T20:09:06.131Z"
   },
   {
    "duration": 5,
    "start_time": "2022-11-20T20:09:06.468Z"
   },
   {
    "duration": 13,
    "start_time": "2022-11-20T20:09:06.474Z"
   },
   {
    "duration": 12,
    "start_time": "2022-11-20T20:09:06.489Z"
   },
   {
    "duration": 57,
    "start_time": "2022-11-20T20:09:06.504Z"
   },
   {
    "duration": 425,
    "start_time": "2022-11-20T20:09:06.563Z"
   },
   {
    "duration": 9,
    "start_time": "2022-11-20T20:09:06.993Z"
   },
   {
    "duration": 47,
    "start_time": "2022-11-20T20:09:07.004Z"
   },
   {
    "duration": 317,
    "start_time": "2022-11-20T20:09:07.053Z"
   },
   {
    "duration": 302,
    "start_time": "2022-11-20T20:09:07.373Z"
   },
   {
    "duration": 316,
    "start_time": "2022-11-20T20:09:07.678Z"
   },
   {
    "duration": 5,
    "start_time": "2022-11-20T20:09:07.996Z"
   },
   {
    "duration": 448,
    "start_time": "2022-11-20T20:09:08.014Z"
   },
   {
    "duration": 341,
    "start_time": "2022-11-20T20:09:08.465Z"
   },
   {
    "duration": 362,
    "start_time": "2022-11-20T20:09:08.808Z"
   },
   {
    "duration": 365,
    "start_time": "2022-11-20T20:09:09.172Z"
   },
   {
    "duration": 317,
    "start_time": "2022-11-20T20:09:09.539Z"
   },
   {
    "duration": 307,
    "start_time": "2022-11-20T20:09:09.858Z"
   },
   {
    "duration": 501,
    "start_time": "2022-11-20T20:09:10.167Z"
   },
   {
    "duration": 322,
    "start_time": "2022-11-20T20:09:10.669Z"
   },
   {
    "duration": 315,
    "start_time": "2022-11-20T20:09:10.992Z"
   },
   {
    "duration": 290,
    "start_time": "2022-11-20T20:09:11.313Z"
   },
   {
    "duration": 300,
    "start_time": "2022-11-20T20:09:11.605Z"
   },
   {
    "duration": 469,
    "start_time": "2022-11-20T20:09:11.907Z"
   },
   {
    "duration": 7,
    "start_time": "2022-11-20T20:09:12.378Z"
   },
   {
    "duration": 218,
    "start_time": "2022-11-20T20:09:12.387Z"
   },
   {
    "duration": 20,
    "start_time": "2022-11-20T20:09:12.607Z"
   },
   {
    "duration": 252,
    "start_time": "2022-11-20T20:09:12.630Z"
   },
   {
    "duration": 7,
    "start_time": "2022-11-20T20:09:12.884Z"
   },
   {
    "duration": 204,
    "start_time": "2022-11-20T20:09:12.893Z"
   },
   {
    "duration": 29,
    "start_time": "2022-11-20T20:09:13.100Z"
   },
   {
    "duration": 172,
    "start_time": "2022-11-20T20:09:13.137Z"
   },
   {
    "duration": 28,
    "start_time": "2022-11-20T20:09:13.313Z"
   },
   {
    "duration": 225,
    "start_time": "2022-11-20T20:09:13.347Z"
   },
   {
    "duration": 9,
    "start_time": "2022-11-20T20:09:13.574Z"
   },
   {
    "duration": 238,
    "start_time": "2022-11-20T20:09:13.585Z"
   },
   {
    "duration": 205,
    "start_time": "2022-11-20T20:09:13.830Z"
   },
   {
    "duration": 238,
    "start_time": "2022-11-20T20:09:14.036Z"
   },
   {
    "duration": 11,
    "start_time": "2022-11-20T20:09:14.275Z"
   },
   {
    "duration": 11,
    "start_time": "2022-11-20T20:09:14.296Z"
   },
   {
    "duration": 52,
    "start_time": "2022-11-20T20:09:14.309Z"
   },
   {
    "duration": 16,
    "start_time": "2022-11-20T20:09:14.363Z"
   },
   {
    "duration": 46,
    "start_time": "2022-11-20T20:09:14.381Z"
   },
   {
    "duration": 277,
    "start_time": "2022-11-20T20:09:14.431Z"
   },
   {
    "duration": 212,
    "start_time": "2022-11-20T20:09:14.710Z"
   },
   {
    "duration": 648,
    "start_time": "2022-11-20T20:09:50.847Z"
   },
   {
    "duration": 25,
    "start_time": "2022-11-20T20:09:51.498Z"
   },
   {
    "duration": 123,
    "start_time": "2022-11-20T20:09:51.525Z"
   },
   {
    "duration": 46,
    "start_time": "2022-11-20T20:09:51.649Z"
   },
   {
    "duration": 126,
    "start_time": "2022-11-20T20:09:51.698Z"
   },
   {
    "duration": 2924,
    "start_time": "2022-11-20T20:09:51.836Z"
   },
   {
    "duration": 18,
    "start_time": "2022-11-20T20:09:54.763Z"
   },
   {
    "duration": 10,
    "start_time": "2022-11-20T20:09:54.783Z"
   },
   {
    "duration": 11,
    "start_time": "2022-11-20T20:09:54.795Z"
   },
   {
    "duration": 16,
    "start_time": "2022-11-20T20:09:54.808Z"
   },
   {
    "duration": 46,
    "start_time": "2022-11-20T20:09:54.831Z"
   },
   {
    "duration": 9,
    "start_time": "2022-11-20T20:09:54.879Z"
   },
   {
    "duration": 14,
    "start_time": "2022-11-20T20:09:54.889Z"
   },
   {
    "duration": 65,
    "start_time": "2022-11-20T20:09:54.907Z"
   },
   {
    "duration": 19,
    "start_time": "2022-11-20T20:09:54.977Z"
   },
   {
    "duration": 58,
    "start_time": "2022-11-20T20:09:54.998Z"
   },
   {
    "duration": 13,
    "start_time": "2022-11-20T20:09:55.058Z"
   },
   {
    "duration": 20,
    "start_time": "2022-11-20T20:09:55.073Z"
   },
   {
    "duration": 7,
    "start_time": "2022-11-20T20:09:55.095Z"
   },
   {
    "duration": 17,
    "start_time": "2022-11-20T20:09:55.104Z"
   },
   {
    "duration": 36,
    "start_time": "2022-11-20T20:09:55.122Z"
   },
   {
    "duration": 9,
    "start_time": "2022-11-20T20:09:55.160Z"
   },
   {
    "duration": 21,
    "start_time": "2022-11-20T20:09:55.170Z"
   },
   {
    "duration": 15,
    "start_time": "2022-11-20T20:09:55.192Z"
   },
   {
    "duration": 57,
    "start_time": "2022-11-20T20:09:55.209Z"
   },
   {
    "duration": 7,
    "start_time": "2022-11-20T20:09:55.268Z"
   },
   {
    "duration": 6,
    "start_time": "2022-11-20T20:09:55.277Z"
   },
   {
    "duration": 17,
    "start_time": "2022-11-20T20:09:55.285Z"
   },
   {
    "duration": 5,
    "start_time": "2022-11-20T20:09:55.304Z"
   },
   {
    "duration": 67,
    "start_time": "2022-11-20T20:09:55.313Z"
   },
   {
    "duration": 11,
    "start_time": "2022-11-20T20:09:55.382Z"
   },
   {
    "duration": 34,
    "start_time": "2022-11-20T20:09:55.395Z"
   },
   {
    "duration": 9,
    "start_time": "2022-11-20T20:09:55.440Z"
   },
   {
    "duration": 108,
    "start_time": "2022-11-20T20:09:55.450Z"
   },
   {
    "duration": 160,
    "start_time": "2022-11-20T20:09:55.561Z"
   },
   {
    "duration": 10,
    "start_time": "2022-11-20T20:09:55.722Z"
   },
   {
    "duration": 229,
    "start_time": "2022-11-20T20:09:55.733Z"
   },
   {
    "duration": 156,
    "start_time": "2022-11-20T20:09:55.964Z"
   },
   {
    "duration": 17,
    "start_time": "2022-11-20T20:09:56.127Z"
   },
   {
    "duration": 236,
    "start_time": "2022-11-20T20:09:56.147Z"
   },
   {
    "duration": 293,
    "start_time": "2022-11-20T20:09:56.391Z"
   },
   {
    "duration": 24,
    "start_time": "2022-11-20T20:09:56.688Z"
   },
   {
    "duration": 442,
    "start_time": "2022-11-20T20:09:56.714Z"
   },
   {
    "duration": 6,
    "start_time": "2022-11-20T20:09:57.161Z"
   },
   {
    "duration": 96,
    "start_time": "2022-11-20T20:09:57.169Z"
   },
   {
    "duration": 13,
    "start_time": "2022-11-20T20:09:57.268Z"
   },
   {
    "duration": 25,
    "start_time": "2022-11-20T20:09:57.283Z"
   },
   {
    "duration": 418,
    "start_time": "2022-11-20T20:09:57.310Z"
   },
   {
    "duration": 10,
    "start_time": "2022-11-20T20:09:57.729Z"
   },
   {
    "duration": 53,
    "start_time": "2022-11-20T20:09:57.741Z"
   },
   {
    "duration": 297,
    "start_time": "2022-11-20T20:09:57.796Z"
   },
   {
    "duration": 327,
    "start_time": "2022-11-20T20:09:58.095Z"
   },
   {
    "duration": 367,
    "start_time": "2022-11-20T20:09:58.429Z"
   },
   {
    "duration": 6,
    "start_time": "2022-11-20T20:09:58.799Z"
   },
   {
    "duration": 469,
    "start_time": "2022-11-20T20:09:58.814Z"
   },
   {
    "duration": 345,
    "start_time": "2022-11-20T20:09:59.288Z"
   },
   {
    "duration": 296,
    "start_time": "2022-11-20T20:09:59.639Z"
   },
   {
    "duration": 318,
    "start_time": "2022-11-20T20:09:59.940Z"
   },
   {
    "duration": 309,
    "start_time": "2022-11-20T20:10:00.263Z"
   },
   {
    "duration": 316,
    "start_time": "2022-11-20T20:10:00.574Z"
   },
   {
    "duration": 416,
    "start_time": "2022-11-20T20:10:00.892Z"
   },
   {
    "duration": 355,
    "start_time": "2022-11-20T20:10:01.310Z"
   },
   {
    "duration": 313,
    "start_time": "2022-11-20T20:10:01.667Z"
   },
   {
    "duration": 372,
    "start_time": "2022-11-20T20:10:01.982Z"
   },
   {
    "duration": 290,
    "start_time": "2022-11-20T20:10:02.356Z"
   },
   {
    "duration": 540,
    "start_time": "2022-11-20T20:10:02.648Z"
   },
   {
    "duration": 8,
    "start_time": "2022-11-20T20:10:03.192Z"
   },
   {
    "duration": 367,
    "start_time": "2022-11-20T20:10:03.202Z"
   },
   {
    "duration": 9,
    "start_time": "2022-11-20T20:10:03.571Z"
   },
   {
    "duration": 301,
    "start_time": "2022-11-20T20:10:03.582Z"
   },
   {
    "duration": 11,
    "start_time": "2022-11-20T20:10:03.885Z"
   },
   {
    "duration": 305,
    "start_time": "2022-11-20T20:10:03.898Z"
   },
   {
    "duration": 35,
    "start_time": "2022-11-20T20:10:04.205Z"
   },
   {
    "duration": 292,
    "start_time": "2022-11-20T20:10:04.242Z"
   },
   {
    "duration": 14,
    "start_time": "2022-11-20T20:10:04.553Z"
   },
   {
    "duration": 241,
    "start_time": "2022-11-20T20:10:04.569Z"
   },
   {
    "duration": 32,
    "start_time": "2022-11-20T20:10:04.818Z"
   },
   {
    "duration": 286,
    "start_time": "2022-11-20T20:10:04.855Z"
   },
   {
    "duration": 256,
    "start_time": "2022-11-20T20:10:05.143Z"
   },
   {
    "duration": 275,
    "start_time": "2022-11-20T20:10:05.402Z"
   },
   {
    "duration": 8,
    "start_time": "2022-11-20T20:10:05.679Z"
   },
   {
    "duration": 7,
    "start_time": "2022-11-20T20:10:05.689Z"
   },
   {
    "duration": 48,
    "start_time": "2022-11-20T20:10:05.698Z"
   },
   {
    "duration": 18,
    "start_time": "2022-11-20T20:10:05.748Z"
   },
   {
    "duration": 54,
    "start_time": "2022-11-20T20:10:05.768Z"
   },
   {
    "duration": 246,
    "start_time": "2022-11-20T20:10:05.823Z"
   },
   {
    "duration": 224,
    "start_time": "2022-11-20T20:10:06.071Z"
   },
   {
    "duration": 488,
    "start_time": "2022-11-20T20:23:35.784Z"
   },
   {
    "duration": 14,
    "start_time": "2022-11-20T20:23:36.275Z"
   },
   {
    "duration": 78,
    "start_time": "2022-11-20T20:23:36.291Z"
   },
   {
    "duration": 11,
    "start_time": "2022-11-20T20:23:36.372Z"
   },
   {
    "duration": 186,
    "start_time": "2022-11-20T20:23:36.384Z"
   },
   {
    "duration": 2597,
    "start_time": "2022-11-20T20:23:36.571Z"
   },
   {
    "duration": 14,
    "start_time": "2022-11-20T20:23:39.170Z"
   },
   {
    "duration": 7,
    "start_time": "2022-11-20T20:23:39.186Z"
   },
   {
    "duration": 12,
    "start_time": "2022-11-20T20:23:39.195Z"
   },
   {
    "duration": 13,
    "start_time": "2022-11-20T20:23:39.212Z"
   },
   {
    "duration": 28,
    "start_time": "2022-11-20T20:23:39.227Z"
   },
   {
    "duration": 10,
    "start_time": "2022-11-20T20:23:39.256Z"
   },
   {
    "duration": 7,
    "start_time": "2022-11-20T20:23:39.268Z"
   },
   {
    "duration": 9,
    "start_time": "2022-11-20T20:23:39.278Z"
   },
   {
    "duration": 6,
    "start_time": "2022-11-20T20:23:39.289Z"
   },
   {
    "duration": 8,
    "start_time": "2022-11-20T20:23:39.299Z"
   },
   {
    "duration": 12,
    "start_time": "2022-11-20T20:23:39.309Z"
   },
   {
    "duration": 35,
    "start_time": "2022-11-20T20:23:39.322Z"
   },
   {
    "duration": 10,
    "start_time": "2022-11-20T20:23:39.359Z"
   },
   {
    "duration": 9,
    "start_time": "2022-11-20T20:23:39.371Z"
   },
   {
    "duration": 3,
    "start_time": "2022-11-20T20:23:39.382Z"
   },
   {
    "duration": 7,
    "start_time": "2022-11-20T20:23:39.387Z"
   },
   {
    "duration": 30,
    "start_time": "2022-11-20T20:23:39.395Z"
   },
   {
    "duration": 21,
    "start_time": "2022-11-20T20:23:39.429Z"
   },
   {
    "duration": 8,
    "start_time": "2022-11-20T20:23:39.452Z"
   },
   {
    "duration": 6,
    "start_time": "2022-11-20T20:23:39.462Z"
   },
   {
    "duration": 6,
    "start_time": "2022-11-20T20:23:39.470Z"
   },
   {
    "duration": 7,
    "start_time": "2022-11-20T20:23:39.479Z"
   },
   {
    "duration": 32,
    "start_time": "2022-11-20T20:23:39.487Z"
   },
   {
    "duration": 37,
    "start_time": "2022-11-20T20:23:39.520Z"
   },
   {
    "duration": 10,
    "start_time": "2022-11-20T20:23:39.559Z"
   },
   {
    "duration": 25,
    "start_time": "2022-11-20T20:23:39.571Z"
   },
   {
    "duration": 5,
    "start_time": "2022-11-20T20:23:39.598Z"
   },
   {
    "duration": 101,
    "start_time": "2022-11-20T20:23:39.605Z"
   },
   {
    "duration": 167,
    "start_time": "2022-11-20T20:23:39.707Z"
   },
   {
    "duration": 6,
    "start_time": "2022-11-20T20:23:39.875Z"
   },
   {
    "duration": 194,
    "start_time": "2022-11-20T20:23:39.883Z"
   },
   {
    "duration": 159,
    "start_time": "2022-11-20T20:23:40.079Z"
   },
   {
    "duration": 9,
    "start_time": "2022-11-20T20:23:40.243Z"
   },
   {
    "duration": 193,
    "start_time": "2022-11-20T20:23:40.255Z"
   },
   {
    "duration": 135,
    "start_time": "2022-11-20T20:23:40.451Z"
   },
   {
    "duration": 7,
    "start_time": "2022-11-20T20:23:40.587Z"
   },
   {
    "duration": 277,
    "start_time": "2022-11-20T20:23:40.595Z"
   },
   {
    "duration": 4,
    "start_time": "2022-11-20T20:23:40.874Z"
   },
   {
    "duration": 9,
    "start_time": "2022-11-20T20:23:40.880Z"
   },
   {
    "duration": 28,
    "start_time": "2022-11-20T20:23:40.891Z"
   },
   {
    "duration": 9,
    "start_time": "2022-11-20T20:23:40.924Z"
   },
   {
    "duration": 314,
    "start_time": "2022-11-20T20:23:40.935Z"
   },
   {
    "duration": 7,
    "start_time": "2022-11-20T20:23:41.251Z"
   },
   {
    "duration": 26,
    "start_time": "2022-11-20T20:23:41.260Z"
   },
   {
    "duration": 276,
    "start_time": "2022-11-20T20:23:41.287Z"
   },
   {
    "duration": 291,
    "start_time": "2022-11-20T20:23:41.565Z"
   },
   {
    "duration": 288,
    "start_time": "2022-11-20T20:23:41.857Z"
   },
   {
    "duration": 4,
    "start_time": "2022-11-20T20:23:42.147Z"
   },
   {
    "duration": 415,
    "start_time": "2022-11-20T20:23:42.153Z"
   },
   {
    "duration": 376,
    "start_time": "2022-11-20T20:23:42.570Z"
   },
   {
    "duration": 286,
    "start_time": "2022-11-20T20:23:42.947Z"
   },
   {
    "duration": 287,
    "start_time": "2022-11-20T20:23:43.235Z"
   },
   {
    "duration": 264,
    "start_time": "2022-11-20T20:23:43.531Z"
   },
   {
    "duration": 284,
    "start_time": "2022-11-20T20:23:43.797Z"
   },
   {
    "duration": 376,
    "start_time": "2022-11-20T20:23:44.083Z"
   },
   {
    "duration": 283,
    "start_time": "2022-11-20T20:23:44.462Z"
   },
   {
    "duration": 310,
    "start_time": "2022-11-20T20:23:44.747Z"
   },
   {
    "duration": 283,
    "start_time": "2022-11-20T20:23:45.058Z"
   },
   {
    "duration": 257,
    "start_time": "2022-11-20T20:23:45.347Z"
   },
   {
    "duration": 441,
    "start_time": "2022-11-20T20:23:45.605Z"
   },
   {
    "duration": 6,
    "start_time": "2022-11-20T20:23:46.048Z"
   },
   {
    "duration": 215,
    "start_time": "2022-11-20T20:23:46.055Z"
   },
   {
    "duration": 8,
    "start_time": "2022-11-20T20:23:46.272Z"
   },
   {
    "duration": 268,
    "start_time": "2022-11-20T20:23:46.281Z"
   },
   {
    "duration": 11,
    "start_time": "2022-11-20T20:23:46.553Z"
   },
   {
    "duration": 220,
    "start_time": "2022-11-20T20:23:46.565Z"
   },
   {
    "duration": 8,
    "start_time": "2022-11-20T20:23:46.787Z"
   },
   {
    "duration": 189,
    "start_time": "2022-11-20T20:23:46.798Z"
   },
   {
    "duration": 7,
    "start_time": "2022-11-20T20:23:46.989Z"
   },
   {
    "duration": 224,
    "start_time": "2022-11-20T20:23:46.998Z"
   },
   {
    "duration": 18,
    "start_time": "2022-11-20T20:23:47.227Z"
   },
   {
    "duration": 201,
    "start_time": "2022-11-20T20:23:47.247Z"
   },
   {
    "duration": 211,
    "start_time": "2022-11-20T20:23:47.451Z"
   },
   {
    "duration": 221,
    "start_time": "2022-11-20T20:23:47.664Z"
   },
   {
    "duration": 6,
    "start_time": "2022-11-20T20:23:47.887Z"
   },
   {
    "duration": 14,
    "start_time": "2022-11-20T20:23:47.898Z"
   },
   {
    "duration": 31,
    "start_time": "2022-11-20T20:23:47.921Z"
   },
   {
    "duration": 7,
    "start_time": "2022-11-20T20:23:47.954Z"
   },
   {
    "duration": 27,
    "start_time": "2022-11-20T20:23:47.963Z"
   },
   {
    "duration": 244,
    "start_time": "2022-11-20T20:23:47.991Z"
   },
   {
    "duration": 184,
    "start_time": "2022-11-20T20:23:48.239Z"
   },
   {
    "duration": 520,
    "start_time": "2022-11-21T18:37:19.394Z"
   },
   {
    "duration": 13,
    "start_time": "2022-11-21T18:37:19.916Z"
   },
   {
    "duration": 46,
    "start_time": "2022-11-21T18:37:19.931Z"
   },
   {
    "duration": 8,
    "start_time": "2022-11-21T18:37:19.979Z"
   },
   {
    "duration": 67,
    "start_time": "2022-11-21T18:37:19.989Z"
   },
   {
    "duration": 2082,
    "start_time": "2022-11-21T18:37:20.057Z"
   },
   {
    "duration": 12,
    "start_time": "2022-11-21T18:37:22.141Z"
   },
   {
    "duration": 22,
    "start_time": "2022-11-21T18:37:22.155Z"
   },
   {
    "duration": 9,
    "start_time": "2022-11-21T18:37:22.179Z"
   },
   {
    "duration": 5,
    "start_time": "2022-11-21T18:37:22.191Z"
   },
   {
    "duration": 6,
    "start_time": "2022-11-21T18:37:22.197Z"
   },
   {
    "duration": 21,
    "start_time": "2022-11-21T18:37:22.204Z"
   },
   {
    "duration": 3,
    "start_time": "2022-11-21T18:37:22.226Z"
   },
   {
    "duration": 17,
    "start_time": "2022-11-21T18:37:22.231Z"
   },
   {
    "duration": 19,
    "start_time": "2022-11-21T18:37:22.249Z"
   },
   {
    "duration": 8,
    "start_time": "2022-11-21T18:37:22.270Z"
   },
   {
    "duration": 22,
    "start_time": "2022-11-21T18:37:22.279Z"
   },
   {
    "duration": 14,
    "start_time": "2022-11-21T18:37:22.303Z"
   },
   {
    "duration": 14,
    "start_time": "2022-11-21T18:37:22.319Z"
   },
   {
    "duration": 15,
    "start_time": "2022-11-21T18:37:22.335Z"
   },
   {
    "duration": 8,
    "start_time": "2022-11-21T18:37:22.352Z"
   },
   {
    "duration": 16,
    "start_time": "2022-11-21T18:37:22.361Z"
   },
   {
    "duration": 28,
    "start_time": "2022-11-21T18:37:22.379Z"
   },
   {
    "duration": 33,
    "start_time": "2022-11-21T18:37:22.408Z"
   },
   {
    "duration": 7,
    "start_time": "2022-11-21T18:37:22.443Z"
   },
   {
    "duration": 12,
    "start_time": "2022-11-21T18:37:22.451Z"
   },
   {
    "duration": 10,
    "start_time": "2022-11-21T18:37:22.464Z"
   },
   {
    "duration": 25,
    "start_time": "2022-11-21T18:37:22.477Z"
   },
   {
    "duration": 13,
    "start_time": "2022-11-21T18:37:22.503Z"
   },
   {
    "duration": 8,
    "start_time": "2022-11-21T18:37:22.517Z"
   },
   {
    "duration": 21,
    "start_time": "2022-11-21T18:37:22.527Z"
   },
   {
    "duration": 22,
    "start_time": "2022-11-21T18:37:22.549Z"
   },
   {
    "duration": 12,
    "start_time": "2022-11-21T18:37:22.573Z"
   },
   {
    "duration": 77,
    "start_time": "2022-11-21T18:37:22.586Z"
   },
   {
    "duration": 139,
    "start_time": "2022-11-21T18:37:22.665Z"
   },
   {
    "duration": 6,
    "start_time": "2022-11-21T18:37:22.806Z"
   },
   {
    "duration": 164,
    "start_time": "2022-11-21T18:37:22.814Z"
   },
   {
    "duration": 135,
    "start_time": "2022-11-21T18:37:22.979Z"
   },
   {
    "duration": 8,
    "start_time": "2022-11-21T18:37:23.116Z"
   },
   {
    "duration": 177,
    "start_time": "2022-11-21T18:37:23.125Z"
   },
   {
    "duration": 117,
    "start_time": "2022-11-21T18:37:23.304Z"
   },
   {
    "duration": 6,
    "start_time": "2022-11-21T18:37:23.422Z"
   },
   {
    "duration": 228,
    "start_time": "2022-11-21T18:37:23.429Z"
   },
   {
    "duration": 4,
    "start_time": "2022-11-21T18:37:23.659Z"
   },
   {
    "duration": 29,
    "start_time": "2022-11-21T18:37:23.664Z"
   },
   {
    "duration": 20,
    "start_time": "2022-11-21T18:37:23.694Z"
   },
   {
    "duration": 22,
    "start_time": "2022-11-21T18:37:23.715Z"
   },
   {
    "duration": 280,
    "start_time": "2022-11-21T18:37:23.738Z"
   },
   {
    "duration": 7,
    "start_time": "2022-11-21T18:37:24.020Z"
   },
   {
    "duration": 32,
    "start_time": "2022-11-21T18:37:24.028Z"
   },
   {
    "duration": 221,
    "start_time": "2022-11-21T18:37:24.062Z"
   },
   {
    "duration": 236,
    "start_time": "2022-11-21T18:37:24.285Z"
   },
   {
    "duration": 239,
    "start_time": "2022-11-21T18:37:24.523Z"
   },
   {
    "duration": 13,
    "start_time": "2022-11-21T18:37:24.764Z"
   },
   {
    "duration": 376,
    "start_time": "2022-11-21T18:37:24.778Z"
   },
   {
    "duration": 253,
    "start_time": "2022-11-21T18:37:25.156Z"
   },
   {
    "duration": 247,
    "start_time": "2022-11-21T18:37:25.411Z"
   },
   {
    "duration": 228,
    "start_time": "2022-11-21T18:37:25.659Z"
   },
   {
    "duration": 224,
    "start_time": "2022-11-21T18:37:25.889Z"
   },
   {
    "duration": 242,
    "start_time": "2022-11-21T18:37:26.115Z"
   },
   {
    "duration": 332,
    "start_time": "2022-11-21T18:37:26.359Z"
   },
   {
    "duration": 236,
    "start_time": "2022-11-21T18:37:26.692Z"
   },
   {
    "duration": 257,
    "start_time": "2022-11-21T18:37:26.930Z"
   },
   {
    "duration": 243,
    "start_time": "2022-11-21T18:37:27.188Z"
   },
   {
    "duration": 218,
    "start_time": "2022-11-21T18:37:27.433Z"
   },
   {
    "duration": 340,
    "start_time": "2022-11-21T18:37:27.653Z"
   },
   {
    "duration": 5,
    "start_time": "2022-11-21T18:37:27.995Z"
   },
   {
    "duration": 214,
    "start_time": "2022-11-21T18:37:28.002Z"
   },
   {
    "duration": 8,
    "start_time": "2022-11-21T18:37:28.218Z"
   },
   {
    "duration": 196,
    "start_time": "2022-11-21T18:37:28.228Z"
   },
   {
    "duration": 8,
    "start_time": "2022-11-21T18:37:28.425Z"
   },
   {
    "duration": 195,
    "start_time": "2022-11-21T18:37:28.434Z"
   },
   {
    "duration": 7,
    "start_time": "2022-11-21T18:37:28.630Z"
   },
   {
    "duration": 172,
    "start_time": "2022-11-21T18:37:28.638Z"
   },
   {
    "duration": 7,
    "start_time": "2022-11-21T18:37:28.812Z"
   },
   {
    "duration": 163,
    "start_time": "2022-11-21T18:37:28.821Z"
   },
   {
    "duration": 6,
    "start_time": "2022-11-21T18:37:28.986Z"
   },
   {
    "duration": 178,
    "start_time": "2022-11-21T18:37:28.993Z"
   },
   {
    "duration": 176,
    "start_time": "2022-11-21T18:37:29.173Z"
   },
   {
    "duration": 173,
    "start_time": "2022-11-21T18:37:29.350Z"
   },
   {
    "duration": 5,
    "start_time": "2022-11-21T18:37:29.524Z"
   },
   {
    "duration": 7,
    "start_time": "2022-11-21T18:37:29.535Z"
   },
   {
    "duration": 9,
    "start_time": "2022-11-21T18:37:29.544Z"
   },
   {
    "duration": 12,
    "start_time": "2022-11-21T18:37:29.554Z"
   },
   {
    "duration": 26,
    "start_time": "2022-11-21T18:37:29.576Z"
   },
   {
    "duration": 196,
    "start_time": "2022-11-21T18:37:29.604Z"
   },
   {
    "duration": 149,
    "start_time": "2022-11-21T18:37:29.802Z"
   },
   {
    "duration": 12,
    "start_time": "2022-11-21T18:38:45.440Z"
   },
   {
    "duration": 89,
    "start_time": "2022-11-21T18:38:49.974Z"
   }
  ],
  "kernelspec": {
   "display_name": "Python 3 (ipykernel)",
   "language": "python",
   "name": "python3"
  },
  "language_info": {
   "codemirror_mode": {
    "name": "ipython",
    "version": 3
   },
   "file_extension": ".py",
   "mimetype": "text/x-python",
   "name": "python",
   "nbconvert_exporter": "python",
   "pygments_lexer": "ipython3",
   "version": "3.9.13"
  },
  "toc": {
   "base_numbering": 1,
   "nav_menu": {},
   "number_sections": true,
   "sideBar": true,
   "skip_h1_title": true,
   "title_cell": "Table of Contents",
   "title_sidebar": "Contents",
   "toc_cell": false,
   "toc_position": {},
   "toc_section_display": true,
   "toc_window_display": false
  }
 },
 "nbformat": 4,
 "nbformat_minor": 5
}
