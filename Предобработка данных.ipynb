{
 "cells": [
  {
   "cell_type": "markdown",
   "id": "52d200eb",
   "metadata": {
    "deletable": false,
    "editable": false,
    "id": "c81daeeb"
   },
   "source": [
    "# Исследование надежности заемщиков\n"
   ]
  },
  {
   "cell_type": "markdown",
   "id": "c2aceaa3",
   "metadata": {
    "deletable": false,
    "editable": false,
    "id": "827c20bf"
   },
   "source": [
    "Во второй части проекта вы выполните шаги 3 и 4. Их вручную проверит ревьюер.\n",
    "Чтобы вам не пришлось писать код заново для шагов 1 и 2, мы добавили авторские решения в ячейки с кодом. \n",
    "\n"
   ]
  },
  {
   "cell_type": "markdown",
   "id": "ce487910",
   "metadata": {
    "deletable": false,
    "editable": false,
    "id": "744d7639"
   },
   "source": [
    "## Откройте таблицу и изучите общую информацию о данных"
   ]
  },
  {
   "cell_type": "markdown",
   "id": "4eb3e608",
   "metadata": {
    "deletable": false,
    "editable": false,
    "id": "e7a14c31"
   },
   "source": [
    "**Задание 1. Импортируйте библиотеку pandas. Считайте данные из csv-файла в датафрейм и сохраните в переменную `data`. Путь к файлу:**\n",
    "\n",
    "`/datasets/data.csv`"
   ]
  },
  {
   "cell_type": "code",
   "execution_count": 1,
   "id": "6fb07c2c",
   "metadata": {
    "deletable": false,
    "id": "7bcf75c9"
   },
   "outputs": [],
   "source": [
    "#загрузим датасет\n",
    "import pandas as pd\n",
    "\n",
    "try:\n",
    "    data = pd.read_csv('/datasets/data.csv')\n",
    "except:\n",
    "    data = pd.read_csv('https://code.s3.yandex.net/datasets/data.csv')"
   ]
  },
  {
   "cell_type": "markdown",
   "id": "433961d0",
   "metadata": {
    "deletable": false,
    "editable": false,
    "id": "b8038fe3"
   },
   "source": [
    "**Задание 2. Выведите первые 20 строчек датафрейма `data` на экран.**"
   ]
  },
  {
   "cell_type": "code",
   "execution_count": 2,
   "id": "98f30254",
   "metadata": {
    "deletable": false,
    "id": "2a7cab99",
    "outputId": "1a8f3ef2-d323-4ec2-ddf7-89670b5944c4"
   },
   "outputs": [
    {
     "data": {
      "text/html": [
       "<div>\n",
       "<style scoped>\n",
       "    .dataframe tbody tr th:only-of-type {\n",
       "        vertical-align: middle;\n",
       "    }\n",
       "\n",
       "    .dataframe tbody tr th {\n",
       "        vertical-align: top;\n",
       "    }\n",
       "\n",
       "    .dataframe thead th {\n",
       "        text-align: right;\n",
       "    }\n",
       "</style>\n",
       "<table border=\"1\" class=\"dataframe\">\n",
       "  <thead>\n",
       "    <tr style=\"text-align: right;\">\n",
       "      <th></th>\n",
       "      <th>children</th>\n",
       "      <th>days_employed</th>\n",
       "      <th>dob_years</th>\n",
       "      <th>education</th>\n",
       "      <th>education_id</th>\n",
       "      <th>family_status</th>\n",
       "      <th>family_status_id</th>\n",
       "      <th>gender</th>\n",
       "      <th>income_type</th>\n",
       "      <th>debt</th>\n",
       "      <th>total_income</th>\n",
       "      <th>purpose</th>\n",
       "    </tr>\n",
       "  </thead>\n",
       "  <tbody>\n",
       "    <tr>\n",
       "      <th>0</th>\n",
       "      <td>1</td>\n",
       "      <td>-8437.673028</td>\n",
       "      <td>42</td>\n",
       "      <td>высшее</td>\n",
       "      <td>0</td>\n",
       "      <td>женат / замужем</td>\n",
       "      <td>0</td>\n",
       "      <td>F</td>\n",
       "      <td>сотрудник</td>\n",
       "      <td>0</td>\n",
       "      <td>253875.639453</td>\n",
       "      <td>покупка жилья</td>\n",
       "    </tr>\n",
       "    <tr>\n",
       "      <th>1</th>\n",
       "      <td>1</td>\n",
       "      <td>-4024.803754</td>\n",
       "      <td>36</td>\n",
       "      <td>среднее</td>\n",
       "      <td>1</td>\n",
       "      <td>женат / замужем</td>\n",
       "      <td>0</td>\n",
       "      <td>F</td>\n",
       "      <td>сотрудник</td>\n",
       "      <td>0</td>\n",
       "      <td>112080.014102</td>\n",
       "      <td>приобретение автомобиля</td>\n",
       "    </tr>\n",
       "    <tr>\n",
       "      <th>2</th>\n",
       "      <td>0</td>\n",
       "      <td>-5623.422610</td>\n",
       "      <td>33</td>\n",
       "      <td>Среднее</td>\n",
       "      <td>1</td>\n",
       "      <td>женат / замужем</td>\n",
       "      <td>0</td>\n",
       "      <td>M</td>\n",
       "      <td>сотрудник</td>\n",
       "      <td>0</td>\n",
       "      <td>145885.952297</td>\n",
       "      <td>покупка жилья</td>\n",
       "    </tr>\n",
       "    <tr>\n",
       "      <th>3</th>\n",
       "      <td>3</td>\n",
       "      <td>-4124.747207</td>\n",
       "      <td>32</td>\n",
       "      <td>среднее</td>\n",
       "      <td>1</td>\n",
       "      <td>женат / замужем</td>\n",
       "      <td>0</td>\n",
       "      <td>M</td>\n",
       "      <td>сотрудник</td>\n",
       "      <td>0</td>\n",
       "      <td>267628.550329</td>\n",
       "      <td>дополнительное образование</td>\n",
       "    </tr>\n",
       "    <tr>\n",
       "      <th>4</th>\n",
       "      <td>0</td>\n",
       "      <td>340266.072047</td>\n",
       "      <td>53</td>\n",
       "      <td>среднее</td>\n",
       "      <td>1</td>\n",
       "      <td>гражданский брак</td>\n",
       "      <td>1</td>\n",
       "      <td>F</td>\n",
       "      <td>пенсионер</td>\n",
       "      <td>0</td>\n",
       "      <td>158616.077870</td>\n",
       "      <td>сыграть свадьбу</td>\n",
       "    </tr>\n",
       "    <tr>\n",
       "      <th>5</th>\n",
       "      <td>0</td>\n",
       "      <td>-926.185831</td>\n",
       "      <td>27</td>\n",
       "      <td>высшее</td>\n",
       "      <td>0</td>\n",
       "      <td>гражданский брак</td>\n",
       "      <td>1</td>\n",
       "      <td>M</td>\n",
       "      <td>компаньон</td>\n",
       "      <td>0</td>\n",
       "      <td>255763.565419</td>\n",
       "      <td>покупка жилья</td>\n",
       "    </tr>\n",
       "    <tr>\n",
       "      <th>6</th>\n",
       "      <td>0</td>\n",
       "      <td>-2879.202052</td>\n",
       "      <td>43</td>\n",
       "      <td>высшее</td>\n",
       "      <td>0</td>\n",
       "      <td>женат / замужем</td>\n",
       "      <td>0</td>\n",
       "      <td>F</td>\n",
       "      <td>компаньон</td>\n",
       "      <td>0</td>\n",
       "      <td>240525.971920</td>\n",
       "      <td>операции с жильем</td>\n",
       "    </tr>\n",
       "    <tr>\n",
       "      <th>7</th>\n",
       "      <td>0</td>\n",
       "      <td>-152.779569</td>\n",
       "      <td>50</td>\n",
       "      <td>СРЕДНЕЕ</td>\n",
       "      <td>1</td>\n",
       "      <td>женат / замужем</td>\n",
       "      <td>0</td>\n",
       "      <td>M</td>\n",
       "      <td>сотрудник</td>\n",
       "      <td>0</td>\n",
       "      <td>135823.934197</td>\n",
       "      <td>образование</td>\n",
       "    </tr>\n",
       "    <tr>\n",
       "      <th>8</th>\n",
       "      <td>2</td>\n",
       "      <td>-6929.865299</td>\n",
       "      <td>35</td>\n",
       "      <td>ВЫСШЕЕ</td>\n",
       "      <td>0</td>\n",
       "      <td>гражданский брак</td>\n",
       "      <td>1</td>\n",
       "      <td>F</td>\n",
       "      <td>сотрудник</td>\n",
       "      <td>0</td>\n",
       "      <td>95856.832424</td>\n",
       "      <td>на проведение свадьбы</td>\n",
       "    </tr>\n",
       "    <tr>\n",
       "      <th>9</th>\n",
       "      <td>0</td>\n",
       "      <td>-2188.756445</td>\n",
       "      <td>41</td>\n",
       "      <td>среднее</td>\n",
       "      <td>1</td>\n",
       "      <td>женат / замужем</td>\n",
       "      <td>0</td>\n",
       "      <td>M</td>\n",
       "      <td>сотрудник</td>\n",
       "      <td>0</td>\n",
       "      <td>144425.938277</td>\n",
       "      <td>покупка жилья для семьи</td>\n",
       "    </tr>\n",
       "    <tr>\n",
       "      <th>10</th>\n",
       "      <td>2</td>\n",
       "      <td>-4171.483647</td>\n",
       "      <td>36</td>\n",
       "      <td>высшее</td>\n",
       "      <td>0</td>\n",
       "      <td>женат / замужем</td>\n",
       "      <td>0</td>\n",
       "      <td>M</td>\n",
       "      <td>компаньон</td>\n",
       "      <td>0</td>\n",
       "      <td>113943.491460</td>\n",
       "      <td>покупка недвижимости</td>\n",
       "    </tr>\n",
       "    <tr>\n",
       "      <th>11</th>\n",
       "      <td>0</td>\n",
       "      <td>-792.701887</td>\n",
       "      <td>40</td>\n",
       "      <td>среднее</td>\n",
       "      <td>1</td>\n",
       "      <td>женат / замужем</td>\n",
       "      <td>0</td>\n",
       "      <td>F</td>\n",
       "      <td>сотрудник</td>\n",
       "      <td>0</td>\n",
       "      <td>77069.234271</td>\n",
       "      <td>покупка коммерческой недвижимости</td>\n",
       "    </tr>\n",
       "    <tr>\n",
       "      <th>12</th>\n",
       "      <td>0</td>\n",
       "      <td>NaN</td>\n",
       "      <td>65</td>\n",
       "      <td>среднее</td>\n",
       "      <td>1</td>\n",
       "      <td>гражданский брак</td>\n",
       "      <td>1</td>\n",
       "      <td>M</td>\n",
       "      <td>пенсионер</td>\n",
       "      <td>0</td>\n",
       "      <td>NaN</td>\n",
       "      <td>сыграть свадьбу</td>\n",
       "    </tr>\n",
       "    <tr>\n",
       "      <th>13</th>\n",
       "      <td>0</td>\n",
       "      <td>-1846.641941</td>\n",
       "      <td>54</td>\n",
       "      <td>неоконченное высшее</td>\n",
       "      <td>2</td>\n",
       "      <td>женат / замужем</td>\n",
       "      <td>0</td>\n",
       "      <td>F</td>\n",
       "      <td>сотрудник</td>\n",
       "      <td>0</td>\n",
       "      <td>130458.228857</td>\n",
       "      <td>приобретение автомобиля</td>\n",
       "    </tr>\n",
       "    <tr>\n",
       "      <th>14</th>\n",
       "      <td>0</td>\n",
       "      <td>-1844.956182</td>\n",
       "      <td>56</td>\n",
       "      <td>высшее</td>\n",
       "      <td>0</td>\n",
       "      <td>гражданский брак</td>\n",
       "      <td>1</td>\n",
       "      <td>F</td>\n",
       "      <td>компаньон</td>\n",
       "      <td>1</td>\n",
       "      <td>165127.911772</td>\n",
       "      <td>покупка жилой недвижимости</td>\n",
       "    </tr>\n",
       "    <tr>\n",
       "      <th>15</th>\n",
       "      <td>1</td>\n",
       "      <td>-972.364419</td>\n",
       "      <td>26</td>\n",
       "      <td>среднее</td>\n",
       "      <td>1</td>\n",
       "      <td>женат / замужем</td>\n",
       "      <td>0</td>\n",
       "      <td>F</td>\n",
       "      <td>сотрудник</td>\n",
       "      <td>0</td>\n",
       "      <td>116820.904450</td>\n",
       "      <td>строительство собственной недвижимости</td>\n",
       "    </tr>\n",
       "    <tr>\n",
       "      <th>16</th>\n",
       "      <td>0</td>\n",
       "      <td>-1719.934226</td>\n",
       "      <td>35</td>\n",
       "      <td>среднее</td>\n",
       "      <td>1</td>\n",
       "      <td>женат / замужем</td>\n",
       "      <td>0</td>\n",
       "      <td>F</td>\n",
       "      <td>сотрудник</td>\n",
       "      <td>0</td>\n",
       "      <td>289202.704229</td>\n",
       "      <td>недвижимость</td>\n",
       "    </tr>\n",
       "    <tr>\n",
       "      <th>17</th>\n",
       "      <td>0</td>\n",
       "      <td>-2369.999720</td>\n",
       "      <td>33</td>\n",
       "      <td>высшее</td>\n",
       "      <td>0</td>\n",
       "      <td>гражданский брак</td>\n",
       "      <td>1</td>\n",
       "      <td>M</td>\n",
       "      <td>сотрудник</td>\n",
       "      <td>0</td>\n",
       "      <td>90410.586745</td>\n",
       "      <td>строительство недвижимости</td>\n",
       "    </tr>\n",
       "    <tr>\n",
       "      <th>18</th>\n",
       "      <td>0</td>\n",
       "      <td>400281.136913</td>\n",
       "      <td>53</td>\n",
       "      <td>среднее</td>\n",
       "      <td>1</td>\n",
       "      <td>вдовец / вдова</td>\n",
       "      <td>2</td>\n",
       "      <td>F</td>\n",
       "      <td>пенсионер</td>\n",
       "      <td>0</td>\n",
       "      <td>56823.777243</td>\n",
       "      <td>на покупку подержанного автомобиля</td>\n",
       "    </tr>\n",
       "    <tr>\n",
       "      <th>19</th>\n",
       "      <td>0</td>\n",
       "      <td>-10038.818549</td>\n",
       "      <td>48</td>\n",
       "      <td>СРЕДНЕЕ</td>\n",
       "      <td>1</td>\n",
       "      <td>в разводе</td>\n",
       "      <td>3</td>\n",
       "      <td>F</td>\n",
       "      <td>сотрудник</td>\n",
       "      <td>0</td>\n",
       "      <td>242831.107982</td>\n",
       "      <td>на покупку своего автомобиля</td>\n",
       "    </tr>\n",
       "  </tbody>\n",
       "</table>\n",
       "</div>"
      ],
      "text/plain": [
       "    children  days_employed  dob_years            education  education_id  \\\n",
       "0          1   -8437.673028         42               высшее             0   \n",
       "1          1   -4024.803754         36              среднее             1   \n",
       "2          0   -5623.422610         33              Среднее             1   \n",
       "3          3   -4124.747207         32              среднее             1   \n",
       "4          0  340266.072047         53              среднее             1   \n",
       "5          0    -926.185831         27               высшее             0   \n",
       "6          0   -2879.202052         43               высшее             0   \n",
       "7          0    -152.779569         50              СРЕДНЕЕ             1   \n",
       "8          2   -6929.865299         35               ВЫСШЕЕ             0   \n",
       "9          0   -2188.756445         41              среднее             1   \n",
       "10         2   -4171.483647         36               высшее             0   \n",
       "11         0    -792.701887         40              среднее             1   \n",
       "12         0            NaN         65              среднее             1   \n",
       "13         0   -1846.641941         54  неоконченное высшее             2   \n",
       "14         0   -1844.956182         56               высшее             0   \n",
       "15         1    -972.364419         26              среднее             1   \n",
       "16         0   -1719.934226         35              среднее             1   \n",
       "17         0   -2369.999720         33               высшее             0   \n",
       "18         0  400281.136913         53              среднее             1   \n",
       "19         0  -10038.818549         48              СРЕДНЕЕ             1   \n",
       "\n",
       "       family_status  family_status_id gender income_type  debt  \\\n",
       "0    женат / замужем                 0      F   сотрудник     0   \n",
       "1    женат / замужем                 0      F   сотрудник     0   \n",
       "2    женат / замужем                 0      M   сотрудник     0   \n",
       "3    женат / замужем                 0      M   сотрудник     0   \n",
       "4   гражданский брак                 1      F   пенсионер     0   \n",
       "5   гражданский брак                 1      M   компаньон     0   \n",
       "6    женат / замужем                 0      F   компаньон     0   \n",
       "7    женат / замужем                 0      M   сотрудник     0   \n",
       "8   гражданский брак                 1      F   сотрудник     0   \n",
       "9    женат / замужем                 0      M   сотрудник     0   \n",
       "10   женат / замужем                 0      M   компаньон     0   \n",
       "11   женат / замужем                 0      F   сотрудник     0   \n",
       "12  гражданский брак                 1      M   пенсионер     0   \n",
       "13   женат / замужем                 0      F   сотрудник     0   \n",
       "14  гражданский брак                 1      F   компаньон     1   \n",
       "15   женат / замужем                 0      F   сотрудник     0   \n",
       "16   женат / замужем                 0      F   сотрудник     0   \n",
       "17  гражданский брак                 1      M   сотрудник     0   \n",
       "18    вдовец / вдова                 2      F   пенсионер     0   \n",
       "19         в разводе                 3      F   сотрудник     0   \n",
       "\n",
       "     total_income                                 purpose  \n",
       "0   253875.639453                           покупка жилья  \n",
       "1   112080.014102                 приобретение автомобиля  \n",
       "2   145885.952297                           покупка жилья  \n",
       "3   267628.550329              дополнительное образование  \n",
       "4   158616.077870                         сыграть свадьбу  \n",
       "5   255763.565419                           покупка жилья  \n",
       "6   240525.971920                       операции с жильем  \n",
       "7   135823.934197                             образование  \n",
       "8    95856.832424                   на проведение свадьбы  \n",
       "9   144425.938277                 покупка жилья для семьи  \n",
       "10  113943.491460                    покупка недвижимости  \n",
       "11   77069.234271       покупка коммерческой недвижимости  \n",
       "12            NaN                         сыграть свадьбу  \n",
       "13  130458.228857                 приобретение автомобиля  \n",
       "14  165127.911772              покупка жилой недвижимости  \n",
       "15  116820.904450  строительство собственной недвижимости  \n",
       "16  289202.704229                            недвижимость  \n",
       "17   90410.586745              строительство недвижимости  \n",
       "18   56823.777243      на покупку подержанного автомобиля  \n",
       "19  242831.107982            на покупку своего автомобиля  "
      ]
     },
     "execution_count": 2,
     "metadata": {},
     "output_type": "execute_result"
    }
   ],
   "source": [
    "# вывод первых 20 строчек для ознакомления\n",
    "data.head(20)"
   ]
  },
  {
   "cell_type": "markdown",
   "id": "4cde4742",
   "metadata": {
    "deletable": false,
    "editable": false,
    "id": "1c12e233"
   },
   "source": [
    "**Задание 3. Выведите основную информацию о датафрейме с помощью метода `info()`.**"
   ]
  },
  {
   "cell_type": "code",
   "execution_count": 3,
   "id": "b36bac1b",
   "metadata": {
    "deletable": false,
    "id": "2b757bca",
    "outputId": "15376089-8dad-46c9-b520-c05248d43158"
   },
   "outputs": [
    {
     "name": "stdout",
     "output_type": "stream",
     "text": [
      "<class 'pandas.core.frame.DataFrame'>\n",
      "RangeIndex: 21525 entries, 0 to 21524\n",
      "Data columns (total 12 columns):\n",
      " #   Column            Non-Null Count  Dtype  \n",
      "---  ------            --------------  -----  \n",
      " 0   children          21525 non-null  int64  \n",
      " 1   days_employed     19351 non-null  float64\n",
      " 2   dob_years         21525 non-null  int64  \n",
      " 3   education         21525 non-null  object \n",
      " 4   education_id      21525 non-null  int64  \n",
      " 5   family_status     21525 non-null  object \n",
      " 6   family_status_id  21525 non-null  int64  \n",
      " 7   gender            21525 non-null  object \n",
      " 8   income_type       21525 non-null  object \n",
      " 9   debt              21525 non-null  int64  \n",
      " 10  total_income      19351 non-null  float64\n",
      " 11  purpose           21525 non-null  object \n",
      "dtypes: float64(2), int64(5), object(5)\n",
      "memory usage: 2.0+ MB\n"
     ]
    }
   ],
   "source": [
    "# выводим информацию обо всех колонках\n",
    "data.info()"
   ]
  },
  {
   "cell_type": "markdown",
   "id": "c1df3074",
   "metadata": {
    "deletable": false,
    "editable": false,
    "id": "333ec665"
   },
   "source": [
    "## Предобработка данных"
   ]
  },
  {
   "cell_type": "markdown",
   "id": "dba7df5b",
   "metadata": {
    "deletable": false,
    "editable": false,
    "id": "02d92d53"
   },
   "source": [
    "### Удаление пропусков"
   ]
  },
  {
   "cell_type": "markdown",
   "id": "a5f769d1",
   "metadata": {
    "deletable": false,
    "editable": false,
    "id": "cd84967c"
   },
   "source": [
    "**Задание 4. Выведите количество пропущенных значений для каждого столбца. Используйте комбинацию двух методов.**"
   ]
  },
  {
   "cell_type": "code",
   "execution_count": 4,
   "id": "7fca708f",
   "metadata": {
    "deletable": false,
    "id": "7f9b2309",
    "outputId": "81f4d817-781c-465c-ed15-91ce4446810d"
   },
   "outputs": [
    {
     "data": {
      "text/plain": [
       "children               0\n",
       "days_employed       2174\n",
       "dob_years              0\n",
       "education              0\n",
       "education_id           0\n",
       "family_status          0\n",
       "family_status_id       0\n",
       "gender                 0\n",
       "income_type            0\n",
       "debt                   0\n",
       "total_income        2174\n",
       "purpose                0\n",
       "dtype: int64"
      ]
     },
     "execution_count": 4,
     "metadata": {},
     "output_type": "execute_result"
    }
   ],
   "source": [
    "# вывод пропусков\n",
    "data.isna().sum()"
   ]
  },
  {
   "cell_type": "markdown",
   "id": "1eb99325",
   "metadata": {
    "deletable": false,
    "editable": false,
    "id": "db86e27b"
   },
   "source": [
    "**Задание 5. В двух столбцах есть пропущенные значения. Один из них — `days_employed`. Пропуски в этом столбце вы обработаете на следующем этапе. Другой столбец с пропущенными значениями — `total_income` — хранит данные о доходах. На сумму дохода сильнее всего влияет тип занятости, поэтому заполнить пропуски в этом столбце нужно медианным значением по каждому типу из столбца `income_type`. Например, у человека с типом занятости `сотрудник` пропуск в столбце `total_income` должен быть заполнен медианным доходом среди всех записей с тем же типом.**"
   ]
  },
  {
   "cell_type": "code",
   "execution_count": 5,
   "id": "b46b7436",
   "metadata": {
    "deletable": false,
    "id": "42006a93"
   },
   "outputs": [],
   "source": [
    "for t in data['income_type'].unique():\n",
    "    data.loc[(data['income_type'] == t) & (data['total_income'].isna()), 'total_income'] = \\\n",
    "    data.loc[(data['income_type'] == t), 'total_income'].median()"
   ]
  },
  {
   "cell_type": "markdown",
   "id": "d2fd488b",
   "metadata": {
    "deletable": false,
    "editable": false,
    "id": "89da5ece"
   },
   "source": [
    "### Обработка аномальных значений"
   ]
  },
  {
   "cell_type": "markdown",
   "id": "b978a55a",
   "metadata": {
    "deletable": false,
    "editable": false,
    "id": "57964554"
   },
   "source": [
    "**Задание 6. В данных могут встречаться артефакты (аномалии) — значения, которые не отражают действительность и появились по какой-то ошибке. таким артефактом будет отрицательное количество дней трудового стажа в столбце `days_employed`. Для реальных данных это нормально. Обработайте значения в этом столбце: замените все отрицательные значения положительными с помощью метода `abs()`.**"
   ]
  },
  {
   "cell_type": "code",
   "execution_count": 6,
   "id": "fac9d478",
   "metadata": {
    "deletable": false,
    "id": "f6f055bf"
   },
   "outputs": [],
   "source": [
    "# заменим отрицательные значения положительными в столбце 'days_employed' командой .abs()\n",
    "data['days_employed'] = data['days_employed'].abs()"
   ]
  },
  {
   "cell_type": "markdown",
   "id": "50c9d37e",
   "metadata": {
    "deletable": false,
    "editable": false,
    "id": "6107dd2f"
   },
   "source": [
    "**Задание 7. Для каждого типа занятости выведите медианное значение трудового стажа `days_employed` в днях.**"
   ]
  },
  {
   "cell_type": "code",
   "execution_count": 7,
   "id": "432b87df",
   "metadata": {
    "deletable": false,
    "id": "85a5faf6",
    "outputId": "801ef80e-522b-4668-f34e-565af7432bcf"
   },
   "outputs": [
    {
     "data": {
      "text/plain": [
       "income_type\n",
       "безработный        366413.652744\n",
       "в декрете            3296.759962\n",
       "госслужащий          2689.368353\n",
       "компаньон            1547.382223\n",
       "пенсионер          365213.306266\n",
       "предприниматель       520.848083\n",
       "сотрудник            1574.202821\n",
       "студент               578.751554\n",
       "Name: days_employed, dtype: float64"
      ]
     },
     "execution_count": 7,
     "metadata": {},
     "output_type": "execute_result"
    }
   ],
   "source": [
    "# для каждого типа занятости выведим медианное занечение трудового стажа 'days_employed'\n",
    "data.groupby('income_type')['days_employed'].agg('median')"
   ]
  },
  {
   "cell_type": "markdown",
   "id": "036de3aa",
   "metadata": {
    "deletable": false,
    "editable": false,
    "id": "38d1a030"
   },
   "source": [
    "У двух типов (безработные и пенсионеры) получатся аномально большие значения. Исправить такие значения сложно, поэтому оставьте их как есть. Тем более этот столбец не понадобится вам для исследования."
   ]
  },
  {
   "cell_type": "markdown",
   "id": "1a367186",
   "metadata": {
    "deletable": false,
    "editable": false,
    "id": "d8a9f147"
   },
   "source": [
    "**Задание 8. Выведите перечень уникальных значений столбца `children`.**"
   ]
  },
  {
   "cell_type": "code",
   "execution_count": 8,
   "id": "259b89d8",
   "metadata": {
    "deletable": false,
    "id": "ef5056eb",
    "outputId": "6975b15c-7f95-4697-d16d-a0c79b657b03"
   },
   "outputs": [
    {
     "data": {
      "text/plain": [
       "array([ 1,  0,  3,  2, -1,  4, 20,  5], dtype=int64)"
      ]
     },
     "execution_count": 8,
     "metadata": {},
     "output_type": "execute_result"
    }
   ],
   "source": [
    "# посмотрим уникальные значения \n",
    "data['children'].unique()"
   ]
  },
  {
   "cell_type": "markdown",
   "id": "6fa639e8",
   "metadata": {
    "deletable": false,
    "editable": false,
    "id": "40b9ebf2"
   },
   "source": [
    "**Задание 9. В столбце `children` есть два аномальных значения. Удалите строки, в которых встречаются такие аномальные значения из датафрейма `data`.**"
   ]
  },
  {
   "cell_type": "code",
   "execution_count": 9,
   "id": "cd7e3641",
   "metadata": {
    "deletable": false,
    "id": "3ff9801d"
   },
   "outputs": [],
   "source": [
    "# удаление строк\n",
    "data = data[(data['children'] != -1) & (data['children'] != 20)]"
   ]
  },
  {
   "cell_type": "markdown",
   "id": "85f03c0a",
   "metadata": {
    "deletable": false,
    "editable": false,
    "id": "bbc4d0ce"
   },
   "source": [
    "**Задание 10. Ещё раз выведите перечень уникальных значений столбца `children`, чтобы убедиться, что артефакты удалены.**"
   ]
  },
  {
   "cell_type": "code",
   "execution_count": 10,
   "id": "473f8f28",
   "metadata": {
    "deletable": false,
    "id": "ad4fa8b7",
    "outputId": "b2097101-d49d-44d9-901b-32a65c9463d1"
   },
   "outputs": [
    {
     "data": {
      "text/plain": [
       "array([1, 0, 3, 2, 4, 5], dtype=int64)"
      ]
     },
     "execution_count": 10,
     "metadata": {},
     "output_type": "execute_result"
    }
   ],
   "source": [
    "# проверим уникальные значения в столбце 'children'\n",
    "data['children'].unique()"
   ]
  },
  {
   "cell_type": "markdown",
   "id": "9e39824f",
   "metadata": {
    "deletable": false,
    "editable": false,
    "id": "75440b63"
   },
   "source": [
    "### Удаление пропусков (продолжение)"
   ]
  },
  {
   "cell_type": "markdown",
   "id": "673bce55",
   "metadata": {
    "deletable": false,
    "editable": false,
    "id": "f4ea573f"
   },
   "source": [
    "**Задание 11. Заполните пропуски в столбце `days_employed` медианными значениями по каждого типа занятости `income_type`.**"
   ]
  },
  {
   "cell_type": "code",
   "execution_count": 11,
   "id": "2745e812",
   "metadata": {
    "deletable": false,
    "id": "af6b1a7e"
   },
   "outputs": [],
   "source": [
    "for t in data['income_type'].unique():\n",
    "    data.loc[(data['income_type'] == t) & (data['days_employed'].isna()), 'days_employed'] = \\\n",
    "    data.loc[(data['income_type'] == t), 'days_employed'].median()"
   ]
  },
  {
   "cell_type": "markdown",
   "id": "ad4e31f3",
   "metadata": {
    "deletable": false,
    "editable": false,
    "id": "2753f40d"
   },
   "source": [
    "**Задание 12. Убедитесь, что все пропуски заполнены. Проверьте себя и ещё раз выведите количество пропущенных значений для каждого столбца с помощью двух методов.**"
   ]
  },
  {
   "cell_type": "code",
   "execution_count": 12,
   "id": "0bfeb802",
   "metadata": {
    "deletable": false,
    "id": "55f78bc2",
    "outputId": "8da1e4e1-358e-4e87-98c9-f261bce0a7b2"
   },
   "outputs": [
    {
     "data": {
      "text/plain": [
       "children            0\n",
       "days_employed       0\n",
       "dob_years           0\n",
       "education           0\n",
       "education_id        0\n",
       "family_status       0\n",
       "family_status_id    0\n",
       "gender              0\n",
       "income_type         0\n",
       "debt                0\n",
       "total_income        0\n",
       "purpose             0\n",
       "dtype: int64"
      ]
     },
     "execution_count": 12,
     "metadata": {},
     "output_type": "execute_result"
    }
   ],
   "source": [
    "# проверка заполненности столбцов\n",
    "data.isna().sum()"
   ]
  },
  {
   "cell_type": "markdown",
   "id": "912ed7b9",
   "metadata": {
    "deletable": false,
    "editable": false,
    "id": "ddc81e43"
   },
   "source": [
    "### Изменение типов данных"
   ]
  },
  {
   "cell_type": "markdown",
   "id": "c027f9a6",
   "metadata": {
    "deletable": false,
    "editable": false,
    "id": "42d19d24"
   },
   "source": [
    "**Задание 13. Замените вещественный тип данных в столбце `total_income` на целочисленный с помощью метода `astype()`.**"
   ]
  },
  {
   "cell_type": "code",
   "execution_count": 13,
   "id": "b99b1cfe",
   "metadata": {
    "deletable": false,
    "id": "920b65ad"
   },
   "outputs": [],
   "source": [
    "# изменим тип данных в столбце 'total_income'\n",
    "data['total_income'] = data['total_income'].astype(int)"
   ]
  },
  {
   "cell_type": "markdown",
   "id": "4ebad73d",
   "metadata": {
    "deletable": false,
    "editable": false,
    "id": "80c420ba"
   },
   "source": [
    "### Обработка дубликатов"
   ]
  },
  {
   "cell_type": "markdown",
   "id": "2b1d86b9",
   "metadata": {
    "deletable": false,
    "editable": false
   },
   "source": [
    "**Задание 14. Обработайте неявные дубликаты в столбце `education`. В этом столбце есть одни и те же значения, но записанные по-разному: с использованием заглавных и строчных букв. Приведите их к нижнему регистру. Проверьте остальные столбцы.**"
   ]
  },
  {
   "cell_type": "code",
   "execution_count": 14,
   "id": "12ebd803",
   "metadata": {
    "deletable": false
   },
   "outputs": [],
   "source": [
    "# преведём данные к нижнему регистру\n",
    "data['education'] = data['education'].str.lower()"
   ]
  },
  {
   "cell_type": "markdown",
   "id": "611759dd",
   "metadata": {
    "deletable": false,
    "editable": false,
    "id": "dc587695"
   },
   "source": [
    "**Задание 15. Выведите на экран количество строк-дубликатов в данных. Если такие строки присутствуют, удалите их.**"
   ]
  },
  {
   "cell_type": "code",
   "execution_count": 15,
   "id": "f0a5d146",
   "metadata": {
    "deletable": false,
    "id": "3ee445e4",
    "outputId": "9684deba-1934-42d1-99e1-cda61740f822"
   },
   "outputs": [
    {
     "data": {
      "text/plain": [
       "71"
      ]
     },
     "execution_count": 15,
     "metadata": {},
     "output_type": "execute_result"
    }
   ],
   "source": [
    "# узнаем сколько дубликатов в датасете data\n",
    "data.duplicated().sum()"
   ]
  },
  {
   "cell_type": "code",
   "execution_count": 16,
   "id": "8cd36291",
   "metadata": {
    "deletable": false,
    "id": "8575fe05"
   },
   "outputs": [],
   "source": [
    "# удаление дубликатов\n",
    "data = data.drop_duplicates()"
   ]
  },
  {
   "cell_type": "markdown",
   "id": "7ff99885",
   "metadata": {
    "deletable": false,
    "editable": false,
    "id": "9904cf55"
   },
   "source": [
    "### Категоризация данных"
   ]
  },
  {
   "cell_type": "markdown",
   "id": "c6397d1c",
   "metadata": {
    "deletable": false,
    "editable": false,
    "id": "72fcc8a2"
   },
   "source": [
    "**Задание 16. На основании диапазонов, указанных ниже, создайте в датафрейме `data` столбец `total_income_category` с категориями:**\n",
    "\n",
    "- 0–30000 — `'E'`;\n",
    "- 30001–50000 — `'D'`;\n",
    "- 50001–200000 — `'C'`;\n",
    "- 200001–1000000 — `'B'`;\n",
    "- 1000001 и выше — `'A'`.\n",
    "\n",
    "\n",
    "**Например, кредитополучателю с доходом 25000 нужно назначить категорию `'E'`, а клиенту, получающему 235000, — `'B'`. Используйте собственную функцию с именем `categorize_income()` и метод `apply()`.**"
   ]
  },
  {
   "cell_type": "code",
   "execution_count": 17,
   "id": "8d951237",
   "metadata": {
    "deletable": false,
    "id": "e1771346"
   },
   "outputs": [],
   "source": [
    "# напишем функцию\n",
    "def categorize_income(income):\n",
    "    try:\n",
    "        if 0 <= income <= 30000:\n",
    "            return 'E'\n",
    "        elif 30001 <= income <= 50000:\n",
    "            return 'D'\n",
    "        elif 50001 <= income <= 200000:\n",
    "            return 'C'\n",
    "        elif 200001 <= income <= 1000000:\n",
    "            return 'B'\n",
    "        elif income >= 1000001:\n",
    "            return 'A'\n",
    "    except:\n",
    "        pass"
   ]
  },
  {
   "cell_type": "code",
   "execution_count": 18,
   "id": "96ed1ff1",
   "metadata": {
    "deletable": false,
    "id": "d5f3586d"
   },
   "outputs": [],
   "source": [
    "# применим функцию categorize_income\n",
    "data['total_income_category'] = data['total_income'].apply(categorize_income)"
   ]
  },
  {
   "cell_type": "markdown",
   "id": "632a9a8a",
   "metadata": {
    "deletable": false,
    "editable": false,
    "id": "dde49b5c"
   },
   "source": [
    "**Задание 17. Выведите на экран перечень уникальных целей взятия кредита из столбца `purpose`.**"
   ]
  },
  {
   "cell_type": "code",
   "execution_count": 19,
   "id": "2b8e77f8",
   "metadata": {
    "deletable": false,
    "id": "f67ce9b3",
    "outputId": "673c12d9-7d7e-4ae0-9812-c622c89dd244"
   },
   "outputs": [
    {
     "data": {
      "text/plain": [
       "array(['покупка жилья', 'приобретение автомобиля',\n",
       "       'дополнительное образование', 'сыграть свадьбу',\n",
       "       'операции с жильем', 'образование', 'на проведение свадьбы',\n",
       "       'покупка жилья для семьи', 'покупка недвижимости',\n",
       "       'покупка коммерческой недвижимости', 'покупка жилой недвижимости',\n",
       "       'строительство собственной недвижимости', 'недвижимость',\n",
       "       'строительство недвижимости', 'на покупку подержанного автомобиля',\n",
       "       'на покупку своего автомобиля',\n",
       "       'операции с коммерческой недвижимостью',\n",
       "       'строительство жилой недвижимости', 'жилье',\n",
       "       'операции со своей недвижимостью', 'автомобили',\n",
       "       'заняться образованием', 'сделка с подержанным автомобилем',\n",
       "       'получение образования', 'автомобиль', 'свадьба',\n",
       "       'получение дополнительного образования', 'покупка своего жилья',\n",
       "       'операции с недвижимостью', 'получение высшего образования',\n",
       "       'свой автомобиль', 'сделка с автомобилем',\n",
       "       'профильное образование', 'высшее образование',\n",
       "       'покупка жилья для сдачи', 'на покупку автомобиля', 'ремонт жилью',\n",
       "       'заняться высшим образованием'], dtype=object)"
      ]
     },
     "execution_count": 19,
     "metadata": {},
     "output_type": "execute_result"
    }
   ],
   "source": [
    "# проверким уникальные значения\n",
    "data['purpose'].unique()"
   ]
  },
  {
   "cell_type": "markdown",
   "id": "d35e76b2",
   "metadata": {
    "deletable": false,
    "editable": false,
    "id": "85d0aef0"
   },
   "source": [
    "**Задание 18. Создайте функцию, которая на основании данных из столбца `purpose` сформирует новый столбец `purpose_category`, в который войдут следующие категории:**\n",
    "\n",
    "- `'операции с автомобилем'`,\n",
    "- `'операции с недвижимостью'`,\n",
    "- `'проведение свадьбы'`,\n",
    "- `'получение образования'`.\n",
    "\n",
    "**Например, если в столбце `purpose` находится подстрока `'на покупку автомобиля'`, то в столбце `purpose_category` должна появиться строка `'операции с автомобилем'`.**\n",
    "\n",
    "**Используйте собственную функцию с именем `categorize_purpose()` и метод `apply()`. Изучите данные в столбце `purpose` и определите, какие подстроки помогут вам правильно определить категорию.**"
   ]
  },
  {
   "cell_type": "code",
   "execution_count": 20,
   "id": "605b12d3",
   "metadata": {
    "deletable": false,
    "id": "e149fab4"
   },
   "outputs": [],
   "source": [
    "# напишем функцию \n",
    "def categorize_purpose(row):\n",
    "    try:\n",
    "        if 'автом' in row:\n",
    "            return 'операции с автомобилем'\n",
    "        elif 'жил' in row or 'недвиж' in row:\n",
    "            return 'операции с недвижимостью'\n",
    "        elif 'свад' in row:\n",
    "            return 'проведение свадьбы'\n",
    "        elif 'образов' in row:\n",
    "            return 'получение образования'\n",
    "    except:\n",
    "        return 'нет категории'"
   ]
  },
  {
   "cell_type": "code",
   "execution_count": 21,
   "id": "b4ddbbfd",
   "metadata": {
    "deletable": false,
    "id": "bf36e69b"
   },
   "outputs": [],
   "source": [
    "# применим функцию\n",
    "data['purpose_category'] = data['purpose'].apply(categorize_purpose)"
   ]
  },
  {
   "cell_type": "markdown",
   "id": "3d7a30ef",
   "metadata": {
    "deletable": false,
    "editable": false,
    "id": "09b242bf"
   },
   "source": [
    "### Шаг 3. Исследуйте данные и ответьте на вопросы"
   ]
  },
  {
   "cell_type": "markdown",
   "id": "cf67480f",
   "metadata": {
    "deletable": false,
    "editable": false,
    "id": "c5d66278"
   },
   "source": [
    "#### 3.1 Есть ли зависимость между количеством детей и возвратом кредита в срок?"
   ]
  },
  {
   "cell_type": "code",
   "execution_count": 22,
   "id": "34c4e0ae",
   "metadata": {
    "deletable": false,
    "id": "2cacfc4a"
   },
   "outputs": [
    {
     "data": {
      "text/html": [
       "<div>\n",
       "<style scoped>\n",
       "    .dataframe tbody tr th:only-of-type {\n",
       "        vertical-align: middle;\n",
       "    }\n",
       "\n",
       "    .dataframe tbody tr th {\n",
       "        vertical-align: top;\n",
       "    }\n",
       "\n",
       "    .dataframe thead tr th {\n",
       "        text-align: left;\n",
       "    }\n",
       "\n",
       "    .dataframe thead tr:last-of-type th {\n",
       "        text-align: right;\n",
       "    }\n",
       "</style>\n",
       "<table border=\"1\" class=\"dataframe\">\n",
       "  <thead>\n",
       "    <tr>\n",
       "      <th></th>\n",
       "      <th>sum</th>\n",
       "      <th>count</th>\n",
       "      <th>mean</th>\n",
       "    </tr>\n",
       "    <tr>\n",
       "      <th></th>\n",
       "      <th>debt</th>\n",
       "      <th>debt</th>\n",
       "      <th>debt</th>\n",
       "    </tr>\n",
       "    <tr>\n",
       "      <th>children</th>\n",
       "      <th></th>\n",
       "      <th></th>\n",
       "      <th></th>\n",
       "    </tr>\n",
       "  </thead>\n",
       "  <tbody>\n",
       "    <tr>\n",
       "      <th>0</th>\n",
       "      <td>1063</td>\n",
       "      <td>14091</td>\n",
       "      <td>0.075438</td>\n",
       "    </tr>\n",
       "    <tr>\n",
       "      <th>1</th>\n",
       "      <td>444</td>\n",
       "      <td>4808</td>\n",
       "      <td>0.092346</td>\n",
       "    </tr>\n",
       "    <tr>\n",
       "      <th>2</th>\n",
       "      <td>194</td>\n",
       "      <td>2052</td>\n",
       "      <td>0.094542</td>\n",
       "    </tr>\n",
       "    <tr>\n",
       "      <th>3</th>\n",
       "      <td>27</td>\n",
       "      <td>330</td>\n",
       "      <td>0.081818</td>\n",
       "    </tr>\n",
       "    <tr>\n",
       "      <th>4</th>\n",
       "      <td>4</td>\n",
       "      <td>41</td>\n",
       "      <td>0.097561</td>\n",
       "    </tr>\n",
       "    <tr>\n",
       "      <th>5</th>\n",
       "      <td>0</td>\n",
       "      <td>9</td>\n",
       "      <td>0.000000</td>\n",
       "    </tr>\n",
       "  </tbody>\n",
       "</table>\n",
       "</div>"
      ],
      "text/plain": [
       "           sum  count      mean\n",
       "          debt   debt      debt\n",
       "children                       \n",
       "0         1063  14091  0.075438\n",
       "1          444   4808  0.092346\n",
       "2          194   2052  0.094542\n",
       "3           27    330  0.081818\n",
       "4            4     41  0.097561\n",
       "5            0      9  0.000000"
      ]
     },
     "execution_count": 22,
     "metadata": {},
     "output_type": "execute_result"
    }
   ],
   "source": [
    "data = data[(data['children'] != -1) & (data['children'] != 20)]\n",
    "data.pivot_table(index='children', values='debt', aggfunc=['sum', 'count', 'mean'])"
   ]
  },
  {
   "cell_type": "markdown",
   "id": "9a2b666f",
   "metadata": {
    "deletable": false,
    "id": "3a6b99ec"
   },
   "source": [
    "**Вывод: \n",
    "\n",
    "На основании проведённого анализа видно, что основные интересующие нас группы клиентов не имеют детей, либо у них 1 или 2 ребёнка. Клиенты без детей имеют наименьший процент несвоевременно возвращённых кредитов. Группы с 1 или 2 детьми имеют один из наивысший процент несвоевременно возвращённых кредитов.\n",
    "\n",
    "Группы с 3, 4, 5 детьми малочисленны по сравнению с вышеуказанными группами вывод по которым может быт необъективен. \n",
    "\n",
    "** "
   ]
  },
  {
   "cell_type": "markdown",
   "id": "6ae0f47e",
   "metadata": {
    "deletable": false,
    "editable": false,
    "id": "97be82ca"
   },
   "source": [
    "#### 3.2 Есть ли зависимость между семейным положением и возвратом кредита в срок?"
   ]
  },
  {
   "cell_type": "code",
   "execution_count": 23,
   "id": "6e547365",
   "metadata": {
    "deletable": false,
    "id": "dc3f7ee8"
   },
   "outputs": [
    {
     "data": {
      "text/html": [
       "<div>\n",
       "<style scoped>\n",
       "    .dataframe tbody tr th:only-of-type {\n",
       "        vertical-align: middle;\n",
       "    }\n",
       "\n",
       "    .dataframe tbody tr th {\n",
       "        vertical-align: top;\n",
       "    }\n",
       "\n",
       "    .dataframe thead tr th {\n",
       "        text-align: left;\n",
       "    }\n",
       "\n",
       "    .dataframe thead tr:last-of-type th {\n",
       "        text-align: right;\n",
       "    }\n",
       "</style>\n",
       "<table border=\"1\" class=\"dataframe\">\n",
       "  <thead>\n",
       "    <tr>\n",
       "      <th></th>\n",
       "      <th>sum</th>\n",
       "      <th>count</th>\n",
       "      <th>mean</th>\n",
       "    </tr>\n",
       "    <tr>\n",
       "      <th></th>\n",
       "      <th>debt</th>\n",
       "      <th>debt</th>\n",
       "      <th>debt</th>\n",
       "    </tr>\n",
       "    <tr>\n",
       "      <th>family_status</th>\n",
       "      <th></th>\n",
       "      <th></th>\n",
       "      <th></th>\n",
       "    </tr>\n",
       "  </thead>\n",
       "  <tbody>\n",
       "    <tr>\n",
       "      <th>Не женат / не замужем</th>\n",
       "      <td>273</td>\n",
       "      <td>2796</td>\n",
       "      <td>0.097639</td>\n",
       "    </tr>\n",
       "    <tr>\n",
       "      <th>в разводе</th>\n",
       "      <td>84</td>\n",
       "      <td>1189</td>\n",
       "      <td>0.070648</td>\n",
       "    </tr>\n",
       "    <tr>\n",
       "      <th>вдовец / вдова</th>\n",
       "      <td>63</td>\n",
       "      <td>951</td>\n",
       "      <td>0.066246</td>\n",
       "    </tr>\n",
       "    <tr>\n",
       "      <th>гражданский брак</th>\n",
       "      <td>385</td>\n",
       "      <td>4134</td>\n",
       "      <td>0.093130</td>\n",
       "    </tr>\n",
       "    <tr>\n",
       "      <th>женат / замужем</th>\n",
       "      <td>927</td>\n",
       "      <td>12261</td>\n",
       "      <td>0.075606</td>\n",
       "    </tr>\n",
       "  </tbody>\n",
       "</table>\n",
       "</div>"
      ],
      "text/plain": [
       "                       sum  count      mean\n",
       "                      debt   debt      debt\n",
       "family_status                              \n",
       "Не женат / не замужем  273   2796  0.097639\n",
       "в разводе               84   1189  0.070648\n",
       "вдовец / вдова          63    951  0.066246\n",
       "гражданский брак       385   4134  0.093130\n",
       "женат / замужем        927  12261  0.075606"
      ]
     },
     "execution_count": 23,
     "metadata": {},
     "output_type": "execute_result"
    }
   ],
   "source": [
    "data.pivot_table(index='family_status', values='debt', aggfunc=['sum', 'count', 'mean'])"
   ]
  },
  {
   "cell_type": "markdown",
   "id": "2f5cd49c",
   "metadata": {
    "deletable": false,
    "id": "1cef7837"
   },
   "source": [
    "**Вывод:\n",
    "Находясь в статусе \"Не женат / не замужем\" - самый большой процент просрочек по выплате кредита;\n",
    "Находясь в статусе \"вдовец / вдова\" - самый наименьший процент просрочек по выплате кредита;\n",
    "\n",
    "\n",
    "** "
   ]
  },
  {
   "cell_type": "markdown",
   "id": "5d2fbf59",
   "metadata": {
    "deletable": false,
    "editable": false,
    "id": "1e8b2fca"
   },
   "source": [
    "#### 3.3 Есть ли зависимость между уровнем дохода и возвратом кредита в срок?"
   ]
  },
  {
   "cell_type": "code",
   "execution_count": 24,
   "id": "bbaa8e36",
   "metadata": {
    "deletable": false,
    "id": "cd7e3720"
   },
   "outputs": [
    {
     "name": "stdout",
     "output_type": "stream",
     "text": [
      "Перед вычислением соотношения \"Доход / Возврат кредита в срок\"\n",
      "вычислим медианный доход кредиторов согласно столбцу \"total_income\".\\Медианная сумма дохода составляет:  142594.0\n"
     ]
    },
    {
     "data": {
      "text/html": [
       "<div>\n",
       "<style scoped>\n",
       "    .dataframe tbody tr th:only-of-type {\n",
       "        vertical-align: middle;\n",
       "    }\n",
       "\n",
       "    .dataframe tbody tr th {\n",
       "        vertical-align: top;\n",
       "    }\n",
       "\n",
       "    .dataframe thead tr th {\n",
       "        text-align: left;\n",
       "    }\n",
       "\n",
       "    .dataframe thead tr:last-of-type th {\n",
       "        text-align: right;\n",
       "    }\n",
       "</style>\n",
       "<table border=\"1\" class=\"dataframe\">\n",
       "  <thead>\n",
       "    <tr>\n",
       "      <th></th>\n",
       "      <th>sum</th>\n",
       "      <th>count</th>\n",
       "      <th>mean</th>\n",
       "    </tr>\n",
       "    <tr>\n",
       "      <th></th>\n",
       "      <th>debt</th>\n",
       "      <th>debt</th>\n",
       "      <th>debt</th>\n",
       "    </tr>\n",
       "    <tr>\n",
       "      <th>income_category</th>\n",
       "      <th></th>\n",
       "      <th></th>\n",
       "      <th></th>\n",
       "    </tr>\n",
       "  </thead>\n",
       "  <tbody>\n",
       "    <tr>\n",
       "      <th>Больше 142594</th>\n",
       "      <td>923</td>\n",
       "      <td>11614</td>\n",
       "      <td>0.079473</td>\n",
       "    </tr>\n",
       "    <tr>\n",
       "      <th>До 142594</th>\n",
       "      <td>809</td>\n",
       "      <td>9717</td>\n",
       "      <td>0.083256</td>\n",
       "    </tr>\n",
       "  </tbody>\n",
       "</table>\n",
       "</div>"
      ],
      "text/plain": [
       "                 sum  count      mean\n",
       "                debt   debt      debt\n",
       "income_category                      \n",
       "Больше 142594    923  11614  0.079473\n",
       "До 142594        809   9717  0.083256"
      ]
     },
     "execution_count": 24,
     "metadata": {},
     "output_type": "execute_result"
    }
   ],
   "source": [
    "data12 = data['total_income'].median()\n",
    "\n",
    "print('Перед вычислением соотношения \"Доход / Возврат кредита в срок\"\\nвычислим медианный доход кредиторов согласно столбцу \"total_income\".\\Медианная сумма дохода составляет: ', data12)\n",
    "\n",
    "def income_category1(total_income):\n",
    "    if total_income < 142594:\n",
    "        return 'До 142594'\n",
    "    return 'Больше 142594'\n",
    "\n",
    "\n",
    "data['income_category'] = data['total_income'].apply(income_category1)\n",
    "data['income_category'].value_counts()\n",
    "\n",
    "data.pivot_table(index='income_category', values='debt', aggfunc=['sum', 'count', 'mean'])"
   ]
  },
  {
   "cell_type": "markdown",
   "id": "b632bfd9",
   "metadata": {
    "deletable": false,
    "id": "e8593def"
   },
   "source": [
    " **Вывод:\n",
    " \n",
    "Исходя из присовения присвоения категорий доходов клиентов банка (столбец 'total_income_category') и проведённого анализа мы видем, что больше всего должников категории доходов В (200001–1000000) и С (50001–200000). Наибольший процент несвоевременного возврата кредика у клиентов категории С с доходом 50001–200000.\n",
    "\n",
    "\n",
    "Данные категории представляют для нашего исследования наибольший интерес, т.к. остальные категории доходов граждан - А, D, E. малочисленны.\n",
    "\n",
    "** "
   ]
  },
  {
   "cell_type": "code",
   "execution_count": 25,
   "id": "9aae5db2",
   "metadata": {},
   "outputs": [
    {
     "data": {
      "text/html": [
       "<div>\n",
       "<style scoped>\n",
       "    .dataframe tbody tr th:only-of-type {\n",
       "        vertical-align: middle;\n",
       "    }\n",
       "\n",
       "    .dataframe tbody tr th {\n",
       "        vertical-align: top;\n",
       "    }\n",
       "\n",
       "    .dataframe thead tr th {\n",
       "        text-align: left;\n",
       "    }\n",
       "\n",
       "    .dataframe thead tr:last-of-type th {\n",
       "        text-align: right;\n",
       "    }\n",
       "</style>\n",
       "<table border=\"1\" class=\"dataframe\">\n",
       "  <thead>\n",
       "    <tr>\n",
       "      <th></th>\n",
       "      <th>sum</th>\n",
       "      <th>count</th>\n",
       "      <th>mean</th>\n",
       "    </tr>\n",
       "    <tr>\n",
       "      <th></th>\n",
       "      <th>debt</th>\n",
       "      <th>debt</th>\n",
       "      <th>debt</th>\n",
       "    </tr>\n",
       "    <tr>\n",
       "      <th>total_income_category</th>\n",
       "      <th></th>\n",
       "      <th></th>\n",
       "      <th></th>\n",
       "    </tr>\n",
       "  </thead>\n",
       "  <tbody>\n",
       "    <tr>\n",
       "      <th>A</th>\n",
       "      <td>2</td>\n",
       "      <td>25</td>\n",
       "      <td>0.080000</td>\n",
       "    </tr>\n",
       "    <tr>\n",
       "      <th>B</th>\n",
       "      <td>354</td>\n",
       "      <td>5014</td>\n",
       "      <td>0.070602</td>\n",
       "    </tr>\n",
       "    <tr>\n",
       "      <th>C</th>\n",
       "      <td>1353</td>\n",
       "      <td>15921</td>\n",
       "      <td>0.084982</td>\n",
       "    </tr>\n",
       "    <tr>\n",
       "      <th>D</th>\n",
       "      <td>21</td>\n",
       "      <td>349</td>\n",
       "      <td>0.060172</td>\n",
       "    </tr>\n",
       "    <tr>\n",
       "      <th>E</th>\n",
       "      <td>2</td>\n",
       "      <td>22</td>\n",
       "      <td>0.090909</td>\n",
       "    </tr>\n",
       "  </tbody>\n",
       "</table>\n",
       "</div>"
      ],
      "text/plain": [
       "                        sum  count      mean\n",
       "                       debt   debt      debt\n",
       "total_income_category                       \n",
       "A                         2     25  0.080000\n",
       "B                       354   5014  0.070602\n",
       "C                      1353  15921  0.084982\n",
       "D                        21    349  0.060172\n",
       "E                         2     22  0.090909"
      ]
     },
     "execution_count": 25,
     "metadata": {},
     "output_type": "execute_result"
    }
   ],
   "source": [
    "data.pivot_table(index='total_income_category', values='debt', aggfunc=['sum', 'count', 'mean'])"
   ]
  },
  {
   "cell_type": "markdown",
   "id": "18bc342b",
   "metadata": {
    "deletable": false,
    "editable": false,
    "id": "99ecbd1f"
   },
   "source": [
    "#### 3.4 Как разные цели кредита влияют на его возврат в срок?"
   ]
  },
  {
   "cell_type": "code",
   "execution_count": 26,
   "id": "cbeface2",
   "metadata": {
    "deletable": false,
    "id": "2b687290"
   },
   "outputs": [
    {
     "data": {
      "text/html": [
       "<div>\n",
       "<style scoped>\n",
       "    .dataframe tbody tr th:only-of-type {\n",
       "        vertical-align: middle;\n",
       "    }\n",
       "\n",
       "    .dataframe tbody tr th {\n",
       "        vertical-align: top;\n",
       "    }\n",
       "\n",
       "    .dataframe thead tr th {\n",
       "        text-align: left;\n",
       "    }\n",
       "\n",
       "    .dataframe thead tr:last-of-type th {\n",
       "        text-align: right;\n",
       "    }\n",
       "</style>\n",
       "<table border=\"1\" class=\"dataframe\">\n",
       "  <thead>\n",
       "    <tr>\n",
       "      <th></th>\n",
       "      <th>sum</th>\n",
       "      <th>count</th>\n",
       "      <th>mean</th>\n",
       "    </tr>\n",
       "    <tr>\n",
       "      <th></th>\n",
       "      <th>debt</th>\n",
       "      <th>debt</th>\n",
       "      <th>debt</th>\n",
       "    </tr>\n",
       "    <tr>\n",
       "      <th>purpose_category</th>\n",
       "      <th></th>\n",
       "      <th></th>\n",
       "      <th></th>\n",
       "    </tr>\n",
       "  </thead>\n",
       "  <tbody>\n",
       "    <tr>\n",
       "      <th>операции с автомобилем</th>\n",
       "      <td>400</td>\n",
       "      <td>4279</td>\n",
       "      <td>0.093480</td>\n",
       "    </tr>\n",
       "    <tr>\n",
       "      <th>операции с недвижимостью</th>\n",
       "      <td>780</td>\n",
       "      <td>10751</td>\n",
       "      <td>0.072551</td>\n",
       "    </tr>\n",
       "    <tr>\n",
       "      <th>получение образования</th>\n",
       "      <td>369</td>\n",
       "      <td>3988</td>\n",
       "      <td>0.092528</td>\n",
       "    </tr>\n",
       "    <tr>\n",
       "      <th>проведение свадьбы</th>\n",
       "      <td>183</td>\n",
       "      <td>2313</td>\n",
       "      <td>0.079118</td>\n",
       "    </tr>\n",
       "  </tbody>\n",
       "</table>\n",
       "</div>"
      ],
      "text/plain": [
       "                          sum  count      mean\n",
       "                         debt   debt      debt\n",
       "purpose_category                              \n",
       "операции с автомобилем    400   4279  0.093480\n",
       "операции с недвижимостью  780  10751  0.072551\n",
       "получение образования     369   3988  0.092528\n",
       "проведение свадьбы        183   2313  0.079118"
      ]
     },
     "execution_count": 26,
     "metadata": {},
     "output_type": "execute_result"
    }
   ],
   "source": [
    "# на этом этапе у меня пришло понимание функции pivot_table\n",
    "\n",
    "data['purpose_category'] = data['purpose'].apply(categorize_purpose)\n",
    "\n",
    "\n",
    "data.pivot_table(index='purpose_category', values='debt', aggfunc=['sum', 'count', 'mean'])"
   ]
  },
  {
   "cell_type": "markdown",
   "id": "c07e3204",
   "metadata": {
    "deletable": false,
    "id": "b4bb2ce6"
   },
   "source": [
    "**Вывод:\n",
    "Исходя из моего анализа видно, что:\n",
    "1) Кредиты, связанные с автомобилями и образованием имеют наивысший процент просрочки по возврату;\n",
    "2) Кредиты, связанные с недвижимостью и свадебными вопросами имеют наименьший процент просрочки по возврату.\n",
    "\n",
    "\n",
    "** "
   ]
  },
  {
   "cell_type": "markdown",
   "id": "07964626",
   "metadata": {
    "deletable": false,
    "editable": false,
    "id": "09c3ac4c"
   },
   "source": [
    "#### 3.5 Приведите возможные причины появления пропусков в исходных данных."
   ]
  },
  {
   "cell_type": "markdown",
   "id": "c554ca2e",
   "metadata": {
    "deletable": false,
    "id": "9da2ceda"
   },
   "source": [
    "*Ответ:* \n",
    "\n",
    "Согласно анализу - наибольшее количество пропусков в исходных данных относятся к столбцам \"трудовой стаж в днях\" и \"доход в месяц\". Отказ в предоставлении данной информации может говорить о том то, что данные заёмщики имеют необлагаемый налогами доход."
   ]
  },
  {
   "cell_type": "markdown",
   "id": "a8327cde",
   "metadata": {
    "deletable": false,
    "editable": false,
    "id": "7b0487d6"
   },
   "source": [
    "#### 3.6 Объясните, почему заполнить пропуски медианным значением — лучшее решение для количественных переменных."
   ]
  },
  {
   "cell_type": "markdown",
   "id": "bdde40d9",
   "metadata": {
    "deletable": false,
    "id": "7ecf2b8e"
   },
   "source": [
    "*Ответ:\n",
    "Заполнение пропусков медианными значениями - это наилучший способ, т.к. в нашем распоряжении имеется база данных клиентов с большим количеством людей с различным социальным статусом. Если данные в столбцах предварительно упорядочить по возрастанию, то мы можем найти медианное число, которое расположено строго по центру столбца, которое позволяет наиболее точно проанализировать данные."
   ]
  },
  {
   "cell_type": "markdown",
   "id": "a22288d4",
   "metadata": {
    "deletable": false,
    "editable": false,
    "id": "6db5255a"
   },
   "source": [
    "### Шаг 4: общий вывод."
   ]
  },
  {
   "cell_type": "markdown",
   "id": "86228e62",
   "metadata": {
    "deletable": false,
    "id": "bad65432"
   },
   "source": [
    "\n",
    "На основании проведённого анализа можно сделать следующие выводы:\n",
    "1) Наименький процент невозвратов кредита в срок у семей без детей. Больше всего несвоевременно возвращённых кредитов банку у семей с 1 и 2 детьми. Категории с 3, 4, 5 детьми не принимали участия в иссоедовании по причине малочисленности клиентов данных категории.\n",
    "\n",
    "2) Больше всего несвоевременно вернувшших кредит банку клиентов имеют доход - 50001–200000. Далее следуют клиенты с доходом 200001–1000000. Остальные клиенты не учавствовали в исследовании ввиду их немногочисленности.\n",
    "\n",
    "3) По автомобильной и образовательной тематике кредитов имеется наибольший процент несвоевременного возврата денежных средств. Кредиты, связанные с недвижимостью и свадебной тематикой имеют наименьший процент несвоевременно возвращённых денежных средств в срок.\n"
   ]
  }
 ],
 "metadata": {
  "ExecuteTimeLog": [
   {
    "duration": 496,
    "start_time": "2022-10-11T14:34:11.072Z"
   },
   {
    "duration": 70,
    "start_time": "2022-10-11T14:42:55.053Z"
   },
   {
    "duration": 1390,
    "start_time": "2022-10-11T14:44:48.744Z"
   },
   {
    "duration": 8,
    "start_time": "2022-10-11T14:45:53.142Z"
   },
   {
    "duration": 7,
    "start_time": "2022-10-11T14:46:54.931Z"
   },
   {
    "duration": 14,
    "start_time": "2022-10-11T14:47:02.765Z"
   },
   {
    "duration": 6,
    "start_time": "2022-10-11T14:47:17.213Z"
   },
   {
    "duration": 9,
    "start_time": "2022-10-11T14:48:51.331Z"
   },
   {
    "duration": 8,
    "start_time": "2022-10-11T14:50:21.443Z"
   },
   {
    "duration": 7,
    "start_time": "2022-10-11T14:51:19.616Z"
   },
   {
    "duration": 71,
    "start_time": "2022-10-11T15:09:35.540Z"
   },
   {
    "duration": 19,
    "start_time": "2022-10-11T15:09:42.466Z"
   },
   {
    "duration": 12,
    "start_time": "2022-10-11T15:12:22.752Z"
   },
   {
    "duration": 14,
    "start_time": "2022-10-11T15:13:49.636Z"
   },
   {
    "duration": 12,
    "start_time": "2022-10-11T15:14:44.202Z"
   },
   {
    "duration": 13,
    "start_time": "2022-10-11T15:16:52.141Z"
   },
   {
    "duration": 12,
    "start_time": "2022-10-11T15:17:04.779Z"
   },
   {
    "duration": 13,
    "start_time": "2022-10-11T15:21:34.747Z"
   },
   {
    "duration": 63,
    "start_time": "2022-10-11T15:21:48.809Z"
   },
   {
    "duration": 13,
    "start_time": "2022-10-11T15:21:53.189Z"
   },
   {
    "duration": 15,
    "start_time": "2022-10-11T15:21:55.185Z"
   },
   {
    "duration": 9,
    "start_time": "2022-10-11T15:21:57.941Z"
   },
   {
    "duration": 30,
    "start_time": "2022-10-11T15:21:59.479Z"
   },
   {
    "duration": 4,
    "start_time": "2022-10-11T15:22:01.688Z"
   },
   {
    "duration": 7,
    "start_time": "2022-10-11T15:22:03.577Z"
   },
   {
    "duration": 16,
    "start_time": "2022-10-11T15:24:23.161Z"
   },
   {
    "duration": 13,
    "start_time": "2022-10-11T15:24:53.565Z"
   },
   {
    "duration": 6,
    "start_time": "2022-10-11T15:25:32.549Z"
   },
   {
    "duration": 9,
    "start_time": "2022-10-11T15:27:49.434Z"
   },
   {
    "duration": 11,
    "start_time": "2022-10-11T15:28:45.343Z"
   },
   {
    "duration": 19,
    "start_time": "2022-10-11T15:29:12.023Z"
   },
   {
    "duration": 28,
    "start_time": "2022-10-11T15:29:43.782Z"
   },
   {
    "duration": 7,
    "start_time": "2022-10-11T15:32:49.476Z"
   },
   {
    "duration": 7,
    "start_time": "2022-10-11T15:33:02.815Z"
   },
   {
    "duration": 11,
    "start_time": "2022-10-11T15:36:10.288Z"
   },
   {
    "duration": 5,
    "start_time": "2022-10-11T15:51:37.205Z"
   },
   {
    "duration": 6,
    "start_time": "2022-10-11T15:51:48.407Z"
   },
   {
    "duration": 8,
    "start_time": "2022-10-11T15:52:28.386Z"
   },
   {
    "duration": 8,
    "start_time": "2022-10-11T15:52:52.190Z"
   },
   {
    "duration": 9,
    "start_time": "2022-10-11T15:53:13.572Z"
   },
   {
    "duration": 16,
    "start_time": "2022-10-11T15:54:27.644Z"
   },
   {
    "duration": 14,
    "start_time": "2022-10-11T15:55:41.589Z"
   },
   {
    "duration": 20,
    "start_time": "2022-10-11T15:56:25.741Z"
   },
   {
    "duration": 18,
    "start_time": "2022-10-11T15:57:55.394Z"
   },
   {
    "duration": 22,
    "start_time": "2022-10-11T15:58:23.143Z"
   },
   {
    "duration": 17,
    "start_time": "2022-10-11T16:00:16.259Z"
   },
   {
    "duration": 11,
    "start_time": "2022-10-11T16:01:15.650Z"
   },
   {
    "duration": 12,
    "start_time": "2022-10-11T16:02:15.222Z"
   },
   {
    "duration": 13,
    "start_time": "2022-10-11T16:02:27.300Z"
   },
   {
    "duration": 9,
    "start_time": "2022-10-11T16:02:42.814Z"
   },
   {
    "duration": 13,
    "start_time": "2022-10-11T16:03:21.668Z"
   },
   {
    "duration": 21,
    "start_time": "2022-10-11T16:03:37.794Z"
   },
   {
    "duration": 16,
    "start_time": "2022-10-11T16:05:20.329Z"
   },
   {
    "duration": 21,
    "start_time": "2022-10-11T16:06:20.267Z"
   },
   {
    "duration": 18,
    "start_time": "2022-10-11T16:06:31.700Z"
   },
   {
    "duration": 19,
    "start_time": "2022-10-11T16:06:36.616Z"
   },
   {
    "duration": 23,
    "start_time": "2022-10-11T16:13:22.077Z"
   },
   {
    "duration": 77,
    "start_time": "2022-10-11T16:14:42.886Z"
   },
   {
    "duration": 36,
    "start_time": "2022-10-11T16:15:07.422Z"
   },
   {
    "duration": 28,
    "start_time": "2022-10-11T16:15:32.942Z"
   },
   {
    "duration": 28,
    "start_time": "2022-10-11T16:16:03.256Z"
   },
   {
    "duration": 28,
    "start_time": "2022-10-11T16:16:38.641Z"
   },
   {
    "duration": 37,
    "start_time": "2022-10-11T16:17:08.629Z"
   },
   {
    "duration": 27,
    "start_time": "2022-10-11T16:21:04.915Z"
   },
   {
    "duration": 30,
    "start_time": "2022-10-11T16:21:11.596Z"
   },
   {
    "duration": 90,
    "start_time": "2022-10-11T16:22:33.409Z"
   },
   {
    "duration": 27,
    "start_time": "2022-10-11T16:22:46.141Z"
   },
   {
    "duration": 23,
    "start_time": "2022-10-11T16:23:05.984Z"
   },
   {
    "duration": 22,
    "start_time": "2022-10-11T16:30:32.984Z"
   },
   {
    "duration": 23,
    "start_time": "2022-10-11T16:30:40.095Z"
   },
   {
    "duration": 17,
    "start_time": "2022-10-11T16:31:11.817Z"
   },
   {
    "duration": 27,
    "start_time": "2022-10-11T16:33:25.046Z"
   },
   {
    "duration": 20,
    "start_time": "2022-10-11T16:33:59.137Z"
   },
   {
    "duration": 22,
    "start_time": "2022-10-11T16:34:40.198Z"
   },
   {
    "duration": 22,
    "start_time": "2022-10-11T16:34:50.265Z"
   },
   {
    "duration": 22,
    "start_time": "2022-10-11T16:36:01.338Z"
   },
   {
    "duration": 20,
    "start_time": "2022-10-11T16:36:26.783Z"
   },
   {
    "duration": 21,
    "start_time": "2022-10-11T16:37:32.937Z"
   },
   {
    "duration": 19,
    "start_time": "2022-10-11T16:38:02.725Z"
   },
   {
    "duration": 72,
    "start_time": "2022-10-11T16:49:53.188Z"
   },
   {
    "duration": 97,
    "start_time": "2022-10-11T16:50:11.210Z"
   },
   {
    "duration": 7,
    "start_time": "2022-10-11T16:50:28.408Z"
   },
   {
    "duration": 105,
    "start_time": "2022-10-11T16:50:47.410Z"
   },
   {
    "duration": 9,
    "start_time": "2022-10-11T16:53:54.292Z"
   },
   {
    "duration": 9,
    "start_time": "2022-10-11T16:54:08.492Z"
   },
   {
    "duration": 9,
    "start_time": "2022-10-11T16:54:16.684Z"
   },
   {
    "duration": 9,
    "start_time": "2022-10-11T16:54:41.201Z"
   },
   {
    "duration": 12,
    "start_time": "2022-10-11T16:56:41.205Z"
   },
   {
    "duration": 13,
    "start_time": "2022-10-11T16:56:59.509Z"
   },
   {
    "duration": 12,
    "start_time": "2022-10-11T16:57:16.809Z"
   },
   {
    "duration": 16,
    "start_time": "2022-10-11T16:57:27.029Z"
   },
   {
    "duration": 20,
    "start_time": "2022-10-11T16:57:33.672Z"
   },
   {
    "duration": 19,
    "start_time": "2022-10-11T16:57:45.828Z"
   },
   {
    "duration": 15,
    "start_time": "2022-10-11T16:58:05.322Z"
   },
   {
    "duration": 15,
    "start_time": "2022-10-11T16:58:28.696Z"
   },
   {
    "duration": 7,
    "start_time": "2022-10-11T16:59:10.684Z"
   },
   {
    "duration": 13,
    "start_time": "2022-10-11T16:59:33.410Z"
   },
   {
    "duration": 9,
    "start_time": "2022-10-11T17:00:02.459Z"
   },
   {
    "duration": 35,
    "start_time": "2022-10-11T17:11:07.336Z"
   },
   {
    "duration": 35,
    "start_time": "2022-10-11T17:12:46.252Z"
   },
   {
    "duration": 26,
    "start_time": "2022-10-11T17:13:08.674Z"
   },
   {
    "duration": 143,
    "start_time": "2022-10-11T17:14:02.391Z"
   },
   {
    "duration": 83,
    "start_time": "2022-10-11T17:17:54.197Z"
   },
   {
    "duration": 7,
    "start_time": "2022-10-11T17:18:04.889Z"
   },
   {
    "duration": 7,
    "start_time": "2022-10-11T17:18:45.938Z"
   },
   {
    "duration": 85,
    "start_time": "2022-10-11T17:19:14.156Z"
   },
   {
    "duration": 20,
    "start_time": "2022-10-11T17:19:29.449Z"
   },
   {
    "duration": 9,
    "start_time": "2022-10-11T17:19:45.638Z"
   },
   {
    "duration": 19,
    "start_time": "2022-10-11T17:23:15.527Z"
   },
   {
    "duration": 12,
    "start_time": "2022-10-11T17:23:52.279Z"
   },
   {
    "duration": 12,
    "start_time": "2022-10-11T17:24:39.902Z"
   },
   {
    "duration": 6,
    "start_time": "2022-10-11T17:27:51.916Z"
   },
   {
    "duration": 12,
    "start_time": "2022-10-11T17:31:04.632Z"
   },
   {
    "duration": 7,
    "start_time": "2022-10-11T17:31:32.080Z"
   },
   {
    "duration": 20,
    "start_time": "2022-10-11T17:44:08.860Z"
   },
   {
    "duration": 8,
    "start_time": "2022-10-11T17:44:34.851Z"
   },
   {
    "duration": 3,
    "start_time": "2022-10-11T17:45:00.213Z"
   },
   {
    "duration": 11,
    "start_time": "2022-10-11T17:45:07.517Z"
   },
   {
    "duration": 7,
    "start_time": "2022-10-11T17:46:06.577Z"
   },
   {
    "duration": 3,
    "start_time": "2022-10-11T17:46:50.296Z"
   },
   {
    "duration": 6,
    "start_time": "2022-10-11T17:47:07.184Z"
   },
   {
    "duration": 6,
    "start_time": "2022-10-11T17:51:50.135Z"
   },
   {
    "duration": 5,
    "start_time": "2022-10-12T10:06:58.350Z"
   },
   {
    "duration": 29,
    "start_time": "2022-10-12T10:06:59.926Z"
   },
   {
    "duration": 4,
    "start_time": "2022-10-12T10:07:43.802Z"
   },
   {
    "duration": 28,
    "start_time": "2022-10-12T10:07:45.659Z"
   },
   {
    "duration": 4,
    "start_time": "2022-10-12T10:07:53.187Z"
   },
   {
    "duration": 10,
    "start_time": "2022-10-12T10:07:57.663Z"
   },
   {
    "duration": 21,
    "start_time": "2022-10-12T10:07:58.960Z"
   },
   {
    "duration": 20,
    "start_time": "2022-10-12T10:08:00.461Z"
   },
   {
    "duration": 4,
    "start_time": "2022-10-12T10:08:03.149Z"
   },
   {
    "duration": 10,
    "start_time": "2022-10-12T10:08:03.845Z"
   },
   {
    "duration": 6,
    "start_time": "2022-10-12T10:08:13.465Z"
   },
   {
    "duration": 3,
    "start_time": "2022-10-12T10:08:15.049Z"
   },
   {
    "duration": 8,
    "start_time": "2022-10-12T10:08:15.598Z"
   },
   {
    "duration": 6,
    "start_time": "2022-10-12T10:19:05.240Z"
   },
   {
    "duration": 3,
    "start_time": "2022-10-12T18:54:12.595Z"
   },
   {
    "duration": 7,
    "start_time": "2022-10-12T18:54:13.497Z"
   },
   {
    "duration": 92,
    "start_time": "2022-10-12T19:07:07.265Z"
   },
   {
    "duration": 79,
    "start_time": "2022-10-12T19:07:22.368Z"
   },
   {
    "duration": 43,
    "start_time": "2022-10-12T19:07:36.077Z"
   },
   {
    "duration": 39,
    "start_time": "2022-10-12T19:07:42.604Z"
   },
   {
    "duration": 9,
    "start_time": "2022-10-12T19:08:14.516Z"
   },
   {
    "duration": 34,
    "start_time": "2022-10-12T19:08:37.046Z"
   },
   {
    "duration": 37,
    "start_time": "2022-10-12T19:08:57.561Z"
   },
   {
    "duration": 50,
    "start_time": "2022-10-13T10:45:27.904Z"
   },
   {
    "duration": 7,
    "start_time": "2022-10-13T10:45:53.079Z"
   },
   {
    "duration": 8,
    "start_time": "2022-10-13T10:46:02.234Z"
   },
   {
    "duration": 8,
    "start_time": "2022-10-13T10:46:12.272Z"
   },
   {
    "duration": 9,
    "start_time": "2022-10-13T10:46:23.146Z"
   },
   {
    "duration": 7,
    "start_time": "2022-10-13T10:46:29.399Z"
   },
   {
    "duration": 8,
    "start_time": "2022-10-13T10:46:41.759Z"
   },
   {
    "duration": 7,
    "start_time": "2022-10-13T10:46:48.931Z"
   },
   {
    "duration": 6,
    "start_time": "2022-10-13T10:47:08.296Z"
   },
   {
    "duration": 7,
    "start_time": "2022-10-13T10:47:14.332Z"
   },
   {
    "duration": 630,
    "start_time": "2022-10-13T10:47:20.346Z"
   },
   {
    "duration": 21,
    "start_time": "2022-10-13T10:47:20.977Z"
   },
   {
    "duration": 14,
    "start_time": "2022-10-13T10:47:21.877Z"
   },
   {
    "duration": 9,
    "start_time": "2022-10-13T10:47:23.299Z"
   },
   {
    "duration": 30,
    "start_time": "2022-10-13T10:47:24.007Z"
   },
   {
    "duration": 3,
    "start_time": "2022-10-13T10:47:25.080Z"
   },
   {
    "duration": 8,
    "start_time": "2022-10-13T10:47:25.651Z"
   },
   {
    "duration": 4,
    "start_time": "2022-10-13T10:47:26.594Z"
   },
   {
    "duration": 7,
    "start_time": "2022-10-13T10:47:27.368Z"
   },
   {
    "duration": 4,
    "start_time": "2022-10-13T10:47:27.969Z"
   },
   {
    "duration": 30,
    "start_time": "2022-10-13T10:47:28.927Z"
   },
   {
    "duration": 8,
    "start_time": "2022-10-13T10:47:29.559Z"
   },
   {
    "duration": 4,
    "start_time": "2022-10-13T10:47:30.496Z"
   },
   {
    "duration": 13,
    "start_time": "2022-10-13T10:47:31.371Z"
   },
   {
    "duration": 17,
    "start_time": "2022-10-13T10:47:31.963Z"
   },
   {
    "duration": 18,
    "start_time": "2022-10-13T10:47:32.308Z"
   },
   {
    "duration": 4,
    "start_time": "2022-10-13T10:47:33.471Z"
   },
   {
    "duration": 11,
    "start_time": "2022-10-13T10:47:33.790Z"
   },
   {
    "duration": 6,
    "start_time": "2022-10-13T10:47:34.745Z"
   },
   {
    "duration": 4,
    "start_time": "2022-10-13T10:47:35.478Z"
   },
   {
    "duration": 9,
    "start_time": "2022-10-13T10:47:35.912Z"
   },
   {
    "duration": 46,
    "start_time": "2022-10-13T10:47:37.020Z"
   },
   {
    "duration": 44,
    "start_time": "2022-10-13T10:47:38.782Z"
   },
   {
    "duration": 9,
    "start_time": "2022-10-13T10:47:40.244Z"
   },
   {
    "duration": 32,
    "start_time": "2022-10-13T10:47:41.835Z"
   },
   {
    "duration": 28,
    "start_time": "2022-10-13T10:59:09.149Z"
   },
   {
    "duration": 9,
    "start_time": "2022-10-13T11:04:04.999Z"
   },
   {
    "duration": 9,
    "start_time": "2022-10-13T11:04:13.240Z"
   },
   {
    "duration": 49,
    "start_time": "2022-10-14T16:33:30.771Z"
   },
   {
    "duration": 539,
    "start_time": "2022-10-14T16:33:42.194Z"
   },
   {
    "duration": 21,
    "start_time": "2022-10-14T16:33:42.827Z"
   },
   {
    "duration": 16,
    "start_time": "2022-10-14T16:33:43.214Z"
   },
   {
    "duration": 10,
    "start_time": "2022-10-14T16:33:44.067Z"
   },
   {
    "duration": 35,
    "start_time": "2022-10-14T16:33:45.004Z"
   },
   {
    "duration": 5,
    "start_time": "2022-10-14T16:33:46.273Z"
   },
   {
    "duration": 8,
    "start_time": "2022-10-14T16:33:47.247Z"
   },
   {
    "duration": 5,
    "start_time": "2022-10-14T16:33:48.757Z"
   },
   {
    "duration": 6,
    "start_time": "2022-10-14T16:33:49.453Z"
   },
   {
    "duration": 5,
    "start_time": "2022-10-14T16:33:50.269Z"
   },
   {
    "duration": 34,
    "start_time": "2022-10-14T16:33:51.433Z"
   },
   {
    "duration": 10,
    "start_time": "2022-10-14T16:33:53.817Z"
   },
   {
    "duration": 4,
    "start_time": "2022-10-14T16:33:54.912Z"
   },
   {
    "duration": 12,
    "start_time": "2022-10-14T16:33:56.172Z"
   },
   {
    "duration": 21,
    "start_time": "2022-10-14T16:33:56.817Z"
   },
   {
    "duration": 16,
    "start_time": "2022-10-14T16:33:57.230Z"
   },
   {
    "duration": 36,
    "start_time": "2022-10-14T17:01:50.113Z"
   },
   {
    "duration": 30,
    "start_time": "2022-10-14T17:02:01.414Z"
   },
   {
    "duration": 15,
    "start_time": "2022-10-14T17:02:04.109Z"
   },
   {
    "duration": 32,
    "start_time": "2022-10-14T17:02:13.813Z"
   },
   {
    "duration": 21,
    "start_time": "2022-10-14T17:07:56.106Z"
   },
   {
    "duration": 45,
    "start_time": "2022-10-14T17:08:01.546Z"
   },
   {
    "duration": 19,
    "start_time": "2022-10-14T17:09:21.115Z"
   },
   {
    "duration": 45,
    "start_time": "2022-10-14T17:09:29.988Z"
   },
   {
    "duration": 44,
    "start_time": "2022-10-14T17:14:45.278Z"
   },
   {
    "duration": 154,
    "start_time": "2022-10-14T17:15:06.985Z"
   },
   {
    "duration": 18,
    "start_time": "2022-10-14T17:26:14.550Z"
   },
   {
    "duration": 19,
    "start_time": "2022-10-14T17:26:42.281Z"
   },
   {
    "duration": 29,
    "start_time": "2022-10-14T17:29:27.573Z"
   },
   {
    "duration": 53,
    "start_time": "2022-10-14T17:41:04.642Z"
   },
   {
    "duration": 48,
    "start_time": "2022-10-15T13:45:38.178Z"
   },
   {
    "duration": 529,
    "start_time": "2022-10-15T13:45:48.820Z"
   },
   {
    "duration": 24,
    "start_time": "2022-10-15T13:45:49.905Z"
   },
   {
    "duration": 21,
    "start_time": "2022-10-15T13:45:50.315Z"
   },
   {
    "duration": 9,
    "start_time": "2022-10-15T13:45:51.205Z"
   },
   {
    "duration": 42,
    "start_time": "2022-10-15T13:45:51.624Z"
   },
   {
    "duration": 3,
    "start_time": "2022-10-15T13:45:52.271Z"
   },
   {
    "duration": 7,
    "start_time": "2022-10-15T13:45:52.667Z"
   },
   {
    "duration": 5,
    "start_time": "2022-10-15T13:45:53.318Z"
   },
   {
    "duration": 7,
    "start_time": "2022-10-15T13:45:53.749Z"
   },
   {
    "duration": 4,
    "start_time": "2022-10-15T13:45:54.270Z"
   },
   {
    "duration": 32,
    "start_time": "2022-10-15T13:45:55.148Z"
   },
   {
    "duration": 12,
    "start_time": "2022-10-15T13:45:55.662Z"
   },
   {
    "duration": 3,
    "start_time": "2022-10-15T13:45:56.347Z"
   },
   {
    "duration": 12,
    "start_time": "2022-10-15T13:45:57.041Z"
   },
   {
    "duration": 19,
    "start_time": "2022-10-15T13:45:57.680Z"
   },
   {
    "duration": 17,
    "start_time": "2022-10-15T13:45:57.897Z"
   },
   {
    "duration": 5,
    "start_time": "2022-10-15T13:45:58.636Z"
   },
   {
    "duration": 15,
    "start_time": "2022-10-15T13:46:03.329Z"
   },
   {
    "duration": 6,
    "start_time": "2022-10-15T13:46:09.791Z"
   },
   {
    "duration": 3,
    "start_time": "2022-10-15T13:46:11.991Z"
   },
   {
    "duration": 8,
    "start_time": "2022-10-15T13:46:12.613Z"
   },
   {
    "duration": 42,
    "start_time": "2022-10-15T13:46:13.519Z"
   },
   {
    "duration": 32,
    "start_time": "2022-10-15T13:46:26.939Z"
   },
   {
    "duration": 63,
    "start_time": "2022-10-15T13:46:31.484Z"
   },
   {
    "duration": 62,
    "start_time": "2022-10-15T13:50:38.507Z"
   },
   {
    "duration": 46,
    "start_time": "2022-10-15T14:02:37.274Z"
   },
   {
    "duration": 48,
    "start_time": "2022-10-15T14:05:43.341Z"
   },
   {
    "duration": 47,
    "start_time": "2022-10-15T14:07:55.141Z"
   },
   {
    "duration": 35,
    "start_time": "2022-10-15T14:08:37.473Z"
   },
   {
    "duration": 39,
    "start_time": "2022-10-15T14:09:41.545Z"
   },
   {
    "duration": 38,
    "start_time": "2022-10-15T14:10:05.513Z"
   },
   {
    "duration": 44,
    "start_time": "2022-10-15T14:11:55.123Z"
   },
   {
    "duration": 48,
    "start_time": "2022-10-15T14:12:02.616Z"
   },
   {
    "duration": 42,
    "start_time": "2022-10-15T14:12:35.931Z"
   },
   {
    "duration": 32,
    "start_time": "2022-10-15T14:12:44.953Z"
   },
   {
    "duration": 45,
    "start_time": "2022-10-15T14:13:16.326Z"
   },
   {
    "duration": 46,
    "start_time": "2022-10-15T14:14:15.403Z"
   },
   {
    "duration": 45,
    "start_time": "2022-10-15T14:15:17.415Z"
   },
   {
    "duration": 44,
    "start_time": "2022-10-15T14:15:23.725Z"
   },
   {
    "duration": 45,
    "start_time": "2022-10-15T14:16:58.331Z"
   },
   {
    "duration": 39,
    "start_time": "2022-10-15T14:17:40.937Z"
   },
   {
    "duration": 37,
    "start_time": "2022-10-15T14:18:42.534Z"
   },
   {
    "duration": 34,
    "start_time": "2022-10-15T14:24:50.972Z"
   },
   {
    "duration": 57,
    "start_time": "2022-10-15T14:31:31.376Z"
   },
   {
    "duration": 5,
    "start_time": "2022-10-15T14:31:52.757Z"
   },
   {
    "duration": 36,
    "start_time": "2022-10-15T14:32:27.972Z"
   },
   {
    "duration": 17,
    "start_time": "2022-10-15T14:35:33.075Z"
   },
   {
    "duration": 16,
    "start_time": "2022-10-15T14:35:50.052Z"
   },
   {
    "duration": 33,
    "start_time": "2022-10-15T14:36:06.522Z"
   },
   {
    "duration": 45,
    "start_time": "2022-10-15T14:38:45.755Z"
   },
   {
    "duration": 35,
    "start_time": "2022-10-15T14:39:21.748Z"
   },
   {
    "duration": 33,
    "start_time": "2022-10-15T14:39:27.300Z"
   },
   {
    "duration": 35,
    "start_time": "2022-10-15T15:20:05.181Z"
   },
   {
    "duration": 36,
    "start_time": "2022-10-15T15:21:19.785Z"
   },
   {
    "duration": 34,
    "start_time": "2022-10-15T15:21:38.345Z"
   },
   {
    "duration": 34,
    "start_time": "2022-10-15T15:22:10.248Z"
   },
   {
    "duration": 902,
    "start_time": "2022-10-16T07:01:47.873Z"
   },
   {
    "duration": 22,
    "start_time": "2022-10-16T07:01:48.777Z"
   },
   {
    "duration": 15,
    "start_time": "2022-10-16T07:01:48.801Z"
   },
   {
    "duration": 9,
    "start_time": "2022-10-16T07:01:48.819Z"
   },
   {
    "duration": 37,
    "start_time": "2022-10-16T07:01:48.830Z"
   },
   {
    "duration": 21,
    "start_time": "2022-10-16T07:01:48.869Z"
   },
   {
    "duration": 12,
    "start_time": "2022-10-16T07:01:48.892Z"
   },
   {
    "duration": 8,
    "start_time": "2022-10-16T07:01:48.906Z"
   },
   {
    "duration": 6,
    "start_time": "2022-10-16T07:01:48.916Z"
   },
   {
    "duration": 5,
    "start_time": "2022-10-16T07:01:48.927Z"
   },
   {
    "duration": 69,
    "start_time": "2022-10-16T07:01:48.934Z"
   },
   {
    "duration": 11,
    "start_time": "2022-10-16T07:01:49.005Z"
   },
   {
    "duration": 4,
    "start_time": "2022-10-16T07:01:49.018Z"
   },
   {
    "duration": 16,
    "start_time": "2022-10-16T07:01:49.023Z"
   },
   {
    "duration": 22,
    "start_time": "2022-10-16T07:01:49.040Z"
   },
   {
    "duration": 19,
    "start_time": "2022-10-16T07:01:49.088Z"
   },
   {
    "duration": 3,
    "start_time": "2022-10-16T07:01:49.109Z"
   },
   {
    "duration": 14,
    "start_time": "2022-10-16T07:01:49.114Z"
   },
   {
    "duration": 8,
    "start_time": "2022-10-16T07:01:49.130Z"
   },
   {
    "duration": 6,
    "start_time": "2022-10-16T07:01:49.139Z"
   },
   {
    "duration": 10,
    "start_time": "2022-10-16T07:01:49.147Z"
   },
   {
    "duration": 54,
    "start_time": "2022-10-16T07:01:49.159Z"
   },
   {
    "duration": 28,
    "start_time": "2022-10-16T07:01:49.215Z"
   },
   {
    "duration": 63,
    "start_time": "2022-10-16T07:01:49.244Z"
   },
   {
    "duration": 29,
    "start_time": "2022-10-16T07:01:49.308Z"
   },
   {
    "duration": 55,
    "start_time": "2022-10-16T07:01:49.338Z"
   },
   {
    "duration": 28,
    "start_time": "2022-10-16T07:02:16.266Z"
   },
   {
    "duration": 70,
    "start_time": "2022-10-16T11:23:48.856Z"
   },
   {
    "duration": 566,
    "start_time": "2022-10-16T11:23:59.714Z"
   },
   {
    "duration": 29,
    "start_time": "2022-10-16T11:24:00.284Z"
   },
   {
    "duration": 23,
    "start_time": "2022-10-16T11:24:00.547Z"
   },
   {
    "duration": 12,
    "start_time": "2022-10-16T11:24:01.366Z"
   },
   {
    "duration": 57,
    "start_time": "2022-10-16T11:24:01.802Z"
   },
   {
    "duration": 5,
    "start_time": "2022-10-16T11:24:02.436Z"
   },
   {
    "duration": 9,
    "start_time": "2022-10-16T11:24:02.830Z"
   },
   {
    "duration": 6,
    "start_time": "2022-10-16T11:24:03.487Z"
   },
   {
    "duration": 8,
    "start_time": "2022-10-16T11:24:03.926Z"
   },
   {
    "duration": 6,
    "start_time": "2022-10-16T11:24:04.350Z"
   },
   {
    "duration": 44,
    "start_time": "2022-10-16T11:24:05.079Z"
   },
   {
    "duration": 11,
    "start_time": "2022-10-16T11:24:05.521Z"
   },
   {
    "duration": 5,
    "start_time": "2022-10-16T11:24:06.193Z"
   },
   {
    "duration": 19,
    "start_time": "2022-10-16T11:24:06.858Z"
   },
   {
    "duration": 23,
    "start_time": "2022-10-16T11:24:07.324Z"
   },
   {
    "duration": 20,
    "start_time": "2022-10-16T11:24:07.547Z"
   },
   {
    "duration": 7,
    "start_time": "2022-10-16T11:24:08.223Z"
   },
   {
    "duration": 16,
    "start_time": "2022-10-16T11:24:08.444Z"
   },
   {
    "duration": 7,
    "start_time": "2022-10-16T11:24:08.888Z"
   },
   {
    "duration": 5,
    "start_time": "2022-10-16T11:24:09.368Z"
   },
   {
    "duration": 14,
    "start_time": "2022-10-16T11:24:09.630Z"
   },
   {
    "duration": 38,
    "start_time": "2022-10-16T11:24:10.393Z"
   },
   {
    "duration": 48,
    "start_time": "2022-10-16T11:24:13.677Z"
   },
   {
    "duration": 80,
    "start_time": "2022-10-16T11:24:16.745Z"
   },
   {
    "duration": 57,
    "start_time": "2022-10-16T11:24:41.320Z"
   }
  ],
  "colab": {
   "name": "dpp_template_part2.ipynb",
   "provenance": []
  },
  "kernelspec": {
   "display_name": "Python 3 (ipykernel)",
   "language": "python",
   "name": "python3"
  },
  "language_info": {
   "codemirror_mode": {
    "name": "ipython",
    "version": 3
   },
   "file_extension": ".py",
   "mimetype": "text/x-python",
   "name": "python",
   "nbconvert_exporter": "python",
   "pygments_lexer": "ipython3",
   "version": "3.9.13"
  },
  "toc": {
   "base_numbering": 1,
   "nav_menu": {},
   "number_sections": true,
   "sideBar": true,
   "skip_h1_title": true,
   "title_cell": "Table of Contents",
   "title_sidebar": "Contents",
   "toc_cell": false,
   "toc_position": {},
   "toc_section_display": true,
   "toc_window_display": false
  }
 },
 "nbformat": 4,
 "nbformat_minor": 5
}
